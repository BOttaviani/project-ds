{
 "cells": [
  {
   "cell_type": "code",
   "execution_count": 1,
   "metadata": {},
   "outputs": [],
   "source": [
    "#########################################\n",
    "# Chargement des bibliothèques          #\n",
    "#########################################\n",
    "import os\n",
    "import pandas\n",
    "import pandas_profiling\n",
    "import numpy\n",
    "from datetime import date,datetime,timedelta\n",
    "import pylab\n",
    "import matplotlib.pyplot  as pyplot\n",
    "import seaborn\n",
    "import graphviz\n",
    "from sklearn import tree, preprocessing \n",
    "from sklearn.model_selection import train_test_split\n",
    "from sklearn.tree import DecisionTreeClassifier\n",
    "from sklearn.model_selection import cross_val_score\n",
    "# Désactivation des avertissements : pb mémoire, packages obsolètes, ...\n",
    "import warnings\n",
    "warnings.filterwarnings('ignore')\n",
    "\n",
    "# paramétrage des options\n",
    "pandas.set_option('display.max_rows', 500)\n",
    "pandas.set_option('display.max_columns', 500)\n",
    "pandas.set_option('display.width', 1000)\n",
    "%matplotlib inline\n",
    "\n",
    "path =\"/home/user/Documents/STA211-Datamining/Projet_STA\"\n",
    "os.chdir(path)\n"
   ]
  },
  {
   "cell_type": "code",
   "execution_count": 6,
   "metadata": {},
   "outputs": [],
   "source": [
    "%load_ext rpy2.ipython"
   ]
  },
  {
   "cell_type": "code",
   "execution_count": 22,
   "metadata": {},
   "outputs": [],
   "source": [
    "%%R -w 5 -h 5 --units in -r 200\n",
    "#Définition des librairies\n",
    "library(jsonlite)\n",
    "library(Hmisc)\n",
    "library(FactoMineR)\n",
    "library(rpart)\n",
    "library(rpart.plot)"
   ]
  },
  {
   "cell_type": "code",
   "execution_count": null,
   "metadata": {},
   "outputs": [],
   "source": [
    "%%R\n",
    "#Chargement du jeu de données\n",
    "path=\"/home/user/Documents/STA211-Datamining/Projet_STA/\"\n",
    "Airbnb<-fromJSON(paste(path,\"airbnb_V2.json\",sep=\"\"))\n",
    "sapply(Airbnb,class)\n",
    "summary(Airbnb)\n"
   ]
  },
  {
   "cell_type": "code",
   "execution_count": 11,
   "metadata": {},
   "outputs": [
    {
     "data": {
      "text/plain": [
       "                        _id                accommodates \n",
       "                  \"integer\"                    \"factor\" \n",
       "                  bathrooms                    bed_type \n",
       "                   \"factor\"                    \"factor\" \n",
       "                   bedrooms                        beds \n",
       "                   \"factor\"                    \"factor\" \n",
       "              property_type                   room_type \n",
       "                   \"factor\"                    \"factor\" \n",
       "             arrondissement      host_identity_verified \n",
       "                   \"factor\"                    \"factor\" \n",
       "          host_is_superhost               host_listings \n",
       "                   \"factor\"                    \"factor\" \n",
       "              host_response                  host_since \n",
       "                   \"factor\"                    \"factor\" \n",
       "              cancel_policy            instant_bookable \n",
       "                   \"factor\"                    \"factor\" \n",
       "            availability_30            availability_365 \n",
       "                  \"numeric\"                   \"numeric\" \n",
       "            availability_60             availability_90 \n",
       "                  \"numeric\"                   \"numeric\" \n",
       "               first_review                 last_review \n",
       "                   \"factor\"                    \"factor\" \n",
       "                 nb_reviews      review_scores_accuracy \n",
       "                   \"factor\"                   \"numeric\" \n",
       "      review_scores_checkin   review_scores_cleanliness \n",
       "                  \"numeric\"                   \"numeric\" \n",
       "review_scores_communication      review_scores_location \n",
       "                  \"numeric\"                   \"numeric\" \n",
       "       review_scores_rating         review_scores_value \n",
       "                  \"numeric\"                   \"numeric\" \n",
       "          reviews_per_month                 total_price \n",
       "                  \"numeric\"                   \"numeric\" \n",
       "                price_level \n",
       "                   \"factor\" \n"
      ]
     },
     "metadata": {},
     "output_type": "display_data"
    }
   ],
   "source": [
    "%%R\n",
    "character_vars <- lapply(Airbnb, class) == \"character\"\n",
    "Airbnb[, character_vars] <- lapply(Airbnb[, character_vars], as.factor)\n",
    "#définition de la variable arrondissement comme qualitative\n",
    "Airbnb$arrondissement <- as.factor(Airbnb$arrondissement ) \n",
    "sapply(Airbnb,class)"
   ]
  },
  {
   "cell_type": "code",
   "execution_count": 25,
   "metadata": {},
   "outputs": [],
   "source": [
    "%%R\n",
    "Airbnb <- subset(Airbnb, select = -c(total_price) )"
   ]
  },
  {
   "cell_type": "code",
   "execution_count": 32,
   "metadata": {},
   "outputs": [
    {
     "data": {
      "text/plain": [
       "\n",
       "Classification tree:\n",
       "rpart(formula = price_level ~ ., data = Airbnb, control = rpart.control(minsplit = 500, \n",
       "    cp = 0.01, xval = 20))\n",
       "\n",
       "Variables actually used in tree construction:\n",
       "[1] accommodates     arrondissement   availability_365 bathrooms       \n",
       "[5] bedrooms         host_listings    room_type       \n",
       "\n",
       "Root node error: 23350/41084 = 0.56835\n",
       "\n",
       "n=41084 (10 observations deleted due to missingness)\n",
       "\n",
       "        CP nsplit rel error  xerror      xstd\n",
       "1 0.145953      0   1.00000 1.00000 0.0042996\n",
       "2 0.023212      1   0.85405 0.85405 0.0043384\n",
       "3 0.016681      2   0.83084 0.83084 0.0043336\n",
       "4 0.016445      4   0.79747 0.82107 0.0043306\n",
       "5 0.015460      5   0.78103 0.78450 0.0043148\n",
       "6 0.011199      6   0.76557 0.76732 0.0043047\n",
       "7 0.010407      8   0.74317 0.74921 0.0042923\n",
       "8 0.010000      9   0.73276 0.73709 0.0042829\n"
      ]
     },
     "metadata": {},
     "output_type": "display_data"
    }
   ],
   "source": [
    "%%R\n",
    "AirbnbTree <- rpart(price_level~.,data=Airbnb,control=rpart.control(minsplit=500,cp = 0.01, xval=20))\n",
    "printcp(AirbnbTree)"
   ]
  },
  {
   "cell_type": "code",
   "execution_count": 33,
   "metadata": {},
   "outputs": [],
   "source": [
    "%%R\n",
    "bestcp <- AirbnbTree$cptable[which.min(AirbnbTree$cptable[,\"xerror\"]),\"CP\"]\n",
    "\n",
    "# Step3: Prune the tree using the best cp.\n",
    "AirbnbTree.pruned <- prune(AirbnbTree, cp = bestcp)"
   ]
  },
  {
   "cell_type": "code",
   "execution_count": 34,
   "metadata": {},
   "outputs": [
    {
     "name": "stdout",
     "output_type": "stream",
     "text": [
      "\n",
      "Error in table(Airbnb$price_level, predict(AirbnbTree.pruned, type = \"class\")) : \n",
      "  tous les arguments doivent avoir la même longueur\n"
     ]
    }
   ],
   "source": [
    "%%R\n",
    "# confusion matrix (training data)\n",
    "conf.matrix <- table(Airbnb$price_level, predict(AirbnbTree.pruned,type=\"class\"))\n",
    "rownames(conf.matrix) <- paste(\"Actual\", rownames(conf.matrix), sep = \":\")\n",
    "colnames(conf.matrix) <- paste(\"Pred\", colnames(conf.matrix), sep = \":\")\n",
    "print(conf.matrix)"
   ]
  },
  {
   "cell_type": "code",
   "execution_count": 36,
   "metadata": {},
   "outputs": [
    {
     "data": {
      "image/png": "[encoded data removed]"
     },
     "metadata": {},
     "output_type": "display_data"
    }
   ],
   "source": [
    "%%R\n",
    "plotcp(AirbnbTree)"
   ]
  },
  {
   "cell_type": "code",
   "execution_count": 37,
   "metadata": {},
   "outputs": [
    {
     "data": {
      "image/png": "[encoded data removed]"
     },
     "metadata": {},
     "output_type": "display_data"
    }
   ],
   "source": [
    "%%R\n",
    "prp(AirbnbTree,extra=1)"
   ]
  },
  {
   "cell_type": "code",
   "execution_count": 47,
   "metadata": {},
   "outputs": [
    {
     "data": {
      "text/plain": [
       "cex 0.816   xlim c(0, 1)   ylim c(0, 1)\n"
      ]
     },
     "metadata": {},
     "output_type": "display_data"
    },
    {
     "data": {
      "image/png": "[encoded data removed]"
     },
     "metadata": {},
     "output_type": "display_data"
    }
   ],
   "source": [
    "%%R\n",
    "prp(AirbnbTree, main=\"assorted arguments\",\n",
    "    extra=106,           # display prob of survival and percent of obs\n",
    "    nn=TRUE,             # display the node numbers\n",
    "    fallen.leaves=TRUE,  # put the leaves on the bottom of the page\n",
    "    shadow.col=\"gray\",   # shadows under the leaves\n",
    "    branch.lty=3,        # draw branches using dotted lines\n",
    "    branch=.5,           # change angle of branch lines\n",
    "    faclen=0,            # faclen=0 to print full factor names\n",
    "    trace=1,             # print the automatically calculated cex\n",
    "    split.cex=1.2,       # make the split text larger than the node text\n",
    "    split.prefix=\"is \",  # put \"is \" before split text\n",
    "    split.suffix=\"?\",    # put \"?\" after split text\n",
    "#    col=cols, border.col=cols,   # green if survived\n",
    "    split.box.col=\"lightgray\",   # lightgray split boxes (default is white)\n",
    "    split.border.col=\"darkgray\", # darkgray border on split boxes\n",
    "    split.round=.5)              # round the split box corners a tad"
   ]
  }
 ],
 "metadata": {
  "kernelspec": {
   "display_name": "Python 3",
   "language": "python",
   "name": "python3"
  },
  "language_info": {
   "codemirror_mode": {
    "name": "ipython",
    "version": 3
   },
   "file_extension": ".py",
   "mimetype": "text/x-python",
   "name": "python",
   "nbconvert_exporter": "python",
   "pygments_lexer": "ipython3",
   "version": "3.6.3"
  }
 },
 "nbformat": 4,
 "nbformat_minor": 2
}
