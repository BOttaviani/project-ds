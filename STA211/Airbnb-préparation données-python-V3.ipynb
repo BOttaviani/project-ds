{
 "cells": [
  {
   "cell_type": "code",
   "execution_count": 36,
   "metadata": {},
   "outputs": [],
   "source": [
    "#########################################\n",
    "# Chargement des bibliothèques          #\n",
    "#########################################\n",
    "%matplotlib inline\n",
    "import os\n",
    "import pandas\n",
    "import pandas_profiling\n",
    "import numpy\n",
    "from datetime import date,datetime,timedelta\n",
    "import pylab\n",
    "from pymongo import MongoClient\n",
    "# pprint library is used to make the output look more pretty\n",
    "from pprint import pprint\n",
    "from pandas import DataFrame\n",
    "import matplotlib.pyplot  as pyplot\n",
    "\n",
    "path =\"/home/user/Documents/STA211-Datamining/Projet_STA\"\n",
    "os.chdir(path)\n"
   ]
  },
  {
   "cell_type": "markdown",
   "metadata": {},
   "source": [
    "## Récupération des données et selection des variables\n"
   ]
  },
  {
   "cell_type": "markdown",
   "metadata": {},
   "source": [
    "Les données sont stockées dans une base MongoDB réalisée lors des exercices de l'UE NFE204."
   ]
  },
  {
   "cell_type": "code",
   "execution_count": 2,
   "metadata": {},
   "outputs": [],
   "source": [
    "#########################################\n",
    "# Chargement des données depuis MongoDB #\n",
    "#########################################\n",
    "\n",
    "# connect to MongoDB, change the << MONGODB URL >> to reflect your own connection string\n",
    "client = MongoClient('localhost:27017')\n",
    "db=client.airbnb\n",
    "\n",
    "#1ère sélection des variables en fonction du taux de remplissage et des valeurs possibles\n",
    "\n",
    "#Suppression des données de type texte (à analyser sur le projet RCP216 avec les données de type commentaires ?)\n",
    "rec = db.listings.find({})\n",
    "airbnb_complet = DataFrame(list(rec))\n",
    "profile = pandas_profiling.ProfileReport(airbnb_complet)\n",
    "profile.to_file(outputfile='airbnb_initial.html')\n",
    "del airbnb_complet"
   ]
  },
  {
   "cell_type": "markdown",
   "metadata": {},
   "source": [
    "La sélection des variables est réalisée en fonction de l'analyse monovariée générée à partir de la librairie pandas-profiling.\n",
    "\n",
    "http://htmlpreview.github.io/?https://github.com/ddupontDS/project-ds/blob/master/STA211/Analyse/airbnb_initial.html\n",
    "\n"
   ]
  },
  {
   "cell_type": "code",
   "execution_count": 12,
   "metadata": {
    "collapsed": true
   },
   "outputs": [],
   "source": [
    "#Suppression des données de type texte (à analyser sur le projet RCP216 avec les données de type commentaires ?)\n",
    "#suppression egalement de toutes url : liens vers annonce, photos, propriétaire\n",
    "#Puis 1ère sélection des variables en fonction du taux de remplissage et des valeurs possibles issues de pandas-profiling\n",
    "\n",
    "\n",
    "rec = db.listings.find({},\n",
    "{\"_id\" : 1, # id de l'annonce, conservé comme index de ligne et pour pouvoir recroiser avec d'autres extractions si nécéssaire. \n",
    "            # Cet ID permet également, si l'annonce est toujours en ligne d'y accéder sur le site AirBnB de la manière suivante : https://www.airbnb.com/rooms/_id\n",
    "#    \"last_scraped\" : 1, #date de récupération de lannonce => sur 3 jours en Avril 2017\n",
    "    \"name\" : 1, # permet d'avoir un descriptif succint lors de l'interprétation des données\n",
    "#   \"experiences_offered\" : 1, que la valeur None\n",
    "#   \"notes\" : 1,#texte à analyser en textmining => infos sur Agence, professionnel ...\n",
    "    \"host_id\" : 1, #identifiant du propriétaire\n",
    "#    \"host_name\" : 1, # que des prénoms à utiliser en textmining pour voir si Host se retrouve dans les commentaires ?\n",
    "    \"host_since\" : 1, #date à transformer en durée  pour déterminer une ancienneté?\n",
    "#    \"host_location\" : 1, #pas très intéréssant car grande majorité sur Paris et pour le reste très dispersé\n",
    "#    \"host_response_time\" : 1, # rapidité de réponse; on garde plutôt la variable suivante pour savoir si le propriétaire répond au non; à recoder en binaire\n",
    "    \"host_response_rate\" : 1, # taux de réponse\n",
    "    \"host_is_superhost\" : 1, # True/False\n",
    "#    \"host_neighbourhood\" : 1, #zone de texte\n",
    "    \"host_listings_count\" : 1, # nombre d'appartement\n",
    "#    \"host_total_listings_count\" : 1, #pas de différence avec le précédent\n",
    "#    \"host_verifications\" : 1, #difficile à analyser on garde la valeur suivante\n",
    "    \"host_identity_verified\" : 1,# True/False\n",
    "#    \"neighbourhood\" : 1, Zone de texte\n",
    "#     \"neighbourhood_cleansed\" : 1,\n",
    "    \"zipcode\" : 1, # à nettoyer car caractère bizarres\n",
    "    \"latitude\" : 1, #conservé pour représentation carto\n",
    "    \"longitude\" : 1,#conservé pour représentation carto\n",
    "#    \"is_location_exact\" : 1,\n",
    "    \"property_type\" : 1, # 95% Appartements - intéressant pour voir si les autres sont atypiques\n",
    "    \"room_type\" : 1, # 85% où appartement complet, sinon chambre privée ou partagée\n",
    "    \"accommodates\" : 1, #entre 1 et 16 pièce => recodage en qual ?\n",
    "    \"bathrooms\" : 1, #entre 0 et 8 mais Q4 toujours à 1 => recodage en qual 0,1,plusieurs\n",
    "    \"bedrooms\" : 1, #entre 0 et 10 mais Q4 toujours à 1 => recodage en qual 0,1,plusieurs\n",
    "    \"beds\" : 1, #entre 1 et 16 mais Q4 toujours à 2 => recodage en qual 1,2,plus de 2\n",
    "    \"bed_type\" : 1, #regroupement des valeurs faibles\n",
    "#    \"square_feet\" :1, #conversion en m² et passage des 0 à NaN => inutile que 4% des cas renseignés\n",
    "    \"price\" : 1, #conversion en nombre et passage des 0 à NaN\n",
    "#    \"weekly_price\" : 1,# trop de valeurs manquantes; conversion en nombre et passage des 0 à NaN vérifier si complement des NaN Price\n",
    "#   \"monthly_price\" : 1,#trop de valeurs manquantes; conversion en nombre et passage des 0 à NaN vérifier si complement des NaN Price\n",
    "#    \"security_deposit\" : 1,# 40.7% missing values\n",
    "    \"cleaning_fee\" : 1,#conversion en nombre et passage des 0 à NaN\n",
    "#    \"guests_included\" : 1, #???\n",
    "#    \"extra_people\" : 1,#conversion en nombre et passage des 0 à NaN\n",
    "#    \"minimum_nights\" : 1, #difficile à interpréter\n",
    "#    \"maximum_nights\" : 1,#difficile à interpréter\n",
    "    \"availability_30\" : 1, #découpage en quantile\n",
    "    \"availability_60\" : 1,#découpage en quantile\n",
    "    \"availability_90\" : 1,#découpage en quantile\n",
    "    \"availability_365\" : 1,#découpage en quantile\n",
    "    \"number_of_reviews\" : 1, #nombre de commentaire => on garde les 0\n",
    "    \"first_review\" : 1, #date à transformer en nb de mois pour déterminer une ancienneté?\n",
    "    \"last_review\" : 1, #date à transformer en nb de mois pour déterminer une ancienneté?\n",
    "    \"review_scores_rating\" : 1, #notes\n",
    "    \"review_scores_accuracy\" : 1,#notes\n",
    "    \"review_scores_cleanliness\" : 1,#notes\n",
    "    \"review_scores_checkin\" : 1,#notes\n",
    "    \"review_scores_communication\" : 1,#notes\n",
    "    \"review_scores_location\" : 1,#notes\n",
    "    \"review_scores_value\" : 1,#notes\n",
    "#    \"requires_license\" : 1, #toujours à False\n",
    "#    \"jurisdiction_names\" : 1, #toujours Paris\n",
    "    \"instant_bookable\" : 1,#True/False ; peux identifier des loeurs professionnels ?\n",
    "    \"cancellation_policy\" : 1, #regroupement des faibles modalités\n",
    "#    \"require_guest_profile_picture\" : 1, #True/False pas d'intérêt \n",
    "#    \"require_guest_phone_verification\" : 1,#True/False pas d'interêt\n",
    "    \"calculated_host_listings_count\" : 1, #permet de voir les multi-détentions dans l'échantillon\n",
    "    \"reviews_per_month\":1 #nombre de commentaires moyen par mois\n",
    "\n",
    " #on est à 38 variables conservées\n",
    " #[56535 rows x 38 columns]\n",
    "\n",
    "})\n",
    "\n",
    "airbnb = DataFrame(list(rec))\n",
    "\n",
    "# Je fais le choix métier de considérer que les appartements n'ayant pas de commentaires ne sont pas intéressants dans le cadre de l'étude\n",
    "# En effet, soit ils n'ont jamais été loués, soit si faiblement que personne n'a commenté l'appartement\n",
    "# j'ai aussi trouvé des cas en regardant les appartements atypiques qu niveau du prix où les données n'étaient pas correctes au moment du scrapping\n",
    "\n",
    "airbnb = airbnb[airbnb[\"number_of_reviews\"]>0]\n",
    "#42365 rows\n"
   ]
  },
  {
   "cell_type": "markdown",
   "metadata": {},
   "source": [
    "## Recodage et typage des variables\n",
    "Suivant les types et la répartition des valeurs, on regroupe des modalités et/ou transforme le type des données"
   ]
  },
  {
   "cell_type": "code",
   "execution_count": 13,
   "metadata": {
    "collapsed": true
   },
   "outputs": [],
   "source": [
    "####################################\n",
    "# Recodage et typage des variables #\n",
    "####################################\n",
    "\n",
    "#recodage de la variable accommodates => pas en quartile car intérêt de conserver le type d'appart.\n",
    "def group_accommodates (x) : \n",
    "    val = \"X\" \n",
    "    if x==1 :\n",
    "        val = \"T1\" \n",
    "    elif x==2 :\n",
    "        val = \"T2\"\n",
    "    elif x==3 :\n",
    "        val = \"T3\"\n",
    "    else :\n",
    "        val = \"T4+\"\n",
    "    return val\n",
    "airbnb[\"accommodates\"]=airbnb[\"accommodates\"].apply(group_accommodates)\n",
    "airbnb[\"accommodates\"]=pandas.Categorical(airbnb[\"accommodates\"],ordered=True)\n",
    "\n",
    "#Recodages availability en classe sur quantiles\n",
    "airbnb[\"availability_30\"]=pandas.qcut(airbnb[\"availability_30\"],2,labels=[\"0_3\",\"4_30\"])\n",
    "airbnb[\"availability_60\"]=pandas.qcut(airbnb[\"availability_60\"],2,labels=[\"0_8\",\"9_60\"])\n",
    "airbnb[\"availability_90\"]=pandas.qcut(airbnb[\"availability_90\"],2,labels=[\"0_15\",\"16_90\"])\n",
    "airbnb[\"availability_365\"]=pandas.qcut(airbnb[\"availability_365\"],3,labels=[\"0_18\",\"19_246\",\"247_365\"])\n",
    "\n",
    "#Recodage bathrooms\n",
    "def group_bathrooms (x) : \n",
    "    val = \"X\" \n",
    "    if x==0 :\n",
    "        val = \"None\" \n",
    "    elif x==1 :\n",
    "        val = \"One\"\n",
    "    else :\n",
    "        val = \"Many\"\n",
    "    return val\n",
    "airbnb[\"bathrooms\"]=airbnb[\"bathrooms\"].apply(group_bathrooms)\n",
    "airbnb[\"bathrooms\"]=pandas.Categorical(airbnb[\"bathrooms\"],ordered=True)\n",
    "\n",
    "#Recodage bed_type\n",
    "def group_bed_type (x) : \n",
    "    val = \"X\" \n",
    "    if x==\"Real Bed\" :\n",
    "        val = \"Bed\" \n",
    "    elif x==\"Pull-out Sofa\" :\n",
    "        val = \"Sofa\"\n",
    "    else :\n",
    "        val = \"Other\"\n",
    "    return val\n",
    "airbnb[\"bed_type\"]=airbnb[\"bed_type\"].apply(group_bed_type)\n",
    "airbnb[\"bed_type\"]=pandas.Categorical(airbnb[\"bed_type\"],ordered=True)\n",
    "\n",
    "#Recodage bedrooms\n",
    "def group_bedrooms (x) : \n",
    "    val = \"X\" \n",
    "    if x==0 :\n",
    "        val = \"None\" \n",
    "    elif x==1 :\n",
    "        val = \"One\"\n",
    "    else :\n",
    "        val = \"Many\"\n",
    "    return val\n",
    "airbnb[\"bedrooms\"]=airbnb[\"bedrooms\"].apply(group_bedrooms)\n",
    "airbnb[\"bedrooms\"]=pandas.Categorical(airbnb[\"bedrooms\"],ordered=True)\n",
    "#Recodage beds\n",
    "def group_beds (x) : \n",
    "    val = \"X\" \n",
    "    if x==1 :\n",
    "        val = \"One\" \n",
    "    elif x==2 :\n",
    "        val = \"Two\"\n",
    "    else :\n",
    "        val = \"More_2\"\n",
    "    return val\n",
    "airbnb[\"beds\"]=airbnb[\"beds\"].apply(group_beds)\n",
    "airbnb[\"beds\"]=pandas.Categorical(airbnb[\"beds\"],ordered=True)\n",
    "\n",
    "#Recodage calculated_host_listings_count\n",
    "def group_calculated_host_listings_count (x) : \n",
    "    val = \"X\" \n",
    "    if x==1 :\n",
    "        val = \"One\" \n",
    "    elif x==2 :\n",
    "        val = \"Two\"\n",
    "    elif x==3 :\n",
    "        val = \"Three\"\n",
    "    else :\n",
    "        val = \"More_3\"\n",
    "    return val\n",
    "airbnb[\"calculated_host_listings_count\"]=airbnb[\"calculated_host_listings_count\"].apply(group_calculated_host_listings_count)\n",
    "airbnb[\"calculated_host_listings_count\"]=pandas.Categorical(airbnb[\"calculated_host_listings_count\"],ordered=True)\n",
    "\n",
    "#regroupement des valeurs faiblement représentées\n",
    "def group_cancellation_policy (x) : \n",
    "    val = \"X\" \n",
    "    if x==\"super_strict_60\" or x==\"super_strict_30\" :\n",
    "        val = \"strict\" \n",
    "    else :\n",
    "        val = x\n",
    "    return val\n",
    "airbnb[\"cancellation_policy\"]=airbnb[\"cancellation_policy\"].apply(group_cancellation_policy)\n",
    "airbnb[\"cancellation_policy\"]=pandas.Categorical(airbnb[\"cancellation_policy\"],ordered=True)\n",
    "\n",
    "#pour transformer des zéro en NaN\n",
    "def to_nan(x):\n",
    "    val = 0\n",
    "    if x==0:\n",
    "        val = numpy.NaN\n",
    "    else:\n",
    "        val = x\n",
    "    return val\n",
    "\n",
    "#pour transformer les chaîne de caractère montant en $ en nombre\n",
    "def dollar_to_number (x) : \n",
    "    val = 0 \n",
    "    if x==None:\n",
    "        val = None\n",
    "    else :\n",
    "        val = float(x.replace('$','').replace(\",\",\"\"))\n",
    "    return val\n",
    "\n",
    "airbnb[\"cleaning_fee\"]=airbnb[\"cleaning_fee\"].apply(dollar_to_number).fillna(0)\n",
    "airbnb[\"price\"]=airbnb[\"price\"].apply(dollar_to_number).apply(to_nan)\n",
    "\n",
    "#Pour transformer des % en nombre\n",
    "def percent_to_number (x) : \n",
    "    val = 0 \n",
    "    if x==None:\n",
    "        val = None\n",
    "    else :\n",
    "        val = int(x.replace('%',''))\n",
    "    return val\n",
    "airbnb[\"host_response_rate\"]=airbnb[\"host_response_rate\"].apply(percent_to_number).fillna(0)\n",
    "\n",
    "#Pour définir les variables Qualitatives\n",
    "airbnb[\"property_type\"]=pandas.Categorical(airbnb[\"property_type\"],ordered=True)\n",
    "airbnb[\"room_type\"]=pandas.Categorical(airbnb[\"room_type\"],ordered=True)\n",
    "airbnb[\"host_identity_verified\"]=pandas.Categorical(airbnb[\"host_identity_verified\"],ordered=True)\n",
    "airbnb[\"host_is_superhost\"]=pandas.Categorical(airbnb[\"host_is_superhost\"],ordered=True)\n",
    "airbnb[\"instant_bookable\"]=pandas.Categorical(airbnb[\"instant_bookable\"],ordered=True)\n",
    "\n",
    "\n",
    "#NB : pour les calcul suivant on fait la comparaison des dates avec le 6 Avril 2017 qui est le jour oùu les données ont été \"scrappées\" sur AirBnB\n",
    "#transformation de la date de 1er commentaire en nb de jours depuis le 1er commentaire\n",
    "airbnb[\"first_review\"]=airbnb[\"first_review\"].fillna('2017-04-06')\n",
    "airbnb[\"first_review\"]=airbnb[\"first_review\"].apply(lambda x: datetime.strptime(x, '%Y-%m-%d').date())\n",
    "airbnb[\"day_first_review\"]=(datetime.strptime('2017-04-06', '%Y-%m-%d').date()-airbnb[\"first_review\"]).dt.days\n",
    "\n",
    "#transformation de la date de dernier commentaire en nb de jours depuis le dernier commentaire\n",
    "airbnb[\"last_review\"]=airbnb[\"last_review\"].fillna('2017-04-06')\n",
    "airbnb[\"last_review\"]=airbnb[\"last_review\"].apply(lambda x: datetime.strptime(x, '%Y-%m-%d').date())\n",
    "airbnb[\"day_last_review\"]=(datetime.strptime('2017-04-06', '%Y-%m-%d').date()-airbnb[\"last_review\"]).dt.days\n",
    "\n",
    "#transformation de la date 'propriétaire depuis' en nb de jours \n",
    "airbnb[\"host_since\"]=airbnb[\"host_since\"].fillna('2017-04-06')\n",
    "airbnb[\"host_since\"]=airbnb[\"host_since\"].apply(lambda x: datetime.strptime(x, '%Y-%m-%d').date())\n",
    "airbnb[\"day_host_since\"]=(datetime.strptime('2017-04-06', '%Y-%m-%d').date()-airbnb[\"host_since\"]).dt.days\n",
    "\n",
    "#codage du code postal en arrondissement\n",
    "airbnb['zipcode']=airbnb['zipcode'].apply(lambda x: str(str(x).replace('.0','')))\n",
    "def zipcode_to_arrondissement (x) : \n",
    "    val = 99.0  #Valeur Autre \n",
    "    if x in ['75001','75002','75003','75004','75005','75006','75007','75008','75009','75010','75011','75012','75013','75014',\n",
    "             '75015','75016','75017','75018','75019','75020'] :\n",
    "        val = int(x[3:5])\n",
    "    else :\n",
    "        val=99.0\n",
    "    return val\n",
    "airbnb['arrondissement']=airbnb['zipcode'].apply(zipcode_to_arrondissement)\n",
    "\n",
    "airbnb = airbnb.drop([\"first_review\",\"last_review\",\"host_since\",\"zipcode\"],axis = 1)"
   ]
  },
  {
   "cell_type": "code",
   "execution_count": 7,
   "metadata": {},
   "outputs": [],
   "source": [
    "#2ème passage sur l'analyse des variable pour limiter encore la quantité de variables\n",
    "profile = pandas_profiling.ProfileReport(airbnb)\n",
    "profile.to_file(outputfile='airbnb.html')"
   ]
  },
  {
   "cell_type": "markdown",
   "metadata": {},
   "source": [
    "Suite au recodage et à la transformation des données on relance les statistiques descriptives à partir de la librairie pandas-profiling.\n",
    "\n",
    "http://htmlpreview.github.io/?https://github.com/ddupontDS/project-ds/blob/master/STA211/Analyse/airbnb.html\n",
    "\n"
   ]
  },
  {
   "cell_type": "markdown",
   "metadata": {},
   "source": [
    "## Analyse des données atypiques\n",
    "\n",
    "Le point le plus \"surprenant\" est le prix très élevé de certaines location : jusqu'à 5000€ la nuit. Ou très faible : moins de 20 €\n",
    "Le fait d'avoir supprimé les appartements sans commentaires au départ diminue le nombre de cas mais il reste encore des cas surprenants"
   ]
  },
  {
   "cell_type": "code",
   "execution_count": 19,
   "metadata": {},
   "outputs": [
    {
     "data": {
      "text/plain": [
       "<function matplotlib.pyplot.show>"
      ]
     },
     "execution_count": 19,
     "metadata": {},
     "output_type": "execute_result"
    },
    {
     "data": {
      "image/png": "[encoded data removed]",
      "text/plain": [
       "<matplotlib.figure.Figure at 0x7fe5b203a860>"
      ]
     },
     "metadata": {},
     "output_type": "display_data"
    }
   ],
   "source": [
    "airbnb.boxplot(\"price\")\n",
    "pylab.show"
   ]
  },
  {
   "cell_type": "code",
   "execution_count": 9,
   "metadata": {
    "collapsed": true
   },
   "outputs": [],
   "source": [
    "# extraction des appartements à plus de 500$la nuit ou à moins de 10$\n",
    "atypique=airbnb[numpy.logical_or(airbnb[\"price\"]>500, airbnb[\"price\"]<20)]\n",
    "\n",
    "atypique.to_csv('atypique.csv')"
   ]
  },
  {
   "cell_type": "markdown",
   "metadata": {},
   "source": [
    "En analysant quelques lignes atypiques sur le prix; on voit plusieurs cas : des biens réellement d'exceptions dans des quartiers très recherchés, mais aussi des choses qui paraissent surprenantes. De même en regardant plus en détail les prix inférieur à 20€, soit les annonces n'existent plus, soit il n'y a pas de disponibilité, même si on trouve quelques cas exceptionnels de chambre chez l'habitant. => je décide de supprimer les quelques cas (6) supérieurs à 1500€ et inférieurs à 20€ (90 cas"
   ]
  },
  {
   "cell_type": "code",
   "execution_count": 20,
   "metadata": {},
   "outputs": [
    {
     "data": {
      "text/plain": [
       "count    42167.000000\n",
       "mean        93.138331\n",
       "std         73.938084\n",
       "min         21.000000\n",
       "25%         53.000000\n",
       "50%         75.000000\n",
       "75%        100.000000\n",
       "max       1470.000000\n",
       "Name: price, dtype: float64"
      ]
     },
     "execution_count": 20,
     "metadata": {},
     "output_type": "execute_result"
    }
   ],
   "source": [
    "airbnb = airbnb[numpy.logical_and(airbnb[\"price\"]<=1500,airbnb[\"price\"]>20)]\n",
    "airbnb[\"price\"].describe()"
   ]
  },
  {
   "cell_type": "code",
   "execution_count": 21,
   "metadata": {},
   "outputs": [],
   "source": [
    "#traitement des valeurs manquantes\n",
    "airbnb[\"reviews_per_month\"]=airbnb[\"reviews_per_month\"].fillna(0) # que 3 missing\n",
    "airbnb[\"host_listings_count\"]=airbnb[\"host_listings_count\"].fillna(0) # que 2 missing\n",
    "airbnb[\"host_is_superhost\"]=airbnb[\"host_is_superhost\"].fillna('f')# que 2 missing\n",
    "airbnb[\"host_identity_verified\"]=airbnb[\"host_identity_verified\"].fillna('f')# que 2 missing\n",
    "# il ne reste des valeurs manquantes que sur les notes données par les locataires\n",
    "# je décide de ne pas les remplacer car l'absence de note est information intéressante \n",
    "#et qu'il n'y a pas de raison de les mettre à 0 ou de remplacer par la moyenne\n"
   ]
  },
  {
   "cell_type": "code",
   "execution_count": 40,
   "metadata": {},
   "outputs": [],
   "source": [
    "#après cette préparation des données, j'enregistre le fichier pous ne pas avoir à le regénérer lors de la phase d'analyse statistiques\n",
    "airbnb.to_json('airbnb_V3.json',orient='records',force_ascii = False)"
   ]
  },
  {
   "cell_type": "code",
   "execution_count": 22,
   "metadata": {},
   "outputs": [],
   "source": [
    "#3ème passage sur l'analyse des variable\n",
    "profile = pandas_profiling.ProfileReport(airbnb)\n",
    "profile.to_file(outputfile='airbnb_V2.html')"
   ]
  },
  {
   "cell_type": "markdown",
   "metadata": {},
   "source": [
    "Suite au traitement de valeurs manquantes et des cas atypiques, on relance les statistiques descriptives\n",
    "\n",
    "http://htmlpreview.github.io/?https://github.com/ddupontDS/project-ds/blob/master/STA211/Analyse/airbnb_V2.html\n",
    "\n",
    "En regardant la matrice de corrélations, on visualise une forte corrélation entre les notes données par les locataires.\n",
    "=> il est intéressant de faire une analyse factorielle sur ces données pour éventuellement ne conserver que les axes principaux.\n"
   ]
  },
  {
   "cell_type": "code",
   "execution_count": 29,
   "metadata": {},
   "outputs": [
    {
     "name": "stderr",
     "output_type": "stream",
     "text": [
      "/home/user/anaconda3/lib/python3.6/site-packages/ipykernel_launcher.py:7: SettingWithCopyWarning: \n",
      "A value is trying to be set on a copy of a slice from a DataFrame.\n",
      "Try using .loc[row_indexer,col_indexer] = value instead\n",
      "\n",
      "See the caveats in the documentation: http://pandas.pydata.org/pandas-docs/stable/indexing.html#indexing-view-versus-copy\n",
      "  import sys\n"
     ]
    },
    {
     "data": {
      "text/plain": [
       "PCA(copy=True, iterated_power='auto', n_components=None, random_state=None,\n",
       "  svd_solver='auto', tol=0.0, whiten=False)"
      ]
     },
     "execution_count": 29,
     "metadata": {},
     "output_type": "execute_result"
    }
   ],
   "source": [
    "# Faire une AFCM sur les notes\n",
    "from sklearn.decomposition import PCA\n",
    "\n",
    "# suppression des lignes n'ayant pas de note\n",
    "airbnb_pca=airbnb.dropna()\n",
    "# changement d'échelle pour review_scores_rating qui est sur 100 alors que les autres notes sont sur 10\n",
    "airbnb_pca[\"review_scores_rating\"]=airbnb_pca[\"review_scores_rating\"]/10\n",
    "\n",
    "#créer un objet PCA\n",
    "acp_reviews_score = PCA()\n",
    "acp_reviews_score.fit(airbnb_pca[['review_scores_accuracy', 'review_scores_checkin',\n",
    "       'review_scores_cleanliness', 'review_scores_communication',\n",
    "       'review_scores_location', 'review_scores_rating', 'review_scores_value']])"
   ]
  },
  {
   "cell_type": "code",
   "execution_count": 38,
   "metadata": {},
   "outputs": [
    {
     "name": "stdout",
     "output_type": "stream",
     "text": [
      "[0.58517824 0.11514799 0.09594743 0.07365324 0.05589765 0.03825493\n",
      " 0.03592053]\n"
     ]
    },
    {
     "data": {
      "image/png": "[encoded data removed]",
      "text/plain": [
       "<matplotlib.figure.Figure at 0x7fe5a3a5da20>"
      ]
     },
     "metadata": {},
     "output_type": "display_data"
    }
   ],
   "source": [
    "print(acp_reviews_score.explained_variance_ratio_)\n",
    "# Eboulis des valeurs propres\n",
    "pyplot.figure()\n",
    "pyplot.plot(acp_reviews_score.explained_variance_ratio_)\n",
    "pyplot.show()"
   ]
  }
 ],
 "metadata": {
  "kernelspec": {
   "display_name": "Python 3",
   "language": "python",
   "name": "python3"
  },
  "language_info": {
   "codemirror_mode": {
    "name": "ipython",
    "version": 3
   },
   "file_extension": ".py",
   "mimetype": "text/x-python",
   "name": "python",
   "nbconvert_exporter": "python",
   "pygments_lexer": "ipython3",
   "version": "3.6.3"
  }
 },
 "nbformat": 4,
 "nbformat_minor": 2
}
