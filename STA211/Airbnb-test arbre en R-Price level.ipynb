{
 "cells": [
  {
   "cell_type": "code",
   "execution_count": 2,
   "metadata": {},
   "outputs": [
    {
     "name": "stderr",
     "output_type": "stream",
     "text": [
      "Loading required package: lattice\n",
      "Loading required package: survival\n",
      "Loading required package: Formula\n",
      "Loading required package: ggplot2\n",
      "\n",
      "Attaching package: ‘Hmisc’\n",
      "\n",
      "The following objects are masked from ‘package:base’:\n",
      "\n",
      "    format.pval, units\n",
      "\n",
      "Warning message:\n",
      "“package ‘rpart.plot’ was built under R version 3.4.2”"
     ]
    }
   ],
   "source": [
    "#Définition des librairies\n",
    "library(jsonlite)\n",
    "library(Hmisc)\n",
    "library(FactoMineR)\n",
    "library(rpart)\n",
    "library(rpart.plot)"
   ]
  },
  {
   "cell_type": "code",
   "execution_count": 3,
   "metadata": {},
   "outputs": [
    {
     "data": {
      "text/html": [
       "<dl class=dl-horizontal>\n",
       "\t<dt>_id</dt>\n",
       "\t\t<dd>'integer'</dd>\n",
       "\t<dt>accommodates</dt>\n",
       "\t\t<dd>'character'</dd>\n",
       "\t<dt>bathrooms</dt>\n",
       "\t\t<dd>'character'</dd>\n",
       "\t<dt>bed_type</dt>\n",
       "\t\t<dd>'character'</dd>\n",
       "\t<dt>bedrooms</dt>\n",
       "\t\t<dd>'character'</dd>\n",
       "\t<dt>beds</dt>\n",
       "\t\t<dd>'character'</dd>\n",
       "\t<dt>property_type</dt>\n",
       "\t\t<dd>'character'</dd>\n",
       "\t<dt>room_type</dt>\n",
       "\t\t<dd>'character'</dd>\n",
       "\t<dt>arrondissement</dt>\n",
       "\t\t<dd>'numeric'</dd>\n",
       "\t<dt>host_identity_verified</dt>\n",
       "\t\t<dd>'character'</dd>\n",
       "\t<dt>host_is_superhost</dt>\n",
       "\t\t<dd>'character'</dd>\n",
       "\t<dt>host_listings</dt>\n",
       "\t\t<dd>'character'</dd>\n",
       "\t<dt>host_response</dt>\n",
       "\t\t<dd>'character'</dd>\n",
       "\t<dt>host_since</dt>\n",
       "\t\t<dd>'character'</dd>\n",
       "\t<dt>cancel_policy</dt>\n",
       "\t\t<dd>'character'</dd>\n",
       "\t<dt>instant_bookable</dt>\n",
       "\t\t<dd>'character'</dd>\n",
       "\t<dt>availability_30</dt>\n",
       "\t\t<dd>'integer'</dd>\n",
       "\t<dt>availability_365</dt>\n",
       "\t\t<dd>'integer'</dd>\n",
       "\t<dt>availability_60</dt>\n",
       "\t\t<dd>'integer'</dd>\n",
       "\t<dt>availability_90</dt>\n",
       "\t\t<dd>'integer'</dd>\n",
       "\t<dt>first_review</dt>\n",
       "\t\t<dd>'character'</dd>\n",
       "\t<dt>last_review</dt>\n",
       "\t\t<dd>'character'</dd>\n",
       "\t<dt>nb_reviews</dt>\n",
       "\t\t<dd>'character'</dd>\n",
       "\t<dt>score_communication</dt>\n",
       "\t\t<dd>'numeric'</dd>\n",
       "\t<dt>score_location</dt>\n",
       "\t\t<dd>'numeric'</dd>\n",
       "\t<dt>score_other</dt>\n",
       "\t\t<dd>'numeric'</dd>\n",
       "\t<dt>reviews_per_month</dt>\n",
       "\t\t<dd>'numeric'</dd>\n",
       "\t<dt>total_price</dt>\n",
       "\t\t<dd>'numeric'</dd>\n",
       "\t<dt>price_level</dt>\n",
       "\t\t<dd>'character'</dd>\n",
       "</dl>\n"
      ],
      "text/latex": [
       "\\begin{description*}\n",
       "\\item[\\textbackslash{}\\_id] 'integer'\n",
       "\\item[accommodates] 'character'\n",
       "\\item[bathrooms] 'character'\n",
       "\\item[bed\\textbackslash{}\\_type] 'character'\n",
       "\\item[bedrooms] 'character'\n",
       "\\item[beds] 'character'\n",
       "\\item[property\\textbackslash{}\\_type] 'character'\n",
       "\\item[room\\textbackslash{}\\_type] 'character'\n",
       "\\item[arrondissement] 'numeric'\n",
       "\\item[host\\textbackslash{}\\_identity\\textbackslash{}\\_verified] 'character'\n",
       "\\item[host\\textbackslash{}\\_is\\textbackslash{}\\_superhost] 'character'\n",
       "\\item[host\\textbackslash{}\\_listings] 'character'\n",
       "\\item[host\\textbackslash{}\\_response] 'character'\n",
       "\\item[host\\textbackslash{}\\_since] 'character'\n",
       "\\item[cancel\\textbackslash{}\\_policy] 'character'\n",
       "\\item[instant\\textbackslash{}\\_bookable] 'character'\n",
       "\\item[availability\\textbackslash{}\\_30] 'integer'\n",
       "\\item[availability\\textbackslash{}\\_365] 'integer'\n",
       "\\item[availability\\textbackslash{}\\_60] 'integer'\n",
       "\\item[availability\\textbackslash{}\\_90] 'integer'\n",
       "\\item[first\\textbackslash{}\\_review] 'character'\n",
       "\\item[last\\textbackslash{}\\_review] 'character'\n",
       "\\item[nb\\textbackslash{}\\_reviews] 'character'\n",
       "\\item[score\\textbackslash{}\\_communication] 'numeric'\n",
       "\\item[score\\textbackslash{}\\_location] 'numeric'\n",
       "\\item[score\\textbackslash{}\\_other] 'numeric'\n",
       "\\item[reviews\\textbackslash{}\\_per\\textbackslash{}\\_month] 'numeric'\n",
       "\\item[total\\textbackslash{}\\_price] 'numeric'\n",
       "\\item[price\\textbackslash{}\\_level] 'character'\n",
       "\\end{description*}\n"
      ],
      "text/markdown": [
       "_id\n",
       ":   'integer'accommodates\n",
       ":   'character'bathrooms\n",
       ":   'character'bed_type\n",
       ":   'character'bedrooms\n",
       ":   'character'beds\n",
       ":   'character'property_type\n",
       ":   'character'room_type\n",
       ":   'character'arrondissement\n",
       ":   'numeric'host_identity_verified\n",
       ":   'character'host_is_superhost\n",
       ":   'character'host_listings\n",
       ":   'character'host_response\n",
       ":   'character'host_since\n",
       ":   'character'cancel_policy\n",
       ":   'character'instant_bookable\n",
       ":   'character'availability_30\n",
       ":   'integer'availability_365\n",
       ":   'integer'availability_60\n",
       ":   'integer'availability_90\n",
       ":   'integer'first_review\n",
       ":   'character'last_review\n",
       ":   'character'nb_reviews\n",
       ":   'character'score_communication\n",
       ":   'numeric'score_location\n",
       ":   'numeric'score_other\n",
       ":   'numeric'reviews_per_month\n",
       ":   'numeric'total_price\n",
       ":   'numeric'price_level\n",
       ":   'character'\n",
       "\n"
      ],
      "text/plain": [
       "                   _id           accommodates              bathrooms \n",
       "             \"integer\"            \"character\"            \"character\" \n",
       "              bed_type               bedrooms                   beds \n",
       "           \"character\"            \"character\"            \"character\" \n",
       "         property_type              room_type         arrondissement \n",
       "           \"character\"            \"character\"              \"numeric\" \n",
       "host_identity_verified      host_is_superhost          host_listings \n",
       "           \"character\"            \"character\"            \"character\" \n",
       "         host_response             host_since          cancel_policy \n",
       "           \"character\"            \"character\"            \"character\" \n",
       "      instant_bookable        availability_30       availability_365 \n",
       "           \"character\"              \"integer\"              \"integer\" \n",
       "       availability_60        availability_90           first_review \n",
       "             \"integer\"              \"integer\"            \"character\" \n",
       "           last_review             nb_reviews    score_communication \n",
       "           \"character\"            \"character\"              \"numeric\" \n",
       "        score_location            score_other      reviews_per_month \n",
       "             \"numeric\"              \"numeric\"              \"numeric\" \n",
       "           total_price            price_level \n",
       "             \"numeric\"            \"character\" "
      ]
     },
     "metadata": {},
     "output_type": "display_data"
    },
    {
     "data": {
      "text/plain": [
       "      _id           accommodates        bathrooms           bed_type        \n",
       " Min.   :    2525   Length:41094       Length:41094       Length:41094      \n",
       " 1st Qu.: 3688220   Class :character   Class :character   Class :character  \n",
       " Median : 7887020   Mode  :character   Mode  :character   Mode  :character  \n",
       " Mean   : 8425822                                                           \n",
       " 3rd Qu.:13304907                                                           \n",
       " Max.   :17968815                                                           \n",
       "   bedrooms             beds           property_type       room_type        \n",
       " Length:41094       Length:41094       Length:41094       Length:41094      \n",
       " Class :character   Class :character   Class :character   Class :character  \n",
       " Mode  :character   Mode  :character   Mode  :character   Mode  :character  \n",
       "                                                                            \n",
       "                                                                            \n",
       "                                                                            \n",
       " arrondissement  host_identity_verified host_is_superhost  host_listings     \n",
       " Min.   : 1.00   Length:41094           Length:41094       Length:41094      \n",
       " 1st Qu.: 8.00   Class :character       Class :character   Class :character  \n",
       " Median :12.00   Mode  :character       Mode  :character   Mode  :character  \n",
       " Mean   :15.12                                                               \n",
       " 3rd Qu.:18.00                                                               \n",
       " Max.   :99.00                                                               \n",
       " host_response       host_since        cancel_policy      instant_bookable  \n",
       " Length:41094       Length:41094       Length:41094       Length:41094      \n",
       " Class :character   Class :character   Class :character   Class :character  \n",
       " Mode  :character   Mode  :character   Mode  :character   Mode  :character  \n",
       "                                                                            \n",
       "                                                                            \n",
       "                                                                            \n",
       " availability_30  availability_365 availability_60 availability_90\n",
       " Min.   : 0.000   Min.   :  0.0    Min.   : 0.0    Min.   : 0.00  \n",
       " 1st Qu.: 0.000   1st Qu.:  9.0    1st Qu.: 0.0    1st Qu.: 0.00  \n",
       " Median : 3.000   Median :127.0    Median : 9.0    Median :18.00  \n",
       " Mean   : 7.878   Mean   :156.8    Mean   :18.3    Mean   :30.26  \n",
       " 3rd Qu.:13.000   3rd Qu.:295.0    3rd Qu.:33.0    3rd Qu.:57.00  \n",
       " Max.   :30.000   Max.   :365.0    Max.   :60.0    Max.   :90.00  \n",
       " first_review       last_review         nb_reviews        score_communication\n",
       " Length:41094       Length:41094       Length:41094       Min.   : 2.000     \n",
       " Class :character   Class :character   Class :character   1st Qu.: 9.500     \n",
       " Mode  :character   Mode  :character   Mode  :character   Median :10.000     \n",
       "                                                          Mean   : 9.678     \n",
       "                                                          3rd Qu.:10.000     \n",
       "                                                          Max.   :10.000     \n",
       " score_location    score_other     reviews_per_month  total_price    \n",
       " Min.   : 2.000   Min.   : 2.000   Min.   : 0.010    Min.   :  21.0  \n",
       " 1st Qu.: 9.000   1st Qu.: 9.000   1st Qu.: 0.290    1st Qu.:  65.0  \n",
       " Median :10.000   Median : 9.450   Median : 0.690    Median :  95.0  \n",
       " Mean   : 9.513   Mean   : 9.281   Mean   : 1.192    Mean   : 116.6  \n",
       " 3rd Qu.:10.000   3rd Qu.: 9.875   3rd Qu.: 1.570    3rd Qu.: 139.0  \n",
       " Max.   :10.000   Max.   :10.000   Max.   :18.000    Max.   :1350.0  \n",
       " price_level       \n",
       " Length:41094      \n",
       " Class :character  \n",
       " Mode  :character  \n",
       "                   \n",
       "                   \n",
       "                   "
      ]
     },
     "metadata": {},
     "output_type": "display_data"
    }
   ],
   "source": [
    "#Chargement du jeu de données\n",
    "path=\"/home/user/Documents/STA211-Datamining/Projet_STA/\"\n",
    "Airbnb<-fromJSON(paste(path,\"airbnb_V3.json\",sep=\"\"))\n",
    "sapply(Airbnb,class)\n",
    "summary(Airbnb)\n"
   ]
  },
  {
   "cell_type": "code",
   "execution_count": 4,
   "metadata": {},
   "outputs": [
    {
     "data": {
      "text/html": [
       "<dl class=dl-horizontal>\n",
       "\t<dt>_id</dt>\n",
       "\t\t<dd>'integer'</dd>\n",
       "\t<dt>accommodates</dt>\n",
       "\t\t<dd>'factor'</dd>\n",
       "\t<dt>bathrooms</dt>\n",
       "\t\t<dd>'factor'</dd>\n",
       "\t<dt>bed_type</dt>\n",
       "\t\t<dd>'factor'</dd>\n",
       "\t<dt>bedrooms</dt>\n",
       "\t\t<dd>'factor'</dd>\n",
       "\t<dt>beds</dt>\n",
       "\t\t<dd>'factor'</dd>\n",
       "\t<dt>property_type</dt>\n",
       "\t\t<dd>'factor'</dd>\n",
       "\t<dt>room_type</dt>\n",
       "\t\t<dd>'factor'</dd>\n",
       "\t<dt>arrondissement</dt>\n",
       "\t\t<dd>'factor'</dd>\n",
       "\t<dt>host_identity_verified</dt>\n",
       "\t\t<dd>'factor'</dd>\n",
       "\t<dt>host_is_superhost</dt>\n",
       "\t\t<dd>'factor'</dd>\n",
       "\t<dt>host_listings</dt>\n",
       "\t\t<dd>'factor'</dd>\n",
       "\t<dt>host_response</dt>\n",
       "\t\t<dd>'factor'</dd>\n",
       "\t<dt>host_since</dt>\n",
       "\t\t<dd>'factor'</dd>\n",
       "\t<dt>cancel_policy</dt>\n",
       "\t\t<dd>'factor'</dd>\n",
       "\t<dt>instant_bookable</dt>\n",
       "\t\t<dd>'factor'</dd>\n",
       "\t<dt>availability_30</dt>\n",
       "\t\t<dd>'integer'</dd>\n",
       "\t<dt>availability_365</dt>\n",
       "\t\t<dd>'integer'</dd>\n",
       "\t<dt>availability_60</dt>\n",
       "\t\t<dd>'integer'</dd>\n",
       "\t<dt>availability_90</dt>\n",
       "\t\t<dd>'integer'</dd>\n",
       "\t<dt>first_review</dt>\n",
       "\t\t<dd>'factor'</dd>\n",
       "\t<dt>last_review</dt>\n",
       "\t\t<dd>'factor'</dd>\n",
       "\t<dt>nb_reviews</dt>\n",
       "\t\t<dd>'factor'</dd>\n",
       "\t<dt>score_communication</dt>\n",
       "\t\t<dd>'numeric'</dd>\n",
       "\t<dt>score_location</dt>\n",
       "\t\t<dd>'numeric'</dd>\n",
       "\t<dt>score_other</dt>\n",
       "\t\t<dd>'numeric'</dd>\n",
       "\t<dt>reviews_per_month</dt>\n",
       "\t\t<dd>'numeric'</dd>\n",
       "\t<dt>total_price</dt>\n",
       "\t\t<dd>'numeric'</dd>\n",
       "\t<dt>price_level</dt>\n",
       "\t\t<dd>'factor'</dd>\n",
       "</dl>\n"
      ],
      "text/latex": [
       "\\begin{description*}\n",
       "\\item[\\textbackslash{}\\_id] 'integer'\n",
       "\\item[accommodates] 'factor'\n",
       "\\item[bathrooms] 'factor'\n",
       "\\item[bed\\textbackslash{}\\_type] 'factor'\n",
       "\\item[bedrooms] 'factor'\n",
       "\\item[beds] 'factor'\n",
       "\\item[property\\textbackslash{}\\_type] 'factor'\n",
       "\\item[room\\textbackslash{}\\_type] 'factor'\n",
       "\\item[arrondissement] 'factor'\n",
       "\\item[host\\textbackslash{}\\_identity\\textbackslash{}\\_verified] 'factor'\n",
       "\\item[host\\textbackslash{}\\_is\\textbackslash{}\\_superhost] 'factor'\n",
       "\\item[host\\textbackslash{}\\_listings] 'factor'\n",
       "\\item[host\\textbackslash{}\\_response] 'factor'\n",
       "\\item[host\\textbackslash{}\\_since] 'factor'\n",
       "\\item[cancel\\textbackslash{}\\_policy] 'factor'\n",
       "\\item[instant\\textbackslash{}\\_bookable] 'factor'\n",
       "\\item[availability\\textbackslash{}\\_30] 'integer'\n",
       "\\item[availability\\textbackslash{}\\_365] 'integer'\n",
       "\\item[availability\\textbackslash{}\\_60] 'integer'\n",
       "\\item[availability\\textbackslash{}\\_90] 'integer'\n",
       "\\item[first\\textbackslash{}\\_review] 'factor'\n",
       "\\item[last\\textbackslash{}\\_review] 'factor'\n",
       "\\item[nb\\textbackslash{}\\_reviews] 'factor'\n",
       "\\item[score\\textbackslash{}\\_communication] 'numeric'\n",
       "\\item[score\\textbackslash{}\\_location] 'numeric'\n",
       "\\item[score\\textbackslash{}\\_other] 'numeric'\n",
       "\\item[reviews\\textbackslash{}\\_per\\textbackslash{}\\_month] 'numeric'\n",
       "\\item[total\\textbackslash{}\\_price] 'numeric'\n",
       "\\item[price\\textbackslash{}\\_level] 'factor'\n",
       "\\end{description*}\n"
      ],
      "text/markdown": [
       "_id\n",
       ":   'integer'accommodates\n",
       ":   'factor'bathrooms\n",
       ":   'factor'bed_type\n",
       ":   'factor'bedrooms\n",
       ":   'factor'beds\n",
       ":   'factor'property_type\n",
       ":   'factor'room_type\n",
       ":   'factor'arrondissement\n",
       ":   'factor'host_identity_verified\n",
       ":   'factor'host_is_superhost\n",
       ":   'factor'host_listings\n",
       ":   'factor'host_response\n",
       ":   'factor'host_since\n",
       ":   'factor'cancel_policy\n",
       ":   'factor'instant_bookable\n",
       ":   'factor'availability_30\n",
       ":   'integer'availability_365\n",
       ":   'integer'availability_60\n",
       ":   'integer'availability_90\n",
       ":   'integer'first_review\n",
       ":   'factor'last_review\n",
       ":   'factor'nb_reviews\n",
       ":   'factor'score_communication\n",
       ":   'numeric'score_location\n",
       ":   'numeric'score_other\n",
       ":   'numeric'reviews_per_month\n",
       ":   'numeric'total_price\n",
       ":   'numeric'price_level\n",
       ":   'factor'\n",
       "\n"
      ],
      "text/plain": [
       "                   _id           accommodates              bathrooms \n",
       "             \"integer\"               \"factor\"               \"factor\" \n",
       "              bed_type               bedrooms                   beds \n",
       "              \"factor\"               \"factor\"               \"factor\" \n",
       "         property_type              room_type         arrondissement \n",
       "              \"factor\"               \"factor\"               \"factor\" \n",
       "host_identity_verified      host_is_superhost          host_listings \n",
       "              \"factor\"               \"factor\"               \"factor\" \n",
       "         host_response             host_since          cancel_policy \n",
       "              \"factor\"               \"factor\"               \"factor\" \n",
       "      instant_bookable        availability_30       availability_365 \n",
       "              \"factor\"              \"integer\"              \"integer\" \n",
       "       availability_60        availability_90           first_review \n",
       "             \"integer\"              \"integer\"               \"factor\" \n",
       "           last_review             nb_reviews    score_communication \n",
       "              \"factor\"               \"factor\"              \"numeric\" \n",
       "        score_location            score_other      reviews_per_month \n",
       "             \"numeric\"              \"numeric\"              \"numeric\" \n",
       "           total_price            price_level \n",
       "             \"numeric\"               \"factor\" "
      ]
     },
     "metadata": {},
     "output_type": "display_data"
    }
   ],
   "source": [
    "character_vars <- lapply(Airbnb, class) == \"character\"\n",
    "Airbnb[, character_vars] <- lapply(Airbnb[, character_vars], as.factor)\n",
    "#définition de la variable arrondissement comme qualitative\n",
    "Airbnb$arrondissement <- as.factor(Airbnb$arrondissement ) \n",
    "sapply(Airbnb,class)"
   ]
  },
  {
   "cell_type": "code",
   "execution_count": 5,
   "metadata": {},
   "outputs": [],
   "source": [
    "#suppression de la variable Prix total\n",
    "Airbnb <- subset(Airbnb, select = -c(total_price) )"
   ]
  },
  {
   "cell_type": "code",
   "execution_count": 6,
   "metadata": {},
   "outputs": [
    {
     "name": "stdout",
     "output_type": "stream",
     "text": [
      "\n",
      "Classification tree:\n",
      "rpart(formula = price_level ~ ., data = Airbnb, control = rpart.control(minsplit = 50, \n",
      "    cp = 0.005, xval = 20))\n",
      "\n",
      "Variables actually used in tree construction:\n",
      "[1] accommodates     arrondissement   availability_365 bedrooms        \n",
      "[5] host_listings    room_type       \n",
      "\n",
      "Root node error: 30197/41084 = 0.73501\n",
      "\n",
      "n=41084 (10 observations deleted due to missingness)\n",
      "\n",
      "         CP nsplit rel error  xerror      xstd\n",
      "1 0.1735603      0   1.00000 1.00000 0.0029623\n",
      "2 0.0707024      1   0.82644 0.82992 0.0032739\n",
      "3 0.0200351      2   0.75574 0.75574 0.0033354\n",
      "4 0.0168560      3   0.73570 0.73570 0.0033450\n",
      "5 0.0150015      4   0.71885 0.72130 0.0033500\n",
      "6 0.0060602      6   0.68884 0.68941 0.0033559\n",
      "7 0.0059609      7   0.68278 0.68457 0.0033561\n",
      "8 0.0050000      9   0.67086 0.67252 0.0033559\n"
     ]
    }
   ],
   "source": [
    "# Arbre sur la variable price_level\n",
    "AirbnbTree <- rpart(price_level~.,data=Airbnb,control=rpart.control(minsplit=50,cp = 0.005, xval=20))\n",
    "#AirbnbTree <- rpart(price_level~.,data=Airbnb,control=rpart.control(minsplit=500,cp = 0.01, xval=20))\n",
    "printcp(AirbnbTree)"
   ]
  },
  {
   "cell_type": "code",
   "execution_count": 7,
   "metadata": {},
   "outputs": [
    {
     "name": "stdout",
     "output_type": "stream",
     "text": [
      "\n",
      "Classification tree:\n",
      "rpart(formula = price_level ~ ., data = Airbnb, control = rpart.control(minsplit = 50, \n",
      "    cp = 0.005, xval = 20))\n",
      "\n",
      "Variables actually used in tree construction:\n",
      "[1] accommodates     arrondissement   availability_365 bedrooms        \n",
      "[5] host_listings    room_type       \n",
      "\n",
      "Root node error: 30197/41084 = 0.73501\n",
      "\n",
      "n=41084 (10 observations deleted due to missingness)\n",
      "\n",
      "         CP nsplit rel error  xerror      xstd\n",
      "1 0.1735603      0   1.00000 1.00000 0.0029623\n",
      "2 0.0707024      1   0.82644 0.82992 0.0032739\n",
      "3 0.0200351      2   0.75574 0.75574 0.0033354\n",
      "4 0.0168560      3   0.73570 0.73570 0.0033450\n",
      "5 0.0150015      4   0.71885 0.72130 0.0033500\n",
      "6 0.0060602      6   0.68884 0.68941 0.0033559\n",
      "7 0.0059609      7   0.68278 0.68457 0.0033561\n",
      "8 0.0050000      9   0.67086 0.67252 0.0033559\n"
     ]
    }
   ],
   "source": [
    "\n",
    "bestcp <- AirbnbTree$cptable[which.min(AirbnbTree$cptable[,\"xerror\"]),\"CP\"]\n",
    "\n",
    "# Step3: Prune the tree using the best cp.\n",
    "Airbnb_pruned <- prune(AirbnbTree, cp = bestcp)\n",
    "printcp(Airbnb_pruned)"
   ]
  },
  {
   "cell_type": "code",
   "execution_count": 8,
   "metadata": {},
   "outputs": [
    {
     "data": {
      "image/png": "[encoded data removed]",
      "text/plain": [
       "plot without title"
      ]
     },
     "metadata": {},
     "output_type": "display_data"
    }
   ],
   "source": [
    "plotcp(AirbnbTree)"
   ]
  },
  {
   "cell_type": "code",
   "execution_count": 9,
   "metadata": {},
   "outputs": [
    {
     "data": {
      "image/png": "[encoded data removed]",
      "text/plain": [
       "plot without title"
      ]
     },
     "metadata": {},
     "output_type": "display_data"
    }
   ],
   "source": [
    "prp(Airbnb_pruned,extra=1)"
   ]
  },
  {
   "cell_type": "code",
   "execution_count": 10,
   "metadata": {},
   "outputs": [
    {
     "name": "stdout",
     "output_type": "stream",
     "text": [
      "cex 0.675   xlim c(0, 1)   ylim c(0, 1)\n"
     ]
    },
    {
     "data": {
      "image/png": "[encoded data removed]",
      "text/plain": [
       "Plot with title “Explication du niveau de prix”"
      ]
     },
     "metadata": {},
     "output_type": "display_data"
    }
   ],
   "source": [
    "prp(AirbnbTree, main=\"Explication du niveau de prix\",\n",
    "    extra=103,           # display prob of survival and percent of obs\n",
    "    nn=TRUE,             # display the node numbers\n",
    "    fallen.leaves=TRUE,  # put the leaves on the bottom of the page\n",
    "    shadow.col=\"gray\",   # shadows under the leaves\n",
    "    branch.lty=3,        # draw branches using dotted lines\n",
    "    branch=.5,           # change angle of branch lines\n",
    "    yesno=2,\n",
    "    xflip=TRUE,\n",
    "    faclen=0,            # faclen=0 to print full factor names\n",
    "    trace=1,             # print the automatically calculated cex\n",
    "    split.cex=1.2,       # make the split text larger than the node text\n",
    "#    split.prefix=\"is \",  # put \"is \" before split text\n",
    "    split.suffix=\" ?\",    # put \"?\" after split text\n",
    "#    col=cols, border.col=cols,   # green if survived\n",
    "    split.box.col=\"lightgray\",   # lightgray split boxes (default is white)\n",
    "    split.border.col=\"darkgray\", # darkgray border on split boxes\n",
    "    split.round=.5)              # round the split box corners a tad"
   ]
  },
  {
   "cell_type": "code",
   "execution_count": 11,
   "metadata": {},
   "outputs": [
    {
     "name": "stderr",
     "output_type": "stream",
     "text": [
      "Rattle: A free graphical interface for data science with R.\n",
      "Version 5.1.0 Copyright (c) 2006-2017 Togaware Pty Ltd.\n",
      "Entrez 'rattle()' pour secouer, faire vibrer, et faire défiler vos données.\n"
     ]
    },
    {
     "data": {
      "text/html": [
       "<strong>png:</strong> 2"
      ],
      "text/latex": [
       "\\textbf{png:} 2"
      ],
      "text/markdown": [
       "**png:** 2"
      ],
      "text/plain": [
       "png \n",
       "  2 "
      ]
     },
     "metadata": {},
     "output_type": "display_data"
    }
   ],
   "source": [
    "library(RColorBrewer)\n",
    "library(rattle)\n",
    "jpeg(\"/home/user/Documents/STA211-Datamining/Projet_STA/Tree2_level_2.jpg\", width=700, height=1000,quality=100)\n",
    "plot.new()\n",
    "fancyRpartPlot(AirbnbTree, sub = '')\n",
    "title(main=\"Arbre de décision sur Price_level\", cex.main=3, line=1)\n",
    "\n",
    "dev.off()"
   ]
  },
  {
   "cell_type": "code",
   "execution_count": 12,
   "metadata": {},
   "outputs": [
    {
     "data": {
      "text/html": [
       "<table class='gmisc_table' style='border-collapse: collapse; margin-top: 1em; margin-bottom: 1em;' >\n",
       "<thead>\n",
       "<tr>\n",
       "<th style='border-top: 2px solid grey;'></th>\n",
       "<th colspan='5' style='font-weight: 900; border-bottom: 1px solid grey; border-top: 2px solid grey; text-align: center;'>pred</th>\n",
       "</tr>\n",
       "<tr>\n",
       "<th style='border-bottom: 1px solid grey;'> </th>\n",
       "<th style='border-bottom: 1px solid grey; text-align: center;'>Cher</th>\n",
       "<th style='border-bottom: 1px solid grey; text-align: center;'>Eleve</th>\n",
       "<th style='border-bottom: 1px solid grey; text-align: center;'>Exorbitant</th>\n",
       "<th style='border-bottom: 1px solid grey; text-align: center;'>Faible</th>\n",
       "<th style='border-bottom: 1px solid grey; text-align: center;'>Moyen</th>\n",
       "</tr>\n",
       "</thead>\n",
       "<tbody>\n",
       "<tr>\n",
       "<td style='text-align: left;'>Cher</td>\n",
       "<td style='text-align: center;'>6787</td>\n",
       "<td style='text-align: center;'>2354</td>\n",
       "<td style='text-align: center;'>0</td>\n",
       "<td style='text-align: center;'>96</td>\n",
       "<td style='text-align: center;'>1295</td>\n",
       "</tr>\n",
       "<tr>\n",
       "<td style='text-align: left;'>Eleve</td>\n",
       "<td style='text-align: center;'>2120</td>\n",
       "<td style='text-align: center;'>3242</td>\n",
       "<td style='text-align: center;'>0</td>\n",
       "<td style='text-align: center;'>493</td>\n",
       "<td style='text-align: center;'>3970</td>\n",
       "</tr>\n",
       "<tr>\n",
       "<td style='text-align: left;'>Exorbitant</td>\n",
       "<td style='text-align: center;'>598</td>\n",
       "<td style='text-align: center;'>12</td>\n",
       "<td style='text-align: center;'>0</td>\n",
       "<td style='text-align: center;'>1</td>\n",
       "<td style='text-align: center;'>11</td>\n",
       "</tr>\n",
       "<tr>\n",
       "<td style='text-align: left;'>Faible</td>\n",
       "<td style='text-align: center;'>180</td>\n",
       "<td style='text-align: center;'>668</td>\n",
       "<td style='text-align: center;'>0</td>\n",
       "<td style='text-align: center;'>4760</td>\n",
       "<td style='text-align: center;'>3610</td>\n",
       "</tr>\n",
       "<tr>\n",
       "<td style='border-bottom: 2px solid grey; text-align: left;'>Moyen</td>\n",
       "<td style='border-bottom: 2px solid grey; text-align: center;'>694</td>\n",
       "<td style='border-bottom: 2px solid grey; text-align: center;'>2256</td>\n",
       "<td style='border-bottom: 2px solid grey; text-align: center;'>0</td>\n",
       "<td style='border-bottom: 2px solid grey; text-align: center;'>1900</td>\n",
       "<td style='border-bottom: 2px solid grey; text-align: center;'>6037</td>\n",
       "</tr>\n",
       "</tbody>\n",
       "</table>"
      ]
     },
     "metadata": {},
     "output_type": "display_data"
    }
   ],
   "source": [
    "library(htmlTable)\n",
    "suppressPackageStartupMessages(library(IRdisplay))\n",
    "library(repr)\n",
    "pred=predict(object = AirbnbTree,newdata = Airbnb,type=\"class\")\n",
    "mc<-table(Airbnb$price_level,pred)\n",
    "mytableout = htmlTable (mc)\n",
    "display_html(mytableout)\n"
   ]
  }
 ],
 "metadata": {
  "kernelspec": {
   "display_name": "R",
   "language": "R",
   "name": "ir"
  },
  "language_info": {
   "codemirror_mode": "r",
   "file_extension": ".r",
   "mimetype": "text/x-r-source",
   "name": "R",
   "pygments_lexer": "r",
   "version": "3.4.1"
  }
 },
 "nbformat": 4,
 "nbformat_minor": 2
}
