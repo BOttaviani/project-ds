{
 "cells": [
  {
   "cell_type": "code",
   "execution_count": 1,
   "metadata": {},
   "outputs": [
    {
     "name": "stderr",
     "output_type": "stream",
     "text": [
      "randomForest 4.6-14\n",
      "Type rfNews() to see new features/changes/bug fixes.\n",
      "\n",
      "Attaching package: ‘dplyr’\n",
      "\n",
      "The following object is masked from ‘package:randomForest’:\n",
      "\n",
      "    combine\n",
      "\n",
      "The following objects are masked from ‘package:stats’:\n",
      "\n",
      "    filter, lag\n",
      "\n",
      "The following objects are masked from ‘package:base’:\n",
      "\n",
      "    intersect, setdiff, setequal, union\n",
      "\n"
     ]
    }
   ],
   "source": [
    "library(jsonlite)\n",
    "library(randomForest)\n",
    "library(dplyr)\n"
   ]
  },
  {
   "cell_type": "code",
   "execution_count": 2,
   "metadata": {},
   "outputs": [
    {
     "data": {
      "text/html": [
       "<dl class=dl-horizontal>\n",
       "\t<dt>_id</dt>\n",
       "\t\t<dd>'integer'</dd>\n",
       "\t<dt>accommodates</dt>\n",
       "\t\t<dd>'character'</dd>\n",
       "\t<dt>bathrooms</dt>\n",
       "\t\t<dd>'character'</dd>\n",
       "\t<dt>bed_type</dt>\n",
       "\t\t<dd>'character'</dd>\n",
       "\t<dt>bedrooms</dt>\n",
       "\t\t<dd>'character'</dd>\n",
       "\t<dt>beds</dt>\n",
       "\t\t<dd>'character'</dd>\n",
       "\t<dt>property_type</dt>\n",
       "\t\t<dd>'character'</dd>\n",
       "\t<dt>room_type</dt>\n",
       "\t\t<dd>'character'</dd>\n",
       "\t<dt>arrondissement</dt>\n",
       "\t\t<dd>'numeric'</dd>\n",
       "\t<dt>host_identity_verified</dt>\n",
       "\t\t<dd>'character'</dd>\n",
       "\t<dt>host_is_superhost</dt>\n",
       "\t\t<dd>'character'</dd>\n",
       "\t<dt>host_listings</dt>\n",
       "\t\t<dd>'character'</dd>\n",
       "\t<dt>host_response</dt>\n",
       "\t\t<dd>'character'</dd>\n",
       "\t<dt>host_since</dt>\n",
       "\t\t<dd>'character'</dd>\n",
       "\t<dt>cancel_policy</dt>\n",
       "\t\t<dd>'character'</dd>\n",
       "\t<dt>instant_bookable</dt>\n",
       "\t\t<dd>'character'</dd>\n",
       "\t<dt>availability_30</dt>\n",
       "\t\t<dd>'integer'</dd>\n",
       "\t<dt>availability_365</dt>\n",
       "\t\t<dd>'integer'</dd>\n",
       "\t<dt>availability_60</dt>\n",
       "\t\t<dd>'integer'</dd>\n",
       "\t<dt>availability_90</dt>\n",
       "\t\t<dd>'integer'</dd>\n",
       "\t<dt>first_review</dt>\n",
       "\t\t<dd>'character'</dd>\n",
       "\t<dt>last_review</dt>\n",
       "\t\t<dd>'character'</dd>\n",
       "\t<dt>nb_reviews</dt>\n",
       "\t\t<dd>'character'</dd>\n",
       "\t<dt>score_communication</dt>\n",
       "\t\t<dd>'numeric'</dd>\n",
       "\t<dt>score_location</dt>\n",
       "\t\t<dd>'numeric'</dd>\n",
       "\t<dt>score_other</dt>\n",
       "\t\t<dd>'numeric'</dd>\n",
       "\t<dt>reviews_per_month</dt>\n",
       "\t\t<dd>'numeric'</dd>\n",
       "\t<dt>total_price</dt>\n",
       "\t\t<dd>'numeric'</dd>\n",
       "\t<dt>price_level</dt>\n",
       "\t\t<dd>'character'</dd>\n",
       "</dl>\n"
      ],
      "text/latex": [
       "\\begin{description*}\n",
       "\\item[\\textbackslash{}\\_id] 'integer'\n",
       "\\item[accommodates] 'character'\n",
       "\\item[bathrooms] 'character'\n",
       "\\item[bed\\textbackslash{}\\_type] 'character'\n",
       "\\item[bedrooms] 'character'\n",
       "\\item[beds] 'character'\n",
       "\\item[property\\textbackslash{}\\_type] 'character'\n",
       "\\item[room\\textbackslash{}\\_type] 'character'\n",
       "\\item[arrondissement] 'numeric'\n",
       "\\item[host\\textbackslash{}\\_identity\\textbackslash{}\\_verified] 'character'\n",
       "\\item[host\\textbackslash{}\\_is\\textbackslash{}\\_superhost] 'character'\n",
       "\\item[host\\textbackslash{}\\_listings] 'character'\n",
       "\\item[host\\textbackslash{}\\_response] 'character'\n",
       "\\item[host\\textbackslash{}\\_since] 'character'\n",
       "\\item[cancel\\textbackslash{}\\_policy] 'character'\n",
       "\\item[instant\\textbackslash{}\\_bookable] 'character'\n",
       "\\item[availability\\textbackslash{}\\_30] 'integer'\n",
       "\\item[availability\\textbackslash{}\\_365] 'integer'\n",
       "\\item[availability\\textbackslash{}\\_60] 'integer'\n",
       "\\item[availability\\textbackslash{}\\_90] 'integer'\n",
       "\\item[first\\textbackslash{}\\_review] 'character'\n",
       "\\item[last\\textbackslash{}\\_review] 'character'\n",
       "\\item[nb\\textbackslash{}\\_reviews] 'character'\n",
       "\\item[score\\textbackslash{}\\_communication] 'numeric'\n",
       "\\item[score\\textbackslash{}\\_location] 'numeric'\n",
       "\\item[score\\textbackslash{}\\_other] 'numeric'\n",
       "\\item[reviews\\textbackslash{}\\_per\\textbackslash{}\\_month] 'numeric'\n",
       "\\item[total\\textbackslash{}\\_price] 'numeric'\n",
       "\\item[price\\textbackslash{}\\_level] 'character'\n",
       "\\end{description*}\n"
      ],
      "text/markdown": [
       "_id\n",
       ":   'integer'accommodates\n",
       ":   'character'bathrooms\n",
       ":   'character'bed_type\n",
       ":   'character'bedrooms\n",
       ":   'character'beds\n",
       ":   'character'property_type\n",
       ":   'character'room_type\n",
       ":   'character'arrondissement\n",
       ":   'numeric'host_identity_verified\n",
       ":   'character'host_is_superhost\n",
       ":   'character'host_listings\n",
       ":   'character'host_response\n",
       ":   'character'host_since\n",
       ":   'character'cancel_policy\n",
       ":   'character'instant_bookable\n",
       ":   'character'availability_30\n",
       ":   'integer'availability_365\n",
       ":   'integer'availability_60\n",
       ":   'integer'availability_90\n",
       ":   'integer'first_review\n",
       ":   'character'last_review\n",
       ":   'character'nb_reviews\n",
       ":   'character'score_communication\n",
       ":   'numeric'score_location\n",
       ":   'numeric'score_other\n",
       ":   'numeric'reviews_per_month\n",
       ":   'numeric'total_price\n",
       ":   'numeric'price_level\n",
       ":   'character'\n",
       "\n"
      ],
      "text/plain": [
       "                   _id           accommodates              bathrooms \n",
       "             \"integer\"            \"character\"            \"character\" \n",
       "              bed_type               bedrooms                   beds \n",
       "           \"character\"            \"character\"            \"character\" \n",
       "         property_type              room_type         arrondissement \n",
       "           \"character\"            \"character\"              \"numeric\" \n",
       "host_identity_verified      host_is_superhost          host_listings \n",
       "           \"character\"            \"character\"            \"character\" \n",
       "         host_response             host_since          cancel_policy \n",
       "           \"character\"            \"character\"            \"character\" \n",
       "      instant_bookable        availability_30       availability_365 \n",
       "           \"character\"              \"integer\"              \"integer\" \n",
       "       availability_60        availability_90           first_review \n",
       "             \"integer\"              \"integer\"            \"character\" \n",
       "           last_review             nb_reviews    score_communication \n",
       "           \"character\"            \"character\"              \"numeric\" \n",
       "        score_location            score_other      reviews_per_month \n",
       "             \"numeric\"              \"numeric\"              \"numeric\" \n",
       "           total_price            price_level \n",
       "             \"numeric\"            \"character\" "
      ]
     },
     "metadata": {},
     "output_type": "display_data"
    },
    {
     "data": {
      "text/plain": [
       "      _id           accommodates        bathrooms           bed_type        \n",
       " Min.   :    2525   Length:41094       Length:41094       Length:41094      \n",
       " 1st Qu.: 3688220   Class :character   Class :character   Class :character  \n",
       " Median : 7887020   Mode  :character   Mode  :character   Mode  :character  \n",
       " Mean   : 8425822                                                           \n",
       " 3rd Qu.:13304907                                                           \n",
       " Max.   :17968815                                                           \n",
       "   bedrooms             beds           property_type       room_type        \n",
       " Length:41094       Length:41094       Length:41094       Length:41094      \n",
       " Class :character   Class :character   Class :character   Class :character  \n",
       " Mode  :character   Mode  :character   Mode  :character   Mode  :character  \n",
       "                                                                            \n",
       "                                                                            \n",
       "                                                                            \n",
       " arrondissement  host_identity_verified host_is_superhost  host_listings     \n",
       " Min.   : 1.00   Length:41094           Length:41094       Length:41094      \n",
       " 1st Qu.: 8.00   Class :character       Class :character   Class :character  \n",
       " Median :12.00   Mode  :character       Mode  :character   Mode  :character  \n",
       " Mean   :15.12                                                               \n",
       " 3rd Qu.:18.00                                                               \n",
       " Max.   :99.00                                                               \n",
       " host_response       host_since        cancel_policy      instant_bookable  \n",
       " Length:41094       Length:41094       Length:41094       Length:41094      \n",
       " Class :character   Class :character   Class :character   Class :character  \n",
       " Mode  :character   Mode  :character   Mode  :character   Mode  :character  \n",
       "                                                                            \n",
       "                                                                            \n",
       "                                                                            \n",
       " availability_30  availability_365 availability_60 availability_90\n",
       " Min.   : 0.000   Min.   :  0.0    Min.   : 0.0    Min.   : 0.00  \n",
       " 1st Qu.: 0.000   1st Qu.:  9.0    1st Qu.: 0.0    1st Qu.: 0.00  \n",
       " Median : 3.000   Median :127.0    Median : 9.0    Median :18.00  \n",
       " Mean   : 7.878   Mean   :156.8    Mean   :18.3    Mean   :30.26  \n",
       " 3rd Qu.:13.000   3rd Qu.:295.0    3rd Qu.:33.0    3rd Qu.:57.00  \n",
       " Max.   :30.000   Max.   :365.0    Max.   :60.0    Max.   :90.00  \n",
       " first_review       last_review         nb_reviews        score_communication\n",
       " Length:41094       Length:41094       Length:41094       Min.   : 2.000     \n",
       " Class :character   Class :character   Class :character   1st Qu.: 9.500     \n",
       " Mode  :character   Mode  :character   Mode  :character   Median :10.000     \n",
       "                                                          Mean   : 9.678     \n",
       "                                                          3rd Qu.:10.000     \n",
       "                                                          Max.   :10.000     \n",
       " score_location    score_other     reviews_per_month  total_price    \n",
       " Min.   : 2.000   Min.   : 2.000   Min.   : 0.010    Min.   :  21.0  \n",
       " 1st Qu.: 9.000   1st Qu.: 9.000   1st Qu.: 0.290    1st Qu.:  65.0  \n",
       " Median :10.000   Median : 9.450   Median : 0.690    Median :  95.0  \n",
       " Mean   : 9.513   Mean   : 9.281   Mean   : 1.192    Mean   : 116.6  \n",
       " 3rd Qu.:10.000   3rd Qu.: 9.875   3rd Qu.: 1.570    3rd Qu.: 139.0  \n",
       " Max.   :10.000   Max.   :10.000   Max.   :18.000    Max.   :1350.0  \n",
       " price_level       \n",
       " Length:41094      \n",
       " Class :character  \n",
       " Mode  :character  \n",
       "                   \n",
       "                   \n",
       "                   "
      ]
     },
     "metadata": {},
     "output_type": "display_data"
    }
   ],
   "source": [
    "#Chargement du jeu de données\n",
    "path=\"/home/user/Documents/STA211-Datamining/Projet_STA/\"\n",
    "Airbnb<-fromJSON(paste(path,\"airbnb_V3.json\",sep=\"\"))\n",
    "sapply(Airbnb,class)\n",
    "summary(Airbnb)\n"
   ]
  },
  {
   "cell_type": "code",
   "execution_count": 3,
   "metadata": {},
   "outputs": [
    {
     "data": {
      "text/html": [
       "<dl class=dl-horizontal>\n",
       "\t<dt>_id</dt>\n",
       "\t\t<dd>'integer'</dd>\n",
       "\t<dt>accommodates</dt>\n",
       "\t\t<dd>'factor'</dd>\n",
       "\t<dt>bathrooms</dt>\n",
       "\t\t<dd>'factor'</dd>\n",
       "\t<dt>bed_type</dt>\n",
       "\t\t<dd>'factor'</dd>\n",
       "\t<dt>bedrooms</dt>\n",
       "\t\t<dd>'factor'</dd>\n",
       "\t<dt>beds</dt>\n",
       "\t\t<dd>'factor'</dd>\n",
       "\t<dt>property_type</dt>\n",
       "\t\t<dd>'factor'</dd>\n",
       "\t<dt>room_type</dt>\n",
       "\t\t<dd>'factor'</dd>\n",
       "\t<dt>arrondissement</dt>\n",
       "\t\t<dd>'factor'</dd>\n",
       "\t<dt>host_identity_verified</dt>\n",
       "\t\t<dd>'factor'</dd>\n",
       "\t<dt>host_is_superhost</dt>\n",
       "\t\t<dd>'factor'</dd>\n",
       "\t<dt>host_listings</dt>\n",
       "\t\t<dd>'factor'</dd>\n",
       "\t<dt>host_response</dt>\n",
       "\t\t<dd>'factor'</dd>\n",
       "\t<dt>host_since</dt>\n",
       "\t\t<dd>'factor'</dd>\n",
       "\t<dt>cancel_policy</dt>\n",
       "\t\t<dd>'factor'</dd>\n",
       "\t<dt>instant_bookable</dt>\n",
       "\t\t<dd>'factor'</dd>\n",
       "\t<dt>availability_30</dt>\n",
       "\t\t<dd>'integer'</dd>\n",
       "\t<dt>availability_365</dt>\n",
       "\t\t<dd>'integer'</dd>\n",
       "\t<dt>availability_60</dt>\n",
       "\t\t<dd>'integer'</dd>\n",
       "\t<dt>availability_90</dt>\n",
       "\t\t<dd>'integer'</dd>\n",
       "\t<dt>first_review</dt>\n",
       "\t\t<dd>'factor'</dd>\n",
       "\t<dt>last_review</dt>\n",
       "\t\t<dd>'factor'</dd>\n",
       "\t<dt>nb_reviews</dt>\n",
       "\t\t<dd>'factor'</dd>\n",
       "\t<dt>score_communication</dt>\n",
       "\t\t<dd>'numeric'</dd>\n",
       "\t<dt>score_location</dt>\n",
       "\t\t<dd>'numeric'</dd>\n",
       "\t<dt>score_other</dt>\n",
       "\t\t<dd>'numeric'</dd>\n",
       "\t<dt>reviews_per_month</dt>\n",
       "\t\t<dd>'numeric'</dd>\n",
       "\t<dt>total_price</dt>\n",
       "\t\t<dd>'numeric'</dd>\n",
       "\t<dt>price_level</dt>\n",
       "\t\t<dd>'factor'</dd>\n",
       "</dl>\n"
      ],
      "text/latex": [
       "\\begin{description*}\n",
       "\\item[\\textbackslash{}\\_id] 'integer'\n",
       "\\item[accommodates] 'factor'\n",
       "\\item[bathrooms] 'factor'\n",
       "\\item[bed\\textbackslash{}\\_type] 'factor'\n",
       "\\item[bedrooms] 'factor'\n",
       "\\item[beds] 'factor'\n",
       "\\item[property\\textbackslash{}\\_type] 'factor'\n",
       "\\item[room\\textbackslash{}\\_type] 'factor'\n",
       "\\item[arrondissement] 'factor'\n",
       "\\item[host\\textbackslash{}\\_identity\\textbackslash{}\\_verified] 'factor'\n",
       "\\item[host\\textbackslash{}\\_is\\textbackslash{}\\_superhost] 'factor'\n",
       "\\item[host\\textbackslash{}\\_listings] 'factor'\n",
       "\\item[host\\textbackslash{}\\_response] 'factor'\n",
       "\\item[host\\textbackslash{}\\_since] 'factor'\n",
       "\\item[cancel\\textbackslash{}\\_policy] 'factor'\n",
       "\\item[instant\\textbackslash{}\\_bookable] 'factor'\n",
       "\\item[availability\\textbackslash{}\\_30] 'integer'\n",
       "\\item[availability\\textbackslash{}\\_365] 'integer'\n",
       "\\item[availability\\textbackslash{}\\_60] 'integer'\n",
       "\\item[availability\\textbackslash{}\\_90] 'integer'\n",
       "\\item[first\\textbackslash{}\\_review] 'factor'\n",
       "\\item[last\\textbackslash{}\\_review] 'factor'\n",
       "\\item[nb\\textbackslash{}\\_reviews] 'factor'\n",
       "\\item[score\\textbackslash{}\\_communication] 'numeric'\n",
       "\\item[score\\textbackslash{}\\_location] 'numeric'\n",
       "\\item[score\\textbackslash{}\\_other] 'numeric'\n",
       "\\item[reviews\\textbackslash{}\\_per\\textbackslash{}\\_month] 'numeric'\n",
       "\\item[total\\textbackslash{}\\_price] 'numeric'\n",
       "\\item[price\\textbackslash{}\\_level] 'factor'\n",
       "\\end{description*}\n"
      ],
      "text/markdown": [
       "_id\n",
       ":   'integer'accommodates\n",
       ":   'factor'bathrooms\n",
       ":   'factor'bed_type\n",
       ":   'factor'bedrooms\n",
       ":   'factor'beds\n",
       ":   'factor'property_type\n",
       ":   'factor'room_type\n",
       ":   'factor'arrondissement\n",
       ":   'factor'host_identity_verified\n",
       ":   'factor'host_is_superhost\n",
       ":   'factor'host_listings\n",
       ":   'factor'host_response\n",
       ":   'factor'host_since\n",
       ":   'factor'cancel_policy\n",
       ":   'factor'instant_bookable\n",
       ":   'factor'availability_30\n",
       ":   'integer'availability_365\n",
       ":   'integer'availability_60\n",
       ":   'integer'availability_90\n",
       ":   'integer'first_review\n",
       ":   'factor'last_review\n",
       ":   'factor'nb_reviews\n",
       ":   'factor'score_communication\n",
       ":   'numeric'score_location\n",
       ":   'numeric'score_other\n",
       ":   'numeric'reviews_per_month\n",
       ":   'numeric'total_price\n",
       ":   'numeric'price_level\n",
       ":   'factor'\n",
       "\n"
      ],
      "text/plain": [
       "                   _id           accommodates              bathrooms \n",
       "             \"integer\"               \"factor\"               \"factor\" \n",
       "              bed_type               bedrooms                   beds \n",
       "              \"factor\"               \"factor\"               \"factor\" \n",
       "         property_type              room_type         arrondissement \n",
       "              \"factor\"               \"factor\"               \"factor\" \n",
       "host_identity_verified      host_is_superhost          host_listings \n",
       "              \"factor\"               \"factor\"               \"factor\" \n",
       "         host_response             host_since          cancel_policy \n",
       "              \"factor\"               \"factor\"               \"factor\" \n",
       "      instant_bookable        availability_30       availability_365 \n",
       "              \"factor\"              \"integer\"              \"integer\" \n",
       "       availability_60        availability_90           first_review \n",
       "             \"integer\"              \"integer\"               \"factor\" \n",
       "           last_review             nb_reviews    score_communication \n",
       "              \"factor\"               \"factor\"              \"numeric\" \n",
       "        score_location            score_other      reviews_per_month \n",
       "             \"numeric\"              \"numeric\"              \"numeric\" \n",
       "           total_price            price_level \n",
       "             \"numeric\"               \"factor\" "
      ]
     },
     "metadata": {},
     "output_type": "display_data"
    }
   ],
   "source": [
    "character_vars <- lapply(Airbnb, class) == \"character\"\n",
    "Airbnb[, character_vars] <- lapply(Airbnb[, character_vars], as.factor)\n",
    "#définition de la variable arrondissement comme qualitative\n",
    "Airbnb$arrondissement <- as.factor(Airbnb$arrondissement ) \n",
    "sapply(Airbnb,class)"
   ]
  },
  {
   "cell_type": "code",
   "execution_count": 4,
   "metadata": {},
   "outputs": [],
   "source": [
    "Airbnb <- subset(Airbnb, select = -c(price_level) )\n",
    "Airbnb_train <- Airbnb %>% sample_frac(0.3)"
   ]
  },
  {
   "cell_type": "code",
   "execution_count": 5,
   "metadata": {},
   "outputs": [
    {
     "data": {
      "text/plain": [
       "      _id           accommodates  bathrooms      bed_type       bedrooms   \n",
       " Min.   :    7397   T1 : 459     1-None:   17   Bed  :11017   1-None:2582  \n",
       " 1st Qu.: 3625769   T2 :5929     2-One :11001   Other:  323   2-One :7354  \n",
       " Median : 7748078   T3 :1265     3-Many: 1310   Sofa :  988   3-Many:2392  \n",
       " Mean   : 8383237   T4 :3235                                               \n",
       " 3rd Qu.:13245333   T5+:1440                                               \n",
       " Max.   :17968798                                                          \n",
       "                                                                           \n",
       "       beds        property_type     room_type     arrondissement\n",
       " 1-One   :6896   Apartment:11828   Entire :10734   18     :1340  \n",
       " 2-Two   :3632   House    :  114   Private: 1510   11     :1234  \n",
       " 3-More_2:1800   Loft     :  143   Shared :   84   10     : 872  \n",
       "                 Other    :  123                   15     : 852  \n",
       "                 Service  :  120                   17     : 756  \n",
       "                                                   20     : 666  \n",
       "                                                   (Other):6608  \n",
       " host_identity_verified host_is_superhost  host_listings  host_response \n",
       " f:4977                 f:11419           1-One   :9631   Bon    :8667  \n",
       " t:7351                 t:  909           2-Two   :1131   Mauvais:3661  \n",
       "                                          3-Three : 327                 \n",
       "                                          4-More_3:1239                 \n",
       "                                                                        \n",
       "                                                                        \n",
       "                                                                        \n",
       "  host_since    cancel_policy  instant_bookable availability_30 \n",
       " Ancien:4104   flexible:3536   f:9569           Min.   : 0.000  \n",
       " Moyen :4156   moderate:3988   t:2759           1st Qu.: 0.000  \n",
       " Recent:4068   strict  :4804                    Median : 3.000  \n",
       "                                                Mean   : 7.959  \n",
       "                                                3rd Qu.:13.000  \n",
       "                                                Max.   :30.000  \n",
       "                                                                \n",
       " availability_365 availability_60 availability_90 first_review  last_review  \n",
       " Min.   :  0.0    Min.   : 0.0    Min.   : 0.00   Ancien:4192   Ancien:4033  \n",
       " 1st Qu.: 10.0    1st Qu.: 0.0    1st Qu.: 0.00   Moyen :4055   Moyen :4146  \n",
       " Median :132.0    Median :10.0    Median :19.00   Recent:4081   Recent:4149  \n",
       " Mean   :159.1    Mean   :18.5    Mean   :30.56                              \n",
       " 3rd Qu.:298.0    3rd Qu.:34.0    3rd Qu.:58.00                              \n",
       " Max.   :365.0    Max.   :60.0    Max.   :90.00                              \n",
       "                                                                             \n",
       "  nb_reviews   score_communication score_location    score_other    \n",
       " Faible:4167   Min.   : 2.000      Min.   : 2.000   Min.   : 2.000  \n",
       " Fort  :4041   1st Qu.: 9.500      1st Qu.: 9.000   1st Qu.: 9.000  \n",
       " Moyen :4120   Median :10.000      Median :10.000   Median : 9.475  \n",
       "               Mean   : 9.679      Mean   : 9.512   Mean   : 9.290  \n",
       "               3rd Qu.:10.000      3rd Qu.:10.000   3rd Qu.: 9.875  \n",
       "               Max.   :10.000      Max.   :10.000   Max.   :10.000  \n",
       "                                                                    \n",
       " reviews_per_month  total_price    \n",
       " Min.   : 0.020    Min.   :  21.0  \n",
       " 1st Qu.: 0.280    1st Qu.:  65.0  \n",
       " Median : 0.690    Median :  95.0  \n",
       " Mean   : 1.198    Mean   : 117.3  \n",
       " 3rd Qu.: 1.570    3rd Qu.: 140.0  \n",
       " Max.   :18.000    Max.   :1339.0  \n",
       "                                   "
      ]
     },
     "metadata": {},
     "output_type": "display_data"
    }
   ],
   "source": [
    "summary(Airbnb_train)"
   ]
  },
  {
   "cell_type": "code",
   "execution_count": 6,
   "metadata": {},
   "outputs": [
    {
     "name": "stdout",
     "output_type": "stream",
     "text": [
      "\n",
      "Call:\n",
      " randomForest(formula = total_price ~ ., data = Airbnb_train[2:28],      na.action = na.roughfix) \n",
      "               Type of random forest: regression\n",
      "                     Number of trees: 500\n",
      "No. of variables tried at each split: 8\n",
      "\n",
      "          Mean of squared residuals: 2938.495\n",
      "                    % Var explained: 62.75\n"
     ]
    }
   ],
   "source": [
    "AirbnbRF <- randomForest(total_price~.,Airbnb_train[2:28], na.action = na.roughfix)\n",
    "print(AirbnbRF)"
   ]
  },
  {
   "cell_type": "code",
   "execution_count": 7,
   "metadata": {},
   "outputs": [
    {
     "data": {
      "image/png": "[encoded data removed]",
      "text/plain": [
       "Plot with title “AirbnbRF”"
      ]
     },
     "metadata": {},
     "output_type": "display_data"
    }
   ],
   "source": [
    "varImpPlot(AirbnbRF)"
   ]
  },
  {
   "cell_type": "code",
   "execution_count": 8,
   "metadata": {},
   "outputs": [
    {
     "name": "stdout",
     "output_type": "stream",
     "text": [
      "\n",
      "Call:\n",
      " randomForest(formula = total_price ~ ., data = Airbnb_train[2:28],      ntree = 5000, mtry = 2, na.action = na.roughfix) \n",
      "               Type of random forest: regression\n",
      "                     Number of trees: 5000\n",
      "No. of variables tried at each split: 2\n",
      "\n",
      "          Mean of squared residuals: 3168.037\n",
      "                    % Var explained: 59.84\n"
     ]
    },
    {
     "data": {
      "image/png": "[encoded data removed]",
      "text/plain": [
       "Plot with title “AirbnbRF2”"
      ]
     },
     "metadata": {},
     "output_type": "display_data"
    }
   ],
   "source": [
    "AirbnbRF2 <- randomForest(total_price~.,Airbnb_train[2:28], ntree=5000, mtry=2, na.action = na.roughfix)\n",
    "print(AirbnbRF2)\n",
    "varImpPlot(AirbnbRF2)"
   ]
  },
  {
   "cell_type": "code",
   "execution_count": 9,
   "metadata": {},
   "outputs": [
    {
     "name": "stdout",
     "output_type": "stream",
     "text": [
      "\n",
      "Call:\n",
      " randomForest(formula = total_price ~ ., data = Airbnb_train[2:28],      ntree = 200, mtry = 4, na.action = na.roughfix) \n",
      "               Type of random forest: regression\n",
      "                     Number of trees: 200\n",
      "No. of variables tried at each split: 4\n",
      "\n",
      "          Mean of squared residuals: 2990.943\n",
      "                    % Var explained: 62.08\n"
     ]
    },
    {
     "data": {
      "image/png": "[encoded data removed]",
      "text/plain": [
       "Plot with title “AirbnbRF3”"
      ]
     },
     "metadata": {},
     "output_type": "display_data"
    }
   ],
   "source": [
    "AirbnbRF3 <- randomForest(total_price~.,Airbnb_train[2:28], ntree=200, mtry=4, na.action = na.roughfix)\n",
    "print(AirbnbRF3)\n",
    "varImpPlot(AirbnbRF3)"
   ]
  },
  {
   "cell_type": "code",
   "execution_count": 33,
   "metadata": {},
   "outputs": [
    {
     "data": {
      "text/plain": [
       "        arrondissement           accommodates               bedrooms \n",
       "             3626121.0              3373149.9              3348036.7 \n",
       "             bathrooms                   beds       availability_365 \n",
       "             2423468.7              2012434.6              1302428.7 \n",
       "     reviews_per_month            score_other          host_listings \n",
       "             1022462.4               905858.5               892100.0 \n",
       "       availability_90        availability_60        availability_30 \n",
       "              836606.7               792211.6               757459.9 \n",
       "         cancel_policy              room_type         score_location \n",
       "              745541.5               571896.8               505755.0 \n",
       "            host_since             nb_reviews           first_review \n",
       "              366609.9               349550.8               347947.1 \n",
       "           last_review    score_communication          property_type \n",
       "              322704.6               293609.4               279206.7 \n",
       "host_identity_verified          host_response       instant_bookable \n",
       "              189960.0               149901.8               145662.4 \n",
       "              bed_type      host_is_superhost \n",
       "              145578.3               140606.9 \n"
      ]
     },
     "metadata": {},
     "output_type": "display_data"
    }
   ],
   "source": [
    "AirbnbRF3$importance[order(AirbnbRF3$importance[, 1], decreasing = TRUE), ]"
   ]
  },
  {
   "cell_type": "code",
   "execution_count": 34,
   "metadata": {},
   "outputs": [
    {
     "data": {
      "text/plain": [
       "\n",
       "Call:\n",
       " randomForest(formula = total_price ~ ., data = New_Airbnb_train,      ntree = 5000, mtry = 4, na.action = na.roughfix) \n",
       "               Type of random forest: regression\n",
       "                     Number of trees: 5000\n",
       "No. of variables tried at each split: 4\n",
       "\n",
       "          Mean of squared residuals: 2545.337\n",
       "                    % Var explained: 61.93\n"
      ]
     },
     "metadata": {},
     "output_type": "display_data"
    },
    {
     "data": {
      "image/png": "[encoded data removed]"
     },
     "metadata": {},
     "output_type": "display_data"
    }
   ],
   "source": [
    "New_Airbnb_train<-select(Airbnb_train,arrondissement, accommodates,bedrooms,bathrooms,beds,availability_365,\n",
    "                         score_other,reviews_per_month,host_listings,total_price)\n",
    "AirbnbRF4 <- randomForest(total_price~.,New_Airbnb_train, ntree=5000, mtry=4, na.action = na.roughfix)\n",
    "print(AirbnbRF4)\n",
    "varImpPlot(AirbnbRF4)\n"
   ]
  },
  {
   "cell_type": "code",
   "execution_count": null,
   "metadata": {},
   "outputs": [],
   "source": [
    "# augmenter l'échantillon de départ avec les variables sélectionnées pour voir si amélioration"
   ]
  }
 ],
 "metadata": {
  "kernelspec": {
   "display_name": "R",
   "language": "R",
   "name": "ir"
  },
  "language_info": {
   "codemirror_mode": "r",
   "file_extension": ".r",
   "mimetype": "text/x-r-source",
   "name": "R",
   "pygments_lexer": "r",
   "version": "3.4.1"
  }
 },
 "nbformat": 4,
 "nbformat_minor": 2
}
