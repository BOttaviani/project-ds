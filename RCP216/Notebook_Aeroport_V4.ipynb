{
 "cells": [
  {
   "cell_type": "code",
   "execution_count": 1,
   "metadata": {},
   "outputs": [
    {
     "name": "stdout",
     "output_type": "stream",
     "text": [
      "[Stage 1:==================================================>    (184 + 4) / 200][Stage 1:==========>                                             (37 + 4) / 200]+---------+\n",
      "|nb_Noeuds|\n",
      "+---------+\n",
      "|     3425|\n",
      "+---------+\n",
      "\n",
      "+--------+                                                                      \n",
      "|nb_Liens|\n",
      "+--------+\n",
      "|   37274|\n",
      "+--------+\n",
      "\n"
     ]
    },
    {
     "data": {
      "text/plain": [
       "codes_IATA_struct = StructType(StructField(Code_IATA,StringType,true), StructField(nom,StringType,true), StructField(code_pays,StringType,true), StructField(ville,StringType,true))\n",
       "aeroports_struct_noeuds = StructType(StructField(Code_comp,StringType,true), StructField(num_comp,StringType,true), StructField(code_source,StringType,true), StructField(id,StringType,true), StructField(code_dest,StringType,true), StructField(num_dest,StringType,true), StructField(filler,StringType,true), StructField(nb_etapes,ShortType,true), StructField(code,StringType,true))\n",
       "aeroports_struct_liens = ...\n"
      ]
     },
     "metadata": {},
     "output_type": "display_data"
    },
    {
     "data": {
      "text/plain": [
       "StructType(StructField(Code_comp,StringType,true), StructField(num_comp,StringType,true), StructField(code_source,StringType,true), StructField(src,StringType,true), StructField(code_dest,StringType,true), StructField(dst,StringType,true), StructField(filler,StringType,true), StructField(nb_etapes,ShortType,true), StructField(code,StringType,true))"
      ]
     },
     "execution_count": 1,
     "metadata": {},
     "output_type": "execute_result"
    }
   ],
   "source": [
    "//IMPORTER LA BIBLIOTHEQUE SQL SPARK\n",
    "import org.apache.spark.sql.types._\n",
    "//IMPORTER LA BIBLIOTHEQUE GRAPHFRAME\n",
    "import org.graphframes._\n",
    "//IMPORTER LA BIBLIOTHEQUE GRAPHX\n",
    "import org.apache.spark.graphx._\n",
    "\n",
    "//DEFINITION DE LA STRUCTURE DU FICHIER DES CODES IATA\n",
    "val codes_IATA_struct = StructType(StructField(\"Code_IATA\", StringType, true) :: StructField(\"nom\", StringType, true) :: StructField(\"code_pays\", StringType, true) :: StructField(\"ville\", StringType, true) :: Nil)\n",
    "//DEFINITION DE LA STRUCTURE DU FICHIER D'ENTREE POUR LES NOEUDS\n",
    "val aeroports_struct_noeuds = StructType(StructField(\"Code_comp\", StringType, true) :: StructField(\"num_comp\", StringType, true) :: StructField(\"code_source\", StringType, true) :: StructField(\"id\", StringType, true) :: StructField(\"code_dest\", StringType, true) :: StructField(\"num_dest\", StringType, true) :: StructField(\"filler\", StringType, true) :: StructField(\"nb_etapes\", ShortType, true) :: StructField(\"code\", StringType, true) :: Nil)\n",
    "//DEFINITION DE LA STRUCTURE DU FICHIER D'ENTREE POUR LES LIENS\n",
    "val aeroports_struct_liens = StructType(StructField(\"Code_comp\", StringType, true) :: StructField(\"num_comp\", StringType, true) :: StructField(\"code_source\", StringType, true) :: StructField(\"src\", StringType, true) :: StructField(\"code_dest\", StringType, true) :: StructField(\"dst\", StringType, true) :: StructField(\"filler\", StringType, true) :: StructField(\"nb_etapes\", ShortType, true) :: StructField(\"code\", StringType, true) :: Nil)\n",
    "//LECTURE DU FICHIER D'ENTREE DES CODES IATA AVEC LA STRUCTURE ASSOCIEE DEFINIE PLUS HAUT\n",
    "val codes_IATA = spark.read.format(\"csv\").schema(codes_IATA_struct).load(\"Codes_IATA\")\n",
    "//LECTURE DU FICHIER D'ENTREE A L'AIDE DE LA STRUCTURE DES NOEUDS DEFINIE PLUS HAUT\n",
    "val aeroports_noeuds = spark.read.format(\"csv\").schema(aeroports_struct_noeuds).load(\"routes.dat\")\n",
    "\n",
    "//CREATION DE LA TABLE ASSOCIEE AUX CODES IATA\n",
    "codes_IATA.createOrReplaceTempView(\"codes_IATA\")\n",
    "//CREATION DE LA TABLE ASSOCIEE AUX NOEUDS\n",
    "aeroports_noeuds.createOrReplaceTempView(\"aeroports_noeuds\")\n",
    "\n",
    "//SELECTION DES DONNEES SERVANT A LA CONSTRUCTION DU GRAPHE A PARTIR DE LA TABLE DES NOEUDS\n",
    "val Noeuds = spark.sql(\"select distinct id, code_source from (select id, code_source from aeroports_noeuds where id not like '%N' and code_source not like '%N' union select num_dest, code_dest from aeroports_noeuds)\")\n",
    "Noeuds.createOrReplaceTempView(\"Noeuds\")\n",
    "spark.sql(\"select count(*) as nb_Noeuds from Noeuds\").show\n",
    "\n",
    "//LECTURE DU FICHIER D'ENTREE A L'AIDE DE LA STRUCTURE DES LIENS DEFINIE PLUS HAUT\n",
    "val aeroports_liens = spark.read.format(\"csv\").schema(aeroports_struct_liens).load(\"routes.dat\")\n",
    "\n",
    "//CREATION DE LA TABLE ASSOCIEE AUX LIENS\n",
    "aeroports_liens.createOrReplaceTempView(\"aeroports_liens\")\n",
    "\n",
    "val Liens = spark.sql(\"select distinct a.src, a.dst from aeroports_liens a where src not like '%N' and dst not like '%N'\")\n",
    "Liens.createOrReplaceTempView(\"Liens\")\n",
    "spark.sql(\"select count(*) as nb_Liens from Liens\").show\n",
    "\n",
    "//CONSTRUCTION DU GRAPHE\n",
    "val Graphe_aeroports = GraphFrame(Noeuds, Liens)"
   ]
  },
  {
   "cell_type": "code",
   "execution_count": 2,
   "metadata": {},
   "outputs": [
    {
     "name": "stdout",
     "output_type": "stream",
     "text": [
      "[Stage 11:=====================================================>(197 + 3) / 200]+-------+------------------+\n",
      "|summary|             poids|\n",
      "+-------+------------------+\n",
      "|  count|             37242|\n",
      "|   mean|1.8041458568283122|\n",
      "| stddev| 1.283203409452282|\n",
      "|    min|                 1|\n",
      "|    max|                20|\n",
      "+-------+------------------+\n",
      "\n",
      "[Stage 17:===================================================>  (189 + 4) / 200]+------+-------+-------+-----------+-----+\n",
      "|depart|  ville|arrivee|      ville|poids|\n",
      "+------+-------+-------+-----------+-----+\n",
      "|   ORD|Chicago|    ATL|    Atlanta|   20|\n",
      "|   ATL|Atlanta|    ORD|    Chicago|   19|\n",
      "|   HKT| Phuket|    BKK|    Bangkok|   13|\n",
      "|   ORD|Chicago|    MSY|New Orleans|   13|\n",
      "|   ATL|Atlanta|    MIA|      Miami|   12|\n",
      "+------+-------+-------+-----------+-----+\n",
      "only showing top 5 rows\n",
      "\n"
     ]
    },
    {
     "data": {
      "text/plain": [
       "Poids_Liens_orientes = [depart: string, ville: string ... 3 more fields]\n"
      ]
     },
     "metadata": {},
     "output_type": "display_data"
    },
    {
     "data": {
      "text/plain": [
       "[depart: string, ville: string ... 3 more fields]"
      ]
     },
     "execution_count": 2,
     "metadata": {},
     "output_type": "execute_result"
    }
   ],
   "source": [
    "//1- POIDS DES DIFFERENTES LIGNES EN FONCTION DU NOMBRE DE COMPAGNIES EXPLOITANTES (EN TENANT COMPTE DE TOUS LES LIENS) \n",
    "val Poids_Liens_orientes = spark.sql(\"select a.depart, b.ville, a.arrivee, c.ville, a.poids from(select code_source as depart, code_dest as arrivee, count(*) as poids from aeroports_liens where src not like '%N' and dst not like '%N' group by depart, arrivee order by poids desc, depart asc) as a inner join codes_IATA b on b.code_IATA = a.depart inner join codes_IATA c on c.code_IATA = a.arrivee\")\n",
    "Poids_Liens_orientes.createOrReplaceTempView(\"Poids_Liens_orientes\")\n",
    "//Statistiques élémentaires\n",
    "spark.sql(\"select poids from Poids_Liens_orientes\").describe().show\n",
    "//Top 5\n",
    "Poids_Liens_orientes.show(5)"
   ]
  },
  {
   "cell_type": "code",
   "execution_count": 3,
   "metadata": {},
   "outputs": [
    {
     "name": "stdout",
     "output_type": "stream",
     "text": [
      "[Stage 23:================================================>     (178 + 4) / 200]+-------+\n",
      "|densite|\n",
      "+-------+\n",
      "| 0.0032|\n",
      "+-------+\n",
      "\n"
     ]
    },
    {
     "data": {
      "text/plain": [
       "nb_noeuds = [nb_noeuds: decimal(7,2)]\n",
       "nb_liens = [nb_liens: decimal(7,2)]\n",
       "table_densite = [nb_noeuds: decimal(7,2), nb_liens: decimal(7,2)]\n"
      ]
     },
     "metadata": {},
     "output_type": "display_data"
    },
    {
     "data": {
      "text/plain": [
       "[nb_noeuds: decimal(7,2), nb_liens: decimal(7,2)]"
      ]
     },
     "execution_count": 3,
     "metadata": {},
     "output_type": "execute_result"
    }
   ],
   "source": [
    "//2- CALCUL DE LA DENSITE\n",
    "val nb_noeuds = spark.sql(\"select cast(count(*) as decimal(7,2)) as nb_noeuds from Noeuds\")\n",
    "val nb_liens = spark.sql(\"select cast(count(*) as decimal(7,2)) as nb_liens from Liens\")\n",
    "val table_densite = nb_noeuds.crossJoin(nb_liens)\n",
    "table_densite.createOrReplaceTempView(\"table_densite\")\n",
    "//Résultat du calcul\n",
    "spark.sql(\"select cast((nb_liens)/(nb_noeuds*(nb_noeuds-1)) as decimal (5,4)) as densite from table_densite\").show"
   ]
  },
  {
   "cell_type": "code",
   "execution_count": 4,
   "metadata": {},
   "outputs": [
    {
     "name": "stdout",
     "output_type": "stream",
     "text": [
      "[Stage 27:=================================================>    (184 + 4) / 200]+-------+------------------+\n",
      "|summary|   degres_entrants|\n",
      "+-------+------------------+\n",
      "|  count|              3321|\n",
      "|   mean|11.223727792833484|\n",
      "| stddev|24.400133136178393|\n",
      "|    min|                 1|\n",
      "|    max|               238|\n",
      "+-------+------------------+\n",
      "\n",
      "[Stage 31:==============================================>       (171 + 5) / 200]+-------+------------------+\n",
      "|summary|   degres_sortants|\n",
      "+-------+------------------+\n",
      "|  count|              3315|\n",
      "|   mean|11.244042232277526|\n",
      "| stddev|24.489313680882894|\n",
      "|    min|                 1|\n",
      "|    max|               239|\n",
      "+-------+------------------+\n",
      "\n",
      "[Stage 35:=================================================>    (182 + 6) / 200]+-------+--------------------+\n",
      "|summary|plus_proches_voisins|\n",
      "+-------+--------------------+\n",
      "|  count|                3330|\n",
      "|   mean|  22.386786786786786|\n",
      "| stddev|  48.814518946965116|\n",
      "|    min|                   1|\n",
      "|    max|                 477|\n",
      "+-------+--------------------+\n",
      "\n",
      "[Stage 41:====================================================> (196 + 4) / 200]+---------+---------------+\n",
      "|code_IATA|degres_entrants|\n",
      "+---------+---------------+\n",
      "|      FRA|            238|\n",
      "|      CDG|            233|\n",
      "|      AMS|            231|\n",
      "|      IST|            228|\n",
      "|      ATL|            216|\n",
      "+---------+---------------+\n",
      "only showing top 5 rows\n",
      "\n",
      "+---------+---------------+                                                     \n",
      "|code_IATA|degres_sortants|\n",
      "+---------+---------------+\n",
      "|      FRA|            239|\n",
      "|      CDG|            237|\n",
      "|      AMS|            232|\n",
      "|      IST|            225|\n",
      "|      ATL|            217|\n",
      "+---------+---------------+\n",
      "only showing top 5 rows\n",
      "\n",
      "[Stage 54:=====================================================>(199 + 1) / 200]+---------+-----------------+----------+\n",
      "|code_IATA|            ville|nb_voisins|\n",
      "+---------+-----------------+----------+\n",
      "|      FRA|Frankfurt am Main|       477|\n",
      "|      CDG|            Paris|       470|\n",
      "|      AMS|        Amsterdam|       463|\n",
      "|      IST|         Istanbul|       453|\n",
      "|      ATL|          Atlanta|       433|\n",
      "+---------+-----------------+----------+\n",
      "only showing top 5 rows\n",
      "\n"
     ]
    },
    {
     "data": {
      "text/plain": [
       "degres_entrants = [id: string, inDegree: int]\n",
       "degres_sortants = [id: string, outDegree: int]\n",
       "nb_voisins = [id: string, degree: int]\n"
      ]
     },
     "metadata": {},
     "output_type": "display_data"
    },
    {
     "data": {
      "text/plain": [
       "[id: string, degree: int]"
      ]
     },
     "execution_count": 4,
     "metadata": {},
     "output_type": "execute_result"
    }
   ],
   "source": [
    "//3- DISTRIBUTIONS DES DEGRES (PLUS PROCHES VOISINS)\n",
    "val degres_entrants = Graphe_aeroports.inDegrees\n",
    "degres_entrants.createOrReplaceTempView(\"degres_entrants\")\n",
    "val degres_sortants = Graphe_aeroports.outDegrees\n",
    "degres_sortants.createOrReplaceTempView(\"degres_sortants\")\n",
    "val nb_voisins = Graphe_aeroports.degrees\n",
    "nb_voisins.createOrReplaceTempView(\"nb_voisins\")\n",
    "//Degres entrants et sortants, car graphe orienté, et plus proches voisins\n",
    "//Statistiques élémentaires\n",
    "spark.sql(\"select inDegree as degres_entrants from degres_entrants\").describe().show\n",
    "spark.sql(\"select outDegree as degres_sortants from degres_sortants\").describe().show\n",
    "spark.sql(\"select degree as plus_proches_voisins from nb_voisins\").describe().show\n",
    "//Tops 5 des degrés entrants, sortants, et du nombre de voisins\n",
    "spark.sql(\"select a.code_source as code_IATA, b.inDegree as degres_entrants from Noeuds a inner join degres_entrants b on b.id = a.id order by b.inDegree desc\").show(5)\n",
    "spark.sql(\"select a.code_source as code_IATA, b.outDegree as degres_sortants from Noeuds a inner join degres_sortants b on b.id = a.id order by b.outDegree desc\").show(5)\n",
    "spark.sql(\"select a.code_IATA, b.ville, a.nb_voisins from(select a.code_source as code_IATA, b.degree as nb_voisins from Noeuds a inner join nb_voisins b on b.id = a.id order by b.degree desc) as a inner join codes_IATA as b on b.code_IATA = a.code_IATA\").show(5)"
   ]
  },
  {
   "cell_type": "code",
   "execution_count": 5,
   "metadata": {},
   "outputs": [
    {
     "name": "stdout",
     "output_type": "stream",
     "text": [
      "(0,3304)                                                                        \n",
      "(300647710722,10)\n",
      "(266287972363,4)\n",
      "(9,4)\n",
      "(352187318278,4)\n",
      "(523986010129,2)\n",
      "(438086664202,2)\n",
      "(326417514507,1)\n",
      "(206158430216,1)\n",
      "(687194767370,1)\n",
      "(601295421446,1)\n",
      "+-------------------+\n",
      "|nb_noeuds_connectes|\n",
      "+-------------------+\n",
      "|               3304|\n",
      "+-------------------+\n",
      "\n",
      "[Stage 296:==============================================>      (176 + 4) / 200]+----------------------------+\n",
      "|pourcentage_noeuds_connectes|\n",
      "+----------------------------+\n",
      "|                       96.47|\n",
      "+----------------------------+\n",
      "\n"
     ]
    },
    {
     "data": {
      "text/plain": [
       "GrapheX_aeroports = org.apache.spark.graphx.impl.GraphImpl@17371068\n",
       "composantes_connexes = org.apache.spark.graphx.impl.GraphImpl@1c5a2954\n",
       "comptage_composantes = ArrayBuffer((0,3304), (300647710722,10), (266287972363,4), (9,4), (352187318278,4), (523986010129,2), (438086664202,2), (326417514507,1), (206158430216,1), (687194767370,1), (601295421446,1))\n"
      ]
     },
     "metadata": {},
     "output_type": "display_data"
    },
    {
     "data": {
      "text/plain": [
       "sortedConnectedComponents: (connectedComponents: org.apache.spark.graphx.Graph[org.apache.spark.graphx.VertexId, _])Seq[(org.apache.spark.graphx.VertexId, Long)]\n",
       "composante_connexe_principale: org.apache.spark.sql.DataFrame ...\n"
      ]
     },
     "metadata": {},
     "output_type": "display_data"
    },
    {
     "data": {
      "text/plain": [
       "ArrayBuffer((0,3304), (300647710722,10), (266287972363,4), (9,4), (352187318278,4), (523986010129,2), (438086664202,2), (326417514507,1), (206158430216,1), (687194767370,1), (601295421446,1))"
      ]
     },
     "execution_count": 5,
     "metadata": {},
     "output_type": "execute_result"
    }
   ],
   "source": [
    "//4- COMPOSANTES CONNEXES DANS LE RESEAU\n",
    "val GrapheX_aeroports = Graphe_aeroports.toGraphX\n",
    "val composantes_connexes = GrapheX_aeroports.connectedComponents\n",
    "def sortedConnectedComponents(connectedComponents: Graph[VertexId, _]): Seq[(VertexId, Long)] = {\n",
    "  val comptage_composantes = connectedComponents.vertices.map(_._2).countByValue\n",
    "  comptage_composantes.toSeq.sortBy(_._2).reverse\n",
    "}\n",
    "val comptage_composantes = sortedConnectedComponents(composantes_connexes)\n",
    "comptage_composantes.size\n",
    "comptage_composantes.take(comptage_composantes.size).foreach(println)\n",
    "val composante_connexe_principale = comptage_composantes.take(1).toList.toDF\n",
    "composante_connexe_principale.createOrReplaceTempView(\"composante_connexe_principale\")\n",
    "val nb_noeuds_connectes = spark.sql(\"select _2 as nb_noeuds_connectes from composante_connexe_principale\")\n",
    "nb_noeuds_connectes.show\n",
    "val pourcentage_noeuds_composante_principale = nb_noeuds_connectes.crossJoin(nb_noeuds)\n",
    "pourcentage_noeuds_composante_principale.createOrReplaceTempView(\"pourcentage_noeuds_composante_principale\")\n",
    "spark.sql(\"select cast((nb_noeuds_connectes/nb_noeuds)*100 as decimal(4,2)) as pourcentage_noeuds_connectes from pourcentage_noeuds_composante_principale\").show"
   ]
  },
  {
   "cell_type": "code",
   "execution_count": 6,
   "metadata": {},
   "outputs": [
    {
     "name": "stdout",
     "output_type": "stream",
     "text": [
      "[Stage 314:==============================================>        (63 + 4) / 75]+-------+------------------+\n",
      "|summary|        centralite|\n",
      "+-------+------------------+\n",
      "|  count|              3295|\n",
      "|   mean| 728.3396054628224|\n",
      "| stddev|3597.8578879945303|\n",
      "|    min|                 1|\n",
      "|    max|             56882|\n",
      "+-------+------------------+\n",
      "\n",
      "[Stage 330:===================================================> (193 + 4) / 200]+---------+-----------------+----------+\n",
      "|code_IATA|            ville|centralite|\n",
      "+---------+-----------------+----------+\n",
      "|      FRA|Frankfurt am Main|     56882|\n",
      "|      CDG|            Paris|     55221|\n",
      "|      AMS|        Amsterdam|     53592|\n",
      "|      IST|         Istanbul|     51300|\n",
      "|      ATL|          Atlanta|     46872|\n",
      "+---------+-----------------+----------+\n",
      "only showing top 5 rows\n",
      "\n"
     ]
    },
    {
     "data": {
      "text/plain": [
       "trajets = [a: struct<id: string, code_source: string>, b: struct<id: string, code_source: string> ... 1 more field]\n",
       "intermediaires = [code_source: string]\n",
       "centralites = [code_IATA: string, ville: string ... 1 more field]\n"
      ]
     },
     "metadata": {},
     "output_type": "display_data"
    },
    {
     "data": {
      "text/plain": [
       "[code_IATA: string, ville: string ... 1 more field]"
      ]
     },
     "execution_count": 6,
     "metadata": {},
     "output_type": "execute_result"
    }
   ],
   "source": [
    "//5- CENTRALITES - RECHERCHE DE PLUS COURTS TRAJETS AVEC AEROPORTS INTERMEDIAIRES\n",
    "//Recherche de tous les trajets impliquant 3 aéroports\n",
    "val trajets = Graphe_aeroports.find(\"(a)-[]->(b); (b)-[]->(c)\")\n",
    "trajets.createOrReplaceTempView(\"trajets\")\n",
    "//Récupération des aéroports intermédiaires sur le plus court trajet (orientation intégrée dans liens : on cumule tous les chemins dans tous les sens)\n",
    "val intermediaires = spark.sql(\"select b.code_source from trajets where a<>b and b<>c\")\n",
    "intermediaires.createOrReplaceTempView(\"intermediaires\")\n",
    "//Calcul des centralites (nécessaire pour le calcul du clustering plus bas)\n",
    "val centralites = spark.sql(\"select a.code_IATA, b.ville, a.centralite from(select code_source as code_IATA, count(*) as centralite from intermediaires group by code_source order by centralite desc) as a inner join codes_IATA b on b.code_IATA = a.code_IATA\")\n",
    "centralites.createOrReplaceTempView(\"centralites\")\n",
    "//Statistiques élémentaires\n",
    "spark.sql(\"select centralite from centralites\").describe().show\n",
    "//Top 5\n",
    "centralites.show(5)"
   ]
  },
  {
   "cell_type": "code",
   "execution_count": 7,
   "metadata": {},
   "outputs": [
    {
     "name": "stdout",
     "output_type": "stream",
     "text": [
      "+-------+------------------+                                                    \n",
      "|summary|      nb_triangles|\n",
      "+-------+------------------+\n",
      "|  count|              3425|\n",
      "|   mean|  88.3243795620438|\n",
      "| stddev|333.25217107350767|\n",
      "|    min|                 0|\n",
      "|    max|              4543|\n",
      "+-------+------------------+\n",
      "\n",
      "+---------+-----------------+------------+                                      \n",
      "|code_IATA|            ville|nb_triangles|\n",
      "+---------+-----------------+------------+\n",
      "|      AMS|        Amsterdam|        4543|\n",
      "|      FRA|Frankfurt am Main|        4357|\n",
      "|      CDG|            Paris|        4136|\n",
      "|      MUC|           Munich|        3658|\n",
      "|      LHR|           London|        3154|\n",
      "+---------+-----------------+------------+\n",
      "only showing top 5 rows\n",
      "\n",
      "[Stage 440:===================================================> (193 + 4) / 200]+-----------------+\n",
      "|clustering_global|\n",
      "+-----------------+\n",
      "|           0.2744|\n",
      "+-----------------+\n",
      "\n",
      "[Stage 466:====================================================>(197 + 3) / 200]+-------+-------------------+\n",
      "|summary|   clustering_local|\n",
      "+-------+-------------------+\n",
      "|  count|               3308|\n",
      "|   mean|         0.13694423|\n",
      "| stddev|0.17547162190410032|\n",
      "|    min|             0.0000|\n",
      "|    max|             1.0000|\n",
      "+-------+-------------------+\n",
      "\n",
      "[Stage 528:>                                                        (0 + 3) / 3]+---------+-----------------+----------+------------+----------------+\n",
      "|code_IATA|            ville|nb_voisins|nb_triangles|clustering_local|\n",
      "+---------+-----------------+----------+------------+----------------+\n",
      "|      BCN|        Barcelona|       326|        3094|          0.0584|\n",
      "|      LHR|           London|       340|        3154|          0.0547|\n",
      "|      MUC|           Munich|       380|        3658|          0.0508|\n",
      "|      AMS|        Amsterdam|       463|        4543|          0.0425|\n",
      "|      FRA|Frankfurt am Main|       477|        4357|          0.0384|\n",
      "+---------+-----------------+----------+------------+----------------+\n",
      "only showing top 5 rows\n",
      "\n"
     ]
    },
    {
     "data": {
      "text/plain": [
       "triangles = [count: bigint, id: string ... 1 more field]\n",
       "somme_triangles = [total_triangles: bigint]\n",
       "somme_triades_simples = [total_triades: bigint]\n",
       "clustering_global = [total_triangles: bigint, total_triades: bigint]\n",
       "nb_triangles = [id: string, nb_triangles: bigint]\n",
       "clustering_local = [id: string, nb_triangles: bigint ... 2 more fields]\n"
      ]
     },
     "metadata": {},
     "output_type": "display_data"
    },
    {
     "data": {
      "text/plain": [
       "[id: string, nb_triangles: bigint ... 2 more fields]"
      ]
     },
     "execution_count": 7,
     "metadata": {},
     "output_type": "execute_result"
    }
   ],
   "source": [
    "//6- CLUSTERING (pour rester cohérents avec la centralité, nous prenons en compte toutes les orientations)\n",
    "//Détermination/distribution du nombre de triangles\n",
    "val triangles = Graphe_aeroports.triangleCount.run\n",
    "triangles.createOrReplaceTempView(\"triangles\")\n",
    "//Statistiques élémentaires\n",
    "spark.sql(\"select count as nb_triangles from triangles\").describe().show\n",
    "//Top 5\n",
    "spark.sql(\"select a.code_IATA, b.ville, a.nb_triangles from (select id, code_source as code_IATA, count as nb_triangles from triangles order by count desc) as a inner join codes_IATA b on b.code_IATA = a.code_IATA\").show(5)\n",
    "//Clustering global\n",
    "val somme_triangles = spark.sql(\"select sum(count) as total_triangles from triangles\")\n",
    "val somme_triades_simples = spark.sql(\"select sum(centralite) as total_triades from centralites\")\n",
    "val clustering_global = somme_triangles.crossJoin(somme_triades_simples)\n",
    "clustering_global.createOrReplaceTempView(\"clustering_global\")\n",
    "spark.sql(\"select cast((3*total_triangles)/(total_triades+(3*total_triangles)) as decimal(5,4)) as clustering_global from clustering_global\").show\n",
    "//Clustering local pour chaque aéroport\n",
    "val nb_triangles = spark.sql(\"select id, count as nb_triangles from triangles\")\n",
    "nb_triangles.createOrReplaceTempView(\"nb_triangles\")\n",
    "val clustering_local = spark.sql(\"select a.id, a.nb_triangles, b.degree, cast((2*a.nb_triangles)/(degree*(degree-1)) as decimal (5,4)) as clustering_local from nb_triangles a inner join nb_voisins b on b.id = a.id\")\n",
    "clustering_local.createOrReplaceTempView(\"clustering_local\")\n",
    "//Statistiques élémentaires\n",
    "spark.sql(\"select clustering_local from clustering_local\").describe().show\n",
    "//Top 5 en fonction du nombre de triangles et du nombre de voisins (on prend le 1/3 supérieur pour chacune des variables)\n",
    "spark.sql(\"select a.code_IATA, b.ville, a.nb_voisins, a.nb_triangles, a.clustering_local from (select a.id, a.code_source as code_IATA, b.degree as nb_voisins, b.nb_triangles as nb_triangles, b.clustering_local from Noeuds a inner join clustering_local b on b.id = a.id where b.degree > 318 and b.nb_triangles > 3029 order by clustering_local desc) as a inner join codes_IATA b on b.code_IATA = a.code_IATA\").show(5)"
   ]
  },
  {
   "cell_type": "code",
   "execution_count": 15,
   "metadata": {
    "scrolled": false
   },
   "outputs": [
    {
     "name": "stdout",
     "output_type": "stream",
     "text": [
      "[Stage 1324:==============================================>     (178 + 4) / 200]+-------+------------------+\n",
      "|summary|              nbre|\n",
      "+-------+------------------+\n",
      "|  count|               339|\n",
      "|   mean|10.103244837758112|\n",
      "| stddev| 56.40873097551725|\n",
      "|    min|                 1|\n",
      "|    max|               736|\n",
      "+-------+------------------+\n",
      "\n",
      "+-------------+----+                                                            \n",
      "|        label|nbre|\n",
      "+-------------+----+\n",
      "| 549755813898| 736|\n",
      "|1030792151047| 675|\n",
      "| 790273982469| 211|\n",
      "| 206158430212| 123|\n",
      "|  51539607564| 110|\n",
      "+-------------+----+\n",
      "only showing top 5 rows\n",
      "\n",
      "+---------+                                                                     \n",
      "|sum(nbre)|\n",
      "+---------+\n",
      "|     3425|\n",
      "+---------+\n",
      "\n"
     ]
    },
    {
     "data": {
      "text/plain": [
       "LPA = [id: string, code_source: string ... 1 more field]\n",
       "communautes = [label: bigint, nbre: bigint]\n"
      ]
     },
     "metadata": {},
     "output_type": "display_data"
    },
    {
     "data": {
      "text/plain": [
       "[label: bigint, nbre: bigint]"
      ]
     },
     "execution_count": 15,
     "metadata": {},
     "output_type": "execute_result"
    }
   ],
   "source": [
    "//7- LPA (LABEL PROPAGATION) - DETERMINATION DE L'EXISTENCE DE COMMUNAUTES\n",
    "val LPA = Graphe_aeroports.labelPropagation.maxIter(5).run()\n",
    "LPA.createOrReplaceTempView(\"LPA\")\n",
    "//Table des communautés\n",
    "val communautes = spark.sql(\"select label, count(*) as nbre from LPA group by label order by nbre desc\")\n",
    "communautes.createOrReplaceTempView(\"communautes\")\n",
    "//Statistiques élémentaires\n",
    "spark.sql(\"select nbre from communautes\").describe().show\n",
    "//Top 5\n",
    "communautes.show(5)\n",
    "spark.sql(\"select sum(nbre) from(select label, count(*) as nbre from LPA group by label order by nbre desc)\").show"
   ]
  },
  {
   "cell_type": "code",
   "execution_count": 10,
   "metadata": {},
   "outputs": [
    {
     "name": "stdout",
     "output_type": "stream",
     "text": [
      "+----+---------+-----------------+---------+----------+                         \n",
      "|  id|code_IATA|            ville|code_pays|nb_voisins|\n",
      "+----+---------+-----------------+---------+----------+\n",
      "| 340|      FRA|Frankfurt am Main|       DE|       477|\n",
      "|1382|      CDG|            Paris|       FR|       470|\n",
      "| 580|      AMS|        Amsterdam|       NL|       463|\n",
      "|1701|      IST|         Istanbul|       TR|       453|\n",
      "| 346|      MUC|           Munich|       DE|       380|\n",
      "|4029|      DME|           Moscow|       RU|       375|\n",
      "|2188|      DXB|            Dubai|       AE|       366|\n",
      "| 507|      LHR|           London|       GB|       340|\n",
      "| 502|      LGW|           London|       GB|       330|\n",
      "|1218|      BCN|        Barcelona|       ES|       326|\n",
      "|1555|      FCO|             Rome|       IT|       316|\n",
      "|1229|      MAD|           Madrid|       ES|       314|\n",
      "| 548|      STN|           London|       GB|       305|\n",
      "| 345|      DUS|       D�sseldorf|       DE|       294|\n",
      "| 302|      BRU|         Brussels|       BE|       293|\n",
      "| 478|      MAN|       Manchester|       GB|       290|\n",
      "| 599|      DUB|           Dublin|       IE|       288|\n",
      "|2985|      SVO|           Moscow|       RU|       288|\n",
      "|1613|      VIE|           Vienna|       AT|       275|\n",
      "|1678|      ZRH|           Zurich|       CH|       273|\n",
      "+----+---------+-----------------+---------+----------+\n",
      "only showing top 20 rows\n",
      "\n"
     ]
    }
   ],
   "source": [
    "//549755813898 (736)  => Europe\n",
    "spark.sql(\"select distinct l.id, a.code_source as code_IATA, d.ville, d.code_pays, c.degree as nb_voisins from LPA l inner join aeroports_noeuds a on a.id = l.id inner join nb_voisins c on c.id = l.id inner join codes_IATA d on d.code_IATA = a.code_source where label = 549755813898 order by nb_voisins desc\").show(20)"
   ]
  },
  {
   "cell_type": "code",
   "execution_count": 11,
   "metadata": {},
   "outputs": [
    {
     "name": "stdout",
     "output_type": "stream",
     "text": [
      "+----+---------+-----------------+---------+----------+                         \n",
      "|  id|code_IATA|            ville|code_pays|nb_voisins|\n",
      "+----+---------+-----------------+---------+----------+\n",
      "|3682|      ATL|          Atlanta|       US|       433|\n",
      "|3830|      ORD|          Chicago|       US|       409|\n",
      "|3670|      DFW|Dallas-Fort Worth|       US|       372|\n",
      "|3751|      DEN|           Denver|       US|       337|\n",
      "|3550|      IAH|          Houston|       US|       337|\n",
      "|3797|      JFK|         New York|       US|       322|\n",
      "|3494|      EWR|           Newark|       US|       305|\n",
      "|3484|      LAX|      Los Angeles|       US|       297|\n",
      "| 193|      YYZ|          Toronto|       CA|       293|\n",
      "|3876|      CLT|        Charlotte|       US|       280|\n",
      "|3576|      MIA|            Miami|       US|       269|\n",
      "|3645|      DTW|          Detroit|       US|       269|\n",
      "|3877|      LAS|        Las Vegas|       US|       266|\n",
      "|3858|      MSP|      Minneapolis|       US|       260|\n",
      "|3714|      IAD|       Washington|       US|       248|\n",
      "|3752|      PHL|     Philadelphia|       US|       243|\n",
      "|3469|      SFO|    San Francisco|       US|       208|\n",
      "|2279|      NRT|            Tokyo|       JP|       206|\n",
      "|3448|      BOS|           Boston|       US|       205|\n",
      "|3878|      MCO|          Orlando|       US|       204|\n",
      "+----+---------+-----------------+---------+----------+\n",
      "only showing top 20 rows\n",
      "\n"
     ]
    }
   ],
   "source": [
    "//1030792151047 (675) => Amérique du Nord\n",
    "spark.sql(\"select distinct l.id, a.code_source as code_IATA, d.ville, d.code_pays, c.degree as nb_voisins from LPA l inner join aeroports_noeuds a on a.id = l.id inner join nb_voisins c on c.id = l.id inner join codes_IATA d on d.code_IATA = a.code_source where label = 1030792151047 order by nb_voisins desc\").show(20)"
   ]
  },
  {
   "cell_type": "code",
   "execution_count": 12,
   "metadata": {},
   "outputs": [
    {
     "name": "stdout",
     "output_type": "stream",
     "text": [
      "+----+---------+---------+---------+----------+                                 \n",
      "|  id|code_IATA|    ville|code_pays|nb_voisins|\n",
      "+----+---------+---------+---------+----------+\n",
      "|3364|      PEK|  Beijing|       CN|       412|\n",
      "|3406|      PVG| Shanghai|       CN|       305|\n",
      "|3370|      CAN|Guangzhou|       CN|       297|\n",
      "|3077|      HKG|Hong Kong|       HK|       265|\n",
      "|3930|      ICN|    Seoul|       KR|       262|\n",
      "|3316|      SIN|Singapore|       SG|       248|\n",
      "|3395|      CTU|  Chengdu|       CN|       216|\n",
      "|2276|      TPE|   Taipei|       TW|       205|\n",
      "|3382|      KMG|  Kunming|       CN|       190|\n",
      "|3393|      CKG|Chongqing|       CN|       178|\n",
      "|3379|      XIY|    Xi'an|       CN|       172|\n",
      "|3374|      SZX| Shenzhen|       CN|       172|\n",
      "|3383|      XMN|   Xiamen|       CN|       144|\n",
      "|3386|      HGH| Hangzhou|       CN|       144|\n",
      "|3371|      CSX| Changsha|       CN|       140|\n",
      "|3391|      SHA| Shanghai|       CN|       135|\n",
      "|3376|      WUH|    Wuhan|       CN|       132|\n",
      "|4144|      SHE| Shenyang|       CN|       124|\n",
      "|3404|      DLC|   Dalian|       CN|       118|\n",
      "|3400|      HRB|   Harbin|       CN|       115|\n",
      "+----+---------+---------+---------+----------+\n",
      "only showing top 20 rows\n",
      "\n"
     ]
    }
   ],
   "source": [
    "//790273982469 (211)  => Chine\n",
    "spark.sql(\"select distinct l.id, a.code_source as code_IATA, d.ville, d.code_pays, c.degree as nb_voisins from LPA l inner join aeroports_noeuds a on a.id = l.id inner join nb_voisins c on c.id = l.id inner join codes_IATA d on d.code_IATA = a.code_source where label = 790273982469 order by nb_voisins desc\").show(20)"
   ]
  },
  {
   "cell_type": "code",
   "execution_count": 13,
   "metadata": {},
   "outputs": [
    {
     "name": "stdout",
     "output_type": "stream",
     "text": [
      "+----+---------+------------------+---------+----------+                        \n",
      "|  id|code_IATA|             ville|code_pays|nb_voisins|\n",
      "+----+---------+------------------+---------+----------+\n",
      "|2191|      SHJ|           Sharjah|       AE|       154|\n",
      "|2194|      MCT|            Muscat|       OM|       105|\n",
      "|2064|      DMM|         Ad Dammam|       SA|        94|\n",
      "|3024|      CMB|           Colombo|       LK|        82|\n",
      "|2057|      BAH|            Manama|       BH|        80|\n",
      "|3131|      BLR|         Bangalore|       IN|        79|\n",
      "|3144|      MAA|           Chennai|       IN|        76|\n",
      "|2223|      ISB|         Islamabad|       PK|        74|\n",
      "|2206|      KHI|           Karachi|       PK|        73|\n",
      "|2074|      MED|            Medina|       SA|        70|\n",
      "|3076|      DAC|             Dhaka|       BD|        67|\n",
      "|2207|      LHE|            Lahore|       PK|        62|\n",
      "|3980|      SAH|            Sana'a|       YE|        46|\n",
      "|1175|      KRT|          Khartoum|       SD|        44|\n",
      "|3136|      COK|             Kochi|       IN|        42|\n",
      "|3137|      CCJ|           Calicut|       IN|        34|\n",
      "|2994|      AMD|         Ahmedabad|       IN|        34|\n",
      "|2219|      PEW|          Peshawar|       PK|        34|\n",
      "|3153|      TRV|Thiruvananthapuram|       IN|        34|\n",
      "|3977|      ADE|              Aden|       YE|        33|\n",
      "+----+---------+------------------+---------+----------+\n",
      "only showing top 20 rows\n",
      "\n"
     ]
    }
   ],
   "source": [
    "//206158430212 (123)  => Moyen Orient - Inde - Pakistan\n",
    "spark.sql(\"select distinct l.id, a.code_source as code_IATA, d.ville, d.code_pays, c.degree as nb_voisins from LPA l inner join aeroports_noeuds a on a.id = l.id inner join nb_voisins c on c.id = l.id inner join codes_IATA d on d.code_IATA = a.code_source where label = 206158430212 order by nb_voisins desc\").show(20)"
   ]
  },
  {
   "cell_type": "code",
   "execution_count": 14,
   "metadata": {},
   "outputs": [
    {
     "name": "stdout",
     "output_type": "stream",
     "text": [
      "+----+---------+---------------+---------+----------+                           \n",
      "|  id|code_IATA|          ville|code_pays|nb_voisins|\n",
      "+----+---------+---------------+---------+----------+\n",
      "|2975|      SVX|  Yekaterinburg|       RU|       130|\n",
      "|2983|      TAS|       Tashkent|       UZ|       113|\n",
      "|4078|      OVB|    Novosibirsk|       RU|       103|\n",
      "|2908|      ALA|         Almaty|       KZ|        90|\n",
      "|2910|      TSE|         Astana|       KZ|        68|\n",
      "|2979|      DYU|       Dushanbe|       TJ|        61|\n",
      "|4374|      KJA|    Krasnoyarsk|       RU|        57|\n",
      "|2937|      IKT|        Irkutsk|       RU|        52|\n",
      "|2912|      FRU|        Bishkek|       KG|        44|\n",
      "|2927|      KHV|     Khabarovsk|       RU|        42|\n",
      "|2990|      KZN|          Kazan|       RU|        42|\n",
      "|2923|      YKS|        Yakutsk|       RU|        40|\n",
      "|2992|      UFA|            Ufa|       RU|        38|\n",
      "|6147|      LBD|      Khudzhand|       TJ|        38|\n",
      "|4111|      TJM|         Tyumen|       RU|        37|\n",
      "|2965|      AER|          Sochi|       RU|        35|\n",
      "|4367|      SCO|          Aktau|       KZ|        34|\n",
      "|4274|      GOJ|Nizhny Novgorod|       RU|        30|\n",
      "|2958|      OMS|           Omsk|       RU|        30|\n",
      "|2934|      VVO|    Vladivostok|       RU|        30|\n",
      "+----+---------+---------------+---------+----------+\n",
      "only showing top 20 rows\n",
      "\n"
     ]
    }
   ],
   "source": [
    "//51539607564 (110)   => Asie du Nord (Russie et anciennes républiques de l'Union soviétique) \n",
    "spark.sql(\"select distinct l.id, a.code_source as code_IATA, d.ville, d.code_pays, c.degree as nb_voisins from LPA l inner join aeroports_noeuds a on a.id = l.id inner join nb_voisins c on c.id = l.id inner join codes_IATA d on d.code_IATA = a.code_source where label = 51539607564 order by nb_voisins desc\").show(20)"
   ]
  },
  {
   "cell_type": "code",
   "execution_count": 9,
   "metadata": {},
   "outputs": [
    {
     "name": "stdout",
     "output_type": "stream",
     "text": [
      "+----------+                                                                    \n",
      "|modularite|\n",
      "+----------+\n",
      "|    0.9188|\n",
      "+----------+\n",
      "\n"
     ]
    },
    {
     "data": {
      "text/plain": [
       "table_Q1 = [src: string, code_src: string ... 6 more fields]\n",
       "table_Q2 = [src: string, code_src: string ... 7 more fields]\n",
       "table_Q3 = [lab_src: bigint, lab_dst: bigint ... 3 more fields]\n",
       "somme_produit = [somme_produit: decimal(7,2)]\n",
       "table_Q4 = [somme_produit: decimal(7,2), nb_liens: decimal(7,2)]\n"
      ]
     },
     "metadata": {},
     "output_type": "display_data"
    },
    {
     "data": {
      "text/plain": [
       "[somme_produit: decimal(7,2), nb_liens: decimal(7,2)]"
      ]
     },
     "execution_count": 9,
     "metadata": {},
     "output_type": "execute_result"
    }
   ],
   "source": [
    "//8- TABLES POUR CALCUL MODULARITE\n",
    "val table_Q1 = spark.sql(\"select a.src, b.code_source as code_src, d.degree as deg_src, f.label as lab_src, a.dst, c.code_source as code_dst, e.degree as deg_dst, g.label as lab_dst from Liens a inner join Noeuds b on b.id = a.src inner join Noeuds c on c.id = a.dst inner join nb_voisins d on d.id = a.src inner join nb_voisins e on e.id = a.dst inner join LPA f on f.id = a.src inner join LPA g on g.id = a.dst\")\n",
    "table_Q1.createOrReplaceTempView(\"table_Q1\")\n",
    "val table_Q2 = table_Q1.crossJoin(nb_liens)\n",
    "table_Q2.createOrReplaceTempView(\"table_Q2\")\n",
    "val table_Q3 = spark.sql(\"select lab_src, lab_dst, deg_src, deg_dst, case when lab_src = lab_dst then cast((deg_src*deg_dst)/(2*nb_liens) as decimal (5,2)) else 0 end as produit from table_Q2\")\n",
    "table_Q3.createOrReplaceTempView(\"table_Q3\")\n",
    "val somme_produit = spark.sql(\"select cast(sum(produit) as decimal(7,2)) as somme_produit from table_Q3\")\n",
    "somme_produit.createOrReplaceTempView(\"somme_produit\")\n",
    "val table_Q4 = somme_produit.crossJoin(nb_liens)\n",
    "table_Q4.createOrReplaceTempView(\"table_Q4\")\n",
    "spark.sql(\"select cast(1-((somme_produit)/(2*nb_liens)) as decimal (5,4)) as modularite from table_Q4\").show"
   ]
  }
 ],
 "metadata": {
  "kernelspec": {
   "display_name": "Spark - Scala",
   "language": "scala",
   "name": "spark_scala"
  },
  "language_info": {
   "codemirror_mode": "text/x-scala",
   "file_extension": ".scala",
   "mimetype": "text/x-scala",
   "name": "scala",
   "pygments_lexer": "scala",
   "version": "2.11.8"
  }
 },
 "nbformat": 4,
 "nbformat_minor": 2
}
