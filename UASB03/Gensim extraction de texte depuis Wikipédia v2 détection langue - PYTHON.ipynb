{
 "cells": [
  {
   "cell_type": "code",
   "execution_count": 59,
   "metadata": {},
   "outputs": [],
   "source": [
    "from smart_open import smart_open\n",
    "import json\n",
    "import pandas\n",
    "from gensim.parsing.preprocessing import preprocess_string,strip_tags, strip_punctuation, strip_numeric, strip_short\n",
    "from gensim.parsing.preprocessing import remove_stopwords, STOPWORDS\n",
    "from nltk.corpus import stopwords\n",
    "import re\n",
    "from whatthelang import WhatTheLang\n",
    "wtl = WhatTheLang()\n",
    "\n",
    "mystopword = pandas.read_csv('AirBnBStopwords-fr.txt',header=None)\n",
    "mystopwordlist=mystopword[0].tolist()\n",
    "#CUSTOM_FILTERS = [lambda x: x.lower(),lambda x: [item for item in x if item not in mystopwordlist], strip_tags, strip_punctuation, strip_numeric,strip_short]\n",
    "CUSTOM_FILTERS = [lambda x: x.lower(), strip_tags, strip_punctuation, strip_numeric,strip_short]\n",
    "mystopwordlist.extend((\"fichier\",\"jpeg\",\"jpg\",\"thumb\",\"catégorie\"))\n",
    "\n",
    "regexes = [\n",
    "    \"Catégorie:.*\",\n",
    "    \"Fichier:.*\",\n",
    "    \"références.*\",\n",
    "    \"externe.*\"\n",
    "    ]\n",
    "\n",
    "# Make a regex that matches if any of our regexes match.\n",
    "combined = \"(\" + \")|(\".join(regexes) + \")\"\n",
    "\n"
   ]
  },
  {
   "cell_type": "code",
   "execution_count": 60,
   "metadata": {},
   "outputs": [],
   "source": [
    "\n",
    "# iterate over the plain text data we just created\n",
    "for line in smart_open('frwiki-latest.json.gz', ):\n",
    "    # decode each JSON line into a Python dictionary object\n",
    "    article = json.loads(line)\n",
    "\n",
    "    # each article has a \"title\", a mapping of interlinks and a list of \"section_titles\" and \"section_texts\".\n",
    "#    print(\"Article title: %s\" % article['title'])\n",
    "#    print(\"Interlinks: %s\" + article['interlinks'])\n",
    "    for section_text in zip(article['section_texts']):\n",
    "        myText= preprocess_string(' '.join(section_text), CUSTOM_FILTERS)\n",
    "        lg=''\n",
    "        proba=0\n",
    "        # mylist = preprocess_string(section_text, CUSTOM_FILTERS)\n",
    "        if len(wtl.pred_prob(section_text[0])[0])>0:\n",
    "            lg=wtl.pred_prob(section_text[0])[0][0][0]\n",
    "            proba=wtl.pred_prob(section_text[0])[0][0][1]\n",
    "        if (len(myText)>0 and  not(re.match(combined, section_text[0])) and lg=='fr' and proba>0.8) :\n",
    " \n",
    "           with open('frwiki_formate2.txt', 'a') as the_file:\n",
    "                the_file.write(' '.join(myText)+'\\n')"
   ]
  },
  {
   "cell_type": "code",
   "execution_count": 51,
   "metadata": {},
   "outputs": [
    {
     "data": {
      "text/plain": [
       "''"
      ]
     },
     "execution_count": 51,
     "metadata": {},
     "output_type": "execute_result"
    }
   ],
   "source": [
    "section_text[0]"
   ]
  },
  {
   "cell_type": "code",
   "execution_count": 52,
   "metadata": {},
   "outputs": [
    {
     "ename": "IndexError",
     "evalue": "list index out of range",
     "output_type": "error",
     "traceback": [
      "\u001b[0;31m---------------------------------------------------------------------------\u001b[0m",
      "\u001b[0;31mIndexError\u001b[0m                                Traceback (most recent call last)",
      "\u001b[0;32m<ipython-input-52-ee0c868b9415>\u001b[0m in \u001b[0;36m<module>\u001b[0;34m()\u001b[0m\n\u001b[0;32m----> 1\u001b[0;31m \u001b[0mlg\u001b[0m\u001b[0;34m=\u001b[0m\u001b[0mwtl\u001b[0m\u001b[0;34m.\u001b[0m\u001b[0mpred_prob\u001b[0m\u001b[0;34m(\u001b[0m\u001b[0msection_text\u001b[0m\u001b[0;34m[\u001b[0m\u001b[0;36m0\u001b[0m\u001b[0;34m]\u001b[0m\u001b[0;34m)\u001b[0m\u001b[0;34m[\u001b[0m\u001b[0;36m0\u001b[0m\u001b[0;34m]\u001b[0m\u001b[0;34m[\u001b[0m\u001b[0;36m0\u001b[0m\u001b[0;34m]\u001b[0m\u001b[0;34m[\u001b[0m\u001b[0;36m0\u001b[0m\u001b[0;34m]\u001b[0m\u001b[0;34m\u001b[0m\u001b[0m\n\u001b[0m\u001b[1;32m      2\u001b[0m \u001b[0mproba\u001b[0m\u001b[0;34m=\u001b[0m\u001b[0mwtl\u001b[0m\u001b[0;34m.\u001b[0m\u001b[0mpred_prob\u001b[0m\u001b[0;34m(\u001b[0m\u001b[0msection_text\u001b[0m\u001b[0;34m[\u001b[0m\u001b[0;36m0\u001b[0m\u001b[0;34m]\u001b[0m\u001b[0;34m)\u001b[0m\u001b[0;34m[\u001b[0m\u001b[0;36m0\u001b[0m\u001b[0;34m]\u001b[0m\u001b[0;34m[\u001b[0m\u001b[0;36m0\u001b[0m\u001b[0;34m]\u001b[0m\u001b[0;34m[\u001b[0m\u001b[0;36m1\u001b[0m\u001b[0;34m]\u001b[0m\u001b[0;34m\u001b[0m\u001b[0m\n",
      "\u001b[0;31mIndexError\u001b[0m: list index out of range"
     ]
    }
   ],
   "source": [
    "lg=wtl.pred_prob(section_text[0])[0][0][0]\n",
    "proba=wtl.pred_prob(section_text[0])[0][0][1]"
   ]
  },
  {
   "cell_type": "code",
   "execution_count": 57,
   "metadata": {},
   "outputs": [
    {
     "data": {
      "text/plain": [
       "0"
      ]
     },
     "execution_count": 57,
     "metadata": {},
     "output_type": "execute_result"
    }
   ],
   "source": [
    "len(wtl.pred_prob(section_text[0])[0])"
   ]
  },
  {
   "cell_type": "code",
   "execution_count": 36,
   "metadata": {},
   "outputs": [
    {
     "name": "stdout",
     "output_type": "stream",
     "text": [
      "0\n"
     ]
    }
   ],
   "source": [
    "malist=[[[]]]\n",
    "print(len(malist[0][0]))\n",
    "if not malist:\n",
    " print(\"La liste est vide\")"
   ]
  }
 ],
 "metadata": {
  "kernelspec": {
   "display_name": "Python 3",
   "language": "python",
   "name": "python3"
  },
  "language_info": {
   "codemirror_mode": {
    "name": "ipython",
    "version": 3
   },
   "file_extension": ".py",
   "mimetype": "text/x-python",
   "name": "python",
   "nbconvert_exporter": "python",
   "pygments_lexer": "ipython3",
   "version": "3.6.5"
  }
 },
 "nbformat": 4,
 "nbformat_minor": 2
}
