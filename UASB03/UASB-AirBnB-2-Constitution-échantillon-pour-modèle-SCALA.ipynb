{
 "cells": [
  {
   "cell_type": "markdown",
   "metadata": {},
   "source": [
    "# CNAM UASB03 - CERTIFICATION ANALYSE DE DONNEES MASSIVES\n",
    "## Projet d'analyse de sentiment sur les commentaires Airbnb en français\n",
    "\n",
    "***\n",
    "Notebook Scala de détermination des sentiments positifs/négatifs et constitution d'un échantillon constitué de 5 fois plus de commentaires identifiés comme positifs que de commentaires identifiés comme négatifs.\n",
    "\n"
   ]
  },
  {
   "cell_type": "code",
   "execution_count": 1,
   "metadata": {},
   "outputs": [
    {
     "data": {
      "text/plain": [
       "commentaires_lus = [_c0: string, _c1: string]\n",
       "commentaires = [Id_comment: string, commentaire: string]\n"
      ]
     },
     "metadata": {},
     "output_type": "display_data"
    },
    {
     "data": {
      "text/plain": [
       "[Id_comment: string, commentaire: string]"
      ]
     },
     "execution_count": 1,
     "metadata": {},
     "output_type": "execute_result"
    }
   ],
   "source": [
    "//LECTURE DU FICHIER D'ENTREE DES COMMENTAIRES AVEC DELIMITEUR £\n",
    "val commentaires_lus = spark.read.option(\"delimiter\", \"£\").option(\"charset\", \"utf-8\").csv(\"Data/Commentaires_identifiants_V3\")\n",
    "\n",
    "//REFORMATAGE DES COMMENTAIRES LUS => TOUS LES CARACTERES SONT MIS EN LETTRES MINUSCULES\n",
    "val commentaires = commentaires_lus.rdd.map(x =>(x.getAs[String](0), x.getAs[String](1).toLowerCase)).toDF(\"Id_comment\", \"commentaire\")\n",
    "\n",
    "//CREATION DE LA TABLE ASSOCIEE AUX COMMENTAIRES BRUTS\n",
    "commentaires.createOrReplaceTempView(\"commentaires_bruts\")\n"
   ]
  },
  {
   "cell_type": "code",
   "execution_count": 2,
   "metadata": {},
   "outputs": [
    {
     "name": "stdout",
     "output_type": "stream",
     "text": [
      "\r",
      "[Stage 1:>                                                          (0 + 4) / 4]"
     ]
    },
    {
     "data": {
      "text/plain": [
       "commentaires_nbre = 197372\n"
      ]
     },
     "metadata": {},
     "output_type": "display_data"
    },
    {
     "data": {
      "text/plain": [
       "197372"
      ]
     },
     "execution_count": 2,
     "metadata": {},
     "output_type": "execute_result"
    }
   ],
   "source": [
    "//NOMBRE DE COMMENTAIRES\n",
    "var commentaires_nbre = commentaires.count()"
   ]
  },
  {
   "cell_type": "code",
   "execution_count": 3,
   "metadata": {},
   "outputs": [
    {
     "data": {
      "text/plain": [
       "evaluation_brute = [_c0: string, _c1: string]\n",
       "evaluation = [expression: string, poids: string]\n",
       "produit_brut = [Id_comment: string, commentaire: string ... 2 more fields]\n",
       "produit = [Id_comment: string, commentaire: string ... 1 more field]\n",
       "commentaires_evalues_bruts = [Id_comment: string, commentaire: string ... 1 more field]\n",
       "commentaires_evalues = [Id_comment: string, commentaire: string ... 1 more field]\n"
      ]
     },
     "metadata": {},
     "output_type": "display_data"
    },
    {
     "data": {
      "text/plain": [
       "[Id_comment: string, commentaire: string ... 1 more field]"
      ]
     },
     "execution_count": 3,
     "metadata": {},
     "output_type": "execute_result"
    }
   ],
   "source": [
    "//LECTURE DU FICHIER D'EVALUATION\n",
    "val evaluation_brute = spark.read.option(\"delimiter\", \"#\").csv(\"Data/Evaluation_V4\")\n",
    "\n",
    "//CREATION DE LA TABLE ASSOCIEE A L'EVALUATION LUE\n",
    "evaluation_brute.createOrReplaceTempView(\"evaluation_brute\")\n",
    "\n",
    "//CREATION DU NOM DES COLONNES POUR LA TABLE EVALUATION\n",
    "val evaluation = spark.sql(\"select _c0 as expression, _c1 as poids from evaluation_brute\")\n",
    "\n",
    "//CREATION DE LA TABLE ASSOCIEE A L'EVALUATION FINALISEE\n",
    "evaluation.createOrReplaceTempView(\"evaluation\")\n",
    "\n",
    "//PRODUIT CARTESIEN DES TABLES COMMENTAIRE ET EVALUATION\n",
    "val produit_brut = commentaires.crossJoin(evaluation)\n",
    "\n",
    "//CREATION DE LA TABLE ASSOCIEE AU PRODUIT CARTESIEN BRUT \n",
    "produit_brut.createOrReplaceTempView(\"produit_brut\")\n",
    "\n",
    "//PRODUIT CARTESIEN RAFFINE\n",
    "val produit = spark.sql(\"select Id_comment, commentaire, poids from produit_brut where commentaire like expression\")\n",
    "\n",
    "//CREATION DE LA TABLE ASSOCIEE AU PRODUIT CARTESIEN RAFFINE \n",
    "produit.createOrReplaceTempView(\"produit\")\n",
    "\n",
    "//CALCUL DE L'EVALUATION POUR CHAQUE COMMENTAIRE\n",
    "val commentaires_evalues_bruts = spark.sql(\"select Id_comment, commentaire, sum(poids) as evaluation from produit group by Id_comment, commentaire\")\n",
    "\n",
    "//CREATION DE LA TABLE COMMENTAIRES EVALUES BRUT\n",
    "commentaires_evalues_bruts.createOrReplaceTempView(\"commentaires_evalues_bruts\")\n",
    "\n",
    "//EVALUATION DEFINITIVE DES COMMENTAIRES\n",
    "val commentaires_evalues = spark.sql(\"select Id_comment, commentaire, case when evaluation > 0 then 'positif' else case when evaluation < 0 then 'negatif' else 'neutre' end end as qualite from commentaires_evalues_bruts\")\n",
    "\n",
    "//CREATION DE LA TABLE COMMENTAIRES EVALUES\n",
    "commentaires_evalues.createOrReplaceTempView(\"commentaires_evalues\")\n"
   ]
  },
  {
   "cell_type": "code",
   "execution_count": 8,
   "metadata": {},
   "outputs": [
    {
     "name": "stdout",
     "output_type": "stream",
     "text": [
      "[Stage 23:====================================================> (193 + 4) / 200]"
     ]
    },
    {
     "data": {
      "text/plain": [
       "commentaires_positifs = [Id_comment: string, commentaire: string ... 1 more field]\n",
       "commentaires_positifs_nbre = 184973\n",
       "commentaires_negatifs = [Id_comment: string, commentaire: string ... 1 more field]\n",
       "commentaires_negatifs_nbre = 1728\n",
       "taille_echantillon = 1728\n",
       "taille_echantillon_positif = 8640\n",
       "echantillon_evalue = [Id_comment: string, commentaire: string ... 1 more field]\n"
      ]
     },
     "metadata": {},
     "output_type": "display_data"
    },
    {
     "data": {
      "text/plain": [
       "warning: there was one deprecation warning; re-run with -deprecation for details\n"
      ]
     },
     "metadata": {},
     "output_type": "display_data"
    },
    {
     "data": {
      "text/plain": [
       "[Id_comment: string, commentaire: string ... 1 more field]"
      ]
     },
     "execution_count": 8,
     "metadata": {},
     "output_type": "execute_result"
    }
   ],
   "source": [
    "//COMMENTAIRES POSITIFS\n",
    "//Lecture\n",
    "//var commentaires_positifs = spark.sql(\"select Id_comment, commentaire, qualite from commentaires_evalues where qualite = 'positif' and length(commentaire) <= \"+Q3S)\n",
    "var commentaires_positifs = spark.sql(\"select Id_comment, commentaire, qualite from commentaires_evalues where qualite = 'positif'\")\n",
    "//Comptage\n",
    "val commentaires_positifs_nbre = commentaires_positifs.count()\n",
    "\n",
    "//COMMENTAIRES NEGATIFS\n",
    "//Lecture\n",
    "//var commentaires_negatifs = spark.sql(\"select Id_comment, commentaire, qualite from commentaires_evalues where qualite = 'negatif' and length(commentaire) <= \"+Q3S)\n",
    "var commentaires_negatifs = spark.sql(\"select Id_comment, commentaire, qualite from commentaires_evalues where qualite = 'negatif'\")\n",
    "//Comptage\n",
    "val commentaires_negatifs_nbre = commentaires_negatifs.count()\n",
    "\n",
    "//DEFINITION DE LA TAILLE DE L'ECHANTILLON D'APPRENTISSAGE\n",
    "val taille_echantillon = Math.min(commentaires_negatifs_nbre, commentaires_positifs_nbre).toInt\n",
    "val taille_echantillon_positif = 5 * taille_echantillon\n",
    "//DEFINITION DE L'ECHANTILLON D'APPRENTISSAGE AVEC AUTANT DE COMMENTAIRES POSITIFS QUE NEGATIFS\n",
    "var echantillon_evalue = commentaires_positifs.limit(taille_echantillon_positif).unionAll(commentaires_negatifs.limit(taille_echantillon))\n",
    "echantillon_evalue.createOrReplaceTempView(\"echantillon_evalue\")\n",
    "\n",
    "echantillon_evalue.coalesce(1).write.format(\"com.databricks.spark.csv\").option(\"header\",\"true\").save(\"Data/echantillon_evalue\")\n"
   ]
  },
  {
   "cell_type": "code",
   "execution_count": 9,
   "metadata": {},
   "outputs": [
    {
     "name": "stdout",
     "output_type": "stream",
     "text": [
      "Nombre de commentaires positifs :184973\n",
      "Nombre de commentaires negatifs :1728\n",
      "Nombre de commentaires positifs  dans l'échantillon :8640\n",
      "Nombre de commentaires negatifs  dans l'échantillon :1728\n"
     ]
    }
   ],
   "source": [
    "println(s\"Nombre de commentaires positifs :$commentaires_positifs_nbre\")\n",
    "println(s\"Nombre de commentaires negatifs :$commentaires_negatifs_nbre\")\n",
    "println(s\"Nombre de commentaires positifs  dans l'échantillon :$taille_echantillon_positif\")\n",
    "println(s\"Nombre de commentaires negatifs  dans l'échantillon :$taille_echantillon\")\n"
   ]
  }
 ],
 "metadata": {
  "kernelspec": {
   "display_name": "Spark - Scala",
   "language": "scala",
   "name": "spark_scala"
  },
  "language_info": {
   "codemirror_mode": "text/x-scala",
   "file_extension": ".scala",
   "mimetype": "text/x-scala",
   "name": "scala",
   "pygments_lexer": "scala",
   "version": "2.11.8"
  }
 },
 "nbformat": 4,
 "nbformat_minor": 2
}
