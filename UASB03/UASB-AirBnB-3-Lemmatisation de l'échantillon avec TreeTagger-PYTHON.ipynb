{
 "cells": [
  {
   "cell_type": "markdown",
   "metadata": {},
   "source": [
    "# CNAM UASB03 - CERTIFICATION ANALYSE DE DONNEES MASSIVES\n",
    "## Projet d'analyse de sentiment sur les commentaires Airbnb en français\n",
    "\n",
    "***\n",
    "Notebook Python de lémmatisation du texte sur l'échantillon précedemment constitué.\n"
   ]
  },
  {
   "cell_type": "code",
   "execution_count": 1,
   "metadata": {},
   "outputs": [],
   "source": [
    "import treetaggerwrapper\n",
    "import pandas\n",
    "import json"
   ]
  },
  {
   "cell_type": "code",
   "execution_count": 2,
   "metadata": {},
   "outputs": [],
   "source": [
    "data = pandas.read_csv(\"Data/echantillon_evalue.csv\",delimiter=',', index_col=0, \n",
    "                        encoding='utf-8', usecols=[0, 1, 2])\n",
    "#data = pandas.read_csv(\"test_comment_10l.txt\",delimiter='#', header=None, index_col=0)\n",
    "data.columns = ['commentaire', 'qualite']\n",
    "data.index.names =['Id']\n",
    "#data['sentiment']=data['sentiment'].astype('category' ,ordered=True)\n",
    "#data[~data['sentiment'].isin(['positif','neutre', 'négatif'])]"
   ]
  },
  {
   "cell_type": "code",
   "execution_count": 3,
   "metadata": {},
   "outputs": [
    {
     "data": {
      "text/plain": [
       "commentaire    10368\n",
       "qualite        10368\n",
       "dtype: int64"
      ]
     },
     "execution_count": 3,
     "metadata": {},
     "output_type": "execute_result"
    }
   ],
   "source": [
    "data.count()"
   ]
  },
  {
   "cell_type": "code",
   "execution_count": 6,
   "metadata": {},
   "outputs": [],
   "source": [
    "data['commentaire'] = data['commentaire'].astype(str)\n",
    "data['qualite'] = data['qualite'].astype(str)\n",
    "\n",
    "data['commentaire'] = data['commentaire'].apply(lambda x: x.replace('.',' ').replace('@',' ').replace('+',' ').\n",
    "            replace(',',' ').replace(';',' ').replace('!',' ').replace('  ',' '))"
   ]
  },
  {
   "cell_type": "code",
   "execution_count": 7,
   "metadata": {},
   "outputs": [],
   "source": [
    "def comment_to_lemme(comment):\n",
    "    t=treetaggerwrapper.make_tags(tagger.tag_text(comment))\n",
    "    lemme=''\n",
    "    for i in t:\n",
    "        if type(i)==treetaggerwrapper.Tag:\n",
    "            if i.pos[:3] in ('ADJ', 'ADV', 'INT','KON','NOM','VER'): \n",
    "                if i.lemma !='dns-remplacé':\n",
    "                    if len(i.lemma)>1 :\n",
    "                        lemme =lemme+' '+i.lemma.split('|')[0].lower()\n",
    "    return lemme"
   ]
  },
  {
   "cell_type": "code",
   "execution_count": 8,
   "metadata": {},
   "outputs": [],
   "source": [
    "tagger = treetaggerwrapper.TreeTagger(TAGLANG='fr')\n",
    "\n",
    "#tag_comment =tagger.tag_text\n",
    "\n",
    "data['comment_lemm'] = data['commentaire'].apply(comment_to_lemme)\n",
    "#data.to_csv(\"comment_tag_Bernard.csv\",sep='#')\n",
    "data['commentaire'] = data['comment_lemm']\n",
    "data=data.drop(['comment_lemm'],axis=1)\n",
    "data[data['commentaire'].str.len()>0].to_csv(\"Data/echantillon_lemmatise.csv\")\n"
   ]
  },
  {
   "cell_type": "markdown",
   "metadata": {},
   "source": [
    "## Signification des codes de la lemmatisation Treetager\n",
    "ABR\tabreviation\n",
    "ADJ\tadjective\n",
    "ADV\tadverb\n",
    "DET:ART\tarticle\n",
    "DET:POS\tpossessive pronoun (ma, ta, ...)\n",
    "INT\tinterjection\n",
    "KON\tconjunction\n",
    "NAM\tproper name\n",
    "NOM\tnoun\n",
    "NUM\tnumeral\n",
    "PRO\tpronoun\n",
    "PRO:DEM\tdemonstrative pronoun\n",
    "PRO:IND\tindefinite pronoun\n",
    "PRO:PER\tpersonal pronoun\n",
    "PRO:POS\tpossessive pronoun (mien, tien, ...)\n",
    "PRO:REL\trelative pronoun\n",
    "PRP\tpreposition\n",
    "PRP:det\tpreposition plus article (au,du,aux,des)\n",
    "PUN\tpunctuation\n",
    "PUN:cit\tpunctuation citation\n",
    "SENT\tsentence tag\n",
    "SYM\tsymbol\n",
    "VER:cond\tverb conditional\n",
    "VER:futu\tverb futur\n",
    "VER:impe\tverb imperative\n",
    "VER:impf\tverb imperfect\n",
    "VER:infi\tverb infinitive\n",
    "VER:pper\tverb past participle\n",
    "VER:ppre\tverb present participle\n",
    "VER:pres\tverb present\n",
    "VER:simp\tverb simple past\n",
    "VER:subi\tverb subjunctive imperfect\n",
    "VER:subp\tverb subjunctive present"
   ]
  }
 ],
 "metadata": {
  "kernelspec": {
   "display_name": "Python 3",
   "language": "python",
   "name": "python3"
  },
  "language_info": {
   "codemirror_mode": {
    "name": "ipython",
    "version": 3
   },
   "file_extension": ".py",
   "mimetype": "text/x-python",
   "name": "python",
   "nbconvert_exporter": "python",
   "pygments_lexer": "ipython3",
   "version": "3.6.5"
  }
 },
 "nbformat": 4,
 "nbformat_minor": 2
}
