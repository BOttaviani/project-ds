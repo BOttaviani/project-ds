{
 "cells": [
  {
   "cell_type": "code",
   "execution_count": 43,
   "metadata": {},
   "outputs": [],
   "source": [
    "from smart_open import smart_open\n",
    "import json\n",
    "import pandas\n",
    "from gensim.parsing.preprocessing import preprocess_string,strip_tags, strip_punctuation, strip_numeric, strip_short\n",
    "from gensim.parsing.preprocessing import remove_stopwords, STOPWORDS\n",
    "from nltk.corpus import stopwords\n",
    "import re\n",
    "\n",
    "\n",
    "mystopword = pandas.read_csv('AirBnBStopwords-fr.txt',header=None)\n",
    "mystopwordlist=mystopword[0].tolist()\n",
    "#CUSTOM_FILTERS = [lambda x: x.lower(),lambda x: [item for item in x if item not in mystopwordlist], strip_tags, strip_punctuation, strip_numeric,strip_short]\n",
    "CUSTOM_FILTERS = [lambda x: x.lower(), strip_tags, strip_punctuation, strip_numeric,strip_short]\n",
    "mystopwordlist.extend((\"fichier\",\"jpeg\",\"jpg\",\"thumb\",\"catégorie\"))\n",
    "\n",
    "regexes = [\n",
    "    \"Catégorie:.*\",\n",
    "    \"Fichier:.*\",\n",
    "    \"références.*\",\n",
    "    \"externe.*\"\n",
    "    ]\n",
    "\n",
    "# Make a regex that matches if any of our regexes match.\n",
    "combined = \"(\" + \")|(\".join(regexes) + \")\"\n",
    "\n"
   ]
  },
  {
   "cell_type": "code",
   "execution_count": 44,
   "metadata": {},
   "outputs": [
    {
     "ename": "KeyboardInterrupt",
     "evalue": "",
     "output_type": "error",
     "traceback": [
      "\u001b[0;31m---------------------------------------------------------------------------\u001b[0m",
      "\u001b[0;31mKeyboardInterrupt\u001b[0m                         Traceback (most recent call last)",
      "\u001b[0;32m<ipython-input-44-8a856aa81603>\u001b[0m in \u001b[0;36m<module>\u001b[0;34m()\u001b[0m\n\u001b[1;32m     13\u001b[0m         \u001b[0;32mif\u001b[0m \u001b[0;34m(\u001b[0m\u001b[0mlen\u001b[0m\u001b[0;34m(\u001b[0m\u001b[0mmyText\u001b[0m\u001b[0;34m)\u001b[0m\u001b[0;34m>\u001b[0m\u001b[0;36m0\u001b[0m \u001b[0;32mand\u001b[0m  \u001b[0;32mnot\u001b[0m\u001b[0;34m(\u001b[0m\u001b[0mre\u001b[0m\u001b[0;34m.\u001b[0m\u001b[0mmatch\u001b[0m\u001b[0;34m(\u001b[0m\u001b[0mcombined\u001b[0m\u001b[0;34m,\u001b[0m \u001b[0msection_text\u001b[0m\u001b[0;34m[\u001b[0m\u001b[0;36m0\u001b[0m\u001b[0;34m]\u001b[0m\u001b[0;34m)\u001b[0m\u001b[0;34m)\u001b[0m\u001b[0;34m)\u001b[0m \u001b[0;34m:\u001b[0m\u001b[0;34m\u001b[0m\u001b[0m\n\u001b[1;32m     14\u001b[0m            \u001b[0;32mwith\u001b[0m \u001b[0mopen\u001b[0m\u001b[0;34m(\u001b[0m\u001b[0;34m'frwiki_formate2.txt'\u001b[0m\u001b[0;34m,\u001b[0m \u001b[0;34m'a'\u001b[0m\u001b[0;34m)\u001b[0m \u001b[0;32mas\u001b[0m \u001b[0mthe_file\u001b[0m\u001b[0;34m:\u001b[0m\u001b[0;34m\u001b[0m\u001b[0m\n\u001b[0;32m---> 15\u001b[0;31m                 \u001b[0mthe_file\u001b[0m\u001b[0;34m.\u001b[0m\u001b[0mwrite\u001b[0m\u001b[0;34m(\u001b[0m\u001b[0;34m' '\u001b[0m\u001b[0;34m.\u001b[0m\u001b[0mjoin\u001b[0m\u001b[0;34m(\u001b[0m\u001b[0mmyText\u001b[0m\u001b[0;34m)\u001b[0m\u001b[0;34m+\u001b[0m\u001b[0;34m'\\n'\u001b[0m\u001b[0;34m)\u001b[0m\u001b[0;34m\u001b[0m\u001b[0m\n\u001b[0m",
      "\u001b[0;31mKeyboardInterrupt\u001b[0m: "
     ]
    }
   ],
   "source": [
    "\n",
    "# iterate over the plain text data we just created\n",
    "for line in smart_open('frwiki-latest.json.gz', ):\n",
    "    # decode each JSON line into a Python dictionary object\n",
    "    article = json.loads(line)\n",
    "\n",
    "    # each article has a \"title\", a mapping of interlinks and a list of \"section_titles\" and \"section_texts\".\n",
    "#    print(\"Article title: %s\" % article['title'])\n",
    "#    print(\"Interlinks: %s\" + article['interlinks'])\n",
    "    for section_text in zip(article['section_texts']):\n",
    "        myText= preprocess_string(' '.join(section_text), CUSTOM_FILTERS)\n",
    "        # mylist = preprocess_string(section_text, CUSTOM_FILTERS)\n",
    "        if (len(myText)>0 and  not(re.match(combined, section_text[0]))) :\n",
    "           with open('frwiki_formate2.txt', 'a') as the_file:\n",
    "                the_file.write(' '.join(myText)+'\\n')"
   ]
  },
  {
   "cell_type": "code",
   "execution_count": 45,
   "metadata": {},
   "outputs": [
    {
     "data": {
      "text/plain": [
       "\"\\n* Du 7 novembre 2009 au 8 février 2010 : Autour de ''La Tauromachie'' de Goya.\\n* Du 2 juin au 6 septembre 2010 : ''Regard sur… Henner Dessinateur''.\\n* Du  février au 2 juillet 2012 : ''De l'impression au rêve. Paysages de Henner''\\n* Du 16 novembre 2012 au 16 septembre 2013  : ''Sensualité et spiritualité. À la recherche de l'absolu.''\\n\""
      ]
     },
     "execution_count": 45,
     "metadata": {},
     "output_type": "execute_result"
    }
   ],
   "source": [
    "section_text[0]"
   ]
  }
 ],
 "metadata": {
  "kernelspec": {
   "display_name": "Python 3",
   "language": "python",
   "name": "python3"
  },
  "language_info": {
   "codemirror_mode": {
    "name": "ipython",
    "version": 3
   },
   "file_extension": ".py",
   "mimetype": "text/x-python",
   "name": "python",
   "nbconvert_exporter": "python",
   "pygments_lexer": "ipython3",
   "version": "3.6.5"
  }
 },
 "nbformat": 4,
 "nbformat_minor": 2
}
