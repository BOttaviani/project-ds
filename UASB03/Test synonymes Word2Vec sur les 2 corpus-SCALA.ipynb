{
 "cells": [
  {
   "cell_type": "code",
   "execution_count": 1,
   "metadata": {},
   "outputs": [
    {
     "name": "stdout",
     "output_type": "stream",
     "text": [
      "[Stage 2:============================================>              (3 + 1) / 4]"
     ]
    },
    {
     "data": {
      "text/plain": [
       "word2vec_complet = org.apache.spark.mllib.feature.Word2VecModel@6c55c45a\n",
       "word2vec_commmentaires = org.apache.spark.mllib.feature.Word2VecModel@12012e37\n"
      ]
     },
     "metadata": {},
     "output_type": "display_data"
    },
    {
     "data": {
      "text/plain": [
       "org.apache.spark.mllib.feature.Word2VecModel@12012e37"
      ]
     },
     "execution_count": 1,
     "metadata": {},
     "output_type": "execute_result"
    }
   ],
   "source": [
    "//RECHERCHE DE SYNONYMES \n",
    "import org.apache.spark.mllib.feature.{Word2Vec, Word2VecModel} \n",
    " \n",
    "val word2vec_complet =  Word2VecModel.load(sc,\"modele/Word2VecFR_complet\")\n",
    "val word2vec_commmentaires =  Word2VecModel.load(sc,\"modele/Word2VecFR_comment\")\n",
    "\n"
   ]
  },
  {
   "cell_type": "code",
   "execution_count": 8,
   "metadata": {},
   "outputs": [
    {
     "data": {
      "text/plain": [
       "synonym: (mot: String)Int\n"
      ]
     },
     "metadata": {},
     "output_type": "display_data"
    }
   ],
   "source": [
    "def synonym (mot : String ) : Int = {\n",
    "val synonyms_1 = word2vec_complet.findSynonyms(mot, 3) \n",
    "val synonyms_2 = word2vec_commmentaires.findSynonyms(mot, 3) \n",
    "\n",
    "for((synonyms_1, cosineSimilarity) <- synonyms_1) {\n",
    "  println(f\"1;$mot;$synonyms_1;$cosineSimilarity%1.2f;\")\n",
    "}\n",
    "for((synonyms_2, cosineSimilarity) <- synonyms_2) {\n",
    "  println(f\"2;$mot;$synonyms_2;$cosineSimilarity%1.2f;\")\n",
    "}\n",
    "\n",
    " return 0\n",
    "}"
   ]
  },
  {
   "cell_type": "code",
   "execution_count": 9,
   "metadata": {},
   "outputs": [
    {
     "name": "stdout",
     "output_type": "stream",
     "text": [
      "Corpus;Mot;Synonymes\n",
      "1;agréable;attrayante;0,75;\n",
      "1;agréable;délicat;0,74;\n",
      "1;agréable;calme;0,72;\n",
      "2;agréable;chouette;0,64;\n",
      "2;agréable;beau;0,63;\n",
      "2;agréable;plaisant;0,62;\n",
      "1;propriétaire;copropriétaire;0,72;\n",
      "1;propriétaire;revend;0,72;\n",
      "1;propriétaire;achète;0,71;\n",
      "2;propriétaire;proprio;0,72;\n",
      "2;propriétaire;l'hôte;0,63;\n",
      "2;propriétaire;loueur;0,61;\n",
      "1;saleté;puanteur;0,74;\n",
      "1;saleté;hylophobie;0,69;\n",
      "1;saleté;cynophobie;0,69;\n",
      "2;saleté;vitre;0,84;\n",
      "2;saleté;moisissures;0,83;\n",
      "2;saleté;fixées;0,82;\n",
      "1;magnifique;splendide;0,76;\n",
      "1;magnifique;somptueuse;0,67;\n",
      "1;magnifique;anarkali;0,66;\n",
      "2;magnifique;superbe;0,85;\n",
      "2;magnifique;sublime;0,85;\n",
      "2;magnifique;splendide;0,83;\n",
      "1;bruyant;sociable;0,71;\n",
      "1;bruyant;incroyablement;0,71;\n",
      "1;bruyant;craintif;0,71;\n",
      "2;bruyant;bruyante;0,82;\n",
      "2;bruyant;excentré;0,78;\n",
      "2;bruyant;brouillant;0,77;\n",
      "1;odeur;saveur;0,83;\n",
      "1;odeur;âcre;0,79;\n",
      "1;odeur;farineuse;0,77;\n",
      "2;odeur;persistante;0,76;\n",
      "2;odeur;cigarette;0,73;\n",
      "2;odeur;forte;0,72;\n",
      "1;cassé;fracturé;0,77;\n",
      "1;cassé;roulé;0,75;\n",
      "1;cassé;cassée;0,75;\n",
      "2;cassé;taché;0,83;\n",
      "2;cassé;cassée;0,83;\n",
      "2;cassé;inutilisable;0,82;\n",
      "1;sombre;éclaircissant;0,80;\n",
      "1;sombre;pâle;0,77;\n",
      "1;sombre;terne;0,77;\n",
      "2;sombre;vieillot;0,83;\n",
      "2;sombre;défraîchi;0,79;\n",
      "2;sombre;humide;0,78;\n"
     ]
    },
    {
     "data": {
      "text/plain": [
       "0"
      ]
     },
     "execution_count": 9,
     "metadata": {},
     "output_type": "execute_result"
    }
   ],
   "source": [
    "println(\"Corpus;Mot;Synonymes\")\n",
    "synonym(\"agréable\")\n",
    "synonym(\"propriétaire\")\n",
    "synonym(\"saleté\")\n",
    "synonym(\"magnifique\")\n",
    "synonym(\"bruyant\")\n",
    "synonym(\"odeur\")\n",
    "synonym(\"cassé\")\n",
    "synonym(\"sombre\")"
   ]
  },
  {
   "cell_type": "code",
   "execution_count": 69,
   "metadata": {},
   "outputs": [
    {
     "name": "stdout",
     "output_type": "stream",
     "text": [
      "Corpus 1;sombre;éclaircissant;0,80;pâle;0,77;terne;0,77;\n",
      "Corpus 2;sombre;vieillot;0,83;défraîchi;0,79;humide;0,78;\n"
     ]
    },
    {
     "data": {
      "text/plain": [
       "0"
      ]
     },
     "execution_count": 69,
     "metadata": {},
     "output_type": "execute_result"
    }
   ],
   "source": [
    "synonym(\"sombre\")"
   ]
  }
 ],
 "metadata": {
  "kernelspec": {
   "display_name": "Spark - Scala",
   "language": "scala",
   "name": "spark_scala"
  },
  "language_info": {
   "codemirror_mode": "text/x-scala",
   "file_extension": ".scala",
   "mimetype": "text/x-scala",
   "name": "scala",
   "pygments_lexer": "scala",
   "version": "2.11.8"
  }
 },
 "nbformat": 4,
 "nbformat_minor": 2
}
