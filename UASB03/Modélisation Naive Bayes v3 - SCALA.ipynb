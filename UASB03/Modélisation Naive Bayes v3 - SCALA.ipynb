{
 "cells": [
  {
   "cell_type": "code",
   "execution_count": 1,
   "metadata": {},
   "outputs": [],
   "source": [
    "//Chargement des librairies\n",
    "import org.apache.spark.sql.SparkSession\n",
    "import org.apache.spark._\n",
    "import org.apache.spark.rdd._\n",
    "import org.apache.spark.SparkContext._\n",
    "import org.apache.spark.mllib.feature.HashingTF\n",
    "import org.apache.spark.{SparkConf, SparkContext}\n",
    "import org.apache.spark.mllib.classification.{NaiveBayes, NaiveBayesModel}\n",
    "import org.apache.spark.mllib.regression.LabeledPoint\n",
    "import org.apache.spark.mllib.util.MLUtils\n",
    "import org.apache.spark.mllib.evaluation.MulticlassMetrics\n",
    "\n",
    "import scala.util.{Success, Try}\n",
    "import org.apache.spark.sql.functions._\n",
    "import org.apache.spark.ml.feature.StopWordsRemover\n",
    "import org.apache.spark.sql.functions\n"
   ]
  },
  {
   "cell_type": "code",
   "execution_count": null,
   "metadata": {},
   "outputs": [],
   "source": [
    "\n",
    "//LECTURE DU FICHIER D'ENTREE DES COMMENTAIRES AVEC DELIMITEUR #\n",
    "val commentaires_bruts = spark.read.option(\"delimiter\", \"#\")\n",
    "                                    .option(\"multiline\",true)\n",
    "                                    .csv(\"Data/commentaires_evalues_V2.txt\")\n",
    "\n",
    "val stopwords = spark.sparkContext.textFile(\"French_stop_words.txt\").collect()\n",
    "val remover = new StopWordsRemover()\n",
    "      .setStopWords(stopwords)\n",
    "      .setInputCol(\"_c1\")\n",
    "      .setOutputCol(\"removed\")\n",
    "\n",
    "val toArray = udf[Array[String], String]( _.split(\"[ '-.,;:?!\\\\(\\\\)]\"))\n",
    "val commentaires_toarray = commentaires_bruts.withColumn(\"_c1\", toArray(lower(commentaires_bruts(\"_c1\"))))\n",
    "val commentaires_withoutSW = remover.transform(commentaires_toarray)  \n",
    "\n",
    "//CREATION DE LA TABLE ASSOCIEE AUX COMMENTAIRES LUS\n",
    "commentaires_withoutSW.createOrReplaceTempView(\"commentaires_withoutSW\")\n",
    "\n",
    "//CREATION DU NOM DES COLONNES POUR LA TABLE COMMENTAIRES\n",
    "val commentaires = spark.sql(\"select _c0 as Id_comment, concat_ws(' ',_c1) as commentaire,concat_ws(' ',removed) as commentaire_SW, _c2 as qualite from commentaires_withoutSW\")\n",
    "\n",
    "//CREATION DE LA TABLE ASSOCIEE AUX COMMENTAIRES FINALISES\n",
    "commentaires.createOrReplaceTempView(\"commentaires\")\n"
   ]
  },
  {
   "cell_type": "code",
   "execution_count": 3,
   "metadata": {},
   "outputs": [
    {
     "data": {
      "text/html": [
       "<table>\n",
       "<tr><td>1</td><td>hôte extrêmement attentif et très attaché à remettre en ordre les petits soucis  mineurs  qui ont pu apparaître studio sympa et très bien placéa recommander</td><td>hôte extrêmement attentif très attaché remettre ordre petits soucis mineurs apparaître studio sympa très bien placéa recommander</td><td>positif</td></tr>\n",
       "<tr><td>2</td><td>aucun problème durant le séjour  vincent fût toujours à l heure ainsi que disponible pour répondre à mes questions le logement était parfaitement fonctionnel et très cozy situé dans le 6e  ce qui ajoute bien sûr un cadre agréable a recommander</td><td>problème durant séjour vincent fût toujours heure ainsi disponible répondre questions logement parfaitement fonctionnel très cozy situé 6e ajoute bien sûr cadre agréable recommander</td><td>positif</td></tr>\n",
       "<tr><td>3</td><td>un accueil chaleureux de kathy dans cet appartement agréable et très bien placé dans paris et une organisation très professionnelle et attentive de la part de cobblestone  une adresse à recommander</td><td>accueil chaleureux kathy cet appartement agréable très bien placé paris organisation très professionnelle attentive part cobblestone adresse recommander</td><td>positif</td></tr>\n",
       "<tr><td>4</td><td>j ai été accueilli en debut d après midi au studio par la sympathique katia qui m a fourni tous les renseignements nécessaires à mon court sejour  je l ai par ailleurs revue une fois où elle est venue m apporter les billets pour la croisière sur la seine  que je ne parvenais pas à imprimer  le studio est totalement conforme aux photos et à la description qui en est faite  situé au 3èm étage  avec ascenseur  d une résidence sécurisée donnant sur une petite place  il est dans un quartier très vivant et agréable  à deux pas du marais  où tout semble à portée de main   de la boulangerie mitoyenne aux bars et restaurants voisins en passant par la pharmacie d en face   3 stations de métro très proches règlent facilement  la question du déplacement  petit mais fonctionnel  très lumineux et bien décoré  on y revient volontiers après les excursions de la journée  le seul petit bémol sera pour les voisins de l immeuble d en face  qui auraient dû en mettre plusieurs à la clef lors d une fête assez bruyante     malgré ce  qui peut arriver partout ailleurs dans une grande ville  je le recommande vivement et serais prêt à y revenir volontiers</td><td>ai accueilli debut d après midi studio sympathique katia fourni renseignements nécessaires court sejour ai ailleurs revue fois venue apporter billets croisière seine ne parvenais pas imprimer studio totalement conforme photos description faite situé 3èm étage ascenseur d résidence sécurisée donnant petite place quartier très vivant agréable deux pas marais semble portée main boulangerie mitoyenne bars restaurants voisins passant pharmacie d face 3 stations métro très proches règlent facilement question déplacement petit fonctionnel très lumineux bien décoré revient volontiers après excursions journée seul petit bémol voisins immeuble d face auraient dû mettre plusieurs clef lors d fête assez bruyante malgré arriver partout ailleurs grande ville recommande vivement serais prêt revenir volontiers</td><td>positif</td></tr>\n",
       "<tr><td>5</td><td>merci à l’hôte pour sa ponctualité à nous accueillir et les très bonnes indications pour s y rendre  la localisation est vraiment excellente  très centrale  endroit très tranquille  attention  il faut bien considérer que la photo du studio est prise avec un grand angle  les dimensions réelles sont surprenantes  l appart est plutôt sombre  les fenêtres donnant sur cour intérieure exiguë  rapport qualité/prix intéressant</td><td>merci l’hôte ponctualité accueillir très bonnes indications s rendre localisation vraiment excellente très centrale endroit très tranquille attention faut bien considérer photo studio prise grand angle dimensions réelles sont surprenantes appart plutôt sombre fenêtres donnant cour intérieure exiguë rapport qualité/prix intéressant</td><td>positif</td></tr>\n",
       "</table>"
      ],
      "text/plain": [
       "+-----+--------------------------------------------------------------------------------------------------------------------------------------------------------------------------------------------------------------------------------------------------------------------------------------------------------------------------------------------------------------------------------------------------------------------------------------------------------------------------------------------------------------------------------------------------------------------------------------------------------------------------------------------------------------------------------------------------------------------------------------------------------------------------------------------------------------------------------------------------------------------------------------------------------------------------------------------------------------------------------------------------------------------------------------------------------------------------------------------------------------------------------------------------------------------------------------------+---------------------------------------------------------------------------------------------------------------------------------------------------------------------------------------------------------------------------------------------------------------------------------------------------------------------------------------------------------------------------------------------------------------------------------------------------------------------------------------------------------------------------------------------------------------------------------------------------------------------------------------------------------------------------------------------------------------------------------------------------------------------------------------------------------------------------------------+---------+\n",
       "| 1   | hôte extrêmement attentif et très attaché à remettre en ordre les petits soucis  mineurs  qui ont pu apparaître studio sympa et très bien placéa recommander                                                                                                                                                                                                                                                                                                                                                                                                                                                                                                                                                                                                                                                                                                                                                                                                                                                                                                                                                                                                                               | hôte extrêmement attentif très attaché remettre ordre petits soucis mineurs apparaître studio sympa très bien placéa recommander                                                                                                                                                                                                                                                                                                                                                                                                                                                                                                                                                                                                                                                                                                      | positif |\n",
       "| 2   | aucun problème durant le séjour  vincent fût toujours à l heure ainsi que disponible pour répondre à mes questions le logement était parfaitement fonctionnel et très cozy situé dans le 6e  ce qui ajoute bien sûr un cadre agréable a recommander                                                                                                                                                                                                                                                                                                                                                                                                                                                                                                                                                                                                                                                                                                                                                                                                                                                                                                                                        | problème durant séjour vincent fût toujours heure ainsi disponible répondre questions logement parfaitement fonctionnel très cozy situé 6e ajoute bien sûr cadre agréable recommander                                                                                                                                                                                                                                                                                                                                                                                                                                                                                                                                                                                                                                                 | positif |\n",
       "| 3   | un accueil chaleureux de kathy dans cet appartement agréable et très bien placé dans paris et une organisation très professionnelle et attentive de la part de cobblestone  une adresse à recommander                                                                                                                                                                                                                                                                                                                                                                                                                                                                                                                                                                                                                                                                                                                                                                                                                                                                                                                                                                                      | accueil chaleureux kathy cet appartement agréable très bien placé paris organisation très professionnelle attentive part cobblestone adresse recommander                                                                                                                                                                                                                                                                                                                                                                                                                                                                                                                                                                                                                                                                              | positif |\n",
       "| 4   | j ai été accueilli en debut d après midi au studio par la sympathique katia qui m a fourni tous les renseignements nécessaires à mon court sejour  je l ai par ailleurs revue une fois où elle est venue m apporter les billets pour la croisière sur la seine  que je ne parvenais pas à imprimer  le studio est totalement conforme aux photos et à la description qui en est faite  situé au 3èm étage  avec ascenseur  d une résidence sécurisée donnant sur une petite place  il est dans un quartier très vivant et agréable  à deux pas du marais  où tout semble à portée de main   de la boulangerie mitoyenne aux bars et restaurants voisins en passant par la pharmacie d en face   3 stations de métro très proches règlent facilement  la question du déplacement  petit mais fonctionnel  très lumineux et bien décoré  on y revient volontiers après les excursions de la journée  le seul petit bémol sera pour les voisins de l immeuble d en face  qui auraient dû en mettre plusieurs à la clef lors d une fête assez bruyante     malgré ce  qui peut arriver partout ailleurs dans une grande ville  je le recommande vivement et serais prêt à y revenir volontiers | ai accueilli debut d après midi studio sympathique katia fourni renseignements nécessaires court sejour ai ailleurs revue fois venue apporter billets croisière seine ne parvenais pas imprimer studio totalement conforme photos description faite situé 3èm étage ascenseur d résidence sécurisée donnant petite place quartier très vivant agréable deux pas marais semble portée main boulangerie mitoyenne bars restaurants voisins passant pharmacie d face 3 stations métro très proches règlent facilement question déplacement petit fonctionnel très lumineux bien décoré revient volontiers après excursions journée seul petit bémol voisins immeuble d face auraient dû mettre plusieurs clef lors d fête assez bruyante malgré arriver partout ailleurs grande ville recommande vivement serais prêt revenir volontiers | positif |\n",
       "| 5   | merci à l’hôte pour sa ponctualité à nous accueillir et les très bonnes indications pour s y rendre  la localisation est vraiment excellente  très centrale  endroit très tranquille  attention  il faut bien considérer que la photo du studio est prise avec un grand angle  les dimensions réelles sont surprenantes  l appart est plutôt sombre  les fenêtres donnant sur cour intérieure exiguë  rapport qualité/prix intéressant                                                                                                                                                                                                                                                                                                                                                                                                                                                                                                                                                                                                                                                                                                                                                     | merci l’hôte ponctualité accueillir très bonnes indications s rendre localisation vraiment excellente très centrale endroit très tranquille attention faut bien considérer photo studio prise grand angle dimensions réelles sont surprenantes appart plutôt sombre fenêtres donnant cour intérieure exiguë rapport qualité/prix intéressant                                                                                                                                                                                                                                                                                                                                                                                                                                                                                          | positif |\n",
       "+-----+--------------------------------------------------------------------------------------------------------------------------------------------------------------------------------------------------------------------------------------------------------------------------------------------------------------------------------------------------------------------------------------------------------------------------------------------------------------------------------------------------------------------------------------------------------------------------------------------------------------------------------------------------------------------------------------------------------------------------------------------------------------------------------------------------------------------------------------------------------------------------------------------------------------------------------------------------------------------------------------------------------------------------------------------------------------------------------------------------------------------------------------------------------------------------------------------+---------------------------------------------------------------------------------------------------------------------------------------------------------------------------------------------------------------------------------------------------------------------------------------------------------------------------------------------------------------------------------------------------------------------------------------------------------------------------------------------------------------------------------------------------------------------------------------------------------------------------------------------------------------------------------------------------------------------------------------------------------------------------------------------------------------------------------------+---------+"
      ]
     },
     "execution_count": 3,
     "metadata": {},
     "output_type": "execute_result"
    }
   ],
   "source": [
    "commentaires.take(5)"
   ]
  },
  {
   "cell_type": "code",
   "execution_count": null,
   "metadata": {},
   "outputs": [],
   "source": [
    "val commentaires_negatifs = spark.sql(\"select * from commentaires where qualite like '%négatif%'\") \n",
    "val commentaires_positifs = spark.sql(\"select * from commentaires where qualite like '%positif%'\")\n",
    "val commentaires_positifs_nbre = commentaires_positifs.count()\n",
    "val commentaires_negatifs_nbre = commentaires_negatifs.count()\n",
    "\n",
    "\n",
    "//DEFINITION DE LA TAILLE DE L'ECHANTILLON D'APPRENTISSAGE\n",
    "val taille_echantillon = Math.min(commentaires_negatifs_nbre, commentaires_positifs_nbre).toInt\n",
    "//DEFINITION DE L'ECHANTILLON D'APPRENTISSAGE AVEC AUTANT DE COMMENTAIRES POSITIFS QUE NEGATIFS\n",
    "var echantillon = commentaires_positifs.limit(taille_echantillon).unionAll(commentaires_negatifs.limit(taille_echantillon))\n",
    "echantillon.createOrReplaceTempView(\"echantillon\")\n",
    "val echantillon_msg = spark.sql(\"select concat( qualite, ' ', commentaire_SW) as msg from echantillon\")\n",
    "val echantillonRDD = echantillon_msg.rdd\n",
    "val hashingTF = new HashingTF(20000)\n"
   ]
  },
  {
   "cell_type": "code",
   "execution_count": 5,
   "metadata": {},
   "outputs": [
    {
     "name": "stdout",
     "output_type": "stream",
     "text": [
      "Commentaires                  = 205368\n",
      "   dont commentaires négatifs = 1322\n",
      "   dont commentaires positifs = 187489\n",
      "Taille echantillon = 2644                                                       \n"
     ]
    }
   ],
   "source": [
    "println(\"Commentaires                  = \"+commentaires.count())\n",
    "println(\"   dont commentaires négatifs = \"+commentaires_negatifs.count())\n",
    "println(\"   dont commentaires positifs = \"+commentaires_positifs.count())\n",
    "println(\"Taille echantillon = \"+echantillonRDD.count())\n"
   ]
  },
  {
   "cell_type": "code",
   "execution_count": null,
   "metadata": {},
   "outputs": [],
   "source": [
    "val echantillon_reformat = echantillonRDD.map(\n",
    "  row =>{\n",
    "    Try{\n",
    "      val msg = row.toString.toLowerCase()\n",
    "      var isHappy:Int = 0\n",
    "      if(msg.contains(\"positif \")){\n",
    "        isHappy = 1\n",
    "      }else if(msg.contains(\"negatif \")){\n",
    "        isHappy = 0\n",
    "      }\n",
    "      var msgSanitized = msg.replaceAll(\"positif \", \"\")\n",
    "      msgSanitized = msgSanitized.replaceAll(\"negatif \",\"\")\n",
    "      //Return a tuple\n",
    "      (isHappy, msgSanitized.split(\" \").toSeq)\n",
    "    }\n",
    "  }\n",
    ")\n",
    "\n",
    "var echantillon_ok = echantillon_reformat.filter((_.isSuccess)).map(_.get)\n",
    "val echantillon_transfo = echantillon_ok.map(\n",
    "  t => (t._1, hashingTF.transform(t._2)))\n",
    "  .map(x => new LabeledPoint((x._1).toDouble, x._2))\n",
    "\n",
    "var sample = echantillon_ok.take(1000).map(\n",
    "  t => (t._1, hashingTF.transform(t._2), t._2))\n",
    "  .map(x => (new LabeledPoint((x._1).toDouble, x._2), x._3))\n",
    "\n",
    "val splits = echantillon_transfo.randomSplit(Array(0.7, 0.3))\n",
    "val (trainingData, validationData) = (splits(0), splits(1))\n",
    "\n"
   ]
  },
  {
   "cell_type": "code",
   "execution_count": 7,
   "metadata": {},
   "outputs": [
    {
     "name": "stdout",
     "output_type": "stream",
     "text": [
      "\r",
      "[Stage 24:>                                                         (0 + 2) / 2]"
     ]
    },
    {
     "data": {
      "text/plain": [
       "model = org.apache.spark.mllib.classification.NaiveBayesModel@66793a2a\n"
      ]
     },
     "metadata": {},
     "output_type": "display_data"
    },
    {
     "data": {
      "text/plain": [
       "org.apache.spark.mllib.classification.NaiveBayesModel@66793a2a"
      ]
     },
     "execution_count": 7,
     "metadata": {},
     "output_type": "execute_result"
    }
   ],
   "source": [
    "//CONSTRUCTION DU MODELE A PARTIR DU JEU D'APPRENTISSAGE\n",
    "\n",
    "val model = NaiveBayes.train(trainingData, lambda = 1.0, modelType = \"multinomial\")\n",
    "// Sauvegarde du modèle\n",
    "model.save(sc, \"modele/NaiveBayes\")\n",
    "// Prédiction sur le jeu de validation\n",
    "val predictionAndLabels = validationData.map { case LabeledPoint(label, features) =>\n",
    "  val prediction = model.predict(features)\n",
    "  (prediction, label)\n",
    "}"
   ]
  },
  {
   "cell_type": "code",
   "execution_count": null,
   "metadata": {},
   "outputs": [],
   "source": [
    "import org.apache.spark.mllib.evaluation.MulticlassMetrics\n",
    " \n",
    "val metrics = new MulticlassMetrics(predictionAndLabels)\n",
    "val cfm = metrics.confusionMatrix\n",
    " \n",
    "val tn = cfm(0, 0)\n",
    "val fp = cfm(0, 1)\n",
    "val fn = cfm(1, 0)\n",
    "val tp = cfm(1, 1)\n",
    "\n",
    "\n",
    "// Confusion matrix\n",
    "val confusion = metrics.confusionMatrix\n",
    "val fprINSAT = 100 * (metrics.falsePositiveRate(0) - metrics.falsePositiveRate(0) % 0.0001) \n",
    "val fprSAT = 100 * (metrics.falsePositiveRate(1) - metrics.falsePositiveRate(1) % 0.0001) \n",
    "\n",
    "import org.apache.spark.mllib.evaluation.BinaryClassificationMetrics\n",
    "\n",
    "val metrics2 = new BinaryClassificationMetrics(predictionAndLabels)\n",
    "\n",
    "// AUPRC\n",
    "val auPRC = 100 * (metrics2.areaUnderPR() - metrics2.areaUnderPR() % 0.0001) \n",
    "\n",
    "// AUROC\n",
    "val auROC = 100 * (metrics2.areaUnderROC() - metrics2.areaUnderROC() % 0.0001) \n"
   ]
  },
  {
   "cell_type": "code",
   "execution_count": 13,
   "metadata": {},
   "outputs": [
    {
     "name": "stdout",
     "output_type": "stream",
     "text": [
      "Modèle NAIVE BAYES\n",
      "=================== Confusion matrix ==========================\n",
      "_____________| Actual = 0                          Actual = 1     \n",
      "-------------+-------------------------------------------------\n",
      "Predicted = 0| 384,000000                          6,000000       \n",
      "Predicted = 1| 39,000000                           393,000000     \n",
      "===============================================================\n",
      "         \n",
      "Taux de Faux positifs pour les insatisfaits = 9.02 %\n",
      "Taux de Faux posisifs pour les satisfaits = 1.53 %\n",
      "Area under precision-recall curve = 97.10000000000001 %\n",
      "Area under ROC = 94.71000000000001 %\n"
     ]
    }
   ],
   "source": [
    "println(\"Modèle NAIVE BAYES\")\n",
    "printf(s\"\"\"|=================== Confusion matrix ==========================\n",
    "           |_____________| %-15s                     %-15s\n",
    "           |-------------+-------------------------------------------------\n",
    "           |Predicted = 0| %-15f                     %-15f\n",
    "           |Predicted = 1| %-15f                     %-15f\n",
    "           |===============================================================\n",
    "         \"\"\".stripMargin, \"Actual = 0\", \"Actual = 1\", tn, fp, fn, tp)\n",
    "println()\n",
    "println(s\"Taux de Faux positifs pour les insatisfaits = $fprINSAT %\")\n",
    "println(s\"Taux de Faux posisifs pour les satisfaits = $fprSAT %\")\n",
    "\n",
    "println(s\"Area under precision-recall curve = $auPRC %\")\n",
    "println(s\"Area under ROC = $auROC %\")"
   ]
  }
 ],
 "metadata": {
  "kernelspec": {
   "display_name": "Spark - Scala",
   "language": "scala",
   "name": "spark_scala"
  },
  "language_info": {
   "codemirror_mode": "text/x-scala",
   "file_extension": ".scala",
   "mimetype": "text/x-scala",
   "name": "scala",
   "pygments_lexer": "scala",
   "version": "2.11.8"
  }
 },
 "nbformat": 4,
 "nbformat_minor": 2
}
