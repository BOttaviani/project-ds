{
 "cells": [
  {
   "cell_type": "markdown",
   "metadata": {},
   "source": [
    "# CNAM UASB03 - CERTIFICATION ANALYSE DE DONNEES MASSIVES\n",
    "## Projet d'analyse de sentiment sur les commentaires Airbnb en français\n",
    "\n",
    "***\n",
    "Notebook Python simulation d'envoi de commentaires du site vers un script client charger de faire l'analyse.\n",
    "Le traitement effectue les étapes suivantes :\n",
    "* détection de la langue\n",
    "* lemmatisation pour les commentaires identifiés comme français\n",
    "* envoi des données à 3 Topics Kafka selon la langue\n"
   ]
  },
  {
   "cell_type": "markdown",
   "metadata": {},
   "source": [
    "-  ## Import des librairies et chargement du fichier"
   ]
  },
  {
   "cell_type": "code",
   "execution_count": 1,
   "metadata": {},
   "outputs": [],
   "source": [
    "import time\n",
    "from random import randint\n",
    "import json, pandas\n",
    "from kafka import SimpleProducer, KafkaClient\n",
    "from kafka import KafkaProducer\n",
    "import treetaggerwrapper\n",
    "tagger = treetaggerwrapper.TreeTagger(TAGLANG='fr')\n",
    "\n",
    "from whatthelang import WhatTheLang\n",
    "wtl = WhatTheLang()\n",
    "\n",
    "producer = KafkaProducer(bootstrap_servers='localhost:9092',\n",
    "                         value_serializer=lambda v: json.dumps(v).encode('utf-8'), linger_ms=10)\n",
    "\n",
    "# Temps d'attente maximale fixé à 10 secondes\n",
    "ATTENTE_MAX = 1\n",
    "\n",
    "fichier = open('Data/new_comment_2018.json', 'rb')\n",
    "#fichier = open('Data/comment_2018_echantillon.json', 'rb')\n",
    "lignes = fichier.readlines()\n",
    "\n",
    "def comment_to_lemme(comment):\n",
    "    t=treetaggerwrapper.make_tags(tagger.tag_text(comment))\n",
    "    lemme=''\n",
    "    for i in t:\n",
    "        if type(i)==treetaggerwrapper.Tag:\n",
    "            if i.pos[:3] in ('ADJ', 'ADV', 'INT','KON','NOM','VER'): \n",
    "                if i.lemma !='dns-remplacé':\n",
    "                    if len(i.lemma)>1 :\n",
    "                        lemme =lemme+' '+i.lemma.split('|')[0].lower()\n",
    "    return lemme\n"
   ]
  },
  {
   "cell_type": "markdown",
   "metadata": {},
   "source": [
    "-  ## Transfert des données"
   ]
  },
  {
   "cell_type": "code",
   "execution_count": null,
   "metadata": {
    "scrolled": true
   },
   "outputs": [],
   "source": [
    "while True:\n",
    "   \n",
    "    try:\n",
    "        print('\\nEnvoi des données...\\n')\n",
    "        i = 0\n",
    "        nb_msg = 0\n",
    "        while(i < len(lignes)):\n",
    "            comment = pandas.read_json(lignes[i].decode(\"utf8\").encode('utf8'),typ='series').to_frame().transpose()\n",
    "            comment['comments']=comment['comments'].replace(\"\\r\\n\", \"\")\n",
    "            comment['comments']=comment['comments'].replace(\"\\n\", \"\")\n",
    "            comment['comments']=comment['comments'].astype(str)\n",
    "            # Détection de la langue et ajout au dataframe\n",
    "            comment['langage']=comment['comments'].apply(wtl.pred_prob)\n",
    "            comment['langage'] =comment['langage'].astype(str).apply(lambda x: x.replace('[','').replace(']','').\n",
    "                                replace('(','[').replace(')',']')).apply(lambda x: x[1:-1].split(','))\n",
    "            comment['langue']=comment['langage'].str[0]\n",
    "            langue = comment['langue'].iloc[0].replace('\\'','')\n",
    "            print(langue)\n",
    "            comment['lg_proba']=comment['langage'].str[1].astype(float)\n",
    "            proba = comment['lg_proba'].iloc[0]\n",
    "            comment=comment.drop(['langage'],axis=1)\n",
    "            comment['comments'] = comment['comments'].apply(lambda x: x.replace('.',' ').replace('@',' ').\n",
    "                           replace('+',' ').replace(',',' ').replace(';',' ').replace('!',' ').replace('  ',' '))\n",
    "            if (proba>0.8) :\n",
    "                if langue=='fr':\n",
    "                    comment['comment_length']=comment['comments'].astype(str).str.len()\n",
    "                    comment['comment_lemm'] = comment['comments'].apply(comment_to_lemme)\n",
    "                    producer.send('AirBnb_income_fr',value=comment.to_dict('records'))\n",
    "                elif  langue=='en':\n",
    "                    producer.send('AirBnb_income_en',value=comment.to_dict('records'))\n",
    "                else:\n",
    "                    producer.send('AirBnb_income_other',value=comment.to_dict('records'))\n",
    "            producer.flush()\n",
    "            \n",
    "            i = i + 1\n",
    "            nb_msg = nb_msg + 1\n",
    "            attente = randint(0, ATTENTE_MAX)\n",
    "            print (\"Attente \" + str(attente) + \" secondes \")\n",
    "            print(\"Nombre de messages envoyés : \"+str(nb_msg))\n",
    "            time.sleep( attente)\n",
    "        break\n",
    "    except Exception as ex:\n",
    "        print (ex)\n"
   ]
  }
 ],
 "metadata": {
  "kernelspec": {
   "display_name": "Python 3",
   "language": "python",
   "name": "python3"
  },
  "language_info": {
   "codemirror_mode": {
    "name": "ipython",
    "version": 3
   },
   "file_extension": ".py",
   "mimetype": "text/x-python",
   "name": "python",
   "nbconvert_exporter": "python",
   "pygments_lexer": "ipython3",
   "version": "3.6.5"
  }
 },
 "nbformat": 4,
 "nbformat_minor": 1
}
