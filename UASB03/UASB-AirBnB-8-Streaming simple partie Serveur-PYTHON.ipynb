{
 "cells": [
  {
   "cell_type": "markdown",
   "metadata": {},
   "source": [
    "# CNAM UASB03 - CERTIFICATION ANALYSE DE DONNEES MASSIVES\n",
    "## Projet d'analyse de sentiment sur les commentaires Airbnb en français\n",
    "\n",
    "***\n",
    "Notebook Python simulation d'envoi de commentaires du site vers un script client charger de faire l'analyse.\n"
   ]
  },
  {
   "cell_type": "markdown",
   "metadata": {},
   "source": [
    "-  ## Import des librairies et chargement du fichier"
   ]
  },
  {
   "cell_type": "code",
   "execution_count": 1,
   "metadata": {},
   "outputs": [],
   "source": [
    "import socket\n",
    "import time\n",
    "from random import randint\n",
    "# Temps d'attente maximale fixé à 5 secondes\n",
    "ATTENTE_MAX = 1\n",
    "\n",
    "fichier = open('Data/comment_2018.json', 'rb')\n",
    "lignes = fichier.readlines()\n"
   ]
  },
  {
   "cell_type": "markdown",
   "metadata": {},
   "source": [
    "-  ## Transfert des données"
   ]
  },
  {
   "cell_type": "code",
   "execution_count": null,
   "metadata": {},
   "outputs": [],
   "source": [
    "# création du socket\n",
    "s = socket.socket(socket.AF_INET, socket.SOCK_STREAM)\n",
    "# choix du serveur et du port\n",
    "s.bind(('localhost', 9999))\n",
    "# Ecoute des connections\n",
    "s.listen(1)\n",
    "\n",
    "while True:\n",
    "    print('\\nAttente d\\'une connection')\n",
    "    conn, addr = s.accept()\n",
    "    \n",
    "    print('\\nConnection par', addr)\n",
    "    \n",
    "    try:\n",
    "        print('\\nEnvoi des données...\\n')\n",
    "        i = 1\n",
    "        while(i < len(lignes)):\n",
    "            conn.send(lignes[i].decode(\"utf8\").encode('utf8'))\n",
    "            i = i + 1\n",
    "            attente = randint(0, ATTENTE_MAX)\n",
    "            print (\"Attente \" + str(attente) + \" secondes \")\n",
    "            time.sleep( attente)\n",
    "        # Envoi du signal de fin\n",
    "        conn.send(b'Fini\\r\\n')\n",
    "        break\n",
    "    except Exception as ex:\n",
    "        print (ex)\n",
    "\n",
    "print(\"Streaming terminé avec succès\")\n",
    "conn.close()\n",
    "s.close()"
   ]
  },
  {
   "cell_type": "markdown",
   "metadata": {},
   "source": [
    "-  ## Arrêt du streaming  (après interruption du Kernel Jupyter)"
   ]
  },
  {
   "cell_type": "code",
   "execution_count": 3,
   "metadata": {},
   "outputs": [],
   "source": [
    "conn.close()\n",
    "s.close()"
   ]
  },
  {
   "cell_type": "markdown",
   "metadata": {},
   "source": [
    "Adapté des scripts du projet GitHub suivant : Stream-Processing-using-PySpark-and-MongoDB--master\n",
    "\n",
    "https://github.com/vipulkrishnanmd/Stream-Processing-using-PySpark-and-MongoDB-"
   ]
  }
 ],
 "metadata": {
  "kernelspec": {
   "display_name": "Python 3",
   "language": "python",
   "name": "python3"
  },
  "language_info": {
   "codemirror_mode": {
    "name": "ipython",
    "version": 3
   },
   "file_extension": ".py",
   "mimetype": "text/x-python",
   "name": "python",
   "nbconvert_exporter": "python",
   "pygments_lexer": "ipython3",
   "version": "3.6.5"
  }
 },
 "nbformat": 4,
 "nbformat_minor": 1
}
