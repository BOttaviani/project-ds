{
 "cells": [
  {
   "cell_type": "markdown",
   "metadata": {},
   "source": [
    "# CNAM UASB03 - CERTIFICATION ANALYSE DE DONNEES MASSIVES\n",
    "## Projet d'analyse de sentiment sur les commentaires Airbnb en français\n",
    "\n",
    "***\n",
    "Notebook Python de préparation des commentaires en entrée de notre modélisation.\n",
    "*  Chargement du fichier brut\n",
    "*  Détection de la langue\n",
    "*  Filtrage uniquement des commentaires reconnus comme français avec plus de 80% de probabilité\n",
    "*  Génération d'un fichier avec uniquement l'identifiant du commentaire (permet de remonter au fichier source) et le commentaire\n",
    "\n"
   ]
  },
  {
   "cell_type": "code",
   "execution_count": 2,
   "metadata": {},
   "outputs": [
    {
     "data": {
      "text/html": [
       "<div>\n",
       "<style>\n",
       "    .dataframe thead tr:only-child th {\n",
       "        text-align: right;\n",
       "    }\n",
       "\n",
       "    .dataframe thead th {\n",
       "        text-align: left;\n",
       "    }\n",
       "\n",
       "    .dataframe tbody tr th {\n",
       "        vertical-align: top;\n",
       "    }\n",
       "</style>\n",
       "<table border=\"1\" class=\"dataframe\">\n",
       "  <thead>\n",
       "    <tr style=\"text-align: right;\">\n",
       "      <th></th>\n",
       "      <th>listing_id</th>\n",
       "      <th>_id</th>\n",
       "      <th>date</th>\n",
       "      <th>reviewer_id</th>\n",
       "      <th>reviewer_name</th>\n",
       "      <th>comments</th>\n",
       "    </tr>\n",
       "  </thead>\n",
       "  <tbody>\n",
       "    <tr>\n",
       "      <th>0</th>\n",
       "      <td>1027568</td>\n",
       "      <td>47892721</td>\n",
       "      <td>2015-09-21</td>\n",
       "      <td>4346070</td>\n",
       "      <td>Joydeep</td>\n",
       "      <td>Beautiful home in every sense; aesthetics &amp; co...</td>\n",
       "    </tr>\n",
       "    <tr>\n",
       "      <th>1</th>\n",
       "      <td>1027568</td>\n",
       "      <td>49618144</td>\n",
       "      <td>2015-10-05</td>\n",
       "      <td>22681962</td>\n",
       "      <td>Marc</td>\n",
       "      <td>Iris and her family greeted us at the apartmen...</td>\n",
       "    </tr>\n",
       "    <tr>\n",
       "      <th>2</th>\n",
       "      <td>1027568</td>\n",
       "      <td>79705618</td>\n",
       "      <td>2016-06-13</td>\n",
       "      <td>37238215</td>\n",
       "      <td>Sam</td>\n",
       "      <td>We were greeted by Iris and her family on arri...</td>\n",
       "    </tr>\n",
       "    <tr>\n",
       "      <th>3</th>\n",
       "      <td>1268496</td>\n",
       "      <td>9575106</td>\n",
       "      <td>2014-01-02</td>\n",
       "      <td>48218</td>\n",
       "      <td>Collin</td>\n",
       "      <td>I stayed at Aurelie's over the new year and it...</td>\n",
       "    </tr>\n",
       "    <tr>\n",
       "      <th>4</th>\n",
       "      <td>1268496</td>\n",
       "      <td>13111695</td>\n",
       "      <td>2014-05-19</td>\n",
       "      <td>6667381</td>\n",
       "      <td>Kane</td>\n",
       "      <td>Auréle's place is great. It as our 2nd trip to...</td>\n",
       "    </tr>\n",
       "    <tr>\n",
       "      <th>5</th>\n",
       "      <td>1268496</td>\n",
       "      <td>17799682</td>\n",
       "      <td>2014-08-17</td>\n",
       "      <td>17060334</td>\n",
       "      <td>Elodie</td>\n",
       "      <td>Nous n'avons pas croisé Aurélie qui était hors...</td>\n",
       "    </tr>\n",
       "    <tr>\n",
       "      <th>6</th>\n",
       "      <td>1268496</td>\n",
       "      <td>19091362</td>\n",
       "      <td>2014-09-06</td>\n",
       "      <td>19253510</td>\n",
       "      <td>Krystte</td>\n",
       "      <td>The reservation was canceled 3 days before arr...</td>\n",
       "    </tr>\n",
       "    <tr>\n",
       "      <th>7</th>\n",
       "      <td>1268496</td>\n",
       "      <td>22880015</td>\n",
       "      <td>2014-11-16</td>\n",
       "      <td>21245715</td>\n",
       "      <td>Romain</td>\n",
       "      <td>The reservation was canceled 5 days before arr...</td>\n",
       "    </tr>\n",
       "    <tr>\n",
       "      <th>8</th>\n",
       "      <td>1268496</td>\n",
       "      <td>24491528</td>\n",
       "      <td>2014-12-29</td>\n",
       "      <td>24540616</td>\n",
       "      <td>Michelle</td>\n",
       "      <td>Aurélie Allet s appartment is really near the ...</td>\n",
       "    </tr>\n",
       "    <tr>\n",
       "      <th>9</th>\n",
       "      <td>1268496</td>\n",
       "      <td>26456093</td>\n",
       "      <td>2015-02-13</td>\n",
       "      <td>6364566</td>\n",
       "      <td>Vladymyr</td>\n",
       "      <td>Staying in the apartment of Aurélie without an...</td>\n",
       "    </tr>\n",
       "  </tbody>\n",
       "</table>\n",
       "</div>"
      ],
      "text/plain": [
       "   listing_id       _id        date  reviewer_id reviewer_name  \\\n",
       "0     1027568  47892721  2015-09-21      4346070       Joydeep   \n",
       "1     1027568  49618144  2015-10-05     22681962          Marc   \n",
       "2     1027568  79705618  2016-06-13     37238215           Sam   \n",
       "3     1268496   9575106  2014-01-02        48218        Collin   \n",
       "4     1268496  13111695  2014-05-19      6667381          Kane   \n",
       "5     1268496  17799682  2014-08-17     17060334        Elodie   \n",
       "6     1268496  19091362  2014-09-06     19253510       Krystte   \n",
       "7     1268496  22880015  2014-11-16     21245715        Romain   \n",
       "8     1268496  24491528  2014-12-29     24540616      Michelle   \n",
       "9     1268496  26456093  2015-02-13      6364566      Vladymyr   \n",
       "\n",
       "                                            comments  \n",
       "0  Beautiful home in every sense; aesthetics & co...  \n",
       "1  Iris and her family greeted us at the apartmen...  \n",
       "2  We were greeted by Iris and her family on arri...  \n",
       "3  I stayed at Aurelie's over the new year and it...  \n",
       "4  Auréle's place is great. It as our 2nd trip to...  \n",
       "5  Nous n'avons pas croisé Aurélie qui était hors...  \n",
       "6  The reservation was canceled 3 days before arr...  \n",
       "7  The reservation was canceled 5 days before arr...  \n",
       "8  Aurélie Allet s appartment is really near the ...  \n",
       "9  Staying in the apartment of Aurélie without an...  "
      ]
     },
     "execution_count": 2,
     "metadata": {},
     "output_type": "execute_result"
    }
   ],
   "source": [
    "import pandas, os, json, numpy\n",
    "from whatthelang import WhatTheLang\n",
    "wtl = WhatTheLang()\n",
    "\n",
    "Airbnb_comment=pandas.read_csv(\"Data/reviews_Avril2017.csv\",encoding='utf-8',lineterminator='\\n')\n",
    "Airbnb_comment.comments.str.replace(\"\\r\\n\", \"\")\n",
    "Airbnb_comment.comments.str.replace(\"\\n\", \"\")\n",
    "Airbnb_comment.comments.str.encode(encoding='utf-8', errors='strict')\n",
    "Airbnb_comment['comments']=Airbnb_comment['comments'].astype(str)\n",
    "Airbnb_comment.head(10)\n"
   ]
  },
  {
   "cell_type": "code",
   "execution_count": 13,
   "metadata": {},
   "outputs": [
    {
     "data": {
      "text/plain": [
       "(846219, 8)"
      ]
     },
     "execution_count": 13,
     "metadata": {},
     "output_type": "execute_result"
    }
   ],
   "source": [
    "Airbnb_comment.shape"
   ]
  },
  {
   "cell_type": "code",
   "execution_count": 5,
   "metadata": {},
   "outputs": [],
   "source": [
    "#détection de la langue avec whatthelang\n",
    "Airbnb_comment['langage']=Airbnb_comment['comments'].apply(wtl.pred_prob)\n",
    "Airbnb_comment['langue']=Airbnb_comment['langage'].str[0].str[0].str[0]\n",
    "Airbnb_comment['lg_proba']=Airbnb_comment['langage'].str[0].str[0].str[1]\n",
    "Airbnb_comment=Airbnb_comment.drop(['listing_id', 'date', 'reviewer_id','reviewer_name','langage'],axis=1)"
   ]
  },
  {
   "cell_type": "code",
   "execution_count": null,
   "metadata": {},
   "outputs": [],
   "source": [
    "#Récupératoin des commentaire identifiés comme français à plus de 80% de probabilité\n",
    "\n",
    "Comment = Airbnb_comment[numpy.logical_and(Airbnb_comment['lg_proba']>=0.8,Airbnb_comment['langue']=='fr') ]\n",
    "\n",
    "Comment['comments'] = Comment['comments'].replace({r'\\r\\n': ' '}, regex=True).replace(\"\\n\", \" \").replace({r'\\s+$': ' ', r'^\\s+': ' '}, regex=True).replace(r'\\n',  ' ', regex=True)\n",
    "Comment = Comment.drop(['langue','lg_proba'],axis=1)"
   ]
  },
  {
   "cell_type": "code",
   "execution_count": 27,
   "metadata": {},
   "outputs": [
    {
     "data": {
      "text/plain": [
       "(197372, 2)"
      ]
     },
     "execution_count": 27,
     "metadata": {},
     "output_type": "execute_result"
    }
   ],
   "source": [
    "Comment.shape"
   ]
  },
  {
   "cell_type": "code",
   "execution_count": 28,
   "metadata": {},
   "outputs": [
    {
     "data": {
      "text/html": [
       "<div>\n",
       "<style>\n",
       "    .dataframe thead tr:only-child th {\n",
       "        text-align: right;\n",
       "    }\n",
       "\n",
       "    .dataframe thead th {\n",
       "        text-align: left;\n",
       "    }\n",
       "\n",
       "    .dataframe tbody tr th {\n",
       "        vertical-align: top;\n",
       "    }\n",
       "</style>\n",
       "<table border=\"1\" class=\"dataframe\">\n",
       "  <thead>\n",
       "    <tr style=\"text-align: right;\">\n",
       "      <th></th>\n",
       "      <th>_id</th>\n",
       "      <th>comments</th>\n",
       "    </tr>\n",
       "  </thead>\n",
       "  <tbody>\n",
       "    <tr>\n",
       "      <th>5</th>\n",
       "      <td>17799682</td>\n",
       "      <td>Nous n'avons pas croisé Aurélie qui était hors...</td>\n",
       "    </tr>\n",
       "    <tr>\n",
       "      <th>38</th>\n",
       "      <td>103496190</td>\n",
       "      <td>Très bon accueil  et tres attentionnée  La pro...</td>\n",
       "    </tr>\n",
       "    <tr>\n",
       "      <th>40</th>\n",
       "      <td>55808517</td>\n",
       "      <td>Un grand studio , avec tout le confort nécessa...</td>\n",
       "    </tr>\n",
       "    <tr>\n",
       "      <th>41</th>\n",
       "      <td>59437146</td>\n",
       "      <td>Studio très confortable, bien aménagé et jolim...</td>\n",
       "    </tr>\n",
       "    <tr>\n",
       "      <th>43</th>\n",
       "      <td>12388077</td>\n",
       "      <td>Très satisfait de la location de cet apparteme...</td>\n",
       "    </tr>\n",
       "  </tbody>\n",
       "</table>\n",
       "</div>"
      ],
      "text/plain": [
       "          _id                                           comments\n",
       "5    17799682  Nous n'avons pas croisé Aurélie qui était hors...\n",
       "38  103496190  Très bon accueil  et tres attentionnée  La pro...\n",
       "40   55808517  Un grand studio , avec tout le confort nécessa...\n",
       "41   59437146  Studio très confortable, bien aménagé et jolim...\n",
       "43   12388077  Très satisfait de la location de cet apparteme..."
      ]
     },
     "execution_count": 28,
     "metadata": {},
     "output_type": "execute_result"
    }
   ],
   "source": [
    "Comment.head()"
   ]
  },
  {
   "cell_type": "code",
   "execution_count": 29,
   "metadata": {},
   "outputs": [],
   "source": [
    "# nettoyage des commentaires\n",
    "Comment['comments']=Comment['comments'].str.strip('\\n')\n",
    "Comment['comments'] = Comment['comments'].astype(str)\n",
    "Comment['comments'] = Comment['comments'].apply(lambda x: x.replace('.',' ').replace('@',' ').replace('+',' ').\n",
    "            replace('&',' ').replace(':',' ').replace(':)',' ').replace('\\\"\\\"',' ').replace(',',' ').\n",
    "            replace('(',' ').replace(')',' ').replace(';',' ').replace('!',' ').replace('  ',' '))"
   ]
  },
  {
   "cell_type": "code",
   "execution_count": 30,
   "metadata": {},
   "outputs": [],
   "source": [
    "Comment.to_csv(\"Data/Commentaires_identifiants_V3\",encoding='utf-8',header=None,sep='£',index=False)"
   ]
  }
 ],
 "metadata": {
  "kernelspec": {
   "display_name": "Python 3",
   "language": "python",
   "name": "python3"
  },
  "language_info": {
   "codemirror_mode": {
    "name": "ipython",
    "version": 3
   },
   "file_extension": ".py",
   "mimetype": "text/x-python",
   "name": "python",
   "nbconvert_exporter": "python",
   "pygments_lexer": "ipython3",
   "version": "3.6.5"
  }
 },
 "nbformat": 4,
 "nbformat_minor": 2
}
