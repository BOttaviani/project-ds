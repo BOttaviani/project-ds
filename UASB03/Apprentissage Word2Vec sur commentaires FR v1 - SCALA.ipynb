{
 "cells": [
  {
   "cell_type": "code",
   "execution_count": 1,
   "metadata": {},
   "outputs": [
    {
     "name": "stdout",
     "output_type": "stream",
     "text": [
      "[Stage 2:============================================>              (3 + 1) / 4]"
     ]
    },
    {
     "data": {
      "text/plain": [
       "sameModel = org.apache.spark.mllib.feature.Word2VecModel@41eb31de\n"
      ]
     },
     "metadata": {},
     "output_type": "display_data"
    },
    {
     "data": {
      "text/plain": [
       "org.apache.spark.mllib.feature.Word2VecModel@41eb31de"
      ]
     },
     "execution_count": 1,
     "metadata": {},
     "output_type": "execute_result"
    }
   ],
   "source": [
    "import org.apache.spark.mllib.feature.{Word2Vec, Word2VecModel}\n",
    "\n",
    "val input = sc.textFile(\"Data/comment_fr.csv\").map(line => line.split(\" \").toSeq)\n",
    "\n",
    "val word2vec = new Word2Vec()\n",
    "\n",
    "val model = word2vec.fit(input)\n",
    "\n",
    "\n",
    "// Save and load model\n",
    "model.save(sc, \"modele/Word2VecComment\")\n",
    "//val sameModel = Word2VecModel.load(sc, \"modele/Word2VecFR\")\n"
   ]
  },
  {
   "cell_type": "code",
   "execution_count": null,
   "metadata": {},
   "outputs": [],
   "source": [
    "//model.getVectors"
   ]
  },
  {
   "cell_type": "code",
   "execution_count": 9,
   "metadata": {},
   "outputs": [
    {
     "name": "stdout",
     "output_type": "stream",
     "text": [
      "princesse 0.7705615162849426\n",
      "élisabeth 0.7424485683441162\n",
      "gougne 0.7263415455818176\n",
      "duchesse 0.7104926109313965\n",
      "douairière 0.7066956162452698\n"
     ]
    },
    {
     "data": {
      "text/plain": [
       "synonyms = Array((princesse,0.7705615162849426), (élisabeth,0.7424485683441162), (gougne,0.7263415455818176), (duchesse,0.7104926109313965), (douairière,0.7066956162452698))\n"
      ]
     },
     "metadata": {},
     "output_type": "display_data"
    },
    {
     "data": {
      "text/plain": [
       "[(princesse,0.7705615162849426), (élisabeth,0.7424485683441162), (gougne,0.7263415455818176), (duchesse,0.7104926109313965), (douairière,0.7066956162452698)]"
      ]
     },
     "execution_count": 9,
     "metadata": {},
     "output_type": "execute_result"
    }
   ],
   "source": [
    "val synonyms = model.findSynonyms(\"reine\", 5)\n",
    "\n",
    "for((synonym, cosineSimilarity) <- synonyms) {\n",
    "  println(s\"$synonym $cosineSimilarity\")\n",
    "}\n"
   ]
  }
 ],
 "metadata": {
  "kernelspec": {
   "display_name": "Spark - Scala",
   "language": "scala",
   "name": "spark_scala"
  },
  "language_info": {
   "codemirror_mode": "text/x-scala",
   "file_extension": ".scala",
   "mimetype": "text/x-scala",
   "name": "scala",
   "pygments_lexer": "scala",
   "version": "2.11.8"
  }
 },
 "nbformat": 4,
 "nbformat_minor": 2
}
