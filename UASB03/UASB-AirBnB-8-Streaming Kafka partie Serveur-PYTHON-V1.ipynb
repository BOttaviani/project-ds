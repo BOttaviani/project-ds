{
 "cells": [
  {
   "cell_type": "markdown",
   "metadata": {},
   "source": [
    "# CNAM UASB03 - CERTIFICATION ANALYSE DE DONNEES MASSIVES\n",
    "## Projet d'analyse de sentiment sur les commentaires Airbnb en français\n",
    "\n",
    "***\n",
    "Notebook Python simulation d'envoi de commentaires du site vers un script client charger de faire l'analyse.\n"
   ]
  },
  {
   "cell_type": "markdown",
   "metadata": {},
   "source": [
    "-  ## Import des librairies et chargement du fichier"
   ]
  },
  {
   "cell_type": "code",
   "execution_count": 1,
   "metadata": {},
   "outputs": [],
   "source": [
    "import time\n",
    "from random import randint\n",
    "import json, pandas\n",
    "from kafka import SimpleProducer, KafkaClient\n",
    "from kafka import KafkaProducer\n",
    "\n",
    "producer = KafkaProducer(bootstrap_servers='localhost:9092',\n",
    "                         value_serializer=lambda v: json.dumps(v).encode('utf-8'), linger_ms=10)\n",
    "\n",
    "# Temps d'attente maximale fixé à 10 secondes\n",
    "ATTENTE_MAX = 3\n",
    "\n",
    "fichier = open('Data/comment_2018.json', 'rb')\n",
    "lignes = fichier.readlines()\n"
   ]
  },
  {
   "cell_type": "markdown",
   "metadata": {},
   "source": [
    "-  ## Transfert des données"
   ]
  },
  {
   "cell_type": "code",
   "execution_count": null,
   "metadata": {},
   "outputs": [],
   "source": [
    "while True:\n",
    "   \n",
    "    try:\n",
    "        print('\\nEnvoi des données...\\n')\n",
    "        i = 0\n",
    "        nb_msg = 0\n",
    "        while(i < len(lignes)):\n",
    "            comment = pandas.read_json(lignes[i].decode(\"utf8\").encode('utf8'),typ='series').to_frame().transpose()\n",
    "            producer.send('AirBnb_income',value=comment.to_dict('records'))\n",
    "            producer.flush()\n",
    "            i = i + 1\n",
    "            nb_msg = nb_msg + 1\n",
    "            attente = randint(0, ATTENTE_MAX)\n",
    "            print (\"Attente \" + str(attente) + \" secondes \")\n",
    "            print(\"Nombre de messages envoyés : \"+str(nb_msg))\n",
    "            time.sleep( attente)\n",
    "        break\n",
    "    except Exception as ex:\n",
    "        print (ex)\n"
   ]
  }
 ],
 "metadata": {
  "kernelspec": {
   "display_name": "Python 3",
   "language": "python",
   "name": "python3"
  },
  "language_info": {
   "codemirror_mode": {
    "name": "ipython",
    "version": 3
   },
   "file_extension": ".py",
   "mimetype": "text/x-python",
   "name": "python",
   "nbconvert_exporter": "python",
   "pygments_lexer": "ipython3",
   "version": "3.6.5"
  }
 },
 "nbformat": 4,
 "nbformat_minor": 1
}
