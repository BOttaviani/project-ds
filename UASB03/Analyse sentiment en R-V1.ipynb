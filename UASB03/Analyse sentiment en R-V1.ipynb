{
 "cells": [
  {
   "cell_type": "markdown",
   "metadata": {},
   "source": [
    "## Détermination des sentiments\n",
    " Inspiré et adapté de l'exemple suivant : http://dimension.usherbrooke.ca/dimension/exempleTMSentimentsFB.html"
   ]
  },
  {
   "cell_type": "code",
   "execution_count": 2,
   "metadata": {},
   "outputs": [
    {
     "name": "stderr",
     "output_type": "stream",
     "text": [
      "Package version: 1.3.0\n",
      "Parallel computing: 2 of 4 threads used.\n",
      "See https://quanteda.io for tutorials and examples.\n",
      "\n",
      "Attaching package: ‘quanteda’\n",
      "\n",
      "The following object is masked from ‘jupyter:irkernel’:\n",
      "\n",
      "    View\n",
      "\n",
      "The following object is masked from ‘package:utils’:\n",
      "\n",
      "    View\n",
      "\n",
      "preText: Diagnostics to Assess the Effects of Text Preprocessing Decisions\n",
      "Version 0.6.3 created on 2018-01-12.\n",
      "copyright (c) 2017, Matthew J. Denny, Penn State University\n",
      "                    Arthur Spirling, NYU\n",
      "Type vignette('getting_started_with_preText') to get started.\n",
      "Development website: https://github.com/matthewjdenny/preText\n",
      "Loading required package: bitops\n",
      "Loading required package: NLP\n",
      "\n",
      "Attaching package: ‘tm’\n",
      "\n",
      "The following objects are masked from ‘package:quanteda’:\n",
      "\n",
      "    as.DocumentTermMatrix, stopwords\n",
      "\n"
     ]
    }
   ],
   "source": [
    "#Importation des packages pour le traitement des données\n",
    "library(quanteda)\n",
    "library(preText)\n",
    "library(RCurl)\n",
    "library(jsonlite)\n",
    "library(tm)\n",
    "\n",
    "#Fonction pour enlever certaines parties de mots spécifiques au français\n",
    "enleve_mots=function(tk){\n",
    "  tk=gsub(\"l'\", \"\",tk)\n",
    "  tk=gsub(\"d'\", \"\",tk)\n",
    "  tk=gsub(\"qu'\", \"\", tk)\n",
    "  tk=gsub(\"j'\", \"\", tk)\n",
    "  return(tk)\n",
    "}\n"
   ]
  },
  {
   "cell_type": "code",
   "execution_count": 3,
   "metadata": {},
   "outputs": [
    {
     "data": {
      "text/html": [
       "<dl class=dl-horizontal>\n",
       "\t<dt>_id</dt>\n",
       "\t\t<dd>'integer'</dd>\n",
       "\t<dt>date</dt>\n",
       "\t\t<dd>'character'</dd>\n",
       "\t<dt>reviewer_id</dt>\n",
       "\t\t<dd>'integer'</dd>\n",
       "\t<dt>reviewer_name</dt>\n",
       "\t\t<dd>'character'</dd>\n",
       "\t<dt>comments</dt>\n",
       "\t\t<dd>'character'</dd>\n",
       "\t<dt>langue</dt>\n",
       "\t\t<dd>'character'</dd>\n",
       "\t<dt>lg_proba</dt>\n",
       "\t\t<dd>'numeric'</dd>\n",
       "\t<dt>review_scores_accuracy</dt>\n",
       "\t\t<dd>'numeric'</dd>\n",
       "\t<dt>review_scores_checkin</dt>\n",
       "\t\t<dd>'numeric'</dd>\n",
       "\t<dt>review_scores_cleanliness</dt>\n",
       "\t\t<dd>'numeric'</dd>\n",
       "\t<dt>review_scores_communication</dt>\n",
       "\t\t<dd>'numeric'</dd>\n",
       "\t<dt>review_scores_location</dt>\n",
       "\t\t<dd>'numeric'</dd>\n",
       "\t<dt>review_scores_rating</dt>\n",
       "\t\t<dd>'numeric'</dd>\n",
       "\t<dt>review_scores_value</dt>\n",
       "\t\t<dd>'numeric'</dd>\n",
       "</dl>\n"
      ],
      "text/latex": [
       "\\begin{description*}\n",
       "\\item[\\textbackslash{}\\_id] 'integer'\n",
       "\\item[date] 'character'\n",
       "\\item[reviewer\\textbackslash{}\\_id] 'integer'\n",
       "\\item[reviewer\\textbackslash{}\\_name] 'character'\n",
       "\\item[comments] 'character'\n",
       "\\item[langue] 'character'\n",
       "\\item[lg\\textbackslash{}\\_proba] 'numeric'\n",
       "\\item[review\\textbackslash{}\\_scores\\textbackslash{}\\_accuracy] 'numeric'\n",
       "\\item[review\\textbackslash{}\\_scores\\textbackslash{}\\_checkin] 'numeric'\n",
       "\\item[review\\textbackslash{}\\_scores\\textbackslash{}\\_cleanliness] 'numeric'\n",
       "\\item[review\\textbackslash{}\\_scores\\textbackslash{}\\_communication] 'numeric'\n",
       "\\item[review\\textbackslash{}\\_scores\\textbackslash{}\\_location] 'numeric'\n",
       "\\item[review\\textbackslash{}\\_scores\\textbackslash{}\\_rating] 'numeric'\n",
       "\\item[review\\textbackslash{}\\_scores\\textbackslash{}\\_value] 'numeric'\n",
       "\\end{description*}\n"
      ],
      "text/markdown": [
       "_id\n",
       ":   'integer'date\n",
       ":   'character'reviewer_id\n",
       ":   'integer'reviewer_name\n",
       ":   'character'comments\n",
       ":   'character'langue\n",
       ":   'character'lg_proba\n",
       ":   'numeric'review_scores_accuracy\n",
       ":   'numeric'review_scores_checkin\n",
       ":   'numeric'review_scores_cleanliness\n",
       ":   'numeric'review_scores_communication\n",
       ":   'numeric'review_scores_location\n",
       ":   'numeric'review_scores_rating\n",
       ":   'numeric'review_scores_value\n",
       ":   'numeric'\n",
       "\n"
      ],
      "text/plain": [
       "                        _id                        date \n",
       "                  \"integer\"                 \"character\" \n",
       "                reviewer_id               reviewer_name \n",
       "                  \"integer\"                 \"character\" \n",
       "                   comments                      langue \n",
       "                \"character\"                 \"character\" \n",
       "                   lg_proba      review_scores_accuracy \n",
       "                  \"numeric\"                   \"numeric\" \n",
       "      review_scores_checkin   review_scores_cleanliness \n",
       "                  \"numeric\"                   \"numeric\" \n",
       "review_scores_communication      review_scores_location \n",
       "                  \"numeric\"                   \"numeric\" \n",
       "       review_scores_rating         review_scores_value \n",
       "                  \"numeric\"                   \"numeric\" "
      ]
     },
     "metadata": {},
     "output_type": "display_data"
    },
    {
     "data": {
      "text/html": [
       "205586"
      ],
      "text/latex": [
       "205586"
      ],
      "text/markdown": [
       "205586"
      ],
      "text/plain": [
       "[1] 205586"
      ]
     },
     "metadata": {},
     "output_type": "display_data"
    }
   ],
   "source": [
    "#Chargement des commentaires\n",
    "fichier=\"/home/user/Documents/UASB03/comment_fr.json\"\n",
    "Comment=fromJSON(fichier)\n",
    "sapply(Comment,class)\n",
    "nrow(Comment)\n"
   ]
  },
  {
   "cell_type": "code",
   "execution_count": 4,
   "metadata": {},
   "outputs": [
    {
     "data": {
      "text/html": [
       "197372"
      ],
      "text/latex": [
       "197372"
      ],
      "text/markdown": [
       "197372"
      ],
      "text/plain": [
       "[1] 197372"
      ]
     },
     "metadata": {},
     "output_type": "display_data"
    }
   ],
   "source": [
    "# Suppression des lignes où la probabilté que ce soit du français est inférieure à 80%\n",
    "Comment <- Comment[Comment$lg_proba >=0.8,]\n",
    "nrow(Comment)"
   ]
  },
  {
   "cell_type": "code",
   "execution_count": 5,
   "metadata": {},
   "outputs": [],
   "source": [
    "# Chargement du  dictionnaire des sentiments\n",
    "dictfile <- tempfile()\n",
    "dic_ton <- dictionary(file =\"AirBnBSentiment.cat\", sep = \"/\")\n",
    "# Chargement des stopwords\n",
    "new_stopwords <- read.csv(\"AirBnBStopwords-fr.txt\", header = FALSE)\n",
    "list_stopwords <- as.character(new_stopwords$V1)\n",
    "stopwords <- c(list_stopwords)"
   ]
  },
  {
   "cell_type": "code",
   "execution_count": 6,
   "metadata": {},
   "outputs": [],
   "source": [
    "#Création du corpus \n",
    "monCorpus <- corpus((char_tolower(as.character(Comment$comments))))\n",
    "#Détour inélégant pour éliminer certaines particularités propre à la langue française  du type: l' d' (liste incomplète)\n",
    "#création d'une matrice provisoire\n",
    "mm=matrix(nrow=dim(Comment)[1], ncol=1)\n",
    "for(j in 1:dim(Comment)[1]){\n",
    "  mm[j,1]=enleve_mots(monCorpus[j])\n",
    "}\n",
    "monCorpus=corpus(mm)\n",
    "\n",
    "#Nettoyage\n",
    "monCorpus=tokens(monCorpus, remove_numbers = TRUE, remove_punct = TRUE,remove_separators = TRUE,remove_hyphens = TRUE)\n",
    "monCorpus=tokens_remove(monCorpus, c(stopwords))\n",
    "\n",
    "#Application du dictionnaire des sentiments: obtient l'occurence des termes positifs et des termes négatifs par commentaire\n",
    "analyseSentiments <- dfm(monCorpus, dictionary = dic_ton)\n"
   ]
  },
  {
   "cell_type": "code",
   "execution_count": 7,
   "metadata": {},
   "outputs": [
    {
     "data": {
      "text/html": [
       "<table>\n",
       "<thead><tr><th scope=col>feature</th><th scope=col>frequency</th><th scope=col>rank</th><th scope=col>docfreq</th><th scope=col>group</th></tr></thead>\n",
       "<tbody>\n",
       "\t<tr><td>POSITIVE</td><td>965353  </td><td>1       </td><td>194798  </td><td>all     </td></tr>\n",
       "\t<tr><td>NEGATIVE</td><td> 83240  </td><td>2       </td><td> 50981  </td><td>all     </td></tr>\n",
       "</tbody>\n",
       "</table>\n"
      ],
      "text/latex": [
       "\\begin{tabular}{r|lllll}\n",
       " feature & frequency & rank & docfreq & group\\\\\n",
       "\\hline\n",
       "\t POSITIVE & 965353   & 1        & 194798   & all     \\\\\n",
       "\t NEGATIVE &  83240   & 2        &  50981   & all     \\\\\n",
       "\\end{tabular}\n"
      ],
      "text/markdown": [
       "\n",
       "feature | frequency | rank | docfreq | group | \n",
       "|---|---|\n",
       "| POSITIVE | 965353   | 1        | 194798   | all      | \n",
       "| NEGATIVE |  83240   | 2        |  50981   | all      | \n",
       "\n",
       "\n"
      ],
      "text/plain": [
       "  feature  frequency rank docfreq group\n",
       "1 POSITIVE 965353    1    194798  all  \n",
       "2 NEGATIVE  83240    2     50981  all  "
      ]
     },
     "metadata": {},
     "output_type": "display_data"
    }
   ],
   "source": [
    "textstat_frequency(analyseSentiments)"
   ]
  },
  {
   "cell_type": "code",
   "execution_count": 8,
   "metadata": {},
   "outputs": [
    {
     "name": "stderr",
     "output_type": "stream",
     "text": [
      "Warning message:\n",
      "“'as.data.frame.dfm' is deprecated.\n",
      "Use 'convert(x, to \"data.frame\")' instead.\n",
      "See help(\"Deprecated\")”"
     ]
    }
   ],
   "source": [
    "# Transformation en dataframe avec ajout du nombre de mots \"conservé\"\n",
    "BaseTemp=data.frame(analyseSentiments,nb=ntoken(monCorpus))\n",
    "# Constitution du tag POSITIF/NEGATIF/NEUTRE en fonction des autres indicateurs\n",
    "\n",
    "\n",
    "BaseTemp$Negatif=(BaseTemp$NEGATIVE>BaseTemp$POSITIVE |(BaseTemp$NEGATIVE/BaseTemp$POSITIVE>0.5 & BaseTemp$NEGATIVE >2 &BaseTemp$NEGATIVE<BaseTemp$POSITIVE))\n",
    "BaseTemp$Neutre = (BaseTemp$POSITIVE==BaseTemp$NEGATIVE)\n",
    "BaseTemp$Positif= !(BaseTemp$Negatif|BaseTemp$Neutre)\n",
    "BaseTemp$Flag_positif <- ifelse(BaseTemp$Negatif==TRUE,0,ifelse(BaseTemp$Positif==TRUE,1,2))"
   ]
  },
  {
   "cell_type": "code",
   "execution_count": 9,
   "metadata": {},
   "outputs": [
    {
     "data": {
      "text/html": [
       "<table>\n",
       "<thead><tr><th></th><th scope=col>document</th><th scope=col>NEGATIVE</th><th scope=col>POSITIVE</th><th scope=col>nb</th><th scope=col>Negatif</th><th scope=col>Neutre</th><th scope=col>Positif</th><th scope=col>Flag_positif</th></tr></thead>\n",
       "<tbody>\n",
       "\t<tr><th scope=row>text1</th><td>text1 </td><td>0     </td><td> 4    </td><td> 17   </td><td>FALSE </td><td>FALSE </td><td> TRUE </td><td>1     </td></tr>\n",
       "\t<tr><th scope=row>text2</th><td>text2 </td><td>1     </td><td> 6    </td><td> 21   </td><td>FALSE </td><td>FALSE </td><td> TRUE </td><td>1     </td></tr>\n",
       "\t<tr><th scope=row>text3</th><td>text3 </td><td>0     </td><td> 5    </td><td> 17   </td><td>FALSE </td><td>FALSE </td><td> TRUE </td><td>1     </td></tr>\n",
       "\t<tr><th scope=row>text4</th><td>text4 </td><td>3     </td><td>13    </td><td> 89   </td><td>FALSE </td><td>FALSE </td><td> TRUE </td><td>1     </td></tr>\n",
       "\t<tr><th scope=row>text5</th><td>text5 </td><td>1     </td><td> 8    </td><td> 38   </td><td>FALSE </td><td>FALSE </td><td> TRUE </td><td>1     </td></tr>\n",
       "\t<tr><th scope=row>text6</th><td>text6 </td><td>0     </td><td> 5    </td><td> 23   </td><td>FALSE </td><td>FALSE </td><td> TRUE </td><td>1     </td></tr>\n",
       "\t<tr><th scope=row>text7</th><td>text7 </td><td>0     </td><td> 0    </td><td>  1   </td><td>FALSE </td><td> TRUE </td><td>FALSE </td><td>2     </td></tr>\n",
       "\t<tr><th scope=row>text8</th><td>text8 </td><td>0     </td><td> 4    </td><td> 11   </td><td>FALSE </td><td>FALSE </td><td> TRUE </td><td>1     </td></tr>\n",
       "\t<tr><th scope=row>text9</th><td>text9 </td><td>1     </td><td> 1    </td><td> 18   </td><td>FALSE </td><td> TRUE </td><td>FALSE </td><td>2     </td></tr>\n",
       "\t<tr><th scope=row>text10</th><td>text10</td><td>0     </td><td> 4    </td><td> 22   </td><td>FALSE </td><td>FALSE </td><td> TRUE </td><td>1     </td></tr>\n",
       "\t<tr><th scope=row>text11</th><td>text11</td><td>2     </td><td> 4    </td><td> 21   </td><td>FALSE </td><td>FALSE </td><td> TRUE </td><td>1     </td></tr>\n",
       "\t<tr><th scope=row>text12</th><td>text12</td><td>0     </td><td> 3    </td><td>  6   </td><td>FALSE </td><td>FALSE </td><td> TRUE </td><td>1     </td></tr>\n",
       "\t<tr><th scope=row>text13</th><td>text13</td><td>0     </td><td>10    </td><td> 32   </td><td>FALSE </td><td>FALSE </td><td> TRUE </td><td>1     </td></tr>\n",
       "\t<tr><th scope=row>text14</th><td>text14</td><td>0     </td><td>12    </td><td> 22   </td><td>FALSE </td><td>FALSE </td><td> TRUE </td><td>1     </td></tr>\n",
       "\t<tr><th scope=row>text15</th><td>text15</td><td>1     </td><td> 7    </td><td> 30   </td><td>FALSE </td><td>FALSE </td><td> TRUE </td><td>1     </td></tr>\n",
       "\t<tr><th scope=row>text16</th><td>text16</td><td>1     </td><td> 7    </td><td> 25   </td><td>FALSE </td><td>FALSE </td><td> TRUE </td><td>1     </td></tr>\n",
       "\t<tr><th scope=row>text17</th><td>text17</td><td>6     </td><td> 6    </td><td> 51   </td><td>FALSE </td><td> TRUE </td><td>FALSE </td><td>2     </td></tr>\n",
       "\t<tr><th scope=row>text18</th><td>text18</td><td>0     </td><td> 5    </td><td> 13   </td><td>FALSE </td><td>FALSE </td><td> TRUE </td><td>1     </td></tr>\n",
       "\t<tr><th scope=row>text19</th><td>text19</td><td>3     </td><td>17    </td><td>137   </td><td>FALSE </td><td>FALSE </td><td> TRUE </td><td>1     </td></tr>\n",
       "\t<tr><th scope=row>text20</th><td>text20</td><td>0     </td><td> 4    </td><td> 12   </td><td>FALSE </td><td>FALSE </td><td> TRUE </td><td>1     </td></tr>\n",
       "\t<tr><th scope=row>text21</th><td>text21</td><td>0     </td><td> 5    </td><td> 16   </td><td>FALSE </td><td>FALSE </td><td> TRUE </td><td>1     </td></tr>\n",
       "\t<tr><th scope=row>text22</th><td>text22</td><td>1     </td><td> 4    </td><td> 19   </td><td>FALSE </td><td>FALSE </td><td> TRUE </td><td>1     </td></tr>\n",
       "\t<tr><th scope=row>text23</th><td>text23</td><td>0     </td><td> 2    </td><td> 15   </td><td>FALSE </td><td>FALSE </td><td> TRUE </td><td>1     </td></tr>\n",
       "\t<tr><th scope=row>text24</th><td>text24</td><td>2     </td><td> 8    </td><td> 39   </td><td>FALSE </td><td>FALSE </td><td> TRUE </td><td>1     </td></tr>\n",
       "\t<tr><th scope=row>text25</th><td>text25</td><td>0     </td><td> 6    </td><td> 19   </td><td>FALSE </td><td>FALSE </td><td> TRUE </td><td>1     </td></tr>\n",
       "\t<tr><th scope=row>text26</th><td>text26</td><td>1     </td><td> 5    </td><td> 30   </td><td>FALSE </td><td>FALSE </td><td> TRUE </td><td>1     </td></tr>\n",
       "\t<tr><th scope=row>text27</th><td>text27</td><td>0     </td><td>12    </td><td> 52   </td><td>FALSE </td><td>FALSE </td><td> TRUE </td><td>1     </td></tr>\n",
       "\t<tr><th scope=row>text28</th><td>text28</td><td>1     </td><td> 6    </td><td> 34   </td><td>FALSE </td><td>FALSE </td><td> TRUE </td><td>1     </td></tr>\n",
       "\t<tr><th scope=row>text29</th><td>text29</td><td>0     </td><td> 5    </td><td> 18   </td><td>FALSE </td><td>FALSE </td><td> TRUE </td><td>1     </td></tr>\n",
       "\t<tr><th scope=row>text30</th><td>text30</td><td>0     </td><td> 5    </td><td> 25   </td><td>FALSE </td><td>FALSE </td><td> TRUE </td><td>1     </td></tr>\n",
       "\t<tr><th scope=row>⋮</th><td>⋮</td><td>⋮</td><td>⋮</td><td>⋮</td><td>⋮</td><td>⋮</td><td>⋮</td><td>⋮</td></tr>\n",
       "\t<tr><th scope=row>text197343</th><td>text197343</td><td>0         </td><td> 1        </td><td> 3        </td><td>FALSE     </td><td>FALSE     </td><td> TRUE     </td><td>1         </td></tr>\n",
       "\t<tr><th scope=row>text197344</th><td>text197344</td><td>0         </td><td> 2        </td><td> 8        </td><td>FALSE     </td><td>FALSE     </td><td> TRUE     </td><td>1         </td></tr>\n",
       "\t<tr><th scope=row>text197345</th><td>text197345</td><td>0         </td><td> 4        </td><td>11        </td><td>FALSE     </td><td>FALSE     </td><td> TRUE     </td><td>1         </td></tr>\n",
       "\t<tr><th scope=row>text197346</th><td>text197346</td><td>0         </td><td> 4        </td><td>14        </td><td>FALSE     </td><td>FALSE     </td><td> TRUE     </td><td>1         </td></tr>\n",
       "\t<tr><th scope=row>text197347</th><td>text197347</td><td>0         </td><td> 2        </td><td> 7        </td><td>FALSE     </td><td>FALSE     </td><td> TRUE     </td><td>1         </td></tr>\n",
       "\t<tr><th scope=row>text197348</th><td>text197348</td><td>0         </td><td> 1        </td><td> 5        </td><td>FALSE     </td><td>FALSE     </td><td> TRUE     </td><td>1         </td></tr>\n",
       "\t<tr><th scope=row>text197349</th><td>text197349</td><td>0         </td><td> 3        </td><td>11        </td><td>FALSE     </td><td>FALSE     </td><td> TRUE     </td><td>1         </td></tr>\n",
       "\t<tr><th scope=row>text197350</th><td>text197350</td><td>0         </td><td> 1        </td><td> 4        </td><td>FALSE     </td><td>FALSE     </td><td> TRUE     </td><td>1         </td></tr>\n",
       "\t<tr><th scope=row>text197351</th><td>text197351</td><td>0         </td><td> 2        </td><td> 5        </td><td>FALSE     </td><td>FALSE     </td><td> TRUE     </td><td>1         </td></tr>\n",
       "\t<tr><th scope=row>text197352</th><td>text197352</td><td>2         </td><td> 3        </td><td>12        </td><td>FALSE     </td><td>FALSE     </td><td> TRUE     </td><td>1         </td></tr>\n",
       "\t<tr><th scope=row>text197353</th><td>text197353</td><td>0         </td><td> 6        </td><td>35        </td><td>FALSE     </td><td>FALSE     </td><td> TRUE     </td><td>1         </td></tr>\n",
       "\t<tr><th scope=row>text197354</th><td>text197354</td><td>0         </td><td> 4        </td><td>21        </td><td>FALSE     </td><td>FALSE     </td><td> TRUE     </td><td>1         </td></tr>\n",
       "\t<tr><th scope=row>text197355</th><td>text197355</td><td>0         </td><td> 2        </td><td> 3        </td><td>FALSE     </td><td>FALSE     </td><td> TRUE     </td><td>1         </td></tr>\n",
       "\t<tr><th scope=row>text197356</th><td>text197356</td><td>0         </td><td> 4        </td><td> 6        </td><td>FALSE     </td><td>FALSE     </td><td> TRUE     </td><td>1         </td></tr>\n",
       "\t<tr><th scope=row>text197357</th><td>text197357</td><td>0         </td><td> 3        </td><td>10        </td><td>FALSE     </td><td>FALSE     </td><td> TRUE     </td><td>1         </td></tr>\n",
       "\t<tr><th scope=row>text197358</th><td>text197358</td><td>1         </td><td> 6        </td><td>23        </td><td>FALSE     </td><td>FALSE     </td><td> TRUE     </td><td>1         </td></tr>\n",
       "\t<tr><th scope=row>text197359</th><td>text197359</td><td>1         </td><td> 7        </td><td>20        </td><td>FALSE     </td><td>FALSE     </td><td> TRUE     </td><td>1         </td></tr>\n",
       "\t<tr><th scope=row>text197360</th><td>text197360</td><td>0         </td><td> 2        </td><td> 5        </td><td>FALSE     </td><td>FALSE     </td><td> TRUE     </td><td>1         </td></tr>\n",
       "\t<tr><th scope=row>text197361</th><td>text197361</td><td>0         </td><td> 2        </td><td> 6        </td><td>FALSE     </td><td>FALSE     </td><td> TRUE     </td><td>1         </td></tr>\n",
       "\t<tr><th scope=row>text197362</th><td>text197362</td><td>0         </td><td> 4        </td><td>10        </td><td>FALSE     </td><td>FALSE     </td><td> TRUE     </td><td>1         </td></tr>\n",
       "\t<tr><th scope=row>text197363</th><td>text197363</td><td>0         </td><td> 2        </td><td> 9        </td><td>FALSE     </td><td>FALSE     </td><td> TRUE     </td><td>1         </td></tr>\n",
       "\t<tr><th scope=row>text197364</th><td>text197364</td><td>2         </td><td> 1        </td><td>19        </td><td> TRUE     </td><td>FALSE     </td><td>FALSE     </td><td>0         </td></tr>\n",
       "\t<tr><th scope=row>text197365</th><td>text197365</td><td>4         </td><td> 2        </td><td>17        </td><td> TRUE     </td><td>FALSE     </td><td>FALSE     </td><td>0         </td></tr>\n",
       "\t<tr><th scope=row>text197366</th><td>text197366</td><td>1         </td><td> 2        </td><td> 9        </td><td>FALSE     </td><td>FALSE     </td><td> TRUE     </td><td>1         </td></tr>\n",
       "\t<tr><th scope=row>text197367</th><td>text197367</td><td>1         </td><td>10        </td><td>31        </td><td>FALSE     </td><td>FALSE     </td><td> TRUE     </td><td>1         </td></tr>\n",
       "\t<tr><th scope=row>text197368</th><td>text197368</td><td>0         </td><td> 4        </td><td>13        </td><td>FALSE     </td><td>FALSE     </td><td> TRUE     </td><td>1         </td></tr>\n",
       "\t<tr><th scope=row>text197369</th><td>text197369</td><td>1         </td><td> 4        </td><td>22        </td><td>FALSE     </td><td>FALSE     </td><td> TRUE     </td><td>1         </td></tr>\n",
       "\t<tr><th scope=row>text197370</th><td>text197370</td><td>0         </td><td> 0        </td><td> 2        </td><td>FALSE     </td><td> TRUE     </td><td>FALSE     </td><td>2         </td></tr>\n",
       "\t<tr><th scope=row>text197371</th><td>text197371</td><td>0         </td><td> 8        </td><td>29        </td><td>FALSE     </td><td>FALSE     </td><td> TRUE     </td><td>1         </td></tr>\n",
       "\t<tr><th scope=row>text197372</th><td>text197372</td><td>0         </td><td> 2        </td><td> 9        </td><td>FALSE     </td><td>FALSE     </td><td> TRUE     </td><td>1         </td></tr>\n",
       "</tbody>\n",
       "</table>\n"
      ],
      "text/latex": [
       "\\begin{tabular}{r|llllllll}\n",
       "  & document & NEGATIVE & POSITIVE & nb & Negatif & Neutre & Positif & Flag\\_positif\\\\\n",
       "\\hline\n",
       "\ttext1 & text1  & 0      &  4     &  17    & FALSE  & FALSE  &  TRUE  & 1     \\\\\n",
       "\ttext2 & text2  & 1      &  6     &  21    & FALSE  & FALSE  &  TRUE  & 1     \\\\\n",
       "\ttext3 & text3  & 0      &  5     &  17    & FALSE  & FALSE  &  TRUE  & 1     \\\\\n",
       "\ttext4 & text4  & 3      & 13     &  89    & FALSE  & FALSE  &  TRUE  & 1     \\\\\n",
       "\ttext5 & text5  & 1      &  8     &  38    & FALSE  & FALSE  &  TRUE  & 1     \\\\\n",
       "\ttext6 & text6  & 0      &  5     &  23    & FALSE  & FALSE  &  TRUE  & 1     \\\\\n",
       "\ttext7 & text7  & 0      &  0     &   1    & FALSE  &  TRUE  & FALSE  & 2     \\\\\n",
       "\ttext8 & text8  & 0      &  4     &  11    & FALSE  & FALSE  &  TRUE  & 1     \\\\\n",
       "\ttext9 & text9  & 1      &  1     &  18    & FALSE  &  TRUE  & FALSE  & 2     \\\\\n",
       "\ttext10 & text10 & 0      &  4     &  22    & FALSE  & FALSE  &  TRUE  & 1     \\\\\n",
       "\ttext11 & text11 & 2      &  4     &  21    & FALSE  & FALSE  &  TRUE  & 1     \\\\\n",
       "\ttext12 & text12 & 0      &  3     &   6    & FALSE  & FALSE  &  TRUE  & 1     \\\\\n",
       "\ttext13 & text13 & 0      & 10     &  32    & FALSE  & FALSE  &  TRUE  & 1     \\\\\n",
       "\ttext14 & text14 & 0      & 12     &  22    & FALSE  & FALSE  &  TRUE  & 1     \\\\\n",
       "\ttext15 & text15 & 1      &  7     &  30    & FALSE  & FALSE  &  TRUE  & 1     \\\\\n",
       "\ttext16 & text16 & 1      &  7     &  25    & FALSE  & FALSE  &  TRUE  & 1     \\\\\n",
       "\ttext17 & text17 & 6      &  6     &  51    & FALSE  &  TRUE  & FALSE  & 2     \\\\\n",
       "\ttext18 & text18 & 0      &  5     &  13    & FALSE  & FALSE  &  TRUE  & 1     \\\\\n",
       "\ttext19 & text19 & 3      & 17     & 137    & FALSE  & FALSE  &  TRUE  & 1     \\\\\n",
       "\ttext20 & text20 & 0      &  4     &  12    & FALSE  & FALSE  &  TRUE  & 1     \\\\\n",
       "\ttext21 & text21 & 0      &  5     &  16    & FALSE  & FALSE  &  TRUE  & 1     \\\\\n",
       "\ttext22 & text22 & 1      &  4     &  19    & FALSE  & FALSE  &  TRUE  & 1     \\\\\n",
       "\ttext23 & text23 & 0      &  2     &  15    & FALSE  & FALSE  &  TRUE  & 1     \\\\\n",
       "\ttext24 & text24 & 2      &  8     &  39    & FALSE  & FALSE  &  TRUE  & 1     \\\\\n",
       "\ttext25 & text25 & 0      &  6     &  19    & FALSE  & FALSE  &  TRUE  & 1     \\\\\n",
       "\ttext26 & text26 & 1      &  5     &  30    & FALSE  & FALSE  &  TRUE  & 1     \\\\\n",
       "\ttext27 & text27 & 0      & 12     &  52    & FALSE  & FALSE  &  TRUE  & 1     \\\\\n",
       "\ttext28 & text28 & 1      &  6     &  34    & FALSE  & FALSE  &  TRUE  & 1     \\\\\n",
       "\ttext29 & text29 & 0      &  5     &  18    & FALSE  & FALSE  &  TRUE  & 1     \\\\\n",
       "\ttext30 & text30 & 0      &  5     &  25    & FALSE  & FALSE  &  TRUE  & 1     \\\\\n",
       "\t⋮ & ⋮ & ⋮ & ⋮ & ⋮ & ⋮ & ⋮ & ⋮ & ⋮\\\\\n",
       "\ttext197343 & text197343 & 0          &  1         &  3         & FALSE      & FALSE      &  TRUE      & 1         \\\\\n",
       "\ttext197344 & text197344 & 0          &  2         &  8         & FALSE      & FALSE      &  TRUE      & 1         \\\\\n",
       "\ttext197345 & text197345 & 0          &  4         & 11         & FALSE      & FALSE      &  TRUE      & 1         \\\\\n",
       "\ttext197346 & text197346 & 0          &  4         & 14         & FALSE      & FALSE      &  TRUE      & 1         \\\\\n",
       "\ttext197347 & text197347 & 0          &  2         &  7         & FALSE      & FALSE      &  TRUE      & 1         \\\\\n",
       "\ttext197348 & text197348 & 0          &  1         &  5         & FALSE      & FALSE      &  TRUE      & 1         \\\\\n",
       "\ttext197349 & text197349 & 0          &  3         & 11         & FALSE      & FALSE      &  TRUE      & 1         \\\\\n",
       "\ttext197350 & text197350 & 0          &  1         &  4         & FALSE      & FALSE      &  TRUE      & 1         \\\\\n",
       "\ttext197351 & text197351 & 0          &  2         &  5         & FALSE      & FALSE      &  TRUE      & 1         \\\\\n",
       "\ttext197352 & text197352 & 2          &  3         & 12         & FALSE      & FALSE      &  TRUE      & 1         \\\\\n",
       "\ttext197353 & text197353 & 0          &  6         & 35         & FALSE      & FALSE      &  TRUE      & 1         \\\\\n",
       "\ttext197354 & text197354 & 0          &  4         & 21         & FALSE      & FALSE      &  TRUE      & 1         \\\\\n",
       "\ttext197355 & text197355 & 0          &  2         &  3         & FALSE      & FALSE      &  TRUE      & 1         \\\\\n",
       "\ttext197356 & text197356 & 0          &  4         &  6         & FALSE      & FALSE      &  TRUE      & 1         \\\\\n",
       "\ttext197357 & text197357 & 0          &  3         & 10         & FALSE      & FALSE      &  TRUE      & 1         \\\\\n",
       "\ttext197358 & text197358 & 1          &  6         & 23         & FALSE      & FALSE      &  TRUE      & 1         \\\\\n",
       "\ttext197359 & text197359 & 1          &  7         & 20         & FALSE      & FALSE      &  TRUE      & 1         \\\\\n",
       "\ttext197360 & text197360 & 0          &  2         &  5         & FALSE      & FALSE      &  TRUE      & 1         \\\\\n",
       "\ttext197361 & text197361 & 0          &  2         &  6         & FALSE      & FALSE      &  TRUE      & 1         \\\\\n",
       "\ttext197362 & text197362 & 0          &  4         & 10         & FALSE      & FALSE      &  TRUE      & 1         \\\\\n",
       "\ttext197363 & text197363 & 0          &  2         &  9         & FALSE      & FALSE      &  TRUE      & 1         \\\\\n",
       "\ttext197364 & text197364 & 2          &  1         & 19         &  TRUE      & FALSE      & FALSE      & 0         \\\\\n",
       "\ttext197365 & text197365 & 4          &  2         & 17         &  TRUE      & FALSE      & FALSE      & 0         \\\\\n",
       "\ttext197366 & text197366 & 1          &  2         &  9         & FALSE      & FALSE      &  TRUE      & 1         \\\\\n",
       "\ttext197367 & text197367 & 1          & 10         & 31         & FALSE      & FALSE      &  TRUE      & 1         \\\\\n",
       "\ttext197368 & text197368 & 0          &  4         & 13         & FALSE      & FALSE      &  TRUE      & 1         \\\\\n",
       "\ttext197369 & text197369 & 1          &  4         & 22         & FALSE      & FALSE      &  TRUE      & 1         \\\\\n",
       "\ttext197370 & text197370 & 0          &  0         &  2         & FALSE      &  TRUE      & FALSE      & 2         \\\\\n",
       "\ttext197371 & text197371 & 0          &  8         & 29         & FALSE      & FALSE      &  TRUE      & 1         \\\\\n",
       "\ttext197372 & text197372 & 0          &  2         &  9         & FALSE      & FALSE      &  TRUE      & 1         \\\\\n",
       "\\end{tabular}\n"
      ],
      "text/markdown": [
       "\n",
       "| <!--/--> | document | NEGATIVE | POSITIVE | nb | Negatif | Neutre | Positif | Flag_positif | \n",
       "|---|---|---|---|---|---|---|---|---|---|---|---|---|---|---|---|---|---|---|---|---|---|---|---|---|---|---|---|---|---|---|---|---|---|---|---|---|---|---|---|---|---|---|---|---|---|---|---|---|---|---|---|---|---|---|---|---|---|---|---|---|\n",
       "| text1 | text1  | 0      |  4     |  17    | FALSE  | FALSE  |  TRUE  | 1      | \n",
       "| text2 | text2  | 1      |  6     |  21    | FALSE  | FALSE  |  TRUE  | 1      | \n",
       "| text3 | text3  | 0      |  5     |  17    | FALSE  | FALSE  |  TRUE  | 1      | \n",
       "| text4 | text4  | 3      | 13     |  89    | FALSE  | FALSE  |  TRUE  | 1      | \n",
       "| text5 | text5  | 1      |  8     |  38    | FALSE  | FALSE  |  TRUE  | 1      | \n",
       "| text6 | text6  | 0      |  5     |  23    | FALSE  | FALSE  |  TRUE  | 1      | \n",
       "| text7 | text7  | 0      |  0     |   1    | FALSE  |  TRUE  | FALSE  | 2      | \n",
       "| text8 | text8  | 0      |  4     |  11    | FALSE  | FALSE  |  TRUE  | 1      | \n",
       "| text9 | text9  | 1      |  1     |  18    | FALSE  |  TRUE  | FALSE  | 2      | \n",
       "| text10 | text10 | 0      |  4     |  22    | FALSE  | FALSE  |  TRUE  | 1      | \n",
       "| text11 | text11 | 2      |  4     |  21    | FALSE  | FALSE  |  TRUE  | 1      | \n",
       "| text12 | text12 | 0      |  3     |   6    | FALSE  | FALSE  |  TRUE  | 1      | \n",
       "| text13 | text13 | 0      | 10     |  32    | FALSE  | FALSE  |  TRUE  | 1      | \n",
       "| text14 | text14 | 0      | 12     |  22    | FALSE  | FALSE  |  TRUE  | 1      | \n",
       "| text15 | text15 | 1      |  7     |  30    | FALSE  | FALSE  |  TRUE  | 1      | \n",
       "| text16 | text16 | 1      |  7     |  25    | FALSE  | FALSE  |  TRUE  | 1      | \n",
       "| text17 | text17 | 6      |  6     |  51    | FALSE  |  TRUE  | FALSE  | 2      | \n",
       "| text18 | text18 | 0      |  5     |  13    | FALSE  | FALSE  |  TRUE  | 1      | \n",
       "| text19 | text19 | 3      | 17     | 137    | FALSE  | FALSE  |  TRUE  | 1      | \n",
       "| text20 | text20 | 0      |  4     |  12    | FALSE  | FALSE  |  TRUE  | 1      | \n",
       "| text21 | text21 | 0      |  5     |  16    | FALSE  | FALSE  |  TRUE  | 1      | \n",
       "| text22 | text22 | 1      |  4     |  19    | FALSE  | FALSE  |  TRUE  | 1      | \n",
       "| text23 | text23 | 0      |  2     |  15    | FALSE  | FALSE  |  TRUE  | 1      | \n",
       "| text24 | text24 | 2      |  8     |  39    | FALSE  | FALSE  |  TRUE  | 1      | \n",
       "| text25 | text25 | 0      |  6     |  19    | FALSE  | FALSE  |  TRUE  | 1      | \n",
       "| text26 | text26 | 1      |  5     |  30    | FALSE  | FALSE  |  TRUE  | 1      | \n",
       "| text27 | text27 | 0      | 12     |  52    | FALSE  | FALSE  |  TRUE  | 1      | \n",
       "| text28 | text28 | 1      |  6     |  34    | FALSE  | FALSE  |  TRUE  | 1      | \n",
       "| text29 | text29 | 0      |  5     |  18    | FALSE  | FALSE  |  TRUE  | 1      | \n",
       "| text30 | text30 | 0      |  5     |  25    | FALSE  | FALSE  |  TRUE  | 1      | \n",
       "| ⋮ | ⋮ | ⋮ | ⋮ | ⋮ | ⋮ | ⋮ | ⋮ | ⋮ | \n",
       "| text197343 | text197343 | 0          |  1         |  3         | FALSE      | FALSE      |  TRUE      | 1          | \n",
       "| text197344 | text197344 | 0          |  2         |  8         | FALSE      | FALSE      |  TRUE      | 1          | \n",
       "| text197345 | text197345 | 0          |  4         | 11         | FALSE      | FALSE      |  TRUE      | 1          | \n",
       "| text197346 | text197346 | 0          |  4         | 14         | FALSE      | FALSE      |  TRUE      | 1          | \n",
       "| text197347 | text197347 | 0          |  2         |  7         | FALSE      | FALSE      |  TRUE      | 1          | \n",
       "| text197348 | text197348 | 0          |  1         |  5         | FALSE      | FALSE      |  TRUE      | 1          | \n",
       "| text197349 | text197349 | 0          |  3         | 11         | FALSE      | FALSE      |  TRUE      | 1          | \n",
       "| text197350 | text197350 | 0          |  1         |  4         | FALSE      | FALSE      |  TRUE      | 1          | \n",
       "| text197351 | text197351 | 0          |  2         |  5         | FALSE      | FALSE      |  TRUE      | 1          | \n",
       "| text197352 | text197352 | 2          |  3         | 12         | FALSE      | FALSE      |  TRUE      | 1          | \n",
       "| text197353 | text197353 | 0          |  6         | 35         | FALSE      | FALSE      |  TRUE      | 1          | \n",
       "| text197354 | text197354 | 0          |  4         | 21         | FALSE      | FALSE      |  TRUE      | 1          | \n",
       "| text197355 | text197355 | 0          |  2         |  3         | FALSE      | FALSE      |  TRUE      | 1          | \n",
       "| text197356 | text197356 | 0          |  4         |  6         | FALSE      | FALSE      |  TRUE      | 1          | \n",
       "| text197357 | text197357 | 0          |  3         | 10         | FALSE      | FALSE      |  TRUE      | 1          | \n",
       "| text197358 | text197358 | 1          |  6         | 23         | FALSE      | FALSE      |  TRUE      | 1          | \n",
       "| text197359 | text197359 | 1          |  7         | 20         | FALSE      | FALSE      |  TRUE      | 1          | \n",
       "| text197360 | text197360 | 0          |  2         |  5         | FALSE      | FALSE      |  TRUE      | 1          | \n",
       "| text197361 | text197361 | 0          |  2         |  6         | FALSE      | FALSE      |  TRUE      | 1          | \n",
       "| text197362 | text197362 | 0          |  4         | 10         | FALSE      | FALSE      |  TRUE      | 1          | \n",
       "| text197363 | text197363 | 0          |  2         |  9         | FALSE      | FALSE      |  TRUE      | 1          | \n",
       "| text197364 | text197364 | 2          |  1         | 19         |  TRUE      | FALSE      | FALSE      | 0          | \n",
       "| text197365 | text197365 | 4          |  2         | 17         |  TRUE      | FALSE      | FALSE      | 0          | \n",
       "| text197366 | text197366 | 1          |  2         |  9         | FALSE      | FALSE      |  TRUE      | 1          | \n",
       "| text197367 | text197367 | 1          | 10         | 31         | FALSE      | FALSE      |  TRUE      | 1          | \n",
       "| text197368 | text197368 | 0          |  4         | 13         | FALSE      | FALSE      |  TRUE      | 1          | \n",
       "| text197369 | text197369 | 1          |  4         | 22         | FALSE      | FALSE      |  TRUE      | 1          | \n",
       "| text197370 | text197370 | 0          |  0         |  2         | FALSE      |  TRUE      | FALSE      | 2          | \n",
       "| text197371 | text197371 | 0          |  8         | 29         | FALSE      | FALSE      |  TRUE      | 1          | \n",
       "| text197372 | text197372 | 0          |  2         |  9         | FALSE      | FALSE      |  TRUE      | 1          | \n",
       "\n",
       "\n"
      ],
      "text/plain": [
       "           document   NEGATIVE POSITIVE nb  Negatif Neutre Positif Flag_positif\n",
       "text1      text1      0         4        17 FALSE   FALSE   TRUE   1           \n",
       "text2      text2      1         6        21 FALSE   FALSE   TRUE   1           \n",
       "text3      text3      0         5        17 FALSE   FALSE   TRUE   1           \n",
       "text4      text4      3        13        89 FALSE   FALSE   TRUE   1           \n",
       "text5      text5      1         8        38 FALSE   FALSE   TRUE   1           \n",
       "text6      text6      0         5        23 FALSE   FALSE   TRUE   1           \n",
       "text7      text7      0         0         1 FALSE    TRUE  FALSE   2           \n",
       "text8      text8      0         4        11 FALSE   FALSE   TRUE   1           \n",
       "text9      text9      1         1        18 FALSE    TRUE  FALSE   2           \n",
       "text10     text10     0         4        22 FALSE   FALSE   TRUE   1           \n",
       "text11     text11     2         4        21 FALSE   FALSE   TRUE   1           \n",
       "text12     text12     0         3         6 FALSE   FALSE   TRUE   1           \n",
       "text13     text13     0        10        32 FALSE   FALSE   TRUE   1           \n",
       "text14     text14     0        12        22 FALSE   FALSE   TRUE   1           \n",
       "text15     text15     1         7        30 FALSE   FALSE   TRUE   1           \n",
       "text16     text16     1         7        25 FALSE   FALSE   TRUE   1           \n",
       "text17     text17     6         6        51 FALSE    TRUE  FALSE   2           \n",
       "text18     text18     0         5        13 FALSE   FALSE   TRUE   1           \n",
       "text19     text19     3        17       137 FALSE   FALSE   TRUE   1           \n",
       "text20     text20     0         4        12 FALSE   FALSE   TRUE   1           \n",
       "text21     text21     0         5        16 FALSE   FALSE   TRUE   1           \n",
       "text22     text22     1         4        19 FALSE   FALSE   TRUE   1           \n",
       "text23     text23     0         2        15 FALSE   FALSE   TRUE   1           \n",
       "text24     text24     2         8        39 FALSE   FALSE   TRUE   1           \n",
       "text25     text25     0         6        19 FALSE   FALSE   TRUE   1           \n",
       "text26     text26     1         5        30 FALSE   FALSE   TRUE   1           \n",
       "text27     text27     0        12        52 FALSE   FALSE   TRUE   1           \n",
       "text28     text28     1         6        34 FALSE   FALSE   TRUE   1           \n",
       "text29     text29     0         5        18 FALSE   FALSE   TRUE   1           \n",
       "text30     text30     0         5        25 FALSE   FALSE   TRUE   1           \n",
       "⋮          ⋮          ⋮        ⋮        ⋮   ⋮       ⋮      ⋮       ⋮           \n",
       "text197343 text197343 0         1        3  FALSE   FALSE   TRUE   1           \n",
       "text197344 text197344 0         2        8  FALSE   FALSE   TRUE   1           \n",
       "text197345 text197345 0         4       11  FALSE   FALSE   TRUE   1           \n",
       "text197346 text197346 0         4       14  FALSE   FALSE   TRUE   1           \n",
       "text197347 text197347 0         2        7  FALSE   FALSE   TRUE   1           \n",
       "text197348 text197348 0         1        5  FALSE   FALSE   TRUE   1           \n",
       "text197349 text197349 0         3       11  FALSE   FALSE   TRUE   1           \n",
       "text197350 text197350 0         1        4  FALSE   FALSE   TRUE   1           \n",
       "text197351 text197351 0         2        5  FALSE   FALSE   TRUE   1           \n",
       "text197352 text197352 2         3       12  FALSE   FALSE   TRUE   1           \n",
       "text197353 text197353 0         6       35  FALSE   FALSE   TRUE   1           \n",
       "text197354 text197354 0         4       21  FALSE   FALSE   TRUE   1           \n",
       "text197355 text197355 0         2        3  FALSE   FALSE   TRUE   1           \n",
       "text197356 text197356 0         4        6  FALSE   FALSE   TRUE   1           \n",
       "text197357 text197357 0         3       10  FALSE   FALSE   TRUE   1           \n",
       "text197358 text197358 1         6       23  FALSE   FALSE   TRUE   1           \n",
       "text197359 text197359 1         7       20  FALSE   FALSE   TRUE   1           \n",
       "text197360 text197360 0         2        5  FALSE   FALSE   TRUE   1           \n",
       "text197361 text197361 0         2        6  FALSE   FALSE   TRUE   1           \n",
       "text197362 text197362 0         4       10  FALSE   FALSE   TRUE   1           \n",
       "text197363 text197363 0         2        9  FALSE   FALSE   TRUE   1           \n",
       "text197364 text197364 2         1       19   TRUE   FALSE  FALSE   0           \n",
       "text197365 text197365 4         2       17   TRUE   FALSE  FALSE   0           \n",
       "text197366 text197366 1         2        9  FALSE   FALSE   TRUE   1           \n",
       "text197367 text197367 1        10       31  FALSE   FALSE   TRUE   1           \n",
       "text197368 text197368 0         4       13  FALSE   FALSE   TRUE   1           \n",
       "text197369 text197369 1         4       22  FALSE   FALSE   TRUE   1           \n",
       "text197370 text197370 0         0        2  FALSE    TRUE  FALSE   2           \n",
       "text197371 text197371 0         8       29  FALSE   FALSE   TRUE   1           \n",
       "text197372 text197372 0         2        9  FALSE   FALSE   TRUE   1           "
      ]
     },
     "metadata": {},
     "output_type": "display_data"
    }
   ],
   "source": [
    "BaseTemp"
   ]
  },
  {
   "cell_type": "code",
   "execution_count": 10,
   "metadata": {},
   "outputs": [],
   "source": [
    "# Constitution du dataframe final en mergeant les données initiales e tles calculs\n",
    "result=data.frame(Comment,BaseTemp)\n",
    "result$document <- NULL"
   ]
  },
  {
   "cell_type": "code",
   "execution_count": 11,
   "metadata": {},
   "outputs": [
    {
     "data": {
      "text/plain": [
       "      X_id               date            reviewer_id        reviewer_name     \n",
       " Min.   :    31876   Length:197372      Min.   :      251   Length:197372     \n",
       " 1st Qu.: 48693856   Class :character   1st Qu.: 13638765   Class :character  \n",
       " Median : 77819584   Mode  :character   Median : 29655692   Mode  :character  \n",
       " Mean   : 79190377                      Mean   : 37698377                     \n",
       " 3rd Qu.:115283679                      3rd Qu.: 53735180                     \n",
       " Max.   :141885349                      Max.   :123929885                     \n",
       "                                                                              \n",
       "   comments            langue             lg_proba      review_scores_accuracy\n",
       " Length:197372      Length:197372      Min.   :0.8000   Min.   : 2.000        \n",
       " Class :character   Class :character   1st Qu.:0.9690   1st Qu.: 9.000        \n",
       " Mode  :character   Mode  :character   Median :0.9825   Median :10.000        \n",
       "                                       Mean   :0.9716   Mean   : 9.452        \n",
       "                                       3rd Qu.:0.9903   3rd Qu.:10.000        \n",
       "                                       Max.   :1.0000   Max.   :10.000        \n",
       "                                                        NA's   :903           \n",
       " review_scores_checkin review_scores_cleanliness review_scores_communication\n",
       " Min.   : 2.000        Min.   : 2.000            Min.   : 2.000             \n",
       " 1st Qu.: 9.000        1st Qu.: 9.000            1st Qu.: 9.000             \n",
       " Median :10.000        Median : 9.000            Median :10.000             \n",
       " Mean   : 9.661        Mean   : 9.172            Mean   : 9.701             \n",
       " 3rd Qu.:10.000        3rd Qu.:10.000            3rd Qu.:10.000             \n",
       " Max.   :10.000        Max.   :10.000            Max.   :10.000             \n",
       " NA's   :903           NA's   :903               NA's   :903                \n",
       " review_scores_location review_scores_rating review_scores_value\n",
       " Min.   : 2.000         Min.   : 2.000       Min.   : 2.000     \n",
       " 1st Qu.: 9.000         1st Qu.: 8.800       1st Qu.: 9.000     \n",
       " Median :10.000         Median : 9.200       Median : 9.000     \n",
       " Mean   : 9.457         Mean   : 9.106       Mean   : 9.189     \n",
       " 3rd Qu.:10.000         3rd Qu.: 9.500       3rd Qu.:10.000     \n",
       " Max.   :10.000         Max.   :10.000       Max.   :10.000     \n",
       " NA's   :903            NA's   :903          NA's   :903        \n",
       "    NEGATIVE          POSITIVE            nb          Negatif       \n",
       " Min.   : 0.0000   Min.   : 0.000   Min.   :  0.00   Mode :logical  \n",
       " 1st Qu.: 0.0000   1st Qu.: 3.000   1st Qu.: 11.00   FALSE:193393   \n",
       " Median : 0.0000   Median : 4.000   Median : 17.00   TRUE :3979     \n",
       " Mean   : 0.4217   Mean   : 4.891   Mean   : 20.89                  \n",
       " 3rd Qu.: 1.0000   3rd Qu.: 6.000   3rd Qu.: 26.00                  \n",
       " Max.   :24.0000   Max.   :50.000   Max.   :505.00                  \n",
       "                                                                    \n",
       "   Neutre         Positif         Flag_positif  \n",
       " Mode :logical   Mode :logical   Min.   :0.000  \n",
       " FALSE:192744    FALSE:8607      1st Qu.:1.000  \n",
       " TRUE :4628      TRUE :188765    Median :1.000  \n",
       "                                 Mean   :1.003  \n",
       "                                 3rd Qu.:1.000  \n",
       "                                 Max.   :2.000  \n",
       "                                                "
      ]
     },
     "metadata": {},
     "output_type": "display_data"
    }
   ],
   "source": [
    "summary(result)"
   ]
  },
  {
   "cell_type": "code",
   "execution_count": 12,
   "metadata": {},
   "outputs": [],
   "source": [
    "# Export des lignes globalement négatives pour analyse\n",
    "write.csv2(result[result$Negatif,], file=\"comment_fr_sentiment_NEG.csv\", quote=TRUE,  fileEncoding= \"utf-8\" )"
   ]
  },
  {
   "cell_type": "code",
   "execution_count": 13,
   "metadata": {},
   "outputs": [],
   "source": [
    "# Export des données complètes\n",
    "write.csv2(result, file=\"comment_fr_sentiment.csv\", quote=TRUE, fileEncoding= \"utf-8\" )\n"
   ]
  },
  {
   "cell_type": "code",
   "execution_count": 14,
   "metadata": {},
   "outputs": [],
   "source": [
    "# Export des données complètes\n",
    "result_modele = result[result$Flag_positif!=2,c(\"X_id\",\"comments\",\"Flag_positif\")]\n",
    "names(result_modele)[names(result_modele) == 'X_id'] <- 'id'\n",
    "write.table(result_modele, file=\"comment_fr_modele.csv\", quote=TRUE, sep=\"#\", fileEncoding= \"utf-8\" ,\n",
    "            row.names = FALSE,col.names=FALSE)\n"
   ]
  },
  {
   "cell_type": "code",
   "execution_count": 20,
   "metadata": {},
   "outputs": [
    {
     "data": {
      "text/plain": [
       "       id              comments          Flag_positif   \n",
       " Min.   :    31876   Length:192744      Min.   :0.0000  \n",
       " 1st Qu.: 48374538   Class :character   1st Qu.:1.0000  \n",
       " Median : 77440254   Mode  :character   Median :1.0000  \n",
       " Mean   : 78922441                      Mean   :0.9794  \n",
       " 3rd Qu.:115015478                      3rd Qu.:1.0000  \n",
       " Max.   :141885349                      Max.   :1.0000  "
      ]
     },
     "metadata": {},
     "output_type": "display_data"
    }
   ],
   "source": [
    "summary(result_modele)"
   ]
  }
 ],
 "metadata": {
  "kernelspec": {
   "display_name": "R",
   "language": "R",
   "name": "ir"
  },
  "language_info": {
   "codemirror_mode": "r",
   "file_extension": ".r",
   "mimetype": "text/x-r-source",
   "name": "R",
   "pygments_lexer": "r",
   "version": "3.4.1"
  }
 },
 "nbformat": 4,
 "nbformat_minor": 2
}
