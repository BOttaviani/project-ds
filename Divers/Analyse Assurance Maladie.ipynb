{
 "cells": [
  {
   "cell_type": "code",
   "execution_count": 1,
   "metadata": {},
   "outputs": [
    {
     "name": "stdout",
     "output_type": "stream",
     "text": [
      "Invalidité\n"
     ]
    }
   ],
   "source": [
    "import pandas, numpy, pyensae, os\n",
    "from sklearn.decomposition import PCA\n",
    "import matplotlib.pyplot as plt\n",
    "%matplotlib inline\n",
    "\n",
    "lib_exe_spe1={'11':'Médecins gén','12':'Médecins Spé','30':'Laboratoires',\n",
    "          '41':'Dentistes gén','42':'Dentistes Spé','50':'Sages-Femmes',\n",
    "          '60':'Infirmiers','70':'Masseurs-Kiné','80':'Pédicures','91':'Orthophonistes',\n",
    "          '92':'Orthoptistes','99':'Autres'}\n",
    "lib_asu_nat={'1':'Maladie','3':'Maternité','4':'Accident','5':'Décès','8':'Invalidité'}\n",
    "\n",
    "print( lib_asu_nat['8'])"
   ]
  },
  {
   "cell_type": "code",
   "execution_count": 2,
   "metadata": {
    "collapsed": true
   },
   "outputs": [],
   "source": [
    "path =\"/home/user/Documents/PROJETS/DATA/Assurance Maladie\"\n",
    "os.chdir(path)\n",
    "\n",
    "mydata = pandas.read_csv(\"R201601_sanslib.CSV\", sep=\";\", header = 0, decimal= \",\", thousands=\".\", dtype = {\n",
    "     'cpam':str, 'SERIE' : str, 'prs_nat' : str, 'sns_date' : str ,'asu_nat' : str,'cpl_cod' : str,\n",
    "    'ben_qlt' : str,'REM_TAU' : str,'pre_spe' : str,'pre_spe1' : str,'pre_stj1' : str,\n",
    "    'exe_spe' : str,'exe_spe1' : str,'exe_stj1' : str,'top_slm' : str,'rem_mon' : float,'rec_mon' : float,\n",
    "    'dep_mon' : float,'act_dnb' : int,'act_coe' : float\n",
    "})\n",
    "\n"
   ]
  },
  {
   "cell_type": "code",
   "execution_count": 5,
   "metadata": {},
   "outputs": [
    {
     "name": "stdout",
     "output_type": "stream",
     "text": [
      "<class 'pandas.core.frame.DataFrame'>\n",
      "RangeIndex: 3753567 entries, 0 to 3753566\n",
      "Data columns (total 20 columns):\n",
      "cpam        object\n",
      "SERIE       object\n",
      "prs_nat     object\n",
      "sns_date    object\n",
      "asu_nat     object\n",
      "cpl_cod     object\n",
      "ben_qlt     object\n",
      "REM_TAU     object\n",
      "pre_spe     object\n",
      "pre_spe1    object\n",
      "pre_stj1    object\n",
      "exe_spe     object\n",
      "exe_spe1    object\n",
      "exe_stj1    object\n",
      "top_slm     object\n",
      "rem_mon     float64\n",
      "rec_mon     float64\n",
      "dep_mon     float64\n",
      "act_dnb     int64\n",
      "act_coe     float64\n",
      "dtypes: float64(4), int64(1), object(15)\n",
      "memory usage: 572.7+ MB\n"
     ]
    }
   ],
   "source": [
    "\n",
    "mydata.info()\n",
    "\n",
    "\n",
    "\n",
    "#mydata.to_csv(\"DD_R201601.csv\")"
   ]
  },
  {
   "cell_type": "code",
   "execution_count": 3,
   "metadata": {},
   "outputs": [
    {
     "name": "stdout",
     "output_type": "stream",
     "text": [
      "            rem_mon       rec_mon       dep_mon       act_dnb       act_coe\n",
      "count  3.753567e+06  3.753567e+06  3.753567e+06  3.753567e+06  3.753567e+06\n",
      "mean   1.777055e+03  2.067761e+03  1.365087e+02  1.917341e+02  5.594166e+02\n",
      "std    4.475864e+04  4.681972e+04  5.918998e+03  4.426068e+03  1.866730e+04\n",
      "min   -1.162058e+06 -1.613636e+05 -1.094406e+04 -4.517000e+03 -9.510000e+03\n",
      "25%    2.500000e+00  3.670000e+00  0.000000e+00  1.000000e+00  1.000000e+00\n",
      "50%    2.300000e+01  3.200000e+01  0.000000e+00  3.000000e+00  4.000000e+00\n",
      "75%    1.334200e+02  1.675000e+02  0.000000e+00  1.500000e+01  2.200000e+01\n",
      "max    2.258864e+07  2.258864e+07  3.137064e+06  1.416545e+06  8.290529e+06\n"
     ]
    }
   ],
   "source": [
    "\n",
    "stat= mydata.describe()\n",
    "print(stat)"
   ]
  },
  {
   "cell_type": "code",
   "execution_count": 17,
   "metadata": {},
   "outputs": [
    {
     "data": {
      "text/plain": [
       "<matplotlib.text.Text at 0x7f460fda1dd8>"
      ]
     },
     "execution_count": 17,
     "metadata": {},
     "output_type": "execute_result"
    },
    {
     "data": {
      "image/png": "[encoded data removed]",
      "text/plain": [
       "<matplotlib.figure.Figure at 0x7f460fe35400>"
      ]
     },
     "metadata": {},
     "output_type": "display_data"
    }
   ],
   "source": [
    "\n",
    "bp = mydata.boxplot(column=\"rem_mon\", by=\"Risque\")\n",
    "plt.title('mon titre')\n",
    "plt.suptitle(\"\")\n"
   ]
  },
  {
   "cell_type": "code",
   "execution_count": 54,
   "metadata": {},
   "outputs": [
    {
     "data": {
      "text/plain": [
       "1    3415354\n",
       "dtype: int64"
      ]
     },
     "execution_count": 54,
     "metadata": {},
     "output_type": "execute_result"
    }
   ],
   "source": [
    "Maladie = mydata[ mydata.asu_nat == '1']\n",
    "Maladie.head()\n",
    "Maladie.count()\n",
    "mydata.count()\n",
    "\n",
    "pandas.value_counts(Maladie['asu_nat'].values)\n",
    "\n",
    "\n"
   ]
  }
 ],
 "metadata": {
  "kernelspec": {
   "display_name": "Python 3",
   "language": "python",
   "name": "python3"
  },
  "language_info": {
   "codemirror_mode": {
    "name": "ipython",
    "version": 3
   },
   "file_extension": ".py",
   "mimetype": "text/x-python",
   "name": "python",
   "nbconvert_exporter": "python",
   "pygments_lexer": "ipython3",
   "version": "3.6.1"
  }
 },
 "nbformat": 4,
 "nbformat_minor": 2
}
