{
 "cells": [
  {
   "cell_type": "code",
   "execution_count": 1,
   "metadata": {},
   "outputs": [
    {
     "name": "stdout",
     "output_type": "stream",
     "text": [
      "comments\n",
      "\"Nous n'avons pas croisé Aurélie qui était hors de la capital aux dates où nous avons loué son appartement. Toutefois, la communication avec elle a été très simple ! \n",
      "Son appartement est idéal pour deux personnes.\n",
      "Il est également très bien situé, à deux pas de l'arrêt de métro Couronnes sur la ligne 2. \n",
      "Son chat Punky nous a tenu compagnie durant notre séjour et il est très facile à vivre ! \"\n"
     ]
    },
    {
     "data": {
      "text/plain": [
       "plainText = /home/user/Documents/PROJETS/DATA/AirBnB/comment_fr.csv MapPartitionsRDD[1] at textFile at <console>:27\n"
      ]
     },
     "metadata": {},
     "output_type": "display_data"
    },
    {
     "data": {
      "text/plain": [
       "/home/user/Documents/PROJETS/DATA/AirBnB/comment_fr.csv MapPartitionsRDD[1] at textFile at <console>:27"
      ]
     },
     "execution_count": 1,
     "metadata": {},
     "output_type": "execute_result"
    }
   ],
   "source": [
    "val plainText = sc.textFile(\"/home/user/Documents/PROJETS/DATA/AirBnB/comment_fr.csv\")\n",
    "plainText.take(5).foreach(println)"
   ]
  },
  {
   "cell_type": "code",
   "execution_count": 2,
   "metadata": {},
   "outputs": [
    {
     "data": {
      "text/plain": [
       "comment = [comment: string, id: bigint]\n"
      ]
     },
     "metadata": {},
     "output_type": "display_data"
    },
    {
     "data": {
      "text/plain": [
       "[comment: string, id: bigint]"
      ]
     },
     "execution_count": 2,
     "metadata": {},
     "output_type": "execute_result"
    }
   ],
   "source": [
    "// Convert RDD to DF with ID for every document\n",
    "val comment = plainText.zipWithIndex.toDF(\"comment\", \"id\")\n"
   ]
  },
  {
   "cell_type": "code",
   "execution_count": 3,
   "metadata": {},
   "outputs": [
    {
     "data": {
      "text/plain": [
       "tokenizer = regexTok_bd83c66c3669\n",
       "tokenized_comment = [comment: string, id: bigint ... 1 more field]\n"
      ]
     },
     "metadata": {},
     "output_type": "display_data"
    },
    {
     "data": {
      "text/plain": [
       "[comment: string, id: bigint ... 1 more field]"
      ]
     },
     "execution_count": 3,
     "metadata": {},
     "output_type": "execute_result"
    }
   ],
   "source": [
    "import org.apache.spark.ml.feature.RegexTokenizer\n",
    "\n",
    "// Set params for RegexTokenizer\n",
    "val tokenizer = new RegexTokenizer()\n",
    "  .setPattern(\"[\\\\W_]+\")\n",
    "  .setMinTokenLength(4) // Filter away tokens with length < 4\n",
    "  .setInputCol(\"comment\")\n",
    "  .setOutputCol(\"tokens\")\n",
    "\n",
    "// Tokenize document\n",
    "val tokenized_comment = tokenizer.transform(comment)"
   ]
  },
  {
   "cell_type": "code",
   "execution_count": 4,
   "metadata": {},
   "outputs": [
    {
     "data": {
      "text/html": [
       "<table>\n",
       "<tr><td>[comments]</td></tr>\n",
       "<tr><td>[nous, avons, crois, tait, hors, capital, dates, nous, avons, appartement, toutefois, communication, avec, elle, simple]</td></tr>\n",
       "<tr><td>[appartement, pour, deux, personnes]</td></tr>\n",
       "<tr><td>[galement, bien, situ, deux, couronnes, ligne]</td></tr>\n",
       "<tr><td>[chat, punky, nous, tenu, compagnie, durant, notre, jour, facile, vivre]</td></tr>\n",
       "<tr><td>[accueil, tres, attentionn]</td></tr>\n",
       "<tr><td>[propri, taire, disponible, able]</td></tr>\n",
       "<tr><td>[appartement, alement, situ, entoure, commerces, tres, bien, desservi, metro]</td></tr>\n",
       "<tr><td>[surtout, appartement, correspond, descriptif, propre]</td></tr>\n",
       "<tr><td>[recommande]</td></tr>\n",
       "</table>"
      ],
      "text/plain": [
       "+--------------------------------------------------------------------------------------------------------------------------+\n",
       "| [comments]                                                                                                               |\n",
       "| [nous, avons, crois, tait, hors, capital, dates, nous, avons, appartement, toutefois, communication, avec, elle, simple] |\n",
       "| [appartement, pour, deux, personnes]                                                                                     |\n",
       "| [galement, bien, situ, deux, couronnes, ligne]                                                                           |\n",
       "| [chat, punky, nous, tenu, compagnie, durant, notre, jour, facile, vivre]                                                 |\n",
       "| [accueil, tres, attentionn]                                                                                              |\n",
       "| [propri, taire, disponible, able]                                                                                        |\n",
       "| [appartement, alement, situ, entoure, commerces, tres, bien, desservi, metro]                                            |\n",
       "| [surtout, appartement, correspond, descriptif, propre]                                                                   |\n",
       "| [recommande]                                                                                                             |\n",
       "+--------------------------------------------------------------------------------------------------------------------------+"
      ]
     },
     "execution_count": 4,
     "metadata": {},
     "output_type": "execute_result"
    }
   ],
   "source": [
    "tokenized_comment.select(\"tokens\").take(10)"
   ]
  },
  {
   "cell_type": "code",
   "execution_count": 5,
   "metadata": {},
   "outputs": [
    {
     "data": {
      "text/plain": [
       "stopwords = Array(a, abord, absolument, afin, ah, ai, aie, aient, aies, ailleurs, ainsi, ait, allaient, allo, allons, allô, alors, anterieur, anterieure, anterieures, apres, après, as, assez, attendu, au, aucun, aucune, aucuns, aujourd, aujourd'hui, aupres, auquel, aura, aurai, auraient, aurais, aurait, auras, aurez, auriez, aurions, aurons, auront, aussi, autre, autrefois, autrement, autres, autrui, aux, auxquelles, auxquels, avaient, avais, avait, avant, avec, avez, aviez, avions, avoir, avons, ayant, ayez, ayons, b, bah, bas, basee, bat, beau, beaucoup, bien, bigre, bon, boum, bravo, brrr, c, car, ce, ceci, cela, celle, celle-ci, celle-là, celles, celles-ci, celles-là, celui, celui-ci, celui-là, celà, cent, cependant, certain, certaine, certaines, certains, certes, ces...\n"
      ]
     },
     "metadata": {},
     "output_type": "display_data"
    },
    {
     "data": {
      "text/plain": [
       "[a, abord, absolument, afin, ah, ai, aie, aient, aies, ailleurs, ainsi, ait, allaient, allo, allons, allô, alors, anterieur, anterieure, anterieures, apres, après, as, assez, attendu, au, aucun, aucune, aucuns, aujourd, aujourd'hui, aupres, auquel, aura, aurai, auraient, aurais, aurait, auras, aurez, auriez, aurions, aurons, auront, aussi, autre, autrefois, autrement, autres, autrui, aux, auxquelles, auxquels, avaient, avais, avait, avant, avec, avez, aviez, avions, avoir, avons, ayant, ayez, ayons, b, bah, bas, basee, bat, beau, beaucoup, bien, bigre, bon, boum, bravo, brrr, c, car, ce, ceci, cela, celle, celle-ci, celle-là, celles, celles-ci, celles-là, celui, celui-ci, celui-là, celà, cent, cependant, certain, certaine, certaines, certains, certes, ces, cet, cette, ceux, ceux-ci, ceux-là, chacun, chacune, chaque, cher, chers, chez, chiche, chut, chère, chères, ci, cinq, cinquantaine, cinquante, cinquantième, cinquième, clac, clic, combien, comme, comment, comparable, comparables, compris, concernant, contre, couic, crac, d, da, dans, de, debout, dedans, dehors, deja, delà, depuis, dernier, derniere, derriere, derrière, des, desormais, desquelles, desquels, dessous, dessus, deux, deuxième, deuxièmement, devant, devers, devra, devrait, different, differentes, differents, différent, différente, différentes, différents, dire, directe, directement, dit, dite, dits, divers, diverse, diverses, dix, dix-huit, dix-neuf, dix-sept, dixième, doit, doivent, donc, dont, dos, douze, douzième, dring, droite, du, duquel, durant, dès, début, désormais, e, effet, egale, egalement, egales, eh, elle, elle-même, elles, elles-mêmes, en, encore, enfin, entre, envers, environ, es, essai, est, et, etant, etc, etre, eu, eue, eues, euh, eurent, eus, eusse, eussent, eusses, eussiez, eussions, eut, eux, eux-mêmes, exactement, excepté, extenso, exterieur, eûmes, eût, eûtes, f, fais, faisaient, faisant, fait, faites, façon, feront, fi, flac, floc, fois, font, force, furent, fus, fusse, fussent, fusses, fussiez, fussions, fut, fûmes, fût, fûtes, g, gens, h, ha, haut, hein, hem, hep, hi, ho, holà, hop, hormis, hors, hou, houp, hue, hui, huit, huitième, hum, hurrah, hé, hélas, i, ici, il, ils, importe, j, je, jusqu, jusque, juste, k, l, la, laisser, laquelle, las, le, lequel, les, lesquelles, lesquels, leur, leurs, longtemps, lors, lorsque, lui, lui-meme, lui-même, là, lès, m, ma, maint, maintenant, mais, malgre, malgré, maximale, me, meme, memes, merci, mes, mien, mienne, miennes, miens, mille, mince, mine, minimale, moi, moi-meme, moi-même, moindres, moins, mon, mot, moyennant, multiple, multiples, même, mêmes, n, na, naturel, naturelle, naturelles, ne, neanmoins, necessaire, necessairement, neuf, neuvième, ni, nombreuses, nombreux, nommés, non, nos, notamment, notre, nous, nous-mêmes, nouveau, nouveaux, nul, néanmoins, nôtre, nôtres, o, oh, ohé, ollé, olé, on, ont, onze, onzième, ore, ou, ouf, ouias, oust, ouste, outre, ouvert, ouverte, ouverts, o|, où, p, paf, pan, par, parce, parfois, parle, parlent, parler, parmi, parole, parseme, partant, particulier, particulière, particulièrement, pas, passé, pendant, pense, permet, personne, personnes, peu, peut, peuvent, peux, pff, pfft, pfut, pif, pire, pièce, plein, plouf, plupart, plus, plusieurs, plutôt, possessif, possessifs, possible, possibles, pouah, pour, pourquoi, pourrais, pourrait, pouvait, prealable, precisement, premier, première, premièrement, pres, probable, probante, procedant, proche, près, psitt, pu, puis, puisque, pur, pure, q, qu, quand, quant, quant-à-soi, quanta, quarante, quatorze, quatre, quatre-vingt, quatrième, quatrièmement, que, quel, quelconque, quelle, quelles, quelqu'un, quelque, quelques, quels, qui, quiconque, quinze, quoi, quoique, r, rare, rarement, rares, relative, relativement, remarquable, rend, rendre, restant, reste, restent, restrictif, retour, revoici, revoilà, rien, s, sa, sacrebleu, sait, sans, sapristi, sauf, se, sein, seize, selon, semblable, semblaient, semble, semblent, sent, sept, septième, sera, serai, seraient, serais, serait, seras, serez, seriez, serions, serons, seront, ses, seul, seule, seulement, si, sien, sienne, siennes, siens, sinon, six, sixième, soi, soi-même, soient, sois, soit, soixante, sommes, son, sont, sous, souvent, soyez, soyons, specifique, specifiques, speculatif, stop, strictement, subtiles, suffisant, suffisante, suffit, suis, suit, suivant, suivante, suivantes, suivants, suivre, sujet, superpose, sur, surtout, t, ta, tac, tandis, tant, tardive, te, tel, telle, tellement, telles, tels, tenant, tend, tenir, tente, tes, tic, tien, tienne, tiennes, tiens, toc, toi, toi-même, ton, touchant, toujours, tous, tout, toute, toutefois, toutes, treize, trente, tres, trois, troisième, troisièmement, trop, très, tsoin, tsouin, tu, té, u, un, une, unes, uniformement, unique, uniques, uns, v, va, vais, valeur, vas, vers, via, vif, vifs, vingt, vivat, vive, vives, vlan, voici, voie, voient, voilà, vont, vos, votre, vous, vous-mêmes, vu, vé, vôtre, vôtres, w, x, y, z, zut, à, â, ça, ès, étaient, étais, était, étant, état, étiez, étions, été, étée, étées, étés, êtes, être, ô]"
      ]
     },
     "execution_count": 5,
     "metadata": {},
     "output_type": "execute_result"
    }
   ],
   "source": [
    "// List of stopwords\n",
    "val stopwords = sc.textFile(\"/home/user/Documents/RCP-216/Projet/stopwords-fr.txt\").collect()\n"
   ]
  },
  {
   "cell_type": "code",
   "execution_count": 6,
   "metadata": {},
   "outputs": [
    {
     "data": {
      "text/plain": [
       "remover = stopWords_f7f0d8f2d06a\n",
       "filtered_comment = [comment: string, id: bigint ... 2 more fields]\n"
      ]
     },
     "metadata": {},
     "output_type": "display_data"
    },
    {
     "data": {
      "text/plain": [
       "[comment: string, id: bigint ... 2 more fields]"
      ]
     },
     "execution_count": 6,
     "metadata": {},
     "output_type": "execute_result"
    }
   ],
   "source": [
    "import org.apache.spark.ml.feature.StopWordsRemover\n",
    "\n",
    "// Set params for StopWordsRemover\n",
    "val remover = new StopWordsRemover()\n",
    "  .setStopWords(stopwords) // This parameter is optional\n",
    "  .setInputCol(\"tokens\")\n",
    "  .setOutputCol(\"filtered\")\n",
    "\n",
    "// Create new DF with Stopwords removed\n",
    "val filtered_comment = remover.transform(tokenized_comment)"
   ]
  },
  {
   "cell_type": "code",
   "execution_count": 7,
   "metadata": {},
   "outputs": [
    {
     "name": "stdout",
     "output_type": "stream",
     "text": [
      "[Stage 5:>                                                          (0 + 2) / 2]"
     ]
    },
    {
     "data": {
      "text/plain": [
       "vectorizer = cntVec_10cc9d93be3f\n"
      ]
     },
     "metadata": {},
     "output_type": "display_data"
    },
    {
     "data": {
      "text/plain": [
       "cntVec_10cc9d93be3f"
      ]
     },
     "execution_count": 7,
     "metadata": {},
     "output_type": "execute_result"
    }
   ],
   "source": [
    "import org.apache.spark.ml.feature.CountVectorizer\n",
    "\n",
    "// Set params for CountVectorizer\n",
    "val vectorizer = new CountVectorizer()\n",
    "  .setInputCol(\"filtered\")\n",
    "  .setOutputCol(\"features\")\n",
    "  .setVocabSize(10000)\n",
    "  .setMinDF(5)\n",
    "  .fit(filtered_comment)\n"
   ]
  },
  {
   "cell_type": "code",
   "execution_count": 8,
   "metadata": {},
   "outputs": [
    {
     "data": {
      "text/plain": [
       "countVectors = [id: bigint, features: vector]\n"
      ]
     },
     "metadata": {},
     "output_type": "display_data"
    },
    {
     "data": {
      "text/plain": [
       "[id: bigint, features: vector]"
      ]
     },
     "execution_count": 8,
     "metadata": {},
     "output_type": "execute_result"
    }
   ],
   "source": [
    "// Create vector of token counts\n",
    "val countVectors = vectorizer.transform(filtered_comment).select(\"id\", \"features\")"
   ]
  },
  {
   "cell_type": "code",
   "execution_count": 9,
   "metadata": {},
   "outputs": [
    {
     "data": {
      "text/plain": [
       "lda_countVector = [_1: bigint, _2: vector]\n"
      ]
     },
     "metadata": {},
     "output_type": "display_data"
    },
    {
     "data": {
      "text/plain": [
       "[_1: bigint, _2: vector]"
      ]
     },
     "execution_count": 9,
     "metadata": {},
     "output_type": "execute_result"
    }
   ],
   "source": [
    "// Convert DF to RDD\n",
    "import org.apache.spark.mllib.linalg.Vector\n",
    "import org.apache.spark.sql.Row\n",
    "val lda_countVector = countVectors.map { case Row(id: Long, countVector: Vector) => (id, countVector) }"
   ]
  },
  {
   "cell_type": "code",
   "execution_count": null,
   "metadata": {},
   "outputs": [],
   "source": [
    "val numTopics = 20\n",
    "numTopics: Int = 20\n",
    "import org.apache.spark.mllib.clustering.{LDA, OnlineLDAOptimizer}\n",
    "\n",
    "// Set LDA params\n",
    "val lda = new LDA()\n",
    "  .setOptimizer(new OnlineLDAOptimizer().setMiniBatchFraction(0.8))\n",
    "  .setK(numTopics)\n",
    "  .setMaxIterations(3)\n",
    "  .setDocConcentration(-1) // use default values\n",
    "  .setTopicConcentration(-1) // use default values\n",
    "val ldaModel = lda.run(lda_countVector)"
   ]
  },
  {
   "cell_type": "code",
   "execution_count": null,
   "metadata": {},
   "outputs": [],
   "source": [
    "// Review Results of LDA model with Online Variational Bayes\n",
    "val topicIndices = ldaModel.describeTopics(maxTermsPerTopic = 5)\n",
    "val vocabList = vectorizer.vocabulary\n",
    "val topics = topicIndices.map { case (terms, termWeights) =>\n",
    "  terms.map(vocabList(_)).zip(termWeights)\n",
    "}\n",
    "println(s\"$numTopics topics:\")\n",
    "topics.zipWithIndex.foreach { case (topic, i) =>\n",
    "  println(s\"TOPIC $i\")\n",
    "  topic.foreach { case (term, weight) => println(s\"$term\\t$weight\") }\n",
    "  println(s\"==========\")\n",
    "}"
   ]
  }
 ],
 "metadata": {
  "kernelspec": {
   "display_name": "Spark - Scala",
   "language": "scala",
   "name": "spark_scala"
  },
  "language_info": {
   "codemirror_mode": "text/x-scala",
   "file_extension": ".scala",
   "mimetype": "text/x-scala",
   "name": "scala",
   "pygments_lexer": "scala",
   "version": "2.11.8"
  }
 },
 "nbformat": 4,
 "nbformat_minor": 2
}
