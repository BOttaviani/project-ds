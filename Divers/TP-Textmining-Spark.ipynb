{
 "cells": [
  {
   "cell_type": "code",
   "execution_count": 1,
   "metadata": {},
   "outputs": [
    {
     "name": "stdout",
     "output_type": "stream",
     "text": [
      "Starting download from file:///home/user/Documents/RCP-216/lsa.jar\n",
      "Finished download of lsa.jar\n"
     ]
    }
   ],
   "source": [
    "import sys.process._\n",
    "%AddJar file:///home/user/Documents/RCP-216/lsa.jar"
   ]
  },
  {
   "cell_type": "code",
   "execution_count": 2,
   "metadata": {},
   "outputs": [
    {
     "data": {
      "text/plain": [
       "import breeze.linalg.{DenseMatrix=>BDenseMatrix, DenseVector=>BDenseVector, SparseVector=>BSparseVector}\n"
      ]
     },
     "metadata": {},
     "output_type": "display_data"
    }
   ],
   "source": [
    "import com.cloudera.datascience.lsa._\n",
    "import com.cloudera.datascience.lsa.ParseWikipedia._\n",
    "import com.cloudera.datascience.lsa.RunLSA._\n",
    "import org.apache.spark.mllib.linalg._\n",
    "import org.apache.spark.mllib.linalg.distributed.RowMatrix\n",
    "import breeze.linalg.{DenseMatrix => BDenseMatrix,\n",
    "              DenseVector => BDenseVector, SparseVector => BSparseVector}"
   ]
  },
  {
   "cell_type": "code",
   "execution_count": 3,
   "metadata": {},
   "outputs": [
    {
     "data": {
      "text/plain": [
       "wikixmlfile = /home/user/Documents/RCP-216/data/enwiki.xml\n"
      ]
     },
     "metadata": {},
     "output_type": "display_data"
    },
    {
     "data": {
      "text/plain": [
       "/home/user/Documents/RCP-216/data/enwiki.xml"
      ]
     },
     "execution_count": 3,
     "metadata": {},
     "output_type": "execute_result"
    }
   ],
   "source": [
    "val wikixmlfile = \"/home/user/Documents/RCP-216/data/enwiki.xml\""
   ]
  },
  {
   "cell_type": "code",
   "execution_count": 4,
   "metadata": {},
   "outputs": [
    {
     "data": {
      "text/plain": [
       "sampleSize = 0.3\n",
       "xmlPages = PartitionwiseSampledRDD[2] at sample at <console>:58\n"
      ]
     },
     "metadata": {},
     "output_type": "display_data"
    },
    {
     "data": {
      "text/plain": [
       "Array(<page>\n",
       "    <title>AfghanistanPeople</title>\n",
       "    <ns>0</ns>\n",
       "    <id>15</id>\n",
       "    <redirect title=\"Demographics of Afghanistan\" />\n",
       "    <revision>\n",
       "      <id>616420354</id>\n",
       "      <parentid>135089040</parentid>\n",
       "      <timestamp>2014-07-10T19:18:43Z</timestamp>\n",
       "      <contributor>\n",
       "        <username>RussBot</username>\n",
       "        <id>279219</id>\n",
       "      </contributor>\n",
       "      <minor />\n",
       "      <comment>Robot: Fixing double redirect to [[Demographics of Afghanistan]]</comment>\n",
       "      <model>wikitext</model>\n",
       "      <format>text/x-wiki</format>\n",
       "      <text xml:space=\"preserve\">#REDIRECT [[Demographics of Afghanistan]] {{R from CamelCase}}</text>\n",
       "      <sha1>em7...\n"
      ]
     },
     "metadata": {},
     "output_type": "display_data"
    },
    {
     "data": {
      "text/plain": [
       "[<page>\n",
       "    <title>AfghanistanPeople</title>\n",
       "    <ns>0</ns>\n",
       "    <id>15</id>\n",
       "    <redirect title=\"Demographics of Afghanistan\" />\n",
       "    <revision>\n",
       "      <id>616420354</id>\n",
       "      <parentid>135089040</parentid>\n",
       "      <timestamp>2014-07-10T19:18:43Z</timestamp>\n",
       "      <contributor>\n",
       "        <username>RussBot</username>\n",
       "        <id>279219</id>\n",
       "      </contributor>\n",
       "      <minor />\n",
       "      <comment>Robot: Fixing double redirect to [[Demographics of Afghanistan]]</comment>\n",
       "      <model>wikitext</model>\n",
       "      <format>text/x-wiki</format>\n",
       "      <text xml:space=\"preserve\">#REDIRECT [[Demographics of Afghanistan]] {{R from CamelCase}}</text>\n",
       "      <sha1>em7my23894czbu7ksvulil0g8l6pcrc</sha1>\n",
       "    </revision>\n",
       "  </page>, <page>\n",
       "    <title>AfghanistanCommunications</title>\n",
       "    <ns>0</ns>\n",
       "    <id>18</id>\n",
       "    <redirect title=\"Communications in Afghanistan\" />\n",
       "    <revision>\n",
       "      <id>74466499</id>\n",
       "      <parentid>15898952</parentid>\n",
       "      <timestamp>2006-09-08T04:14:42Z</timestamp>\n",
       "      <contributor>\n",
       "        <username>Rory096</username>\n",
       "        <id>750223</id>\n",
       "      </contributor>\n",
       "      <comment>cat rd</comment>\n",
       "      <model>wikitext</model>\n",
       "      <format>text/x-wiki</format>\n",
       "      <text xml:space=\"preserve\">#REDIRECT [[Communications in Afghanistan]] {{R from CamelCase}}</text>\n",
       "      <sha1>2gt5g76thwz1sgiig4ju2qz3r2qvwko</sha1>\n",
       "    </revision>\n",
       "  </page>]"
      ]
     },
     "execution_count": 4,
     "metadata": {},
     "output_type": "execute_result"
    }
   ],
   "source": [
    "val sampleSize = 0.3\n",
    "val xmlPages = ParseWikipedia.readFile(wikixmlfile, sc).sample(false, sampleSize, 11L)\n",
    "xmlPages.take(2)"
   ]
  },
  {
   "cell_type": "code",
   "execution_count": 6,
   "metadata": {},
   "outputs": [
    {
     "data": {
      "text/plain": [
       "plainText = MapPartitionsRDD[4] at flatMap at <console>:60\n"
      ]
     },
     "metadata": {},
     "output_type": "display_data"
    },
    {
     "data": {
      "text/plain": [
       "Array((Autism,\"Autism\n",
       "Autism is a neurodevelopmental disorder characterized by impaired social interaction, verbal and non-verbal communication, and restricted and repetitive behavior. Parents usually notice signs in the first two years of their child's life.  The signs typically develop gradually, but some children with autism will reach their developmental milestones at a normal pace and then regress.\n",
       "Autism is highly heritable, but the cause includes both environmental factors and genetic susceptibility.  In rare cases, autism is strongly associated with agents that cause birth defects.  Controversies surround other proposed environmental cau...\n"
      ]
     },
     "metadata": {},
     "output_type": "display_data"
    },
    {
     "data": {
      "text/plain": [
       "[(Autism,Autism\n",
       " \n",
       " \n",
       " \n",
       " \n",
       " \n",
       " \n",
       " \n",
       " \n",
       "Autism is a neurodevelopmental disorder characterized by impaired social interaction, verbal and non-verbal communication, and restricted and repetitive behavior. Parents usually notice signs in the first two years of their child's life.  The signs typically develop gradually, but some children with autism will reach their developmental milestones at a normal pace and then regress.   \n",
       "Autism is highly heritable, but the cause includes both environmental factors and genetic susceptibility.  In rare cases, autism is strongly associated with agents that cause birth defects.  Controversies surround other proposed environmental causes;  for example, the vaccine hypotheses are biologically implausible and have been disproven in scientific studies. The diagnostic criteria require that symptoms become apparent in early childhood, typically before age three.    Autism affects information processing in the brain by altering how nerve cells and their synapses connect and organize; how this occurs is not well understood.  It is one of three recognized disorders in the autism spectrum (ASDs), the other two being Asperger syndrome, which lacks delays in cognitive development and language, and pervasive developmental disorder, not otherwise specified (commonly abbreviated as PDD-NOS), which is diagnosed when the full set of criteria for autism or Asperger syndrome are not met.  \n",
       "Early behavioral, cognitive, or speech interventions can help children with autism gain self-care, social, and communication skills.  Although there is no known cure,  there have been reported cases of children who recovered.  Not many children with autism live independently after reaching adulthood, though some become successful.    An autistic culture has developed, with some individuals seeking a cure and others believing autism should be accepted as a difference and not treated as a disorder.  \n",
       "As of 2010 the rate of autism is estimated at about 1–2 per 1,000 people worldwide, and it occurs four to five times more often in boys than girls. About 1.5% of children in the United States (one in 68) are diagnosed with ASD  , a 30% increase from one in 88 in 2012.          The rate of autism among adults aged 18 years and over in the United Kingdom is 1.1%.  The number of people diagnosed has been increasing dramatically since the 1980s, partly due to changes in diagnostic practice and government-subsidized financial incentives for named diagnoses;  the question of whether actual rates have increased is unresolved. \n",
       "CharacteristicsAutism is a highly variable neurodevelopmental disorder  that first appears during infancy or childhood, and generally follows a steady course without remission.  Overt symptoms gradually begin after the age of six months, become established by age two or three years,  and tend to continue through adulthood, although often in more muted form.  It is distinguished not by a single symptom, but by a characteristic triad of symptoms: impairments in social interaction; impairments in communication; and restricted interests and repetitive behavior. Other aspects, such as atypical eating, are also common but are not essential for diagnosis.  Autism's individual symptoms occur in the general population and appear not to associate highly, without a sharp line separating pathologically severe from common traits. \n",
       "Social developmentSocial deficits distinguish autism and the related autism spectrum disorders (ASD; see Classification) from other developmental disorders.  People with autism have social impairments and often lack the intuition about others that many people take for granted. Noted autistic Temple Grandin described her inability to understand the social communication of neurotypicals, or people with normal neural development, as leaving her feeling \"like an anthropologist on Mars\". Unusual social development becomes apparent early in childhood.  Autistic infants show less attention to social stimuli, smile and look at others less often, and respond less to their own name. Autistic toddlers differ more strikingly from social norms; for example, they have less eye contact and turn taking, and do not have the ability to use simple movements to express themselves, such as the deficiency to point at things.  Three- to five-year-old children with autism are less likely to exhibit social understanding, approach others spontaneously, imitate and respond to emotions, communicate nonverbally, and take turns with others. However, they do form attachments to their primary caregivers.  Most childen with autism display moderately less attachment security than neurotypical children, although this difference disappears in children with higher mental development or less severe ASD.  Older children and adults with ASD perform worse on tests of face and emotion recognition.   Children with high-functioning autism suffer from more intense and frequent loneliness compared to non-autistic peers, despite the common belief that children with autism prefer to be alone. Making and maintaining friendships often proves to be difficult for those with autism. For them, the quality of friendships, not the number of friends, predicts how lonely they feel. Functional friendships, such as those resulting in invitations to parties, may affect the quality of life more deeply. There are many anecdotal reports, but few systematic studies, of aggression and violence in individuals with ASD. The limited data suggest that, in children with intellectual disability, autism is associated with aggression, destruction of property, and tantrums. \n",
       "CommunicationAbout a third to a half of individuals with autism do not develop enough natural speech to meet their daily communication needs.  Differences in communication may be present from the first year of life, and may include delayed onset of babbling, unusual gestures, diminished responsiveness, and vocal patterns that are not synchronized with the caregiver. In the second and third years, children with autism have less frequent and less diverse babbling, consonants, words, and word combinations; their gestures are less often integrated with words. Children with autism are less likely to make requests or share experiences, and are more likely to simply repeat others' words (echolalia)   or reverse pronouns.  Joint attention seems to be necessary for functional speech, and deficits in joint attention seem to distinguish infants with ASD:    for example, they may look at a pointing hand instead of the pointed-at object,   and they consistently fail to point at objects in order to comment on or share an experience.  Children with autism may have difficulty with imaginative play and with developing symbols into language.      In a pair of studies, high-functioning children with autism aged 8–15 performed equally well as, and adults better than, individually matched controls at basic language tasks involving vocabulary and spelling. Both autistic groups performed worse than controls at complex language tasks such as figurative language, comprehension and inference. As people are often sized up initially from their basic language skills, these studies suggest that people speaking to autistic individuals are more likely to overestimate what their audience comprehends. \n",
       "Repetitive behaviorAutistic individuals display many forms of repetitive or restricted behavior, which the Repetitive Behavior Scale-Revised (RBS-R)  categorizes as follows.\n",
       "\n",
       "Stereotypy is repetitive movement, such as hand flapping, head rolling, or body rocking.\n",
       "Compulsive behavior is intended and appears to follow rules, such as arranging objects in stacks or lines.\n",
       "Sameness is resistance to change; for example, insisting that the furniture not be moved or refusing to be interrupted.\n",
       "Ritualistic behavior involves an unvarying pattern of daily activities, such as an unchanging menu or a dressing ritual. This is closely associated with sameness and an independent validation has suggested combining the two factors.   \n",
       "Restricted behavior is limited in focus, interest, or activity, such as preoccupation with a single television program, toy or game.\n",
       "Self-injury includes movements that injure or can injure the person, such as eye-poking, skin-picking, hand-biting and head-banging.  \n",
       "No single repetitive or self-injurious behavior seems to be specific to autism, but only autism appears to have an elevated pattern of occurrence and severity of these behaviors. \n",
       "Other symptomsAutistic individuals may have symptoms that are independent of the diagnosis, but that can affect the individual or the family.   This paper represents a consensus of representatives from nine professional and four parent organizations in the US. \n",
       "An estimated 0.5% to 10% of individuals with ASD show unusual abilities, ranging from splinter skills such as the memorization of trivia to the extraordinarily rare talents of prodigious autistic savants.  Many individuals with ASD show superior skills in perception and attention, relative to the general population. \n",
       "Sensory abnormalities are found in over 90% of those with autism, and are considered core features by some,    although there is no good evidence that sensory symptoms differentiate autism from other developmental disorders.  Differences are greater for under-responsivity (for example, walking into things) than for over-responsivity (for example, distress from loud noises) or for sensation seeking (for example, rhythmic movements). \n",
       "An estimated 60%–80% of autistic people have motor signs that include poor muscle tone, poor motor planning, and toe walking;  deficits in motor coordination are pervasive across ASD and are greater in autism proper. Unusual eating behavior occurs in about three-quarters of children with ASD, to the extent that it was formerly a diagnostic indicator. Selectivity is the most common problem, although eating rituals and food refusal also occur;    this does not appear to result in malnutrition. Although some children with autism also have gastrointestinal (GI) symptoms, there is a lack of published rigorous data to support the theory that children with autism have more or different GI symptoms than usual;  studies report conflicting results, and the relationship between GI problems and ASD is unclear. Parents of children with ASD have higher levels of stress.    Siblings of children with ASD report greater admiration of and less conflict with the affected sibling than siblings of unaffected children and were similar to siblings of children with Down syndrome in these aspects of the sibling relationship. However, they reported lower levels of closeness and intimacy than siblings of children with Down syndrome; siblings of individuals with ASD have greater risk of negative well-being and poorer sibling relationships as adults. \n",
       "Causes It has long been presumed that there is a common cause at the genetic, cognitive, and neural levels for autism's characteristic triad of symptoms.  However, there is increasing suspicion that autism is instead a complex disorder whose core aspects have distinct causes that often co-occur.    \n",
       "Autism has a strong genetic basis, although the genetics of autism are complex and it is unclear whether ASD is explained more by rare mutations with major effects, or by rare multigene interactions of common genetic variants.     Complexity arises due to interactions among multiple genes, the environment, and epigenetic factors which do not change DNA but are heritable and influence gene expression.    Studies of twins suggest that heritability is 0.7 for autism and as high as 0.9 for ASD, and siblings of those with autism are about 25 times more likely to be autistic than the general population.  However, most of the mutations that increase autism risk have not been identified. Typically, autism cannot be traced to a Mendelian (single-gene) mutation or to a single chromosome abnormality, and none of the genetic syndromes associated with ASDs have been shown to selectively cause ASD.  Numerous candidate genes have been located, with only small effects attributable to any particular gene.  The large number of autistic individuals with unaffected family members may result from copy number variations—spontaneous deletions or duplications in genetic material during meiosis.  Hence, a substantial fraction of autism cases may be traceable to genetic causes that are highly heritable but not inherited: that is, the mutation that causes the autism is not present in the parental genome.   Several lines of evidence point to synaptic dysfunction as a cause of autism.  Some rare mutations may lead to autism by disrupting some synaptic pathways, such as those involved with cell adhesion.    Gene replacement studies in mice suggest that autistic symptoms are closely related to later developmental steps that depend on activity in synapses and on activity-dependent changes.    All known teratogens (agents that cause birth defects) related to the risk of autism appear to act during the first eight weeks from conception, and though this does not exclude the possibility that autism can be initiated or affected later, there is strong evidence that autism arises very early in development.   Exposure to air pollution during pregnancy, especially heavy metals and particulates, may increase the risk of autism.  Environmental factors that have been claimed to contribute to or exacerbate autism, or may be important in future research, include certain foods, infectious diseases, solvents, diesel exhaust, PCBs, phthalates and phenols used in plastic products, pesticides, brominated flame retardants, alcohol, smoking, illicit drugs, vaccines,  and prenatal stress,  although no links have been found, and some have been completely disproven.Parents may first become aware of autistic symptoms in their child around the time of a routine vaccination. This has led to unsupported theories blaming vaccine \"overload\", a vaccine preservative, or the MMR vaccine for causing autism.    The latter theory was supported by a litigation-funded study that has since been shown to have been \"an elaborate fraud\".    Although these theories lack convincing scientific evidence and are biologically implausible,  parental concern about a potential vaccine link with autism has led to lower rates of childhood immunizations, outbreaks of previously controlled childhood diseases in some countries, and the preventable deaths of several children. Vaccines and autism:\n",
       "\n",
       " \n",
       " \n",
       " \n",
       " \n",
       "     \n",
       "\n",
       "\n",
       "MechanismAutism's symptoms result from maturation-related changes in various systems of the brain.  How autism occurs is not well understood. Its mechanism can be divided into two areas: the pathophysiology of brain structures and processes associated with autism, and the neuropsychological linkages between brain structures and behaviors.    The behaviors appear to have multiple pathophysiologies. \n",
       "Pathophysiology\n",
       "Unlike many other brain disorders, such as Parkinson's, autism does not have a clear unifying mechanism at either the molecular, cellular, or systems level; it is not known whether autism is a few disorders caused by mutations converging on a few common molecular pathways, or is (like intellectual disability) a large set of disorders with diverse mechanisms.    Autism appears to result from developmental factors that affect many or all functional brain systems,  and to disturb the timing of brain development more than the final product.    Neuroanatomical studies and the associations with teratogens strongly suggest that autism's mechanism includes alteration of brain development soon after conception.  This anomaly appears to start a cascade of pathological events in the brain that are significantly influenced by environmental factors.  Just after birth, the brains of children with autism tend to grow faster than usual, followed by normal or relatively slower growth in childhood. It is not known whether early overgrowth occurs in all children with autism. It seems to be most prominent in brain areas underlying the development of higher cognitive specialization.  Hypotheses for the cellular and molecular bases of pathological early overgrowth include the following:\n",
       "\n",
       "An excess of neurons that causes local overconnectivity in key brain regions. \n",
       "Disturbed neuronal migration during early gestation.      \n",
       "Unbalanced excitatory–inhibitory networks. \n",
       "Abnormal formation of synapses and dendritic spines,  for example, by modulation of the neurexin–neuroligin cell-adhesion system,  or by poorly regulated synthesis of synaptic proteins.   Disrupted synaptic development may also contribute to epilepsy, which may explain why the two conditions are associated. \n",
       "\n",
       "The immune system is thought to play an important role in autism. Children with autism have been found by researchers to have inflammation of both the peripheral and central immune systems as indicated by increased levels of pro-inflammatory cytokines and significant activation of microglia.          Biomarkers of abnormal immune function have also been associated with increased impairments in behaviors that are characteristic of the core features of autism such as deficits in social interactions and communication.  Interactions between the immune system and the nervous system begin early during the embryonic stage of life, and successful neurodevelopment depends on a balanced immune response. It is thought that activation of a pregnant mother's immune system such as from environmental toxicants or infection can contribute to causing autism through causing a disruption of brain development.        This is supported by recent studies that have found that infection during pregnancy is associated with an increased risk of autism.      The relationship of neurochemicals to autism is not well understood; several have been investigated, with the most evidence for the role of serotonin and of genetic differences in its transport.    The role of group I metabotropic glutamate receptors (mGluR) in the pathogenesis of fragile X syndrome, the most common identified genetic cause of autism, has led to interest in the possible implications for future autism research into this pathway.    Some data suggests neuronal overgrowth potentially related to  an increase in several growth hormones  or to impaired regulation of growth factor receptors. Also, some inborn errors of metabolism are associated with autism, but probably account for less than 5% of cases. The mirror neuron system (MNS) theory of autism hypothesizes that distortion in the development of the MNS interferes with imitation and leads to autism's core features of social impairment and communication difficulties. The MNS operates when an animal performs an action or observes another animal perform the same action. The MNS may contribute to an individual's understanding of other people by enabling the modeling of their behavior via embodied simulation of their actions, intentions, and emotions. MNS and autism:\n",
       "\n",
       " \n",
       "   Several studies have tested this hypothesis by demonstrating structural abnormalities in MNS regions of individuals with ASD, delay in the activation in the core circuit for imitation in individuals with Asperger syndrome, and a correlation between reduced MNS activity and severity of the syndrome in children with ASD.    However, individuals with autism also have abnormal brain activation in many circuits outside the MNS  and the MNS theory does not explain the normal performance of children with autism on imitation tasks that involve a goal or object. \n",
       "\n",
       "\n",
       "ASD-related patterns of low function and aberrant activation in the brain differ depending on whether the brain is doing social or nonsocial tasks. \n",
       "In autism there is evidence for reduced functional connectivity of the default network, a large-scale brain network involved in social and emotional processing, with intact connectivity of the task-positive network, used in sustained attention and goal-directed thinking. In people with autism the two networks are not negatively correlated in time, suggesting an imbalance in toggling between the two networks, possibly reflecting a disturbance of self-referential thought.  The underconnectivity theory of autism hypothesizes that autism is marked by underfunctioning high-level neural connections and synchronization, along with an excess of low-level processes.  Evidence for this theory has been found in functional neuroimaging studies on autistic individuals    and by a brainwave study that suggested that adults with ASD have local overconnectivity in the cortex and weak functional connections between the frontal lobe and the rest of the cortex.  Other evidence suggests the underconnectivity is mainly within each hemisphere of the cortex and that autism is a disorder of the association cortex. From studies based on event-related potentials, transient changes to the brain's electrical activity in response to stimuli, there is considerable evidence for differences in autistic individuals with respect to attention, orientation to auditory and visual stimuli, novelty detection, language and face processing, and information storage; several studies have found a preference for nonsocial stimuli.  For example, magnetoencephalography studies have found evidence in children with autism of delayed responses in the brain's processing of auditory signals. In the genetic area, relations have been found between autism and schizophrenia based on duplications and deletions of chromosomes; research showed that schizophrenia and autism are significantly more common in combination with 1q21.1 deletion syndrome. Research on autism/schizophrenia relations for chromosome 15 (15q13.3), chromosome 16 (16p13.1) and chromosome 17 (17p12) are inconclusive. \n",
       "NeuropsychologyTwo major categories of cognitive theories have been proposed about the links between autistic brains and behavior.The first category focuses on deficits in social cognition. Simon Baron-Cohen's empathizing–systemizing theory postulates that autistic individuals can systemize—that is, they can develop internal rules of operation to handle events inside the brain—but are less effective at empathizing by handling events generated by other agents. An extension, the extreme male brain theory, hypothesizes that autism is an extreme case of the male brain, defined psychometrically as individuals in whom systemizing is better than empathizing.   These theories are somewhat related to Baron-Cohen's earlier theory of mind approach, which hypothesizes that autistic behavior arises from an inability to ascribe mental states to oneself and others. The theory of mind hypothesis is supported by the atypical responses of children with autism to the Sally–Anne test for reasoning about others' motivations,    and the mirror neuron system theory of autism described in Pathophysiology maps well to the hypothesis.  However, most studies have found no evidence of impairment in autistic individuals' ability to understand other people's basic intentions or goals; instead, data suggests that impairments are found in understanding more complex social emotions or in considering others' viewpoints. The second category focuses on nonsocial or general processing: the executive functions such as working memory, planning, inhibition. In his review, Kenworthy states that \"the claim of executive dysfunction as a causal factor in autism is controversial\", however, \"it is clear that executive dysfunction plays a role in the social and cognitive deficits observed in individuals with autism\".  Tests of core executive processes such as eye movement tasks indicate improvement from late childhood to adolescence, but performance never reaches typical adult levels.  A strength of the theory is predicting stereotyped behavior and narrow interests;  two weaknesses are that executive function is hard to measure    and that executive function deficits have not been found in young children with autism. Weak central coherence theory hypothesizes that a limited ability to see the big picture underlies the central disturbance in autism. One strength of this theory is predicting special talents and peaks in performance in autistic people.  A related theory—enhanced perceptual functioning—focuses more on the superiority of locally oriented and perceptual operations in autistic individuals.  These theories map well from the underconnectivity theory of autism.Neither category is satisfactory on its own; social cognition theories poorly address autism's rigid and repetitive behaviors, while the nonsocial theories have difficulty explaining social impairment and communication difficulties.    A combined theory based on multiple deficits may prove to be more useful. \n",
       "DiagnosisDiagnosis is based on behavior, not cause or mechanism.     Under the DSM-5, autism is characterized by persistent deficits in social communication and interaction across multiple contexts, as well as restricted, repetitive patterns of behavior, interests, or activities. These deficits are present in early childhood, typically before age three, and lead to clinically significant functional impairment. Sample symptoms include lack of social or emotional reciprocity, stereotyped and repetitive use of language or idiosyncratic language, and persistent preoccupation with unusual objects. The disturbance must not be better accounted for by Rett syndrome, intellectual disability or global developmental delay.  ICD-10 uses essentially the same definition.   Several diagnostic instruments are available. Two are commonly used in autism research: the Autism Diagnostic Interview-Revised (ADI-R) is a semistructured parent interview, and the Autism Diagnostic Observation Schedule (ADOS)  uses observation and interaction with the child. The Childhood Autism Rating Scale (CARS) is used widely in clinical environments to assess severity of autism based on observation of children. A pediatrician commonly performs a preliminary investigation by taking developmental history and physically examining the child. If warranted, diagnosis and evaluations are conducted with help from ASD specialists, observing and assessing cognitive, communication, family, and other factors using standardized tools, and taking into account any associated medical conditions.  A pediatric neuropsychologist is often asked to assess behavior and cognitive skills, both to aid diagnosis and to help recommend educational interventions.    A differential diagnosis for ASD at this stage might also consider intellectual disability, hearing impairment, and a specific language impairment  such as Landau–Kleffner syndrome.  The presence of autism can make it harder to diagnose coexisting psychiatric disorders such as depression. Clinical genetics evaluations are often done once ASD is diagnosed, particularly when other symptoms already suggest a genetic cause.  Although genetic technology allows clinical geneticists to link an estimated 40% of cases to genetic causes,  consensus guidelines in the US and UK are limited to high-resolution chromosome and fragile X testing.  A genotype-first model of diagnosis has been proposed, which would routinely assess the genome's copy number variations.  As new genetic tests are developed several ethical, legal, and social issues will emerge. Commercial availability of tests may precede adequate understanding of how to use test results, given the complexity of autism's genetics.  Metabolic and neuroimaging tests are sometimes helpful, but are not routine. ASD can sometimes be diagnosed by age 14 months, although diagnosis becomes increasingly stable over the first three years of life: for example, a one-year-old who meets diagnostic criteria for ASD is less likely than a three-year-old to continue to do so a few years later.    In the UK the National Autism Plan for Children recommends at most 30 weeks from first concern to completed diagnosis and assessment, though few cases are handled that quickly in practice.    Although the symptoms of autism and ASD begin early in childhood, they are sometimes missed; years later, adults may seek diagnoses to help them or their friends and family understand themselves, to help their employers make adjustments, or in some locations to claim disability living allowances or other benefits.Underdiagnosis and overdiagnosis are problems in marginal cases, and much of the recent increase in the number of reported ASD cases is likely due to changes in diagnostic practices. The increasing popularity of drug treatment options and the expansion of benefits has given providers incentives to diagnose ASD, resulting in some overdiagnosis of children with uncertain symptoms. Conversely, the cost of screening and diagnosis and the challenge of obtaining payment can inhibit or delay diagnosis.  It is particularly hard to diagnose autism among the visually impaired, partly because some of its diagnostic criteria depend on vision, and partly because autistic symptoms overlap with those of common blindness syndromes or blindisms. \n",
       "ClassificationAutism is one of the five pervasive developmental disorders (PDD), which are characterized by widespread abnormalities of social interactions and communication, and severely restricted interests and highly repetitive behavior.  These symptoms do not imply sickness, fragility, or emotional disturbance. Of the five PDD forms, Asperger syndrome is closest to autism in signs and likely causes; Rett syndrome and childhood disintegrative disorder share several signs with autism, but may have unrelated causes; PDD not otherwise specified (PDD-NOS; also called atypical autism) is diagnosed when the criteria are not met for a more specific disorder.  Unlike with autism, people with Asperger syndrome have no substantial delay in language development.    The terminology of autism can be bewildering, with autism, Asperger syndrome and PDD-NOS often called the autism spectrum disorders (ASD)  or sometimes the autistic disorders,  whereas autism itself is often called autistic disorder,childhood autism, or infantile autism. In this article, autism refers to the classic autistic disorder; in clinical practice, though, autism, ASD, and PDD are often used interchangeably.    ASD, in turn, is a subset of the broader autism phenotype, which describes individuals who may not have ASD but do have autistic-like traits, such as avoiding eye contact. The manifestations of autism cover a wide spectrum, ranging from individuals with severe impairments—who may be silent, developmentally disabled, and locked into hand flapping and rocking—to high functioning individuals who may have active but distinctly odd social approaches, narrowly focused interests, and verbose, pedantic communication.  Because the behavior spectrum is continuous, boundaries between diagnostic categories are necessarily somewhat arbitrary.  Sometimes the syndrome is divided into low-, medium- or high-functioning autism (LFA, MFA, and HFA), based on IQ thresholds,  or on how much support the individual requires in daily life; these subdivisions are not standardized and are controversial. Autism can also be divided into syndromal and non-syndromal autism; the syndromal autism is associated with severe or profound intellectual disability or a congenital syndrome with physical symptoms, such as tuberous sclerosis.  Although individuals with Asperger syndrome tend to perform better cognitively than those with autism, the extent of the overlap between Asperger syndrome, HFA, and non-syndromal autism is unclear. Validity of ASD subtypes:\n",
       "\n",
       " \n",
       "  \n",
       "\n",
       "Some studies have reported diagnoses of autism in children due to a loss of language or social skills, as opposed to a failure to make progress, typically from 15 to 30 months of age. The validity of this distinction remains controversial; it is possible that regressive autism is a specific subtype,      A partial update is in:      or that there is a continuum of behaviors between autism with and without regression. Research into causes has been hampered by the inability to identify biologically meaningful subgroups within the autistic population  and by the traditional boundaries between the disciplines of psychiatry, psychology, neurology and pediatrics.  Newer technologies such as fMRI and diffusion tensor imaging can help identify biologically relevant phenotypes (observable traits) that can be viewed on brain scans, to help further neurogenetic studies of autism;  one example is lowered activity in the fusiform face area of the brain, which is associated with impaired perception of people versus objects.  It has been proposed to classify autism using genetics as well as behavior. \n",
       "ScreeningAbout half of parents of children with ASD notice their child's unusual behaviors by age 18 months, and about four-fifths notice by age 24 months.  According to an article in the Journal of Autism and Developmental Disorders, failure to meet any of the following milestones \"is an absolute indication to proceed with further evaluations. Delay in referral for such testing may delay early diagnosis and treatment and affect the long-term outcome\". \n",
       "\n",
       "No babbling by 12 months.\n",
       "No gesturing (pointing, waving, etc.) by 12 months.\n",
       "No single words by 16 months.\n",
       "No two-word (spontaneous, not just echolalic) phrases by 24 months.\n",
       "Any loss of any language or social skills, at any age.\n",
       "US and Japanese practice is to screen all children for ASD at 18 and 24 months, using autism-specific formal screening tests. In contrast, in the UK, children whose families or doctors recognize possible signs of autism are screened. It is not known which approach is more effective.  Screening tools include the Modified Checklist for Autism in Toddlers (M-CHAT), the Early Screening of Autistic Traits Questionnaire, and the First Year Inventory; initial data on M-CHAT and its predecessor CHAT on children aged 18–30 months suggests that it is best used in a clinical setting and that it has low sensitivity (many false-negatives) but good specificity (few false-positives).  It may be more accurate to precede these tests with a broadband screener that does not distinguish ASD from other developmental disorders.  Screening tools designed for one culture's norms for behaviors like eye contact may be inappropriate for a different culture.  Although genetic screening for autism is generally still impractical, it can be considered in some cases, such as children with neurological symptoms and dysmorphic features. \n",
       "Management \n",
       "\n",
       "The main goals when treating children with autism are to lessen associated deficits and family distress, and to increase quality of life and functional independence. No single treatment is best and treatment is typically tailored to the child's needs.  Families and the educational system are the main resources for treatment.  Studies of interventions have methodological problems that prevent definitive conclusions about efficacy.  Although many psychosocial interventions have some positive evidence, suggesting that some form of treatment is preferable to no treatment, the methodological quality of systematic reviews of these studies has generally been poor, their clinical results are mostly tentative, and there is little evidence for the relative effectiveness of treatment options.  Intensive, sustained special education programs and behavior therapy early in life can help children acquire self-care, social, and job skills,    and often improve functioning and decrease symptom severity and maladaptive behaviors;    claims that intervention by around age three years is crucial are not substantiated.    Available approaches include applied behavior analysis (ABA), developmental models, structured teaching, speech and language therapy, social skills therapy, and occupational therapy.  There is some evidence that early intensive behavioral intervention, an early intervention model for 20 to 40 hours a week for multiple years, is an effective behavioral treatment for some children with ASD. Educational interventions can be effective to varying degrees in most children: intensive ABA treatment has demonstrated effectiveness in enhancing global functioning in preschool children    and is well-established for improving intellectual performance of young children.  Neuropsychological reports are often poorly communicated to educators, resulting in a gap between what a report recommends and what education is provided.  It is not known whether treatment programs for children lead to significant improvements after the children grow up,  and the limited research on the effectiveness of adult residential programs shows mixed results.  The appropriateness of including children with varying severity of autism spectrum disorders in the general education population is a subject of current debate among educators and researchers. Many medications are used to treat ASD symptoms that interfere with integrating a child into home or school when behavioral treatment fails.   More than half of US children diagnosed with ASD are prescribed psychoactive drugs or anticonvulsants, with the most common drug classes being antidepressants, stimulants, and antipsychotics.  Aside from antipsychotics,  both aripiprazole and risperidone are effective for treating irritability in children with autistic disorders.  There is scant reliable research about the effectiveness or safety of drug treatments for adolescents and adults with ASD. Lack of research on drug treatments:\n",
       "\n",
       " \n",
       "   A person with ASD may respond atypically to medications, the medications can have adverse effects,  and no known medication relieves autism's core symptoms of social and communication impairments.  Experiments in mice have reversed or reduced some symptoms related to autism by replacing or modulating gene function,   suggesting the possibility of targeting therapies to specific rare mutations known to cause autism.      \n",
       "\n",
       "Although many alternative therapies and interventions are available, few are supported by scientific studies.  Lack of support for interventions:\n",
       "\n",
       " \n",
       " \n",
       " \n",
       "  Treatment approaches have little empirical support in quality-of-life contexts, and many programs focus on success measures that lack predictive validity and real-world relevance.  Scientific evidence appears to matter less to service providers than program marketing, training availability, and parent requests.  Some alternative treatments may place the child at risk. A 2008 study found that compared to their peers, autistic boys have significantly thinner bones if on casein-free diets;  in 2005, botched chelation therapy killed a five-year-old child with autism.  There has been early research looking at hyperbaric treatments in children with autism. Treatment is expensive; indirect costs are more so. For someone born in 2000, a US study estimated an average lifetime cost of $  (net present value in 2018 dollars, inflation-adjusted from 2003 estimate),  with about 10% medical care, 30% extra education and other care, and 60% lost economic productivity.  Publicly supported programs are often inadequate or inappropriate for a given child, and unreimbursed out-of-pocket medical or therapy expenses are associated with likelihood of family financial problems;  one 2008 US study found a 14% average loss of annual income in families of children with ASD,  and a related study found that ASD is associated with higher probability that child care problems will greatly affect parental employment.  US states increasingly require private health insurance to cover autism services, shifting costs from publicly funded education programs to privately funded health insurance.  After childhood, key treatment issues include residential care, job training and placement, sexuality, social skills, and estate planning. \n",
       "PrognosisThere is no known cure.   Children recover occasionally, so that they lose their diagnosis of ASD;  this occurs sometimes after intensive treatment and sometimes not. It is not known how often recovery happens;  reported rates in unselected samples of children with ASD have ranged from 3% to 25%.    Most children with autism acquire language by age five or younger, though a few have developed communication skills in later years.  Most children with autism lack social support, meaningful relationships, future employment opportunities or self-determination.    Although core difficulties tend to persist, symptoms often become less severe with age. Few high-quality studies address long-term prognosis. Some adults show modest improvement in communication skills, but a few decline; no study has focused on autism after midlife.  Acquiring language before age six, having an IQ above 50, and having a marketable skill all predict better outcomes; independent living is unlikely with severe autism.  Most, but not all, people with autism face significant obstacles in transitioning to adulthood. \n",
       "Epidemiology \n",
       "Most recent reviews tend to estimate a prevalence of 1–2 per 1,000 for autism and close to 6 per 1,000 for ASD,    and 11 per 1,000 children in the United States for ASD as of 2008;     because of inadequate data, these numbers may underestimate ASD's true rate.  In 2012, the NHS estimated that the overall prevalence of autism among adults aged 18 years and over in the UK was 1.1%.    Rates of PDD-NOS's has been estimated at 3.7 per 1,000, Asperger syndrome at roughly 0.6 per 1,000, and childhood disintegrative disorder at 0.02 per 1,000.    The number of reported cases of autism increased dramatically in the 1990s and early 2000s. This increase is largely attributable to changes in diagnostic practices, referral patterns, availability of services, age at diagnosis, and public awareness,   though unidentified environmental risk factors cannot be ruled out.    The available evidence does not rule out the possibility that autism's true prevalence has increased;  a real increase would suggest directing more attention and funding toward changing environmental factors instead of continuing to focus on genetics.   Boys are at higher risk for ASD than girls. The sex ratio averages 4.3:1 and is greatly modified by cognitive impairment: it may be close to 2:1 with intellectual disability and more than 5.5:1 without.  Several theories about the higher prevalence in males have been investigated, but the cause of the difference is unconfirmed.   Although the evidence does not implicate any single pregnancy-related risk factor as a cause of autism, the risk of autism is associated with advanced age in either parent, and with diabetes, bleeding, and use of psychiatric drugs in the mother during pregnancy.   The risk is greater with older fathers than with older mothers; two potential explanations are the known increase in mutation burden in older sperm, and the hypothesis that men marry later if they carry genetic liability and show some signs of autism.  Most professionals believe that race, ethnicity, and socioeconomic background do not affect the occurrence of autism. Several other conditions are common in children with autism.  They include:\n",
       "\n",
       "Genetic disorders. About 10–15% of autism cases have an identifiable Mendelian (single-gene) condition, chromosome abnormality, or other genetic syndrome,  and ASD is associated with several genetic disorders. \n",
       "Intellectual disability. The percentage of autistic individuals who also meet criteria for intellectual disability has been reported as anywhere from 25% to 70%, a wide variation illustrating the difficulty of assessing autistic intelligence.  In comparison, for PDD-NOS the association with intellectual disability is much weaker,   and by definition, the diagnosis of Asperger's excludes intellectual disability. \n",
       "Anxiety disorders are common among children with ASD; there are no firm data, but studies have reported prevalences ranging from 11% to 84%. Many anxiety disorders have symptoms that are better explained by ASD itself, or are hard to distinguish from ASD's symptoms. \n",
       "Epilepsy, with variations in risk of epilepsy due to age, cognitive level, and type of language disorder. \n",
       "Several metabolic defects, such as phenylketonuria, are associated with autistic symptoms.   \n",
       "Minor physical anomalies are significantly increased in the autistic population. \n",
       "Preempted diagnoses. Although the DSM-IV rules out concurrent diagnosis of many other conditions along with autism, the full criteria for Attention deficit hyperactivity disorder (ADHD), Tourette syndrome, and other of these conditions are often present and these comorbid diagnoses are increasingly accepted. \n",
       "Sleep problems affect about two-thirds of individuals with ASD at some point in childhood. These most commonly include symptoms of insomnia such as difficulty in falling asleep, frequent nocturnal awakenings, and early morning awakenings. Sleep problems are associated with difficult behaviors and family stress, and are often a focus of clinical attention over and above the primary ASD diagnosis. \n",
       "\n",
       "\n",
       "History \n",
       "\n",
       "A few examples of autistic symptoms and treatments were described long before autism was named. The Table Talk of Martin Luther, compiled by his notetaker, Mathesius, contains the story of a 12-year-old boy who may have been severely autistic.  Luther reportedly thought the boy was a soulless mass of flesh possessed by the devil, and suggested that he be suffocated, although a later critic has cast doubt on the veracity of this report.  The earliest well-documented case of autism is that of Hugh Blair of Borgue, as detailed in a 1747 court case in which his brother successfully petitioned to annul Blair's marriage to gain Blair's inheritance.  The Wild Boy of Aveyron, a feral child caught in 1798, showed several signs of autism; the medical student Jean Itard treated him with a behavioral program designed to help him form social attachments and to induce speech via imitation.   The New Latin word autismus (English translation autism) was coined by the Swiss psychiatrist Eugen Bleuler in 1910 as he was defining symptoms of schizophrenia. He derived it from the Greek word autós (αὐτός, meaning \"self\"), and used it to mean morbid self-admiration, referring to \"autistic withdrawal of the patient to his fantasies, against which any influence from outside becomes an intolerable disturbance\". The word autism first took its modern sense in 1938 when Hans Asperger of the Vienna University Hospital adopted Bleuler's terminology autistic psychopaths in a lecture in German about child psychology.  Asperger was investigating an ASD now known as Asperger syndrome, though for various reasons it was not widely recognized as a separate diagnosis until 1981.  Leo Kanner of the Johns Hopkins Hospital first used autism in its modern sense in English when he introduced the label early infantile autism in a 1943 report of 11 children with striking behavioral similarities.   Reprinted in    Almost all the characteristics described in Kanner's first paper on the subject, notably \"autistic aloneness\" and \"insistence on sameness\", are still regarded as typical of the autistic spectrum of disorders.  It is not known whether Kanner derived the term independently of Asperger.   Kanner's reuse of autism led to decades of confused terminology like infantile schizophrenia, and child psychiatry's focus on maternal deprivation led to misconceptions of autism as an infant's response to \"refrigerator mothers\". Starting in the late 1960s autism was established as a separate syndrome by demonstrating that it is lifelong, distinguishing it from intellectual disability and schizophrenia and from other developmental disorders, and demonstrating the benefits of involving parents in active programs of therapy.  As late as the mid-1970s there was little evidence of a genetic role in autism; now it is thought to be one of the most heritable of all psychiatric conditions.  Although the rise of parent organizations and the destigmatization of childhood ASD have deeply affected how we view ASD,  parents continue to feel social stigma in situations where their child's autistic behavior is perceived negatively by others,  and many primary care physicians and medical specialists still express some beliefs consistent with outdated autism research. The Internet has helped autistic individuals bypass nonverbal cues and emotional sharing that they find so hard to deal with, and has given them a way to form online communities and work remotely.  Sociological and cultural aspects of autism have developed: some in the community seek a cure, while others believe that autism is simply another way of being.    \n",
       "References \n",
       "Further reading\n",
       "\n",
       " \n",
       " \n",
       "\n",
       "\n",
       "External links \n",
       "\n",
       " \n",
       "\n",
       " \n",
       " \n",
       " \n",
       " \n",
       " \n",
       " \n",
       "\n",
       "\n",
       "\n",
       "\n",
       "\n",
       "), (A,A\n",
       " \n",
       " \n",
       " \n",
       " \n",
       "  \n",
       " \n",
       "\n",
       "A (named a  , plural aes ) is the first letter and vowel in the ISO basic Latin alphabet.  It is similar to the Ancient Greek letter alpha, from which it derives.  The upper-case version consists of the two slanting sides of a triangle, crossed in the middle by a horizontal bar. The lower-case version can be written in two forms: the double-storey a and single-storey ɑ. The latter is commonly used in handwriting and fonts based on it, especially fonts intended to be read by children. It is also found in italic type.\n",
       "HistoryThe earliest certain ancestor of \"A\" is aleph (also called 'aleph), the first letter of the Phoenician alphabet    (which, by consisting entirely of consonants, is an abjad rather than a true alphabet). In turn, the origin of aleph may have been a pictogram of an ox head in proto-Sinaitic script    influenced by Egyptian hieroglyphs, styled as a triangular head with two horns extended.\n",
       "\n",
       "Egyptian  Cretan Phoenician  aleph Semitic   Greek  Alpha Etruscan  A Roman/Cyrillic  A Boeotian  800–700 BC Greek   Uncial Latin 300 AD   Uncial \n",
       "          \n",
       "          \n",
       "In 1600 B.C.E., the Phoenician alphabet's letter had a linear form that served as the base for some later forms. Its name must have corresponded closely to the Hebrew or Arabic aleph.\n",
       "\n",
       " Blackletter A  Uncial A  Another Blackletter A  \n",
       " Modern Roman A  Modern Italic A  Modern script A When the ancient Greeks adopted the alphabet, they had no use for the glottal stop—the first phoneme of the Phoenician pronunciation of the letter, and the sound that the letter denoted in Phoenician and other Semitic languages—so they used an adaptation of the sign to represent the vowel  , and gave it the similar name of alpha. In the earliest Greek inscriptions after the Greek Dark Ages, dating to the 8th century BC, the letter rests upon its side, but in the Greek alphabet of later times it generally resembles the modern capital letter, although many local varieties can be distinguished by the shortening of one leg, or by the angle at which the cross line is set.The Etruscans brought the Greek alphabet to their civilization in the Italian Peninsula and left the letter unchanged. The Romans later adopted the Etruscan alphabet to write the Latin language, and the resulting letter was preserved in the Latin alphabet used to write many languages, including English.\n",
       "Typographic variants\n",
       "During Roman times, there were many variations on the letter \"A\". First was the monumental or lapidary style, which was used when inscribing on stone or other \"permanent\" mediums. For perishable surfaces, what was used for everyday or utilitarian purposes, a cursive style was used. Due to the \"perishable\" nature of the surfaces, these examples are not as prevalent as the monumental. This perishable style was called cursive and numerous variations have survived, such as majuscule cursive, minuscule cursive, and semicursive minuscule. There were also variants that were intermediate between the monumental and the cursive. The known variants include the early semi-uncial, the uncial, and the later semi-uncial.   At the termination of the Roman Empire (5th century AD), several variants of the cursive minuscule appeared through Western Europe. Among these were the semicursive minuscule of Italy, the Merovingian script in France, the Visigothic script in Spain, and the Insular or Anglo-Irish semi-uncial or Anglo-Saxon majuscule, of Great Britain. By the 9th century, the Caroline script, which was very similar to the present-day form, was the principal form used in book-making, before the advent of the printing press. This form was derived through a combining of prior forms. 15th-century Italy saw the formation of the two variants that are known today. These variants, the Italics and Roman forms, were derived from the Caroline Script version. The Italics form used in most current handwriting consists of a circle and vertical stroke ( ), called Latin alpha or \"script a\". This slowly developed from the fifth-century form resembling the Greek letter tau in the hands of dark-age Irish and English writers.  Most printed material uses the Roman form consisting of a small loop with an arc over it ( ).  Both derive from the majuscule (capital) form. In Greek handwriting, it was common to join the left leg and horizontal stroke into a single loop, as demonstrated by the uncial version shown. Many fonts then made the right leg vertical. In some of these, the serif that began the right leg stroke developed into an arc, resulting in the printed form, while in others it was dropped, resulting in the modern handwritten form.\n",
       "Use in EnglishIn English orthography, the letter A currently represents six different vowel sounds: A by itself frequently denotes the near-open front unrounded vowel ( ) as in pad; the open back unrounded vowel ( ) as in father, its original, Latin and Greek, sound;  a closer, further fronted sound as in \"hare\", which developed as the sound progressed from \"father\" to \"ace\";  in concert with a later orthographic vowel, the diphthong   as in ace and major, due to effects of the Great Vowel Shift; the more rounded form in \"water\" or its closely related cousin, found in \"was\". The double \"a\" sequence is not a native English combination; however it occurs in some foreign words such as Aaron and aardvark. \"A\" is the third-most-commonly used letter in English (after \"E\" and \"T\"),  and the second most common in Spanish and French. In one study, on average, about 3.68% of letters used in English tend to be 'a', while the number is 6.22% in Spanish and 3.95% in French. \n",
       "Use in other languagesIn most languages that use the Latin alphabet, A denotes an open unrounded vowel:  ,  , or  . An exception is Saanich, in which A (and Á) stands for a close-mid front unrounded vowel  .\n",
       "Use in mathematics, logic and science \n",
       "In algebra, the letter \"A\" along with other letters at the beginning of the alphabet is used to represent known quantities, whereas the letters at the end of the alphabet (x,y,z) are used to denote unknown quantities.In geometry, capital A, B, C etc. are used to denote segments, lines, rays, etc.  A capital A is also typically used as one of the letters to represent an angle in a triangle, the lowercase a representing the side opposite angle A. In logic, A is used to signify the universal affirmative.In physics, A is the SI unit symbol for Ampere.In phonetic and phonemic notation:\n",
       "\n",
       "in the  ,   is used for the open front unrounded vowel,   is used for the open central unrounded vowel and   is used for the open back unrounded vowel.\n",
       "in X-SAMPA, [a] is used for the open front unrounded vowel and [A] is used for the open back unrounded vowel.\n",
       "\n",
       "\n",
       "Other uses \n",
       "\"A\" is often used to denote something or someone of a better or more prestigious quality or status: A-, A or A+, the best grade that can be assigned by teachers for students' schoolwork; \"A grade\" for clean restaurants; A-list celebrities, etc. Such associations can have a motivating effect, as exposure to the letter A has been found to improve performance, when compared with other letters. A is a common symbol of school and basic phonetics in the US, along with B and C.Finally, the letter A is used to denote size, as in a narrow size shoe,  or a small cup size in a brassiere.\n",
       "Related letters and other similar characters\n",
       "\n",
       "Α α : Greek letter alpha\n",
       "А а : Cyrillic letter A\n",
       "  : Latin letter alpha / script A\n",
       "  : a turned lowercase letter A, used by the International Phonetic Alphabet for the near-open central vowel\n",
       "  : a turned capital letter A, used in predicate logic to specify universal quantification (\"for all\")\n",
       " ª  : an ordinal indicator\n",
       "Æ æ : Latin AE ligature\n",
       "Å å : A letter used in various Scandinavian (and other) languages\n",
       "\n",
       "\n",
       "Computing codes \n",
       "\n",
       " 1   \n",
       "\n",
       "\n",
       "Other representations \n",
       "Notes \n",
       "Footnotes \n",
       "References\n",
       "\n",
       " \n",
       "\n",
       "\n",
       "\n",
       "  \n",
       "\n",
       "\n",
       "\n",
       " \n",
       "\n",
       "\n",
       "\n",
       " \n",
       "\n",
       "\n",
       "\n",
       " \n",
       "\n",
       "\n",
       "\n",
       " \n",
       "\n",
       "\n",
       "\n",
       " \n",
       "\n",
       "\n",
       "\n",
       " \n",
       "\n",
       "\n",
       "External links \n",
       " \n",
       "\n",
       "History of the Alphabet\n",
       " \n",
       "\n",
       " \n",
       ")]"
      ]
     },
     "execution_count": 6,
     "metadata": {},
     "output_type": "execute_result"
    }
   ],
   "source": [
    "val plainText = xmlPages.filter(_ != null).flatMap(ParseWikipedia.wikiXmlToPlainText)\n",
    "plainText.take(2)"
   ]
  },
  {
   "cell_type": "code",
   "execution_count": 14,
   "metadata": {},
   "outputs": [
    {
     "data": {
      "text/plain": [
       "Name: Compile Error\n",
       "Message: <console>:63: error: value info is not a member of org.apache.spark.rdd.RDD[(String, String)]\n",
       "       plainText.info()\n",
       "                 ^\n",
       "\n",
       "StackTrace: "
      ]
     },
     "execution_count": 14,
     "metadata": {},
     "output_type": "execute_result"
    }
   ],
   "source": [
    "plainText.info()\n"
   ]
  },
  {
   "cell_type": "code",
   "execution_count": 6,
   "metadata": {},
   "outputs": [
    {
     "name": "stdout",
     "output_type": "stream",
     "text": [
      "Adding annotator tokenize\n",
      "TokenizerAnnotator: No tokenizer type provided. Defaulting to PTBTokenizer.\n",
      "Adding annotator ssplit\n",
      "edu.stanford.nlp.pipeline.AnnotatorImplementations:\n",
      "Adding annotator pos\n",
      "Reading POS tagger model from edu/stanford/nlp/models/pos-tagger/english-left3words/english-left3words-distsim.tagger ... done [1,1 sec].\n",
      "Adding annotator lemma\n"
     ]
    },
    {
     "data": {
      "text/plain": [
       "stopWords = Set(down, it's, that's, for, further, she'll, any, there's, this, haven't, in, ought, myself, have, your, off, once, i'll, are, is, his, why, too, why's, am, than, isn't, didn't, himself, but, you're, below, what, would, i'd, if, you'll, own, they'll, up, we're, they'd, so, our, do, all, him, ours\tourselves, had, nor, before, it, a, she's, as, hadn't, because, has, she, yours, or, above, yourself, herself, she'd, such, they, each, can't, don't, i, until, that, out, he's, cannot, to, we've, hers, you, did, let's, most, here, these, hasn't, was, there, when's, shan't, doing, at, through, been, over, i've, on, being, same, how, whom, my, after, who, itself, me, them, by, then, couldn't, he, should, few, wasn't, again, while, their, not, w...\n"
      ]
     },
     "metadata": {},
     "output_type": "display_data"
    },
    {
     "data": {
      "text/plain": [
       "Set(down, it's, that's, for, further, she'll, any, there's, this, haven't, in, ought, myself, have, your, off, once, i'll, are, is, his, why, too, why's, am, than, isn't, didn't, himself, but, you're, below, what, would, i'd, if, you'll, own, they'll, up, we're, they'd, so, our, do, all, him, ours\tourselves, had, nor, before, it, a, she's, as, hadn't, because, has, she, yours, or, above, yourself, herself, she'd, such, they, each, can't, don't, i, until, that, out, he's, cannot, to, we've, hers, you, did, let's, most, here, these, hasn't, was, there, when's, shan't, doing, at, through, been, over, i've, on, being, same, how, whom, my, after, who, itself, me, them, by, then, couldn't, he, should, few, wasn't, again, while, their, not, with, from, you've, they've, what's, wouldn't, both, could, its, under, which, you'd, an, be, here's, into, where, he'll, her, themselves, were, more, we'd, where's, they're, who's, between, aren't, about, doesn't, how's, against, during, no, very, we, having, mustn't, some, does, when, shouldn't, yourselves, he'd, other, of, weren't, and, won't, theirs, i'm, we'll, the, those, only)"
      ]
     },
     "execution_count": 6,
     "metadata": {},
     "output_type": "execute_result"
    }
   ],
   "source": [
    "val stopWords = sc.broadcast(ParseWikipedia\n",
    "                         .loadStopWords(\"/home/user/Documents/RCP-216/deps/lsa/src/main/resources/stopwords.txt\")).value\n",
    "val lemmatized = plainText.mapPartitions(iter => {\n",
    "           val pipeline = ParseWikipedia.createNLPPipeline();\n",
    "           iter.map{ case(title, contents) =>\n",
    "                         (title, ParseWikipedia.plainTextToLemmas(contents, stopWords, pipeline))};\n",
    "       }).cache()\n",
    "\n",
    "lemmatized.take(2)\n",
    "val filtered = lemmatized.filter(_._2.size > 1)"
   ]
  },
  {
   "cell_type": "code",
   "execution_count": 7,
   "metadata": {},
   "outputs": [
    {
     "name": "stdout",
     "output_type": "stream",
     "text": [
      "Adding annotator tokenize\n",
      "Adding annotator tokenize\n",
      "Adding annotator ssplit\n",
      "Adding annotator ssplit\n",
      "Adding annotator pos\n",
      "Adding annotator pos\n",
      "Adding annotator lemma\n",
      "Adding annotator lemma\n",
      "Adding annotator tokenize\n",
      "Adding annotator ssplit\n",
      "Adding annotator pos\n",
      "Adding annotator lemma\n",
      "[Stage 3:>                                                          (0 + 4) / 5]Adding annotator tokenize\n",
      "Adding annotator ssplit\n",
      "Adding annotator pos\n",
      "Adding annotator lemma\n",
      "Number of terms: 1000                                                           \n"
     ]
    },
    {
     "data": {
      "text/plain": [
       "numTerms = 1000\n",
       "termDocMatrix = MapPartitionsRDD[17] at map at ParseWikipedia.scala:64\n",
       "termIds = Map(645 -> love, 892 -> identify, 69 -> court, 809 -> time, 629 -> house, 365 -> text, 138 -> size, 760 -> american, 101 -> agree, 479 -> russian, 347 -> christian, 846 -> relatively, 909 -> film, 333 -> earlier, 628 -> order, 249 -> friend, 893 -> rise, 518 -> change, 962 -> located, 468 -> museum, 234 -> higher, 941 -> distance, 0 -> rate, 777 -> debate, 555 -> port, 666 -> sound, 88 -> point, 481 -> probably, 352 -> demonstrate, 408 -> english, 977 -> obtain, 170 -> join, 523 -> response, 582 -> son, 762 -> characteristic, 115 -> show, 683 -> refer, 730 -> use, 217 -> problem, 276 -> bir...\n"
      ]
     },
     "metadata": {},
     "output_type": "display_data"
    },
    {
     "data": {
      "text/plain": [
       "Map(645 -> love, 892 -> identify, 69 -> court, 809 -> time, 629 -> house, 365 -> text, 138 -> size, 760 -> american, 101 -> agree, 479 -> russian, 347 -> christian, 846 -> relatively, 909 -> film, 333 -> earlier, 628 -> order, 249 -> friend, 893 -> rise, 518 -> change, 962 -> located, 468 -> museum, 234 -> higher, 941 -> distance, 0 -> rate, 777 -> debate, 555 -> port, 666 -> sound, 88 -> point, 481 -> probably, 352 -> demonstrate, 408 -> english, 977 -> obtain, 170 -> join, 523 -> response, 582 -> son, 762 -> characteristic, 115 -> show, 683 -> refer, 730 -> use, 217 -> problem, 276 -> birth, 994 -> decline, 308 -> britain, 741 -> rather, 5 -> reference, 873 -> see, 449 -> element, 120 -> student, 247 -> short, 379 -> describe, 878 -> limit, 440 -> object, 655 -> story, 511 -> travel, 614 -> territory, 269 -> previous, 677 -> association, 202 -> recent, 597 -> party, 861 -> wife, 10 -> entirely, 385 -> public, 384 -> computer, 56 -> website, 533 -> variety, 550 -> africa, 142 -> relation, 500 -> operate, 797 -> church, 715 -> turn, 472 -> modern, 814 -> part, 698 -> whereas, 747 -> concept, 913 -> inside, 945 -> device, 340 -> thing, 538 -> older, 153 -> research, 930 -> like, 670 -> little, 829 -> directly, 174 -> standard, 404 -> following, 898 -> white, 185 -> role, 42 -> method, 782 -> development, 709 -> express, 841 -> island, 417 -> canada, 24 -> despite, 973 -> eight, 885 -> add, 288 -> set, 301 -> branch, 320 -> exception, 565 -> declare, 436 -> hour, 37 -> art, 25 -> drive, 651 -> prominent, 257 -> journal, 389 -> main, 52 -> due, 724 -> theory, 14 -> application, 570 -> analysis, 184 -> degree, 719 -> life, 785 -> shape, 372 -> divide, 504 -> larger, 110 -> somewhat, 587 -> board, 619 -> international, 838 -> typically, 917 -> extremely, 702 -> next, 751 -> influence, 802 -> connection, 125 -> try, 344 -> well, 934 -> might, 357 -> john, 196 -> sea, 949 -> high, 542 -> raise, 460 -> expand, 157 -> pattern, 817 -> road, 902 -> known, 559 -> slightly, 638 -> visit, 853 -> kill, 189 -> similar, 20 -> behind, 421 -> building, 870 -> king, 46 -> author, 969 -> table, 93 -> source, 606 -> greatest, 284 -> necessary, 770 -> original, 881 -> word, 416 -> last, 325 -> river, 152 -> compose, 228 -> seek, 289 -> civil, 448 -> commonly, 57 -> win, 316 -> contemporary, 78 -> move, 261 -> distinguish, 29 -> business, 216 -> happen, 475 -> traditional, 924 -> practice, 492 -> share, 164 -> explain, 756 -> tree, 789 -> large, 179 -> land, 591 -> successful, 443 -> concern, 321 -> aspect, 376 -> popular, 623 -> meaning, 211 -> center, 646 -> improve, 253 -> serve, 485 -> around, 834 -> figure, 106 -> course, 238 -> must, 121 -> location, 514 -> believe, 937 -> nine, 348 -> currently, 574 -> near, 806 -> attribute, 84 -> lay, 353 -> pay, 966 -> beyond, 821 -> ask, 905 -> policy, 480 -> child, 602 -> resource, 981 -> product, 766 -> mainly, 147 -> society, 397 -> belong, 687 -> team, 280 -> cut, 61 -> fail, 634 -> occupy, 877 -> call, 692 -> administration, 734 -> category, 221 -> big, 293 -> idea, 956 -> ever, 866 -> family, 453 -> alternative, 132 -> observe, 774 -> five, 396 -> total, 89 -> success, 133 -> song, 660 -> link, 998 -> never, 411 -> decision, 988 -> york, 116 -> greek, 243 -> play, 428 -> kingdom, 1 -> michael, 265 -> responsible, 849 -> basic, 507 -> week, 527 -> second, 312 -> award, 74 -> paul, 206 -> style, 307 -> local, 292 -> full, 233 -> german, 452 -> green, 6 -> widely, 920 -> scholar, 248 -> occur, 60 -> production, 380 -> country, 117 -> pressure, 512 -> foundation, 942 -> primary, 439 -> animal, 678 -> specific, 270 -> institution, 529 -> discuss, 661 -> famous, 546 -> destroy, 793 -> typical, 925 -> possible, 85 -> daughter, 201 -> recognize, 761 -> say, 810 -> better, 381 -> article, 220 -> highly, 366 -> lower, 534 -> thomas, 102 -> manage, 714 -> true, 798 -> republic, 334 -> though, 910 -> define, 957 -> red, 894 -> military, 746 -> position, 825 -> combination, 778 -> financial, 952 -> plan, 302 -> united, 260 -> context, 862 -> publication, 349 -> regular, 28 -> find, 38 -> fourth, 598 -> therefore, 160 -> initial, 820 -> title, 561 -> general, 392 -> magazine, 297 -> variation, 70 -> young, 424 -> importance, 192 -> although, 407 -> far, 693 -> unlike, 630 -> simple, 429 -> avoid, 275 -> host, 788 -> movement, 21 -> mother, 137 -> private, 165 -> previously, 815 -> average, 729 -> nature, 33 -> school, 92 -> cultural, 916 -> action, 467 -> code, 229 -> population, 847 -> start, 566 -> july, 484 -> small, 252 -> rest, 197 -> teach, 361 -> especially, 65 -> southern, 625 -> third, 879 -> basis, 852 -> november, 435 -> army, 97 -> martin, 329 -> energy, 665 -> paper, 583 -> space, 522 -> draw, 830 -> heart, 889 -> component, 461 -> base, 493 -> tradition, 757 -> material, 682 -> character, 551 -> structure, 710 -> first, 456 -> direct, 842 -> wide, 324 -> create, 974 -> display, 285 -> result, 224 -> process, 519 -> transport, 742 -> ten, 578 -> remove, 697 -> person, 874 -> centre, 317 -> office, 650 -> expect, 948 -> potential, 156 -> history, 615 -> tend, 725 -> james, 980 -> richard, 403 -> promote, 9 -> side, 188 -> master, 388 -> leader, 53 -> largely, 356 -> trade, 169 -> david, 593 -> cite, 141 -> real, 869 -> except, 610 -> sense, 783 -> detail, 420 -> section, 499 -> face, 989 -> europe, 857 -> william, 109 -> refuse, 328 -> advance, 471 -> oppose, 256 -> involve, 884 -> western, 488 -> publish, 124 -> subsequently, 225 -> scale, 339 -> retain, 933 -> write, 77 -> instead, 554 -> political, 753 -> file, 193 -> eastern, 537 -> cover, 669 -> much, 901 -> group, 686 -> grant, 476 -> know, 642 -> official, 526 -> addition, 637 -> origin, 489 -> water, 590 -> interest, 679 -> argue, 970 -> complex, 547 -> difficult, 212 -> good, 706 -> easily, 96 -> represent, 622 -> grow, 837 -> form, 393 -> equivalent, 647 -> however, 997 -> physical, 985 -> follow, 701 -> cross, 515 -> references, 738 -> propose, 654 -> new, 457 -> half, 984 -> authority, 173 -> writer, 911 -> unique, 721 -> knowledge, 13 -> quality, 129 -> collection, 569 -> related, 41 -> construction, 779 -> contrast, 371 -> quite, 503 -> similarly, 605 -> capital, 134 -> less, 73 -> name, 128 -> soon, 343 -> store, 237 -> prevent, 105 -> among, 244 -> keep, 792 -> roman, 2 -> california, 938 -> away, 266 -> dispute, 633 -> final, 360 -> unknown, 805 -> existence, 205 -> front, 508 -> version, 311 -> situation, 921 -> volume, 541 -> law, 657 -> library, 765 -> place, 398 -> affect, 558 -> presence, 674 -> perform, 530 -> experience, 953 -> period, 773 -> air, 794 -> account, 586 -> language, 662 -> february, 718 -> region, 888 -> top, 926 -> deal, 906 -> great, 298 -> just, 412 -> way, 965 -> station, 750 -> class, 618 -> quickly, 425 -> culture, 513 -> brother, 430 -> work, 824 -> special, 166 -> model, 32 -> produce, 34 -> rock, 148 -> fire, 264 -> primarily, 45 -> relative, 856 -> act, 161 -> bear, 745 -> thus, 279 -> look, 64 -> spread, 573 -> discover, 180 -> future, 689 -> appearance, 296 -> track, 17 -> number, 444 -> arm, 149 -> surface, 375 -> man, 733 -> charge, 601 -> member, 584 -> gain, 819 -> kind, 562 -> common, 904 -> defaultsort, 975 -> month, 176 -> nation, 423 -> stop, 694 -> survive, 191 -> different, 402 -> december, 732 -> put, 22 -> chief, 44 -> test, 843 -> mark, 772 -> fully, 286 -> every, 743 -> end, 875 -> light, 826 -> latter, 577 -> focus, 711 -> alone, 579 -> highest, 291 -> determine, 958 -> free, 59 -> review, 118 -> likely, 281 -> music, 204 -> aid, 545 -> north, 259 -> suggest, 27 -> network, 413 -> upper, 641 -> historian, 71 -> area, 391 -> damage, 12 -> health, 445 -> robert, 936 -> since, 382 -> advantage, 54 -> lead, 572 -> poor, 313 -> decade, 611 -> powerful, 787 -> meet, 144 -> union, 713 -> south, 498 -> woman, 49 -> reach, 466 -> toward, 335 -> within, 236 -> per, 919 -> america, 804 -> rights, 181 -> root, 704 -> generally, 947 -> without, 350 -> year, 540 -> often, 86 -> internal, 159 -> guide, 672 -> university, 764 -> latin, 979 -> leave, 604 -> take, 187 -> heavily, 900 -> together, 406 -> italy, 172 -> throughout, 831 -> attempt, 113 -> effort, 681 -> environment, 219 -> document, 274 -> present, 784 -> technique, 419 -> open, 81 -> professional, 736 -> news, 377 -> contain, 990 -> level, 996 -> maintain, 230 -> war, 362 -> council, 451 -> purpose, 76 -> death, 567 -> transfer, 7 -> significantly, 245 -> appear, 737 -> approach, 318 -> mean, 509 -> long, 880 -> tell, 39 -> subsequent, 649 -> isbn, 434 -> amount, 98 -> claim, 616 -> contribute, 303 -> reading, 271 -> native, 208 -> return, 599 -> date, 863 -> example, 890 -> major, 477 -> double, 811 -> million, 387 -> strong, 494 -> sign, 631 -> commercial, 758 -> almost, 345 -> credit, 858 -> actual, 367 -> star, 552 -> condition, 535 -> iii, 816 -> multiple, 103 -> feature, 609 -> lack, 323 -> minister, 594 -> extensive, 140 -> scientific, 799 -> unit, 213 -> spanish, 726 -> address, 621 -> hope, 91 -> possibly, 483 -> select, 848 -> greater, 700 -> separate, 520 -> personal, 66 -> across, 240 -> normal, 251 -> head, 895 -> construct, 964 -> surround, 626 -> food, 915 -> accord, 769 -> era, 943 -> record, 668 -> foreign, 155 -> want, 198 -> online, 108 -> president, 330 -> attention, 462 -> national, 932 -> achieve, 912 -> along, 685 -> early, 521 -> something, 983 -> access, 130 -> independent, 399 -> critical, 959 -> classical, 768 -> useful, 827 -> case, 636 -> father, 695 -> money, 278 -> run, 868 -> many, 780 -> natural, 455 -> fall, 883 -> difference, 223 -> conflict, 608 -> april, 394 -> come, 986 -> view, 306 -> two, 135 -> originally, 563 -> ancient, 299 -> understand, 226 -> human, 3 -> particularly, 267 -> battle, 851 -> develop, 505 -> help, 438 -> creation, 431 -> central, 241 -> coast, 80 -> design, 653 -> director, 922 -> continue, 167 -> exist, 35 -> june, 658 -> will, 473 -> letter, 722 -> definition, 490 -> department, 675 -> park, 426 -> eventually, 589 -> relate, 162 -> late, 531 -> die, 944 -> speak, 795 -> get, 680 -> reduce, 663 -> majority, 548 -> operation, 927 -> may, 374 -> yet, 255 -> institute, 648 -> function, 209 -> line, 487 -> historical, 112 -> replace, 812 -> enough, 749 -> whole, 617 -> rare, 516 -> hold, 939 -> states, 342 -> rule, 123 -> subject, 355 -> finally, 754 -> treat, 553 -> also, 968 -> carry, 458 -> issue, 823 -> several, 836 -> type, 194 -> event, 145 -> march, 776 -> offer, 48 -> people, 525 -> joseph, 712 -> combine, 557 -> need, 580 -> government, 855 -> suffer, 690 -> immediately, 63 -> stage, 640 -> either, 295 -> rank, 18 -> mass, 872 -> royal, 705 -> press, 282 -> effect, 150 -> depend, 707 -> give, 887 -> reflect, 414 -> extend, 971 -> usually, 95 -> learn, 327 -> night, 954 -> right, 739 -> report, 409 -> social, 263 -> reveal, 310 -> entire, 993 -> the, 50 -> begin, 67 -> prove, 199 -> radio, 673 -> cause, 177 -> agreement, 791 -> longer, 182 -> best, 331 -> spring, 441 -> adopt, 16 -> read, 585 -> apply, 370 -> whose, 717 -> media, 502 -> intend, 840 -> overall, 463 -> key, 127 -> break, 338 -> build, 470 -> approximately, 576 -> education, 951 -> increase, 808 -> always, 359 -> associate, 643 -> even, 544 -> mention, 907 -> former, 31 -> support, 744 -> thousand, 336 -> datum, 703 -> significant, 656 -> actually, 613 -> seven, 154 -> commission, 600 -> notable, 864 -> australia, 11 -> measure, 727 -> choice, 72 -> challenge, 175 -> state, 978 -> officially, 386 -> london, 314 -> sometimes, 446 -> completely, 571 -> black, 595 -> cost, 612 -> hundred, 143 -> prior, 497 -> single, 43 -> post, 876 -> demand, 859 -> current, 991 -> sell, 845 -> aim, 250 -> differ, 465 -> now, 231 -> clear, 627 -> supply, 450 -> factor, 99 -> require, 363 -> instance, 556 -> remain, 931 -> convert, 539 -> consist, 87 -> introduction, 482 -> company, 203 -> generation, 671 -> september, 976 -> derive, 688 -> means, 903 -> lose, 524 -> legal, 581 -> complete, 495 -> home, 759 -> property, 891 -> past, 218 -> description, 104 -> accept, 368 -> certain, 844 -> town, 771 -> france, 588 -> individual, 699 -> evidence, 961 -> later, 813 -> notably, 963 -> list, 517 -> found, 319 -> information, 896 -> value, 748 -> earliest, 40 -> community, 304 -> literature, 26 -> program, 946 -> one, 258 -> growth, 158 -> three, 652 -> distinct, 351 -> industry, 390 -> indicate, 186 -> treatment, 55 -> portion, 114 -> india, 632 -> range, 401 -> numerous, 171 -> decide, 139 -> system, 731 -> make, 418 -> age, 786 -> attack, 781 -> catholic, 23 -> organization, 995 -> send, 8 -> launch, 75 -> count, 568 -> equal, 290 -> outside, 119 -> french, 58 -> city, 914 -> east, 378 -> particular, 235 -> george, 246 -> band, 433 -> division, 510 -> six, 207 -> image, 667 -> back, 929 -> compare, 478 -> bank, 763 -> length, 272 -> hall, 383 -> edition, 899 -> vary, 832 -> religion, 684 -> still, 346 -> nearly, 549 -> largest, 536 -> african, 82 -> henry, 716 -> include, 214 -> world, 800 -> italian, 287 -> enter, 151 -> economic, 300 -> site, 999 -> religious, 620 -> allow, 752 -> seem, 447 -> become, 315 -> establish, 432 -> square, 833 -> emerge, 410 -> stand, 36 -> question, 967 -> earth, 950 -> today, 168 -> connect, 835 -> arise, 262 -> book, 146 -> four, 30 -> announce, 51 -> series, 818 -> marry, 405 -> provide, 854 -> activity, 190 -> spend, 183 -> charles, 19 -> able, 422 -> service, 790 -> protect, 867 -> game, 273 -> campaign, 865 -> simply, 373 -> additional, 603 -> live, 735 -> british, 564 -> external, 305 -> conclude, 210 -> project, 326 -> receive, 107 -> force, 239 -> limited, 242 -> organize, 4 -> eye, 294 -> summer, 126 -> already, 918 -> towards, 801 -> release, 136 -> consider, 341 -> arrive, 506 -> symbol, 268 -> january, 358 -> beginning, 79 -> regard, 807 -> loss, 195 -> another, 437 -> upon, 897 -> performance, 474 -> technology, 767 -> smaller, 664 -> conduct, 400 -> west, 828 -> frequently, 960 -> speed, 635 -> video, 532 -> respectively, 696 -> ability, 720 -> fight, 955 -> desire, 94 -> northern, 796 -> train, 283 -> page, 886 -> important, 928 -> college, 415 -> reason, 395 -> command, 624 -> note, 839 -> benefit, 728 -> bring, 740 -> available, 987 -> perhaps, 464 -> drop, 332 -> century, 575 -> wall, 427 -> television, 860 -> capture, 596 -> heavy, 528 -> relationship, 644 -> status, 459 -> least, 908 -> day, 992 -> active, 723 -> pass, 822 -> power, 131 -> germany, 47 -> feel, 15 -> incorporate, 163 -> field, 200 -> specifically, 850 -> close, 68 -> plant, 982 -> minor, 62 -> body, 178 -> whether, 277 -> peter, 691 -> assume, 442 -> middle, 871 -> employ, 501 -> recently, 369 -> old, 607 -> ship, 90 -> choose, 111 -> step, 254 -> hand, 227 -> european, 322 -> estimate, 486 -> fact, 803 -> matter, 337 -> principle, 122 -> market, 469 -> october, 940 -> mostly, 354 -> direction, 83 -> scientist, 935 -> england, 923 -> study, 309 -> term, 659 -> via, 543 -> low, 215 -> annual, 775 -> notes, 560 -> can, 639 -> think, 755 -> control, 676 -> empire, 491 -> china, 222 -> formation, 592 -> ground, 496 -> various, 454 -> science, 364 -> initially, 708 -> august, 232 -> introduce, 882 -> lie, 100 -> god, 972 -> piece)"
      ]
     },
     "execution_count": 7,
     "metadata": {},
     "output_type": "execute_result"
    }
   ],
   "source": [
    "val numTerms = 1000 // nombre de termes à garder (les plus fréquents)\n",
    "val (termDocMatrix, termIds, docIds, idfs) =\n",
    "            ParseWikipedia.termDocumentMatrix(filtered, stopWords, numTerms, sc)"
   ]
  },
  {
   "cell_type": "code",
   "execution_count": 8,
   "metadata": {},
   "outputs": [
    {
     "data": {
      "text/plain": [
       "MapPartitionsRDD[17] at map at ParseWikipedia.scala:64"
      ]
     },
     "execution_count": 8,
     "metadata": {},
     "output_type": "execute_result"
    }
   ],
   "source": [
    "termDocMatrix.cache()"
   ]
  },
  {
   "cell_type": "code",
   "execution_count": 9,
   "metadata": {},
   "outputs": [
    {
     "name": "stdout",
     "output_type": "stream",
     "text": [
      "[Stage 7:===========>                                               (1 + 4) / 5]"
     ]
    },
    {
     "data": {
      "text/plain": [
       "mat = org.apache.spark.mllib.linalg.distributed.RowMatrix@66ec53b9\n",
       "k = 200\n",
       "svd = \n"
      ]
     },
     "metadata": {},
     "output_type": "display_data"
    },
    {
     "data": {
      "text/plain": [
       "error: missing or invalid dependency detected while loading class file 'SequenceFileRDDFunctions.class'.\n",
       "Could not access type AnyRef in package scala,\n",
       "because it (or its dependencies) are missing. Check your build definition for\n",
       "missing or conflicting dependencies. (Re-run with `-Ylog-classpath` to see the problematic classpath.)\n",
       "A full rebuild may help if 'SequenceFileRDDFunctions.class' was compiled against an incompatible version of scala.\n",
       "error: missing or invalid dependency detected while loading class file 'PartitionwiseSampledRDDPartition.class'.\n",
       "Could not access type AnyRef in package scala,\n",
       "because it (or its dependencies) are missing. Check your build definition for\n",
       "missing or conflicting dependencies. (Re-run with `-Ylog-classpath` to see the problematic classpath.)\n",
       "A full rebuild may help if 'PartitionwiseSampledRDDPartition.class' was compiled against an incompatible version of scala.\n",
       "error: missing or invalid dependency detected while loading class file 'OrderedRDDFunctions.class'.\n",
       "Could not access type AnyRef in package scala,\n",
       "because it (or its dependencies) are missing. Check your build definition for\n",
       "missing or conflicting dependencies. (Re-run with `-Ylog-classpath` to see the problematic classpath.)\n",
       "A full rebuild may help if 'OrderedRDDFunctions.class' was compiled against an incompatible version of scala.\n",
       "error: missing or invalid dependency detected while loading class file 'CoalescedRDDPartition.class'.\n",
       "Could not access type AnyRef in package scala,\n",
       "because it (or its dependencies) are missing. Check your build definition for\n",
       "missing or conflicting dependencies. (Re-run with `-Ylog-classpath` to see the problematic classpath.)\n",
       "A full rebuild may help if 'CoalescedRDDPartition.class' was compiled against an incompatible version of scala.\n",
       "error: missing or invalid dependency detected while loading class file 'BlockRDDPartition.class'.\n",
       "Could not access type AnyRef in package scala,\n",
       "because it (or its dependencies) are missing. Check your build definition for\n",
       "missing or conflicting dependencies. (Re-run with `-Ylog-classpath` to see the problematic classpath.)\n",
       "A full rebuild may help if 'BlockRDDPartition.class' was compiled against an incompatible version of scala.\n",
       "error: missing or invalid dependency detected while loading class file 'JdbcPartition.class'.\n",
       "Could not access type AnyRef in package scala,\n",
       "because it (or its dependencies) are missing. Check your build definition for\n",
       "missing or conflicting dependencies. (Re-run with `-Ylog-classpath` to see the problematic classpath.)\n",
       "A full rebuild may help if 'JdbcPartition.class' was compiled against an incompatible version of scala.\n",
       "error: missing or invalid dependency detected while loading class file 'PartitionPruningRDDPartition.class'.\n",
       "Could not access type AnyRef in package scala,\n",
       "because it (or its dependencies) are missing. Check your build definition for\n",
       "missing or conflicting dependencies. (Re-run with `-Ylog-classpath` to see the problematic classpath.)\n",
       "A full rebuild may help if 'PartitionPruningRDDPartition.class' was compiled against an incompatible version of scala.\n",
       "error: missing or invalid dependency detected while loading class file 'NarrowCoGroupSplitDep.class'.\n",
       "Could not access type AnyRef in package scala,\n",
       "because it (or its dependencies) are missing. Check your build definition for\n",
       "missing or conflicting dependencies. (Re-run with `-Ylog-classpath` to see the problematic classpath.)\n",
       "A full rebuild may help if 'NarrowCoGroupSplitDep.class' was compiled against an incompatible version of scala.\n",
       "error: missing or invalid dependency detected while loading class file 'HadoopPartition.class'.\n",
       "Could not access type AnyRef in package scala,\n",
       "because it (or its dependencies) are missing. Check your build definition for\n",
       "missing or conflicting dependencies. (Re-run with `-Ylog-classpath` to see the problematic classpath.)\n",
       "A full rebuild may help if 'HadoopPartition.class' was compiled against an incompatible version of scala.\n",
       "error: missing or invalid dependency detected while loading class file 'PartitionGroup.class'.\n",
       "Could not access type AnyRef in package scala,\n",
       "because it (or its dependencies) are missing. Check your build definition for\n",
       "missing or conflicting dependencies. (Re-run with `-Ylog-classpath` to see the problematic classpath.)\n",
       "A full rebuild may help if 'PartitionGroup.class' was compiled against an incompatible version of scala.\n",
       "error: missing or invalid dependency detected while loading class file 'ZippedPartitionsPartition.class'.\n",
       "Could not access type AnyRef in package scala,\n",
       "because it (or its dependencies) are missing. Check your build definition for\n",
       "missing or conflicting dependencies. (Re-run with `-Ylog-classpath` to see the problematic classpath.)\n",
       "A full rebuild may help if 'ZippedPartitionsPartition.class' was compiled against an incompatible version of scala.\n",
       "error: missing or invalid dependency detected while loading class file 'NewHadoopPartition.class'.\n",
       "Could not access type AnyRef in package scala,\n",
       "because it (or its dependencies) are missing. Check your build definition for\n",
       "missing or conflicting dependencies. (Re-run with `-Ylog-classpath` to see the problematic classpath.)\n",
       "A full rebuild may help if 'NewHadoopPartition.class' was compiled against an incompatible version of scala.\n",
       "error: missing or invalid dependency detected while loading class file 'ZippedWithIndexRDDPartition.class'.\n",
       "Could not access type AnyRef in package scala,\n",
       "because it (or its dependencies) are missing. Check your build definition for\n",
       "missing or conflicting dependencies. (Re-run with `-Ylog-classpath` to see the problematic classpath.)\n",
       "A full rebuild may help if 'ZippedWithIndexRDDPartition.class' was compiled against an incompatible version of scala.\n",
       "error: missing or invalid dependency detected while loading class file 'DoubleRDDFunctions.class'.\n",
       "Could not access type AnyRef in package scala,\n",
       "because it (or its dependencies) are missing. Check your build definition for\n",
       "missing or conflicting dependencies. (Re-run with `-Ylog-classpath` to see the problematic classpath.)\n",
       "A full rebuild may help if 'DoubleRDDFunctions.class' was compiled against an incompatible version of scala.\n",
       "error: missing or invalid dependency detected while loading class file 'CheckpointRDDPartition.class'.\n",
       "Could not access type AnyRef in package scala,\n",
       "because it (or its dependencies) are missing. Check your build definition for\n",
       "missing or conflicting dependencies. (Re-run with `-Ylog-classpath` to see the problematic classpath.)\n",
       "A full rebuild may help if 'CheckpointRDDPartition.class' was compiled against an incompatible version of scala.\n",
       "error: missing or invalid dependency detected while loading class file 'PairRDDFunctions.class'.\n",
       "Could not access type AnyRef in package scala,\n",
       "because it (or its dependencies) are missing. Check your build definition for\n",
       "missing or conflicting dependencies. (Re-run with `-Ylog-classpath` to see the problematic classpath.)\n",
       "A full rebuild may help if 'PairRDDFunctions.class' was compiled against an incompatible version of scala.\n",
       "error: missing or invalid dependency detected while loading class file 'ParallelCollectionPartition.class'.\n",
       "Could not access type AnyRef in package scala,\n",
       "because it (or its dependencies) are missing. Check your build definition for\n",
       "missing or conflicting dependencies. (Re-run with `-Ylog-classpath` to see the problematic classpath.)\n",
       "A full rebuild may help if 'ParallelCollectionPartition.class' was compiled against an incompatible version of scala.\n",
       "error: missing or invalid dependency detected while loading class file 'ShuffledRDDPartition.class'.\n",
       "Could not access type AnyRef in package scala,\n",
       "because it (or its dependencies) are missing. Check your build definition for\n",
       "missing or conflicting dependencies. (Re-run with `-Ylog-classpath` to see the problematic classpath.)\n",
       "A full rebuild may help if 'ShuffledRDDPartition.class' was compiled against an incompatible version of scala.\n",
       "error: missing or invalid dependency detected while loading class file 'CartesianPartition.class'.\n",
       "Could not access type AnyRef in package scala,\n",
       "because it (or its dependencies) are missing. Check your build definition for\n",
       "missing or conflicting dependencies. (Re-run with `-Ylog-classpath` to see the problematic classpath.)\n",
       "A full rebuild may help if 'CartesianPartition.class' was compiled against an incompatible version of scala.\n",
       "error: missing or invalid dependency detected while loading class file 'PartitionerAwareUnionRDDPartition.class'.\n",
       "Could not access type AnyRef in package scala,\n",
       "because it (or its dependencies) are missing. Check your build definition for\n",
       "missing or conflicting dependencies. (Re-run with `-Ylog-classpath` to see the problematic classpath.)\n",
       "A full rebuild may help if 'PartitionerAwareUnionRDDPartition.class' was compiled against an incompatible version of scala.\n",
       "error: missing or invalid dependency detected while loading class file 'CoGroupPartition.class'.\n",
       "Could not access type AnyRef in package scala,\n",
       "because it (or its dependencies) are missing. Check your build definition for\n",
       "missing or conflicting dependencies. (Re-run with `-Ylog-classpath` to see the problematic classpath.)\n",
       "A full rebuild may help if 'CoGroupPartition.class' was compiled against an incompatible version of scala.\n",
       "error: missing or invalid dependency detected while loading class file 'UnionPartition.class'.\n",
       "Could not access type AnyRef in package scala,\n",
       "because it (or its dependencies) are missing. Check your build definition for\n",
       "missing or conflicting dependencies. (Re-run with `-Ylog-classpath` to see the problematic classpath.)\n",
       "A full rebuild may help if 'UnionPartition.class' was compiled against an incompatible version of scala.\n",
       "error: missing or invalid dependency detected while loading class file 'AsyncRDDActions.class'.\n",
       "Could not access type AnyRef in package scala,\n",
       "because it (or its dependencies) are missing. Check your build definition for\n",
       "missing or conflicting dependencies. (Re-run with `-Ylog-classpath` to see the problematic classpath.)\n",
       "A full rebuild may help if 'AsyncRDDActions.class' was compiled against an incompatible version of scala.\n",
       "error: missing or invalid dependency detected while loading class file 'TimeStampedValue.class'.\n",
       "Could not access type AnyRef in package scala,\n",
       "because it (or its dependencies) are missing. Check your build definition for\n",
       "missing or conflicting dependencies. (Re-run with `-Ylog-classpath` to see the problematic classpath.)\n",
       "A full rebuild may help if 'TimeStampedValue.class' was compiled against an incompatible version of scala.\n",
       "error: missing or invalid dependency detected while loading class file 'SerializableBuffer.class'.\n",
       "Could not access type AnyRef in package scala,\n",
       "because it (or its dependencies) are missing. Check your build definition for\n",
       "missing or conflicting dependencies. (Re-run with `-Ylog-classpath` to see the problematic classpath.)\n",
       "A full rebuild may help if 'SerializableBuffer.class' was compiled against an incompatible version of scala.\n",
       "error: missing or invalid dependency detected while loading class file 'SparkShutdownHook.class'.\n",
       "Could not access type AnyRef in package scala,\n",
       "because it (or its dependencies) are missing. Check your build definition for\n",
       "missing or conflicting dependencies. (Re-run with `-Ylog-classpath` to see the problematic classpath.)\n",
       "A full rebuild may help if 'SparkShutdownHook.class' was compiled against an incompatible version of scala.\n",
       "error: missing or invalid dependency detected while loading class file 'MethodIdentifier.class'.\n",
       "Could not access type AnyRef in package scala,\n",
       "because it (or its dependencies) are missing. Check your build definition for\n",
       "missing or conflicting dependencies. (Re-run with `-Ylog-classpath` to see the problematic classpath.)\n",
       "A full rebuild may help if 'MethodIdentifier.class' was compiled against an incompatible version of scala.\n",
       "error: missing or invalid dependency detected while loading class file 'PeriodicCheckpointer.class'.\n",
       "Could not access type AnyRef in package scala,\n",
       "because it (or its dependencies) are missing. Check your build definition for\n",
       "missing or conflicting dependencies. (Re-run with `-Ylog-classpath` to see the problematic classpath.)\n",
       "A full rebuild may help if 'PeriodicCheckpointer.class' was compiled against an incompatible version of scala.\n",
       "error: missing or invalid dependency detected while loading class file 'Distribution.class'.\n",
       "Could not access type AnyRef in package scala,\n",
       "because it (or its dependencies) are missing. Check your build definition for\n",
       "missing or conflicting dependencies. (Re-run with `-Ylog-classpath` to see the problematic classpath.)\n",
       "A full rebuild may help if 'Distribution.class' was compiled against an incompatible version of scala.\n",
       "error: missing or invalid dependency detected while loading class file 'Clock.class'.\n",
       "Could not access type AnyRef in package scala,\n",
       "because it (or its dependencies) are missing. Check your build definition for\n",
       "missing or conflicting dependencies. (Re-run with `-Ylog-classpath` to see the problematic classpath.)\n",
       "A full rebuild may help if 'Clock.class' was compiled against an incompatible version of scala.\n",
       "error: missing or invalid dependency detected while loading class file 'ListenerBus.class'.\n",
       "Could not access type AnyRef in package scala,\n",
       "because it (or its dependencies) are missing. Check your build definition for\n",
       "missing or conflicting dependencies. (Re-run with `-Ylog-classpath` to see the problematic classpath.)\n",
       "A full rebuild may help if 'ListenerBus.class' was compiled against an incompatible version of scala.\n",
       "error: missing or invalid dependency detected while loading class file 'CompletionIterator.class'.\n",
       "Could not access type Iterator in package scala.package,\n",
       "because it (or its dependencies) are missing. Check your build definition for\n",
       "missing or conflicting dependencies. (Re-run with `-Ylog-classpath` to see the problematic classpath.)\n",
       "A full rebuild may help if 'CompletionIterator.class' was compiled against an incompatible version of scala.package.\n",
       "error: missing or invalid dependency detected while loading class file 'CompletionIterator.class'.\n",
       "Could not access type AnyRef in package scala,\n",
       "because it (or its dependencies) are missing. Check your build definition for\n",
       "missing or conflicting dependencies. (Re-run with `-Ylog-classpath` to see the problematic classpath.)\n",
       "A full rebuild may help if 'CompletionIterator.class' was compiled against an incompatible version of scala.\n",
       "error: missing or invalid dependency detected while loading class file 'KnownSizeEstimation.class'.\n",
       "Could not access type AnyRef in package scala,\n",
       "because it (or its dependencies) are missing. Check your build definition for\n",
       "missing or conflicting dependencies. (Re-run with `-Ylog-classpath` to see the problematic classpath.)\n",
       "A full rebuild may help if 'KnownSizeEstimation.class' was compiled against an incompatible version of scala.\n",
       "error: missing or invalid dependency detected while loading class file 'SystemClock.class'.\n",
       "Could not access type AnyRef in package scala,\n",
       "because it (or its dependencies) are missing. Check your build definition for\n",
       "missing or conflicting dependencies. (Re-run with `-Ylog-classpath` to see the problematic classpath.)\n",
       "A full rebuild may help if 'SystemClock.class' was compiled against an incompatible version of scala.\n",
       "error: missing or invalid dependency detected while loading class file 'BoundedPriorityQueue.class'.\n",
       "Could not access type Iterable in package scala.package,\n",
       "because it (or its dependencies) are missing. Check your build definition for\n",
       "missing or conflicting dependencies. (Re-run with `-Ylog-classpath` to see the problematic classpath.)\n",
       "A full rebuild may help if 'BoundedPriorityQueue.class' was compiled against an incompatible version of scala.package.\n",
       "error: missing or invalid dependency detected while loading class file 'BoundedPriorityQueue.class'.\n",
       "Could not access type AnyRef in package scala,\n",
       "because it (or its dependencies) are missing. Check your build definition for\n",
       "missing or conflicting dependencies. (Re-run with `-Ylog-classpath` to see the problematic classpath.)\n",
       "A full rebuild may help if 'BoundedPriorityQueue.class' was compiled against an incompatible version of scala.\n",
       "error: missing or invalid dependency detected while loading class file 'CommandLineUtils.class'.\n",
       "Could not access type AnyRef in package scala,\n",
       "because it (or its dependencies) are missing. Check your build definition for\n",
       "missing or conflicting dependencies. (Re-run with `-Ylog-classpath` to see the problematic classpath.)\n",
       "A full rebuild may help if 'CommandLineUtils.class' was compiled against an incompatible version of scala.\n",
       "error: missing or invalid dependency detected while loading class file 'IdGenerator.class'.\n",
       "Could not access type AnyRef in package scala,\n",
       "because it (or its dependencies) are missing. Check your build definition for\n",
       "missing or conflicting dependencies. (Re-run with `-Ylog-classpath` to see the problematic classpath.)\n",
       "A full rebuild may help if 'IdGenerator.class' was compiled against an incompatible version of scala.\n",
       "error: missing or invalid dependency detected while loading class file 'TaskCompletionListenerException.class'.\n",
       "Could not access type RuntimeException in package scala.package,\n",
       "because it (or its dependencies) are missing. Check your build definition for\n",
       "missing or conflicting dependencies. (Re-run with `-Ylog-classpath` to see the problematic classpath.)\n",
       "A full rebuild may help if 'TaskCompletionListenerException.class' was compiled against an incompatible version of scala.package.\n",
       "error: missing or invalid dependency detected while loading class file 'SerializableJobConf.class'.\n",
       "Could not access type AnyRef in package scala,\n",
       "because it (or its dependencies) are missing. Check your build definition for\n",
       "missing or conflicting dependencies. (Re-run with `-Ylog-classpath` to see the problematic classpath.)\n",
       "A full rebuild may help if 'SerializableJobConf.class' was compiled against an incompatible version of scala.\n",
       "error: missing or invalid dependency detected while loading class file 'ManualClock.class'.\n",
       "Could not access type AnyRef in package scala,\n",
       "because it (or its dependencies) are missing. Check your build definition for\n",
       "missing or conflicting dependencies. (Re-run with `-Ylog-classpath` to see the problematic classpath.)\n",
       "A full rebuild may help if 'ManualClock.class' was compiled against an incompatible version of scala.\n",
       "error: missing or invalid dependency detected while loading class file 'EventLoop.class'.\n",
       "Could not access type AnyRef in package scala,\n",
       "because it (or its dependencies) are missing. Check your build definition for\n",
       "missing or conflicting dependencies. (Re-run with `-Ylog-classpath` to see the problematic classpath.)\n",
       "A full rebuild may help if 'EventLoop.class' was compiled against an incompatible version of scala.\n",
       "error: missing or invalid dependency detected while loading class file 'TimeStampedHashMap.class'.\n",
       "Could not access type AnyRef in package scala,\n",
       "because it (or its dependencies) are missing. Check your build definition for\n",
       "missing or conflicting dependencies. (Re-run with `-Ylog-classpath` to see the problematic classpath.)\n",
       "A full rebuild may help if 'TimeStampedHashMap.class' was compiled against an incompatible version of scala.\n",
       "error: missing or invalid dependency detected while loading class file 'CallerContext.class'.\n",
       "Could not access type AnyRef in package scala,\n",
       "because it (or its dependencies) are missing. Check your build definition for\n",
       "missing or conflicting dependencies. (Re-run with `-Ylog-classpath` to see the problematic classpath.)\n",
       "A full rebuild may help if 'CallerContext.class' was compiled against an incompatible version of scala.\n",
       "SingularValueDecomposition(org.apache.spark.mllib.linalg.distributed.RowMatrix@3173bb34,[0.9008745961921408,0.7226627218453527,0.6828734371832617,0.49253852830878964,0.4000303651661773,0.38169633705404293,0.3701455217441776,0.3609445048785556,0.3524121175002394,0.35150733385266625,0.3394174416269283,0.33697998077895985,0.3335173980982471,0.33226126088267355,0.32831993567812656,0.3215013205006916,0.3179538088214402,0.3139877126782244,0.3086667000223249,0.3058858342076883,0.3052098012693117,0.29751845010471...\n"
      ]
     },
     "metadata": {},
     "output_type": "display_data"
    },
    {
     "data": {
      "text/plain": [
       "SingularValueDecomposition(org.apache.spark.mllib.linalg.distributed.RowMatrix@3173bb34,[0.9008745961921408,0.7226627218453527,0.6828734371832617,0.49253852830878964,0.4000303651661773,0.38169633705404293,0.3701455217441776,0.3609445048785556,0.3524121175002394,0.35150733385266625,0.3394174416269283,0.33697998077895985,0.3335173980982471,0.33226126088267355,0.32831993567812656,0.3215013205006916,0.3179538088214402,0.3139877126782244,0.3086667000223249,0.3058858342076883,0.3052098012693117,0.29751845010471617,0.2950397157104417,0.29418830202397134,0.2917346941001857,0.2903370603208323,0.27603101679095476,0.2727423029873338,0.2669647776982502,0.2640359990253202,0.26184514481916576,0.2558517321599271,0.253865527368309,0.24845161932929163,0.2464165612367011,0.24220222323403073,0.23800500993757595,0.2365464509737028,0.23263153209788975,0.23115389268816575,0.22678758580415312,0.2252379437826403,0.22462137921957379,0.21934057613909066,0.21780990449409568,0.2136153162798397,0.2101282703066504,0.20942965261990165,0.2092656380297917,0.20747693999401576,0.20428575325542908,0.2035562730225397,0.20164334284553245,0.20014629202166626,0.19900983254212162,0.1976777450921464,0.19532295732870203,0.19412832391520107,0.19248373877781844,0.18999486416448022,0.1895617247039569,0.18842078667720993,0.18524949894459172,0.18344581693680773,0.1809409834321349,0.1800024255917666,0.17909710898859318,0.178398073233872,0.17729303344348898,0.17620324499679943,0.17472862062764588,0.17286233129097758,0.17063140119522885,0.16908964514084346,0.16803224722038038,0.16669445500962177,0.16606820119964325,0.16500311096971987,0.1636268107665281,0.16314952449279668,0.16159662802153726,0.16053259131841677,0.16003844250056223,0.15840180947226998,0.1579980066603989,0.15667969019357583,0.15598795972958193,0.15492852564939266,0.1533929966889446,0.15224467878324158,0.15108875754152964,0.1504926425574325,0.14910868633017393,0.14883741474478288,0.1480301886303212,0.14709493302116103,0.14651273494815845,0.14642134487789152,0.1460203204182206,0.14439270408280672,0.14381723794959478,0.14278100242566652,0.14173556718351163,0.14076516880680437,0.1401926770179032,0.13921229921232645,0.13876968886786153,0.1379960365982158,0.13736845044237433,0.13650249983787394,0.1359897243540651,0.13529788817291813,0.1337228390467019,0.13349159116685183,0.13265728651225822,0.13211488206046607,0.13157207150643263,0.13120190491772038,0.13048289909211588,0.12954161356659707,0.12885583261372355,0.12871921086582302,0.12780116657136292,0.12722462816778202,0.126134527433208,0.12559773610961836,0.12541694891888946,0.12492773577305928,0.12445210714017606,0.12404713565271511,0.12397856761753481,0.12320704404121734,0.12273082649052872,0.12214533318320693,0.12174424210310217,0.12123063049063577,0.12103680312623691,0.12028298907541479,0.1196175035638563,0.11898131042085018,0.11812974991674341,0.11804557341078216,0.11751418939215594,0.11728875932099941,0.11624233969485273,0.11563680569999306,0.11560152655583057,0.11510225025378915,0.11468790823697897,0.11420929770164537,0.11395042528230646,0.11354252773105693,0.11280673108541488,0.11264456638644138,0.11236555498072612,0.1116107202545513,0.11109185107262726,0.11073220402451145,0.11062815051206921,0.1099877669129892,0.10982471804107712,0.109500751010392,0.10932285511988055,0.10900890269339865,0.10854491327622877,0.10802063015463469,0.10768618501980966,0.10721474828378562,0.10673952722028678,0.10640648422318243,0.10633071925613416,0.10571897007368813,0.10543273820537646,0.10515692282270753,0.10480813683327933,0.10447808345568117,0.10423684708354532,0.10393043040285424,0.10334753317055581,0.103156645091415,0.10286171341074461,0.1026307319048871,0.10207357218960596,0.10137761111619005,0.10116026032176578,0.10053262068062668,0.10028024225286229,0.09962769984129988,0.09895865572563481,0.09863301742400844,0.09850369697295601,0.09839068083423323,0.09791707020338297,0.09786635484741313,0.0975135383593415,0.0969711110691358,0.09669877265472918,0.09644459394591573,0.09583849040455233,0.09532430313096953],-0.00415090135038948    -0.021539092652647075   ... (200 total)\n",
       "-0.00559479031731612    -0.008613900696918392   ...\n",
       "-0.003498592552577229   -0.013233769567107458   ...\n",
       "-0.001295800444749938   -0.007602011585572109   ...\n",
       "-0.0033977035039755993  -0.008696793935869664   ...\n",
       "-0.0038333800874444032  -0.013535546196948009   ...\n",
       "-0.0025907663194028145  -0.007004210390605228   ...\n",
       "-8.792477571684786E-4   -0.0038598019802077816  ...\n",
       "-0.0015287074950293758  -0.009499125077519936   ...\n",
       "-0.002038507157552931   -0.013194729223347874   ...\n",
       "-7.288085561717311E-4   -0.004659304445032707   ...\n",
       "-0.0026101546777428652  -0.01919567153189038    ...\n",
       "-0.0021621138893185426  -0.01147958213342385    ...\n",
       "-0.0016830576959009826  -0.007751932415567049   ...\n",
       "-0.006032063426444653   -0.01869910796835046    ...\n",
       "-0.0010353934654123674  -0.006369864985384284   ...\n",
       "-0.0025892614783437976  -0.009190017042548645   ...\n",
       "-0.004957598313869657   -0.02553095056789165    ...\n",
       "-0.0016148762915732828  -0.013232553301471786   ...\n",
       "-0.001528510461913466   -0.008206732048365233   ...\n",
       "-7.632949817612047E-4   -0.005109107891560601   ...\n",
       "-0.0013346398914606192  -0.009678696196535344   ...\n",
       "-0.0013013204445263462  -0.01010284581031659    ...\n",
       "-0.004409533410160246   -0.017290240197225193   ...\n",
       "-0.0011308037893289075  -0.0071510506915256795  ...\n",
       "-0.001932990119867575   -0.011074981056363016   ...\n",
       "-0.008666142870379624   -0.02607894395399162    ...\n",
       "-0.0044236918083656665  -0.014776163904240969   ...\n",
       "-0.002686817505381453   -0.014420286305299783   ...\n",
       "-0.004590946859405788   -0.019021623541690385   ...\n",
       "-0.0014445120538147255  -0.007945202948837236   ...\n",
       "-0.004060459661162176   -0.01703055867389683    ...\n",
       "-0.0037170776821204617  -0.017346299727317428   ...\n",
       "-0.003838452050597265   -0.02261405756481221    ...\n",
       "-0.002253086218148922   -0.011378684736302463   ...\n",
       "-0.0022062079399806332  -0.01272730329900943    ...\n",
       "-0.0018184466650689873  -0.008710530628577138   ...\n",
       "-0.004339188792409051   -0.022434936582385937   ...\n",
       "-8.816755790896323E-4   -0.006279163978842622   ...\n",
       "-0.0012485663842279858  -0.005555864078790879   ...\n",
       "-0.0032666920496508614  -0.01677543440567976    ...\n",
       "-0.0020136987611684212  -0.010732175763971848   ...\n",
       "-0.00933821604384519    -0.02540435224520495    ...\n",
       "-0.001606984682528581   -0.008063496342216155   ...\n",
       "-0.006995101286337107   -0.01462901748777155    ...\n",
       "-0.0012837991106901588  -0.007381466714263322   ...\n",
       "-0.0034073557733370475  -0.017920545657101137   ...\n",
       "-0.0012940365193766512  -0.0058564650845073715  ...\n",
       "-0.0044482379867012214  -0.023124375748769847   ...\n",
       "-0.001606163859221639   -0.009608069581134322   ...\n",
       "-0.0022366496928281792  -0.013537696371314922   ...\n",
       "-0.004645211838623382   -0.02222669747104828    ...\n",
       "-0.0018176825174090576  -0.012469701986132797   ...\n",
       "-9.988493125464015E-4   -0.006397069318060739   ...\n",
       "-0.00197159599528042    -0.012648571871621637   ...\n",
       "-0.0020236079058246204  -0.007338852147338086   ...\n",
       "-0.002390498469289515   -0.011038572269853268   ...\n",
       "-0.0021890854441362073  -0.016019736360624058   ...\n",
       "-0.005000028506763132   -0.03381107426632075    ...\n",
       "-0.0014941645567293216  -0.009204315841886784   ...\n",
       "-0.002503317951587272   -0.013947035617555104   ...\n",
       "-0.0010666403784732603  -0.005327342556435486   ...\n",
       "-0.002662967165667652   -0.01931069988383289    ...\n",
       "-0.0013150927125876524  -0.009103886739983143   ...\n",
       "-8.294758568777039E-4   -0.005548251330801984   ...\n",
       "-0.0016603022076980625  -0.012447304566453026   ...\n",
       "-0.001612262467191261   -0.008609691500756547   ...\n",
       "-0.0017064676088298092  -0.007158494615137963   ...\n",
       "-0.002533927465938818   -0.017118843457144463   ...\n",
       "-0.003722856058636738   -0.01723733880132678    ...\n",
       "-0.001148189410699163   -0.008622682938269276   ...\n",
       "-0.003864876227344133   -0.02237076483327538    ...\n",
       "-0.0010130066511079717  -0.005601477530245855   ...\n",
       "-0.0039698150690562995  -0.021377515063850196   ...\n",
       "-0.0020935843087304938  -0.014407317960883856   ...\n",
       "-0.0019038993432241077  -0.010044947616069944   ...\n",
       "-0.0029950495821608955  -0.017718770770693212   ...\n",
       "-0.0022249142355000094  -0.008387337760641086   ...\n",
       "-0.0026178441439119945  -0.014857683001057446   ...\n",
       "... (1000 total))"
      ]
     },
     "execution_count": 9,
     "metadata": {},
     "output_type": "execute_result"
    }
   ],
   "source": [
    "val mat = new RowMatrix(termDocMatrix)\n",
    "val k = 200 // nombre de valeurs singulières à garder\n",
    "val svd = mat.computeSVD(k, computeU = true)"
   ]
  },
  {
   "cell_type": "code",
   "execution_count": 10,
   "metadata": {},
   "outputs": [
    {
     "name": "stdout",
     "output_type": "stream",
     "text": [
      "[Stage 407:>                                                        (0 + 0) / 5]Concept terms: toward, overall, heavily, entirely, unlike, hope, behind, occupy, poor, attention\n",
      "Concept docs: Biathlon World Championships, Antipope Victor IV, Christopher Báthory, Alfonso IV, Aberdeen Bestiary, Cucurbitaceae, List of anthropologists, Alexius, Bactericide, Teochew cuisine\n",
      "\n",
      "Concept terms: code, significantly, somewhat, unlike, possibly, powerful, toward, heavily, entirely, quickly\n",
      "Concept docs: Currency code, Biathlon World Championships, List of Olympic medalists in biathlon, Antipope Victor IV, Alfonso IV, Aberdeen Bestiary, BLM, Cucurbitaceae, Christopher Báthory, List of anthropologists\n",
      "\n",
      "Concept terms: language, game, american, film, government, population, music, computer, theory, character\n",
      "Concept docs: David Bowman (Space Odyssey), Class, Character, Britain, Complexity theory, Brittonic, Demographics of Antigua and Barbuda, Creation, Bundesrat, Body\n",
      "\n",
      "Concept terms: language, government, population, britain, council, party, country, island, united, church\n",
      "Concept docs: Britain, Bundesrat, Brittonic, Demographics of Antigua and Barbuda, Government of the Cocos (Keeling) Islands, Demographics of Burundi, Demographics of Ivory Coast, Creation, Demographics of the Cayman Islands, Chinese\n",
      "\n",
      "Concept terms: game, character, computer, theory, film, method, music, datum, star, class\n",
      "Concept docs: Character, Complexity theory, Electronic, Class, Card game, Cervical mucus method, Control character, List of games based on Dune, Computing, Civilization (video game)\n",
      "\n",
      "Concept terms: theory, language, method, government, population, datum, system, computer, function, relation\n",
      "Concept docs: Complexity theory, Cervical mucus method, Context-sensitive, Government of the Cocos (Keeling) Islands, Constellations (journal), Binary relation, Demographics of Antigua and Barbuda, Business statistics, Antisymmetric relation, Computing\n",
      "\n",
      "Concept terms: britain, language, great, context, refer, kingdom, character, class, speak, ancient\n",
      "Concept docs: Britain, Brittonic, Context-sensitive, Chinese, Bulgarian, Ergative case, Character, Chadic languages, Evolutionary linguistics, Alexander III\n",
      "\n",
      "Concept terms: game, britain, government, film, total, island, team, population, port, united\n",
      "Concept docs: Britain, Government of the Cocos (Keeling) Islands, Card game, List of games based on Dune, Civilization (video game), Brittonic, Arcadia 2001, Asteroids (video game), Bubble Bobble, Transport in the Cook Islands\n",
      "\n",
      "Concept terms: creation, song, theory, band, collection, film, music, class, star, body\n",
      "Concept docs: Creation, Collection, Cinema, Body, Creation myth, Complexity theory, Constellations (journal), Class, Boy band, Concept\n",
      "\n",
      "Concept terms: iii, king, game, russian, die, son, charles, character, defaultsort, battle\n",
      "Concept docs: Alexander III, Alexander II, Agis, Alfonso VI, Alexander IV, Amyntas III of Macedon, Ahmed III, Afonso V of Portugal, Card game, Charles V\n",
      "\n"
     ]
    },
    {
     "data": {
      "text/plain": [
       "topConceptTerms = ArrayBuffer(ArraySeq((toward,-6.77041324515501E-4), (overall,-7.086751602206204E-4), (heavily,-7.228581736882505E-4), (entirely,-7.288085561717311E-4), (unlike,-7.346935414119862E-4), (hope,-7.626646304719053E-4), (behind,-7.632949817612047E-4), (occupy,-7.669074995204223E-4), (poor,-7.679457738504068E-4), (attention,-7.787008887555238E-4)), ArraySeq((code,0.057052840952430836), (significantly,-0.0038598019802077816), (somewhat,-0.004351953605441758), (unlike,-0.0044189436979907536), (possibly,-0.004562194082433074), (powerful,-0.004636583511455492), (toward,-0.004640362394194138), (heavily,-0.004642479763188129), (entirely,-0.004659304445032707), (quickly,-0.004791883352648484)), ArraySeq((language,0.11783834885199357), (game,0.100783618069...\n"
      ]
     },
     "metadata": {},
     "output_type": "display_data"
    },
    {
     "data": {
      "text/plain": [
       "error: missing or invalid dependency detected while loading class file 'SparseVector.class'.\n",
       "Could not access type AnyRef in package scala,\n",
       "because it (or its dependencies) are missing. Check your build definition for\n",
       "missing or conflicting dependencies. (Re-run with `-Ylog-classpath` to see the problematic classpath.)\n",
       "A full rebuild may help if 'SparseVector.class' was compiled against an incompatible version of scala.\n"
      ]
     },
     "metadata": {},
     "output_type": "display_data"
    },
    {
     "data": {
      "text/plain": [
       "ArrayBuffer(ArraySeq((toward,-6.77041324515501E-4), (overall,-7.086751602206204E-4), (heavily,-7.228581736882505E-4), (entirely,-7.288085561717311E-4), (unlike,-7.346935414119862E-4), (hope,-7.626646304719053E-4), (behind,-7.632949817612047E-4), (occupy,-7.669074995204223E-4), (poor,-7.679457738504068E-4), (attention,-7.787008887555238E-4)), ArraySeq((code,0.057052840952430836), (significantly,-0.0038598019802077816), (somewhat,-0.004351953605441758), (unlike,-0.0044189436979907536), (possibly,-0.004562194082433074), (powerful,-0.004636583511455492), (toward,-0.004640362394194138), (heavily,-0.004642479763188129), (entirely,-0.004659304445032707), (quickly,-0.004791883352648484)), ArraySeq((language,0.11783834885199357), (game,0.10078361806902143), (american,0.09920535407503207), (film,0.09815083113529126), (government,0.08068082278361109), (population,0.08001281768330372), (music,0.07869741394428749), (computer,0.07837863011675318), (theory,0.07317611675322465), (character,0.07182480107208519)), ArraySeq((language,0.026492993160821095), (government,0.026151306950895715), (population,0.025547547844715832), (britain,0.02104616244378164), (council,0.018698102851073827), (party,0.018390078306044423), (country,0.017579704542373717), (island,0.016100095607644433), (united,0.013307175363302707), (church,0.013219614790035982)), ArraySeq((game,0.30045641742074813), (character,0.23753270322230866), (computer,0.2018829172740507), (theory,0.1628066447587944), (film,0.13856165945213972), (method,0.12128551684009536), (music,0.10841020937807842), (datum,0.1016464748079324), (star,0.10084176532326652), (class,0.08934746604340736)), ArraySeq((theory,0.17764124578527324), (language,0.12692548047025645), (method,0.11788799690595105), (government,0.11637102357236742), (population,0.1149278701127463), (datum,0.09970762958499375), (system,0.09508691591947635), (computer,0.08511384651777343), (function,0.08213250312728444), (relation,0.07881581401564647)), ArraySeq((britain,0.7000643818161), (language,0.43591485252512363), (great,0.17075968691948948), (context,0.12435778204844711), (refer,0.11421121750804217), (kingdom,0.11112444038036533), (character,0.09844099945962895), (class,0.09663359439177077), (speak,0.09236885315406548), (ancient,0.078976132411206)), ArraySeq((game,0.35346000180330894), (britain,0.2815138666699457), (government,0.149809007787839), (film,0.1062126551267559), (total,0.10027601602718547), (island,0.09118425334454566), (team,0.08890486082569121), (population,0.0877228205218191), (port,0.08139296914720248), (united,0.07658584149000294)), ArraySeq((creation,0.34811449941657885), (song,0.1840234217012587), (theory,0.11406290405312015), (band,0.10929987115486657), (collection,0.10346367832298607), (film,0.09214341320036479), (music,0.08157651183837462), (class,0.07082890905302976), (star,0.062252430635465004), (body,0.06184600526045135)), ArraySeq((iii,0.414387091661185), (king,0.36523077344404603), (game,0.18059947184153777), (russian,0.09072724402097915), (die,0.0844735521907454), (son,0.0752328943657423), (charles,0.05947120558319329), (character,0.05107586275417655), (defaultsort,0.04919778071400281), (battle,0.0460341749057165)))"
      ]
     },
     "execution_count": 10,
     "metadata": {},
     "output_type": "execute_result"
    }
   ],
   "source": [
    "val topConceptTerms = RunLSA.topTermsInTopConcepts(svd, 10, 10, termIds)\n",
    "val topConceptDocs = RunLSA.topDocsInTopConcepts(svd, 10, 10, docIds)\n",
    "for ((terms, docs) <- topConceptTerms.zip(topConceptDocs)) {\n",
    "          println(\"Concept terms: \" + terms.map(_._1).mkString(\", \"));\n",
    "          println(\"Concept docs: \" + docs.map(_._1).mkString(\", \"));\n",
    "          println();\n",
    "       }"
   ]
  }
 ],
 "metadata": {
  "kernelspec": {
   "display_name": "Spark - Scala",
   "language": "scala",
   "name": "spark_scala"
  },
  "language_info": {
   "codemirror_mode": "text/x-scala",
   "file_extension": ".scala",
   "mimetype": "text/x-scala",
   "name": "scala",
   "pygments_lexer": "scala",
   "version": "2.11.8"
  }
 },
 "nbformat": 4,
 "nbformat_minor": 2
}
