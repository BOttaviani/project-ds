{
 "cells": [
  {
   "cell_type": "code",
   "execution_count": 7,
   "metadata": {},
   "outputs": [
    {
     "name": "stderr",
     "output_type": "stream",
     "text": [
      "/home/user/anaconda3/lib/python3.6/site-packages/ipykernel_launcher.py:10: DeprecationWarning: The 'warn' method is deprecated, use 'warning' instead\n",
      "  # Remove the CWD from sys.path while we load stuff.\n"
     ]
    },
    {
     "data": {
      "text/html": [
       "<div>\n",
       "<style>\n",
       "    .dataframe thead tr:only-child th {\n",
       "        text-align: right;\n",
       "    }\n",
       "\n",
       "    .dataframe thead th {\n",
       "        text-align: left;\n",
       "    }\n",
       "\n",
       "    .dataframe tbody tr th {\n",
       "        vertical-align: top;\n",
       "    }\n",
       "</style>\n",
       "<table border=\"1\" class=\"dataframe\">\n",
       "  <thead>\n",
       "    <tr style=\"text-align: right;\">\n",
       "      <th></th>\n",
       "      <th>idrestaurant</th>\n",
       "      <th>inspectiondate</th>\n",
       "      <th>criticalflag</th>\n",
       "      <th>grade</th>\n",
       "      <th>score</th>\n",
       "      <th>violationcode</th>\n",
       "      <th>violationdescription</th>\n",
       "    </tr>\n",
       "  </thead>\n",
       "  <tbody>\n",
       "    <tr>\n",
       "      <th>0</th>\n",
       "      <td>40786914</td>\n",
       "      <td>2014-07-10</td>\n",
       "      <td>Critical</td>\n",
       "      <td>A</td>\n",
       "      <td>12.0</td>\n",
       "      <td>06F</td>\n",
       "      <td>Wiping cloths soiled or not stored in sanitizi...</td>\n",
       "    </tr>\n",
       "    <tr>\n",
       "      <th>1</th>\n",
       "      <td>40786914</td>\n",
       "      <td>2015-07-01</td>\n",
       "      <td>Critical</td>\n",
       "      <td>A</td>\n",
       "      <td>12.0</td>\n",
       "      <td>06D</td>\n",
       "      <td>Hot food item not held at or above 140Âº F.</td>\n",
       "    </tr>\n",
       "    <tr>\n",
       "      <th>2</th>\n",
       "      <td>40786914</td>\n",
       "      <td>2016-08-10</td>\n",
       "      <td>Not Critical</td>\n",
       "      <td>A</td>\n",
       "      <td>7.0</td>\n",
       "      <td>10B</td>\n",
       "      <td>Sanitized equipment or utensil, including in-u...</td>\n",
       "    </tr>\n",
       "    <tr>\n",
       "      <th>3</th>\n",
       "      <td>40366162</td>\n",
       "      <td>2013-06-11</td>\n",
       "      <td>Not Critical</td>\n",
       "      <td>None</td>\n",
       "      <td>30.0</td>\n",
       "      <td>10B</td>\n",
       "      <td>Plumbing not properly installed or maintained;...</td>\n",
       "    </tr>\n",
       "    <tr>\n",
       "      <th>4</th>\n",
       "      <td>40366162</td>\n",
       "      <td>2013-07-01</td>\n",
       "      <td>Not Critical</td>\n",
       "      <td>B</td>\n",
       "      <td>16.0</td>\n",
       "      <td>10C</td>\n",
       "      <td>Plumbing not properly installed or maintained;...</td>\n",
       "    </tr>\n",
       "  </tbody>\n",
       "</table>\n",
       "</div>"
      ],
      "text/plain": [
       "   idrestaurant inspectiondate  criticalflag grade  score violationcode  \\\n",
       "0      40786914     2014-07-10      Critical     A   12.0           06F   \n",
       "1      40786914     2015-07-01      Critical     A   12.0           06D   \n",
       "2      40786914     2016-08-10  Not Critical     A    7.0           10B   \n",
       "3      40366162     2013-06-11  Not Critical  None   30.0           10B   \n",
       "4      40366162     2013-07-01  Not Critical     B   16.0           10C   \n",
       "\n",
       "                                violationdescription  \n",
       "0  Wiping cloths soiled or not stored in sanitizi...  \n",
       "1        Hot food item not held at or above 140Âº F.  \n",
       "2  Sanitized equipment or utensil, including in-u...  \n",
       "3  Plumbing not properly installed or maintained;...  \n",
       "4  Plumbing not properly installed or maintained;...  "
      ]
     },
     "execution_count": 7,
     "metadata": {},
     "output_type": "execute_result"
    }
   ],
   "source": [
    "from cassandra.cluster import Cluster\n",
    "#from cassandra.auth import PlainTextAuthProvider\n",
    "import pandas as pd\n",
    "\n",
    "def pandas_factory(colnames, rows):\n",
    "    return pd.DataFrame(rows, columns=colnames)\n",
    "\n",
    "cluster = Cluster(\n",
    "    contact_points=['localhost'], \n",
    "    port = 32769\n",
    ")\n",
    "session = cluster.connect()\n",
    "session.set_keyspace('resto_ny')\n",
    "session.row_factory = pandas_factory\n",
    "session.default_fetch_size = 10000000 #needed for large queries, otherwise driver will do pagination. Default is 50000.\n",
    "\n",
    "rows = session.execute(\"select * from resto_ny.inspection;\")\n",
    "df = rows._current_rows\n",
    "df.head()\n"
   ]
  },
  {
   "cell_type": "code",
   "execution_count": 8,
   "metadata": {},
   "outputs": [
    {
     "data": {
      "text/plain": [
       "idrestaurant            149818\n",
       "inspectiondate          149818\n",
       "criticalflag            149818\n",
       "grade                    81224\n",
       "score                   127808\n",
       "violationcode           143062\n",
       "violationdescription    142833\n",
       "dtype: int64"
      ]
     },
     "execution_count": 8,
     "metadata": {},
     "output_type": "execute_result"
    }
   ],
   "source": [
    "df.count()"
   ]
  }
 ],
 "metadata": {
  "kernelspec": {
   "display_name": "Python 3",
   "language": "python",
   "name": "python3"
  },
  "language_info": {
   "codemirror_mode": {
    "name": "ipython",
    "version": 3
   },
   "file_extension": ".py",
   "mimetype": "text/x-python",
   "name": "python",
   "nbconvert_exporter": "python",
   "pygments_lexer": "ipython3",
   "version": "3.6.3"
  }
 },
 "nbformat": 4,
 "nbformat_minor": 2
}
