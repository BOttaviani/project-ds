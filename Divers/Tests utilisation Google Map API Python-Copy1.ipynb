{
 "cells": [
  {
   "cell_type": "code",
   "execution_count": 1,
   "metadata": {},
   "outputs": [
    {
     "name": "stdout",
     "output_type": "stream",
     "text": [
      "/home/user/anaconda3/bin/python\n",
      "3.6.5 | packaged by conda-forge | (default, Apr  6 2018, 13:39:56) \n",
      "[GCC 4.8.2 20140120 (Red Hat 4.8.2-15)]\n",
      "sys.version_info(major=3, minor=6, micro=5, releaselevel='final', serial=0)\n"
     ]
    }
   ],
   "source": [
    "import sys\n",
    "print(sys.executable)\n",
    "print(sys.version)\n",
    "print(sys.version_info)"
   ]
  },
  {
   "cell_type": "code",
   "execution_count": 2,
   "metadata": {},
   "outputs": [],
   "source": [
    "import googlemaps,pandas, os, json, geopy, gmaps, gmaps.datasets\n",
    "\n",
    "from datetime import datetime\n",
    "from ipywidgets import widgets\n",
    "from ipywidgets import interactive\n",
    "from geopy import geocoders\n",
    "from geopy.geocoders import GoogleV3\n",
    "#from ipython.display import display\n",
    "\n",
    "#nécessite d'avoir un compte Google pour avoir la clé pour l'API\n",
    "googlemaps = googlemaps.Client(key='API_KEY')\n",
    "gmaps.configure(api_key=\"API_KEY\")\n",
    "#text=widgets.Text()\n",
    "#display(text)\n",
    "#def Affiche(appel):\n",
    "#    print(text.value)\n",
    "#text.on_submit(Affiche)"
   ]
  },
  {
   "cell_type": "code",
   "execution_count": 3,
   "metadata": {},
   "outputs": [
    {
     "data": {
      "text/plain": [
       "{'X': 40.7828647, 'Y': -73.9653551, 'A': 'Central Park, New York, NY, USA'}"
      ]
     },
     "execution_count": 3,
     "metadata": {},
     "output_type": "execute_result"
    }
   ],
   "source": [
    "def Geocode(adresse):\n",
    "    geo = googlemaps.geocode(adresse)[0]\n",
    "    X = geo['geometry']['location']['lat']\n",
    "    Y = geo['geometry']['location']['lng']\n",
    "    A = geo['formatted_address']\n",
    "    C = {'X':X,'Y':Y, 'A':A}\n",
    "    return C\n",
    "\n",
    "Geocode('Central Park')\n"
   ]
  },
  {
   "cell_type": "code",
   "execution_count": 4,
   "metadata": {},
   "outputs": [
    {
     "data": {
      "application/vnd.jupyter.widget-view+json": {
       "model_id": "8c259754bf4a4493af7640bbfa3a0030",
       "version_major": 2,
       "version_minor": 0
      },
      "text/plain": [
       "interactive(children=(Text(value='14 montée claire virenque, 06100 NICE', description='adresse'), Output()), _…"
      ]
     },
     "metadata": {},
     "output_type": "display_data"
    },
    {
     "name": "stdout",
     "output_type": "stream",
     "text": [
      "X: 43.7179087 Y: 7.255635099999999\n"
     ]
    },
    {
     "data": {
      "application/vnd.jupyter.widget-view+json": {
       "model_id": "0b6dd91eda4946398e273d8732c4b06c",
       "version_major": 2,
       "version_minor": 0
      },
      "text/plain": [
       "Figure()"
      ]
     },
     "metadata": {},
     "output_type": "display_data"
    }
   ],
   "source": [
    "#res = interactive(Geocode,adresse='8 avenue du domaine du Loup, 06800 CAGNES SUR MER')  \n",
    "res = interactive(Geocode,adresse='14 montée claire virenque, 06100 NICE')  \n",
    "display(res)\n",
    "print('X:',res.result['X'],'Y:',res.result['Y'])\n",
    "carte = gmaps.figure(center=(res.result['X'],res.result['Y']), zoom_level=12)\n",
    "carte\n",
    "\n"
   ]
  },
  {
   "cell_type": "code",
   "execution_count": 5,
   "metadata": {},
   "outputs": [
    {
     "data": {
      "application/vnd.jupyter.widget-view+json": {
       "model_id": "e6aa2a79d5b244ceb4e42b696fb23243",
       "version_major": 2,
       "version_minor": 0
      },
      "text/plain": [
       "Text(value='', description='Adresse à géocoder')"
      ]
     },
     "metadata": {},
     "output_type": "display_data"
    },
    {
     "name": "stdout",
     "output_type": "stream",
     "text": [
      "Adresse formatée :  8 Domaine du Loup, 06800 Cagnes-sur-Mer, France\n",
      "X = 43.65319660000001 Y = 7.138766\n"
     ]
    }
   ],
   "source": [
    "# Geocoding an address\n",
    "adresse=widgets.Text(description='Adresse à géocoder')\n",
    "display(adresse)\n",
    "def Geocode(appel):\n",
    "    geo = googlemaps.geocode(adresse.value)[0]\n",
    "    X = geo['geometry']['location']['lat']\n",
    "    Y = geo['geometry']['location']['lng']\n",
    "    print('Adresse formatée : ',geo['formatted_address'])\n",
    "    print('X =',X,'Y =',Y)\n",
    "    C = {\"X\":X,\"Y\":Y}\n",
    "    return C\n",
    "    carte = gmaps.figure(center=(geo['geometry']['location']['lat'],geo['geometry']['location']['lng']), zoom_level=12)\n",
    "    carte\n",
    "    #print(geo.keys())\n",
    "    #print(json.dumps(geo))\n",
    "    #geocode_result = gmaps.geocode('8 avenue du domaine du Loup, 06800 CAGNES SUR MER')\n",
    "adresse.on_submit(Geocode)\n"
   ]
  },
  {
   "cell_type": "code",
   "execution_count": 6,
   "metadata": {},
   "outputs": [
    {
     "data": {
      "application/vnd.jupyter.widget-view+json": {
       "model_id": "e79954ab4714471ca26c1223f381ce9c",
       "version_major": 2,
       "version_minor": 0
      },
      "text/plain": [
       "Figure()"
      ]
     },
     "metadata": {},
     "output_type": "display_data"
    }
   ],
   "source": [
    "marker_locations = [\n",
    "    (43.6651552,7.1730844)\n",
    "]\n",
    "carte = gmaps.figure(center=(43.6651552,7.1730844), zoom_level=15)\n",
    "markers = gmaps.marker_layer(marker_locations)\n",
    "carte.add_layer(markers)\n",
    "carte"
   ]
  },
  {
   "cell_type": "code",
   "execution_count": 7,
   "metadata": {},
   "outputs": [
    {
     "data": {
      "application/vnd.jupyter.widget-view+json": {
       "model_id": "7f54d91cb4904fb78f9d05b25bb654c3",
       "version_major": 2,
       "version_minor": 0
      },
      "text/plain": [
       "Text(value='')"
      ]
     },
     "metadata": {},
     "output_type": "display_data"
    },
    {
     "name": "stdout",
     "output_type": "stream",
     "text": [
      "Adresse =  8 Domaine du Loup, 06800 Cagnes-sur-Mer, France\n",
      "X= 43.65319660000001 Y= 7.138766\n"
     ]
    }
   ],
   "source": [
    "# version en passant par geopy\n",
    "g = geocoders.GoogleV3(api_key='API_KEY')\n",
    "\n",
    "#create an input address string\n",
    "#you can also build this by reading from an input database and building a string\n",
    "\n",
    "adresse=widgets.Text()\n",
    "display(adresse)\n",
    "\n",
    "\n",
    "def Geocode(appel):\n",
    "    #do the geocode\n",
    "    location = g.geocode(adresse.value, timeout=10)\n",
    "    #some things you can get from the result\n",
    "    print('Adresse = ',location.address)\n",
    "    print('X=',location.latitude,'Y=' ,location.longitude)\n",
    "  \n",
    "\n",
    "#geocode_result = gmaps.geocode('8 avenue du domaine du Loup, 06800 CAGNES SUR MER')\n",
    "adresse.on_submit(Geocode)\n"
   ]
  },
  {
   "cell_type": "code",
   "execution_count": 8,
   "metadata": {},
   "outputs": [
    {
     "name": "stdout",
     "output_type": "stream",
     "text": [
      "2 Domaine du Loup, 06800 Cagnes-sur-Mer, France\n"
     ]
    }
   ],
   "source": [
    "# Look up an address with reverse geocoding\n",
    "reverse_geocode_result = googlemaps.reverse_geocode((43.65184761970851, 7.137417019708497))[0]\n",
    "print(reverse_geocode_result['formatted_address'])\n"
   ]
  },
  {
   "cell_type": "code",
   "execution_count": 9,
   "metadata": {},
   "outputs": [
    {
     "data": {
      "application/vnd.jupyter.widget-view+json": {
       "model_id": "feb7e72627ce40d9b4616a7f20334947",
       "version_major": 2,
       "version_minor": 0
      },
      "text/plain": [
       "Text(value='', description='Départ')"
      ]
     },
     "metadata": {},
     "output_type": "display_data"
    },
    {
     "data": {
      "application/vnd.jupyter.widget-view+json": {
       "model_id": "1b00a71dc4c74c82882a069cf7e07fe7",
       "version_major": 2,
       "version_minor": 0
      },
      "text/plain": [
       "Text(value='', description='Arrivée')"
      ]
     },
     "metadata": {},
     "output_type": "display_data"
    },
    {
     "name": "stdout",
     "output_type": "stream",
     "text": [
      "Distance =  14.8 km Duree =  54 mins Heure darrivée =  6:24pm\n"
     ]
    }
   ],
   "source": [
    "depart=widgets.Text(description='Départ')\n",
    "display(depart)\n",
    "\n",
    "arrivee=widgets.Text(description='Arrivée')\n",
    "display(arrivee)\n",
    "# Request directions via public transit\n",
    "def itineraire(appel):\n",
    "    #do the geocode\n",
    "    now = datetime.now()\n",
    "    iti = googlemaps.directions(depart.value,arrivee.value,\n",
    "                                     mode=\"transit\",\n",
    "                                     departure_time=now)[0]\n",
    "    #some things you can get from the result\n",
    "    print('Distance = ',iti['legs'][0]['distance']['text'],'Duree = ',iti['legs'][0]['duration']['text'], \n",
    "          'Heure d''arrivée = ', iti['legs'][0]['arrival_time']['text'])\n",
    "arrivee.on_submit(itineraire)    "
   ]
  },
  {
   "cell_type": "code",
   "execution_count": 10,
   "metadata": {},
   "outputs": [
    {
     "data": {
      "application/vnd.jupyter.widget-view+json": {
       "model_id": "f74f6b5aa3e74355a16c882d2ae1f8fb",
       "version_major": 2,
       "version_minor": 0
      },
      "text/plain": [
       "Figure()"
      ]
     },
     "metadata": {},
     "output_type": "display_data"
    }
   ],
   "source": [
    "locations = gmaps.datasets.load_dataset(\"taxi_rides\")\n",
    "fig = gmaps.figure()\n",
    "fig.add_layer(gmaps.heatmap_layer(locations))\n",
    "fig"
   ]
  }
 ],
 "metadata": {
  "kernelspec": {
   "display_name": "Python 3",
   "language": "python",
   "name": "python3"
  },
  "language_info": {
   "codemirror_mode": {
    "name": "ipython",
    "version": 3
   },
   "file_extension": ".py",
   "mimetype": "text/x-python",
   "name": "python",
   "nbconvert_exporter": "python",
   "pygments_lexer": "ipython3",
   "version": "3.6.5"
  }
 },
 "nbformat": 4,
 "nbformat_minor": 2
}
